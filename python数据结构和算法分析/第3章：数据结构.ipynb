{
 "cells": [
  {
   "cell_type": "markdown",
   "id": "4c4c1df1",
   "metadata": {},
   "source": [
    "## 1.栈"
   ]
  },
  {
   "cell_type": "code",
   "execution_count": 2,
   "id": "1a70a6ec",
   "metadata": {},
   "outputs": [],
   "source": [
    "class Stack:\n",
    "    def __init__(self):\n",
    "        self.items = []\n",
    "    \n",
    "    def isEmpty(self):\n",
    "        return self.items == []\n",
    "    \n",
    "    def push(self,item):\n",
    "        self.items.append(item)\n",
    "        \n",
    "    def pop(self):\n",
    "        return self.items.pop()\n",
    "    \n",
    "    def peek(self):\n",
    "        return self.items[len(self.items)-1]\n",
    "    \n",
    "    def size(self):\n",
    "        return len(self.items)"
   ]
  },
  {
   "cell_type": "code",
   "execution_count": 3,
   "id": "7959dcb1",
   "metadata": {},
   "outputs": [
    {
     "name": "stdout",
     "output_type": "stream",
     "text": [
      "True\n",
      "dog\n",
      "3\n",
      "False\n",
      "8.4\n",
      "True\n",
      "2\n"
     ]
    }
   ],
   "source": [
    "from pythonds.basic.stack import Stack\n",
    "\n",
    "s = Stack()\n",
    "\n",
    "print(s.isEmpty())\n",
    "s.push(4)\n",
    "s.push('dog')\n",
    "print(s.peek())\n",
    "s.push(True)\n",
    "print(s.size())\n",
    "print(s.isEmpty())\n",
    "s.push(8.4)\n",
    "print(s.pop())\n",
    "print(s.pop())\n",
    "print(s.size())"
   ]
  },
  {
   "cell_type": "markdown",
   "id": "0f6ff103",
   "metadata": {},
   "source": [
    "### 应用一：简单括号匹配"
   ]
  },
  {
   "cell_type": "code",
   "execution_count": 6,
   "id": "16bd3d1f",
   "metadata": {},
   "outputs": [],
   "source": [
    "from pythonds.basic.stack import Stack\n",
    "\n",
    "def parChecker(symbolString):\n",
    "    s = Stack()\n",
    "    balanced = True\n",
    "    index = 0\n",
    "    while index < len(symbolString) and balanced:\n",
    "        symbol = symbolString[index]\n",
    "        if symbol in '([{':\n",
    "            s.push(symbol)\n",
    "        else:\n",
    "            if s.isEmpty():\n",
    "                balanced = False\n",
    "            else:\n",
    "                top = s.pop()\n",
    "                if not matches(top,symbol):\n",
    "                    balanced = False\n",
    "        index += 1\n",
    "    if balanced and s.isEmpty():\n",
    "        return True\n",
    "    else:\n",
    "        return False\n",
    "    \n",
    "def matches(open,close):\n",
    "    opens = '([{'\n",
    "    closers = ')]}'\n",
    "    return opens.index(open) == closers.index(close)"
   ]
  },
  {
   "cell_type": "code",
   "execution_count": 7,
   "id": "f966dec8",
   "metadata": {},
   "outputs": [
    {
     "name": "stdout",
     "output_type": "stream",
     "text": [
      "True\n"
     ]
    }
   ],
   "source": [
    "print(parChecker('{{([][])}()}'))"
   ]
  },
  {
   "cell_type": "markdown",
   "id": "75caed95",
   "metadata": {},
   "source": [
    "### 应用二：十进制转换为二进制"
   ]
  },
  {
   "cell_type": "code",
   "execution_count": 8,
   "id": "f0324ad2",
   "metadata": {},
   "outputs": [],
   "source": [
    "from pythonds.basic.stack import Stack\n",
    "\n",
    "def baseConverter(decNumber,base):\n",
    "    digits = '0123456789ABCDEF'\n",
    "    \n",
    "    remstack = Stack()\n",
    "    \n",
    "    while decNumber > 0:\n",
    "        rem = decNumber % base\n",
    "        remstack.push(rem)\n",
    "        decNumber = decNumber // base\n",
    "        \n",
    "    newString = ''\n",
    "    while not remstack.isEmpty():\n",
    "        newString = newString + digits[remstack.pop()]\n",
    "        \n",
    "    return newString"
   ]
  },
  {
   "cell_type": "code",
   "execution_count": 9,
   "id": "04f5cae8",
   "metadata": {},
   "outputs": [
    {
     "name": "stdout",
     "output_type": "stream",
     "text": [
      "11001\n"
     ]
    }
   ],
   "source": [
    "print(baseConverter(25,2))"
   ]
  },
  {
   "cell_type": "code",
   "execution_count": 10,
   "id": "7e19a0a7",
   "metadata": {},
   "outputs": [
    {
     "name": "stdout",
     "output_type": "stream",
     "text": [
      "19\n"
     ]
    }
   ],
   "source": [
    "print(baseConverter(25,16))"
   ]
  },
  {
   "cell_type": "markdown",
   "id": "830422a1",
   "metadata": {},
   "source": [
    "### 应用三：表达式转换"
   ]
  },
  {
   "cell_type": "code",
   "execution_count": 15,
   "id": "06f3fa37",
   "metadata": {},
   "outputs": [],
   "source": [
    "from pythonds.basic.stack import Stack\n",
    "\n",
    "def infixToPostfix(infixexpr):\n",
    "    prec = {}\n",
    "    prec['*'] = 3\n",
    "    prec['/'] = 3\n",
    "    prec['+'] = 2\n",
    "    prec['-'] = 2\n",
    "    prec['('] = 1\n",
    "    opStack = Stack()\n",
    "    postfixList = []\n",
    "    tokenList = infixexpr.split()\n",
    "    \n",
    "    for token in tokenList:\n",
    "        if token in 'ABCDEFGHIJKLMNOPQRSTUVWXYZ' or token in '0123456789':\n",
    "            postfixList.append(token)\n",
    "        elif token == '(':\n",
    "            opStack.push(token)\n",
    "        elif token == ')':\n",
    "            topToken = opStack.pop()\n",
    "            while topToken != '(':\n",
    "                postfixList.append(topToken)\n",
    "                topToken = opStack.pop()\n",
    "        else:\n",
    "            while (not opStack.isEmpty()) and (prec[opStack.peek()] >= prec[token]):\n",
    "                postfixList.append(opStack.pop())\n",
    "            opStack.push(token)\n",
    "            \n",
    "    while not opStack.isEmpty():\n",
    "        postfixList.append(opStack.pop())\n",
    "    return ' '.join(postfixList)"
   ]
  },
  {
   "cell_type": "code",
   "execution_count": 16,
   "id": "3a605969",
   "metadata": {},
   "outputs": [
    {
     "name": "stdout",
     "output_type": "stream",
     "text": [
      "A B + C *\n"
     ]
    }
   ],
   "source": [
    "print(infixToPostfix('( A + B ) * C'))"
   ]
  },
  {
   "cell_type": "markdown",
   "id": "4ba40ecf",
   "metadata": {},
   "source": [
    "### 应用四：后缀表达式求值"
   ]
  },
  {
   "cell_type": "code",
   "execution_count": 18,
   "id": "1beedf38",
   "metadata": {},
   "outputs": [],
   "source": [
    "from pythonds.basic.stack import Stack\n",
    "\n",
    "def postFixEval(postfixExpr):\n",
    "    operandStack = Stack()\n",
    "    tokenList = postfixExpr.split()\n",
    "    \n",
    "    for token in tokenList:\n",
    "        if token in ('0123456789'):\n",
    "            operandStack.push(int(token))\n",
    "        else:\n",
    "            operand2 = operandStack.pop()\n",
    "            operand1 = operandStack.pop()\n",
    "            result = doMath(token,operand1,operand2)\n",
    "            operandStack.push(result)\n",
    "    return operandStack.pop()\n",
    "\n",
    "def doMath(op,op1,op2):\n",
    "    if op == '*':\n",
    "        return op1 * op2\n",
    "    elif op == '/':\n",
    "        return op1 / op2\n",
    "    elif op == '+':\n",
    "        return op1 + op2\n",
    "    else:\n",
    "        return op1 - op2"
   ]
  },
  {
   "cell_type": "code",
   "execution_count": 19,
   "id": "d5ad142c",
   "metadata": {},
   "outputs": [
    {
     "name": "stdout",
     "output_type": "stream",
     "text": [
      "9\n"
     ]
    }
   ],
   "source": [
    "print(postFixEval('1 2 + 3 *'))"
   ]
  },
  {
   "cell_type": "code",
   "execution_count": null,
   "id": "36fc2084",
   "metadata": {},
   "outputs": [],
   "source": []
  }
 ],
 "metadata": {
  "kernelspec": {
   "display_name": "Python 3 (ipykernel)",
   "language": "python",
   "name": "python3"
  },
  "language_info": {
   "codemirror_mode": {
    "name": "ipython",
    "version": 3
   },
   "file_extension": ".py",
   "mimetype": "text/x-python",
   "name": "python",
   "nbconvert_exporter": "python",
   "pygments_lexer": "ipython3",
   "version": "3.11.5"
  }
 },
 "nbformat": 4,
 "nbformat_minor": 5
}
