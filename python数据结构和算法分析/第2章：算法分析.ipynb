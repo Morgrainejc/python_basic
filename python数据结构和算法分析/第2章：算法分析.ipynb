{
 "cells": [
  {
   "cell_type": "markdown",
   "id": "d79fe5b0",
   "metadata": {},
   "source": [
    "## 变位词判断问题"
   ]
  },
  {
   "cell_type": "markdown",
   "id": "6fced0f4",
   "metadata": {},
   "source": [
    "### 1.逐字解法：逐字对比"
   ]
  },
  {
   "cell_type": "code",
   "execution_count": 1,
   "id": "c7e86f57",
   "metadata": {},
   "outputs": [],
   "source": [
    "def anagramSolution(s1,s2):\n",
    "    alist = list(s2)\n",
    "    pos1 = 0\n",
    "    stillOK = True\n",
    "    while pos1 < len(s1) and stillOK:\n",
    "        pos2 = 0\n",
    "        found = False\n",
    "        while pos2 < len(alist) and not found:\n",
    "            if s1[pos1] == alist[pos2]:\n",
    "                found = True\n",
    "            else:\n",
    "                pos2 = pos2 + 1\n",
    "        if found:\n",
    "            alist[pos2] = None\n",
    "        else:\n",
    "            stillOK = False\n",
    "        pos1 = pos1 + 1 \n",
    "    return stillOK"
   ]
  },
  {
   "cell_type": "code",
   "execution_count": 4,
   "id": "b632b79b",
   "metadata": {},
   "outputs": [
    {
     "data": {
      "text/plain": [
       "False"
      ]
     },
     "execution_count": 4,
     "metadata": {},
     "output_type": "execute_result"
    }
   ],
   "source": [
    "anagramSolution('pythonn','typhon')"
   ]
  },
  {
   "cell_type": "markdown",
   "id": "c022525c",
   "metadata": {},
   "source": [
    "算法复杂度：n*(n+1)/2,O(n2)\n"
   ]
  },
  {
   "cell_type": "markdown",
   "id": "883b9e17",
   "metadata": {},
   "source": [
    "### 2.排序比较：先排序再对比"
   ]
  },
  {
   "cell_type": "code",
   "execution_count": 6,
   "id": "df1138e0",
   "metadata": {},
   "outputs": [],
   "source": [
    "def anagramSolution2(s1,s2):\n",
    "    alist1 = list(s1)\n",
    "    alist2 = list(s2)\n",
    "    \n",
    "    alist1.sort()\n",
    "    alist2.sort()\n",
    "    pos = 0\n",
    "    matches = True\n",
    "    while pos < len(s1) and matches:\n",
    "        if alist1[pos] == alist2[pos]:\n",
    "            pos = pos + 1\n",
    "        else:\n",
    "            matches = False\n",
    "    return matches"
   ]
  },
  {
   "cell_type": "code",
   "execution_count": 8,
   "id": "5bd0dd00",
   "metadata": {},
   "outputs": [
    {
     "data": {
      "text/plain": [
       "True"
      ]
     },
     "execution_count": 8,
     "metadata": {},
     "output_type": "execute_result"
    }
   ],
   "source": [
    "anagramSolution2('pythonn','typhonn')"
   ]
  },
  {
   "cell_type": "markdown",
   "id": "2656deb0",
   "metadata": {},
   "source": [
    "算法复杂度：等于排序过程的数量级O(nlogn)"
   ]
  },
  {
   "cell_type": "markdown",
   "id": "78983e87",
   "metadata": {},
   "source": [
    "### 3.暴力法：穷尽所有可能的组合"
   ]
  },
  {
   "cell_type": "markdown",
   "id": "389fb763",
   "metadata": {},
   "source": [
    "n！增长速度超过2n，该方法不是个好算法"
   ]
  },
  {
   "cell_type": "markdown",
   "id": "0fb15324",
   "metadata": {},
   "source": [
    "### 4.计数比较：对比每个字母出现的次数"
   ]
  },
  {
   "cell_type": "code",
   "execution_count": 8,
   "id": "497117cf",
   "metadata": {},
   "outputs": [],
   "source": [
    "def anagramSolution4(s1,s2):\n",
    "    c1 = [0] * 26\n",
    "    c2 = [0] * 26\n",
    "    for i in range(len(s1)):\n",
    "        pos = ord(s1[i]) - ord('a')\n",
    "        c1[pos] = c1[pos] + 1\n",
    "    for i in range(len(s2)):\n",
    "        pos = ord(s2[i]) - ord('a')\n",
    "        c2[pos] = c2[pos] + 1\n",
    "        \n",
    "    j = 0 \n",
    "    stillOK = True\n",
    "    while j < 26 and stillOK:\n",
    "        if c1[j] == c2[j]:\n",
    "            j = j + 1\n",
    "        else:\n",
    "            stillOK = False\n",
    "    return stillOK"
   ]
  },
  {
   "cell_type": "code",
   "execution_count": 10,
   "id": "e8bffd37",
   "metadata": {},
   "outputs": [
    {
     "data": {
      "text/plain": [
       "False"
      ]
     },
     "execution_count": 10,
     "metadata": {},
     "output_type": "execute_result"
    }
   ],
   "source": [
    "anagramSolution4('apple','plesssp')"
   ]
  },
  {
   "cell_type": "markdown",
   "id": "84ff612c",
   "metadata": {},
   "source": [
    "* 总操作次数T(n)=2n+26,算法复杂度：等于排序过程的数量级O(n)\n",
    "* 依赖计数器，相比前3个算法需要更多的存储空间"
   ]
  },
  {
   "cell_type": "markdown",
   "id": "b563b267",
   "metadata": {},
   "source": [
    "## python数据类型的性能"
   ]
  },
  {
   "cell_type": "markdown",
   "id": "e33b7cfa",
   "metadata": {},
   "source": [
    "* list\n",
    "* dic"
   ]
  },
  {
   "cell_type": "markdown",
   "id": "934c7560",
   "metadata": {},
   "source": [
    "### 列表"
   ]
  },
  {
   "cell_type": "code",
   "execution_count": 15,
   "id": "4b7f4a21",
   "metadata": {},
   "outputs": [],
   "source": [
    "def test1():\n",
    "    l = []\n",
    "    for i in range(1000):\n",
    "        l = l + [i]\n",
    "        \n",
    "def test2():\n",
    "    l = []\n",
    "    for i in range(1000):\n",
    "        l.append(i)\n",
    "        \n",
    "def test3():\n",
    "    l = [i for i in range(1000)]\n",
    "    \n",
    "def test4():\n",
    "    l = list(range(1000))"
   ]
  },
  {
   "cell_type": "code",
   "execution_count": 19,
   "id": "ed2e8d62",
   "metadata": {},
   "outputs": [
    {
     "name": "stdout",
     "output_type": "stream",
     "text": [
      "concat  1.020327 seconds\n",
      "\n",
      "concat  0.052720 seconds\n",
      "\n",
      "concat  0.027652 seconds\n",
      "\n",
      "concat  0.008042 seconds\n",
      "\n"
     ]
    }
   ],
   "source": [
    "from timeit import Timer\n",
    "\n",
    "t1 = Timer('test1()','from __main__ import test1')\n",
    "print('concat % f seconds\\n' % t1.timeit(number = 1000))\n",
    "\n",
    "t2 = Timer('test2()','from __main__ import test2')\n",
    "print('concat % f seconds\\n' % t2.timeit(number = 1000))\n",
    "\n",
    "t3 = Timer('test3()','from __main__ import test3')\n",
    "print('concat % f seconds\\n' % t3.timeit(number = 1000))\n",
    "\n",
    "t4 = Timer('test4()','from __main__ import test4')\n",
    "print('concat % f seconds\\n' % t4.timeit(number = 1000))"
   ]
  },
  {
   "cell_type": "code",
   "execution_count": 24,
   "id": "b56a56ec",
   "metadata": {},
   "outputs": [],
   "source": [
    "import timeit\n",
    "popzero = timeit.Timer('x.pop(0)','from __main__ import x')\n",
    "popend = timeit.Timer('x.pop()','from __main__ import x')"
   ]
  },
  {
   "cell_type": "code",
   "execution_count": 27,
   "id": "5eb7c908",
   "metadata": {},
   "outputs": [],
   "source": [
    "x = list(range(2000000))"
   ]
  },
  {
   "cell_type": "code",
   "execution_count": 28,
   "id": "262ba76a",
   "metadata": {},
   "outputs": [
    {
     "data": {
      "text/plain": [
       "1.8095897000002878"
      ]
     },
     "execution_count": 28,
     "metadata": {},
     "output_type": "execute_result"
    }
   ],
   "source": [
    "popzero.timeit(number=1000)"
   ]
  },
  {
   "cell_type": "code",
   "execution_count": 29,
   "id": "ed6c69b3",
   "metadata": {},
   "outputs": [
    {
     "data": {
      "text/plain": [
       "6.52999997328152e-05"
      ]
     },
     "execution_count": 29,
     "metadata": {},
     "output_type": "execute_result"
    }
   ],
   "source": [
    "popend.timeit(number=1000)"
   ]
  },
  {
   "cell_type": "markdown",
   "id": "bc2547c6",
   "metadata": {},
   "source": [
    "### 字典"
   ]
  },
  {
   "cell_type": "code",
   "execution_count": 31,
   "id": "3412393a",
   "metadata": {},
   "outputs": [
    {
     "name": "stdout",
     "output_type": "stream",
     "text": [
      "10000,     0.042,     0.001\n",
      "30000,     0.122,     0.001\n",
      "50000,     0.195,     0.001\n",
      "70000,     0.263,     0.001\n",
      "90000,     0.361,     0.001\n",
      "110000,     0.455,     0.001\n",
      "130000,     0.543,     0.001\n",
      "150000,     0.640,     0.001\n",
      "170000,     0.717,     0.001\n",
      "190000,     0.842,     0.001\n",
      "210000,     0.923,     0.001\n",
      "230000,     1.002,     0.001\n",
      "250000,     1.160,     0.001\n",
      "270000,     1.242,     0.001\n",
      "290000,     1.337,     0.001\n",
      "310000,     1.546,     0.001\n",
      "330000,     1.599,     0.001\n",
      "350000,     1.709,     0.001\n",
      "370000,     1.743,     0.001\n",
      "390000,     1.967,     0.001\n",
      "410000,     2.002,     0.001\n",
      "430000,     2.098,     0.001\n",
      "450000,     2.138,     0.001\n",
      "470000,     2.279,     0.001\n",
      "490000,     2.413,     0.001\n",
      "510000,     2.703,     0.001\n",
      "530000,     2.680,     0.001\n",
      "550000,     2.838,     0.001\n",
      "570000,     2.704,     0.001\n",
      "590000,     2.858,     0.001\n",
      "610000,     3.029,     0.001\n",
      "630000,     3.208,     0.001\n",
      "650000,     3.257,     0.001\n",
      "670000,     3.207,     0.001\n",
      "690000,     3.231,     0.001\n",
      "710000,     3.384,     0.001\n",
      "730000,     3.217,     0.001\n",
      "750000,     3.349,     0.001\n",
      "770000,     3.514,     0.001\n",
      "790000,     3.576,     0.001\n",
      "810000,     3.712,     0.001\n",
      "830000,     3.851,     0.001\n",
      "850000,     4.044,     0.001\n",
      "870000,     4.105,     0.001\n",
      "890000,     4.102,     0.001\n",
      "910000,     4.078,     0.001\n",
      "930000,     4.251,     0.001\n",
      "950000,     4.473,     0.001\n",
      "970000,     4.473,     0.001\n",
      "990000,     4.648,     0.001\n"
     ]
    }
   ],
   "source": [
    "import timeit\n",
    "import random\n",
    "\n",
    "for i in range(10000,1000001,20000):\n",
    "    t = timeit.Timer('random.randrange(%d) in x'%i,'from __main__ import random,x')\n",
    "    \n",
    "    x = list(range(i))\n",
    "    lst_time = t.timeit(number=1000)\n",
    "    x = {j:None for j in range(i)}\n",
    "    d_time = t.timeit(number=1000)\n",
    "    print('%d,%10.3f,%10.3f'%(i,lst_time,d_time))"
   ]
  },
  {
   "cell_type": "code",
   "execution_count": null,
   "id": "45fd7dbc",
   "metadata": {},
   "outputs": [],
   "source": []
  }
 ],
 "metadata": {
  "kernelspec": {
   "display_name": "Python 3 (ipykernel)",
   "language": "python",
   "name": "python3"
  },
  "language_info": {
   "codemirror_mode": {
    "name": "ipython",
    "version": 3
   },
   "file_extension": ".py",
   "mimetype": "text/x-python",
   "name": "python",
   "nbconvert_exporter": "python",
   "pygments_lexer": "ipython3",
   "version": "3.9.13"
  }
 },
 "nbformat": 4,
 "nbformat_minor": 5
}
