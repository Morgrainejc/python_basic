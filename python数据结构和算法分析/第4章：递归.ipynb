{
 "cells": [
  {
   "cell_type": "markdown",
   "id": "c0acd647",
   "metadata": {},
   "source": [
    "## 1.递归"
   ]
  },
  {
   "cell_type": "markdown",
   "id": "eb9fec01",
   "metadata": {},
   "source": [
    "递归是解决问题的一种方法，它将问题不断地分成更小的子问题，直到子问题可以用普通的方法解决。"
   ]
  },
  {
   "cell_type": "markdown",
   "id": "c6ff65cb",
   "metadata": {},
   "source": [
    "* 1.递归算法必须有一个基本结束条件\n",
    "* 2.递归算法必须能改变状态向基本结束条件演进\n",
    "* 3.递归孙发必须调用自身"
   ]
  },
  {
   "cell_type": "markdown",
   "id": "95308dfa",
   "metadata": {},
   "source": [
    "### 应用一:将整数转换成任意进制的字符串"
   ]
  },
  {
   "cell_type": "code",
   "execution_count": 2,
   "id": "0d28a02e",
   "metadata": {},
   "outputs": [],
   "source": [
    "def toStr(n,base):\n",
    "    convertString = '0123456789ABCDEF'\n",
    "    if n < base:\n",
    "        return convertString[n]\n",
    "    else:\n",
    "        return toStr(n//base,base) + convertString[n%base]"
   ]
  },
  {
   "cell_type": "code",
   "execution_count": 3,
   "id": "ef05633a",
   "metadata": {},
   "outputs": [
    {
     "data": {
      "text/plain": [
       "'769'"
      ]
     },
     "execution_count": 3,
     "metadata": {},
     "output_type": "execute_result"
    }
   ],
   "source": [
    "toStr(769,10)"
   ]
  },
  {
   "cell_type": "code",
   "execution_count": 4,
   "id": "6f453f99",
   "metadata": {},
   "outputs": [
    {
     "data": {
      "text/plain": [
       "'301'"
      ]
     },
     "execution_count": 4,
     "metadata": {},
     "output_type": "execute_result"
    }
   ],
   "source": [
    "toStr(769,16)"
   ]
  },
  {
   "cell_type": "code",
   "execution_count": 5,
   "id": "e17943cf",
   "metadata": {},
   "outputs": [
    {
     "data": {
      "text/plain": [
       "'1010'"
      ]
     },
     "execution_count": 5,
     "metadata": {},
     "output_type": "execute_result"
    }
   ],
   "source": [
    "toStr(10,2)"
   ]
  },
  {
   "cell_type": "markdown",
   "id": "43ed17fe",
   "metadata": {},
   "source": [
    "### 应用二:递归调用的实现"
   ]
  },
  {
   "cell_type": "markdown",
   "id": "cc3bfbd5",
   "metadata": {},
   "source": [
    "* 递归调用类似栈\n",
    "* 递归有深度限制，python有默认值，见下"
   ]
  },
  {
   "cell_type": "code",
   "execution_count": 6,
   "id": "de185637",
   "metadata": {},
   "outputs": [],
   "source": [
    "import sys"
   ]
  },
  {
   "cell_type": "code",
   "execution_count": 7,
   "id": "88316900",
   "metadata": {},
   "outputs": [
    {
     "data": {
      "text/plain": [
       "3000"
      ]
     },
     "execution_count": 7,
     "metadata": {},
     "output_type": "execute_result"
    }
   ],
   "source": [
    "sys.getrecursionlimit()"
   ]
  },
  {
   "cell_type": "code",
   "execution_count": 8,
   "id": "0f4cec5c",
   "metadata": {},
   "outputs": [],
   "source": [
    "sys.setrecursionlimit(8000)"
   ]
  },
  {
   "cell_type": "code",
   "execution_count": 9,
   "id": "4036c7c1",
   "metadata": {},
   "outputs": [
    {
     "data": {
      "text/plain": [
       "8000"
      ]
     },
     "execution_count": 9,
     "metadata": {},
     "output_type": "execute_result"
    }
   ],
   "source": [
    "sys.getrecursionlimit()"
   ]
  },
  {
   "cell_type": "markdown",
   "id": "58da6cbd",
   "metadata": {},
   "source": [
    "### 应用三：递归可视化"
   ]
  },
  {
   "cell_type": "code",
   "execution_count": 1,
   "id": "30af16f6",
   "metadata": {},
   "outputs": [],
   "source": [
    "#绘制螺旋线\n",
    "import turtle\n",
    "\n",
    "t = turtle.Turtle()\n",
    "\n",
    "def drawSpiral(myTurtle,lineLen):\n",
    "    if lineLen > 0:\n",
    "        myTurtle.forward(lineLen)\n",
    "        myTurtle.right(90)\n",
    "        drawSpiral(myTurtle,lineLen-5)\n",
    "        \n",
    "drawSpiral(t,100)\n",
    "\n",
    "turtle.done()"
   ]
  },
  {
   "cell_type": "code",
   "execution_count": 1,
   "id": "962c5c15",
   "metadata": {},
   "outputs": [],
   "source": [
    "#绘制分形树\n",
    "import turtle \n",
    "\n",
    "def tree(branchLen):\n",
    "    if branchLen > 5:\n",
    "        t.forward(branchLen)\n",
    "        t.right(20)\n",
    "        tree(branchLen-15)\n",
    "        t.left(40)\n",
    "        tree(branchLen-15)\n",
    "        t.right(20)\n",
    "        t.backward(branchLen)"
   ]
  },
  {
   "cell_type": "code",
   "execution_count": 2,
   "id": "666a9ef7",
   "metadata": {},
   "outputs": [],
   "source": [
    "t = turtle.Turtle()\n",
    "t.left(90)\n",
    "t.penup()\n",
    "t.backward(100)\n",
    "t.pendown()\n",
    "t.pencolor('green')\n",
    "t.pensize(2)\n",
    "tree(75)\n",
    "t.hideturtle()\n",
    "turtle.done()"
   ]
  },
  {
   "cell_type": "code",
   "execution_count": 1,
   "id": "b68019f0",
   "metadata": {},
   "outputs": [],
   "source": [
    "#谢尔平斯基三角形\n",
    "import turtle\n",
    "\n",
    "def sierpinskinski(degree,points):\n",
    "    colormap = ['blue', 'red', 'green', 'white', 'yellow','violet', 'orange']\n",
    "    drawTriangle(points,colormap[degree])\n",
    "    if degree > 0:\n",
    "        sierpinskinski(degree - 1,\n",
    "                      {'left':points['left'],\n",
    "                      'top':getMid(points['left'],points['top']),\n",
    "                      'right':getMid(points['left'],points['right'])})\n",
    "        sierpinskinski(degree - 1,\n",
    "                      {'left':getMid(points['left'],points['top']),\n",
    "                       'top':points['top'],\n",
    "                      'right':getMid(points['top'],points['right'])})\n",
    "        sierpinskinski(degree - 1,\n",
    "                      {'left':getMid(points['left'],points['right']),\n",
    "                      'top':getMid(points['top'],points['right']),\n",
    "                      'right':points['right']})\n",
    "        \n",
    "\n",
    "def drawTriangle(points, color):\n",
    "    \"\"\"绘制等边三角形\"\"\"\n",
    "    t.fillcolor(color)\n",
    "    t.penup()\n",
    "    t.goto(points['top'])\n",
    "    t.pendown()\n",
    "    t.begin_fill()\n",
    "    t.goto(points['left'])\n",
    "    t.goto(points['right'])\n",
    "    t.goto(points['top'])\n",
    "    t.end_fill()\n",
    "    \n",
    "def getMid(p1, p2):\n",
    "    \"\"\"取两个点的重点\"\"\"\n",
    "    return ((p1[0] + p2[0]) / 2, (p1[1] + p2[1]) / 2)\n",
    "\n",
    "\n",
    "t = turtle.Turtle()\n",
    "\n",
    "points = {'left':(-200,-100),\n",
    "         'top':(0,200),\n",
    "         'right':(200,-100)}\n",
    "\n",
    "sierpinskinski(5,points)\n",
    "\n",
    "turtle.done()"
   ]
  },
  {
   "cell_type": "markdown",
   "id": "d9b21235",
   "metadata": {},
   "source": [
    "### 应用四：复杂的递归问题"
   ]
  },
  {
   "cell_type": "code",
   "execution_count": 3,
   "id": "b95ef83b",
   "metadata": {},
   "outputs": [],
   "source": [
    "#汉诺塔\n",
    "def moveDisk(fp,tp):\n",
    "    print('moving disk from %d to %d'%(fp,tp))\n",
    "    \n",
    "def moveTower(height,frompole,topole,withpole):\n",
    "    if height >= 1:\n",
    "        moveTower(height-1,frompole,withpole,topole)\n",
    "        moveDisk(frompole,topole)\n",
    "        movetower(hegiht-1,witpole,topole,frompole)"
   ]
  },
  {
   "cell_type": "code",
   "execution_count": 4,
   "id": "68e56c7c",
   "metadata": {},
   "outputs": [
    {
     "name": "stdout",
     "output_type": "stream",
     "text": [
      "Move disc 1 from pole A to pole C\n",
      "Move disc 2 from pole A to pole B\n",
      "Move disc 1 from pole C to pole B\n",
      "Move disc 3 from pole A to pole C\n",
      "Move disc 1 from pole B to pole A\n",
      "Move disc 2 from pole B to pole C\n",
      "Move disc 1 from pole A to pole C\n"
     ]
    }
   ],
   "source": [
    "def TowerOfHanoi(n, source, destination, intermediate):\n",
    "    if n == 1:\n",
    "        print(\"Move disc 1 from pole\", source, \"to pole\", destination)\n",
    "        return\n",
    "    TowerOfHanoi(n-1, source, intermediate, destination)\n",
    "    print(\"Move disc\", n, \"from pole\", source, \"to pole\", destination)\n",
    "    TowerOfHanoi(n-1, intermediate, destination, source)\n",
    "\n",
    "n = 3\n",
    "TowerOfHanoi(n, 'A', 'C', 'B')"
   ]
  },
  {
   "cell_type": "markdown",
   "id": "0d8349a3",
   "metadata": {},
   "source": [
    "## 4.6 动态规划"
   ]
  },
  {
   "cell_type": "code",
   "execution_count": 5,
   "id": "82b630ad",
   "metadata": {},
   "outputs": [],
   "source": [
    "def recMC(coinValueList,change):\n",
    "    minCoins = change\n",
    "    if change in coinValueList:\n",
    "        return 1\n",
    "    else:\n",
    "        for i in [c for c in coinValueList if c <= change]:\n",
    "            numCoins = 1 + recMC(coinValueList,change-i)\n",
    "            if numCoins < minCoins:\n",
    "                minCoins = numCoins\n",
    "    return minCoins"
   ]
  },
  {
   "cell_type": "code",
   "execution_count": 7,
   "id": "9e0748d2",
   "metadata": {},
   "outputs": [
    {
     "data": {
      "text/plain": [
       "3"
      ]
     },
     "execution_count": 7,
     "metadata": {},
     "output_type": "execute_result"
    }
   ],
   "source": [
    "recMC([1,5,10,25,21],63)"
   ]
  },
  {
   "cell_type": "markdown",
   "id": "2737d4e8",
   "metadata": {},
   "source": [
    "* 该方法效率低下\n",
    "* 减少计算量关键在于记住已有的结果"
   ]
  },
  {
   "cell_type": "code",
   "execution_count": 8,
   "id": "3ae1dbe9",
   "metadata": {},
   "outputs": [],
   "source": [
    "def recDC(coinValueList,change,knownResults):\n",
    "    minCoins = change\n",
    "    if change in coinValueList:\n",
    "        knownResults[change] = 1\n",
    "        return 1\n",
    "    elif knownResults[change] > 0:\n",
    "        return knownResults[change]\n",
    "    else:\n",
    "        for i in [c for c in coinValueList if c <= change]:\n",
    "            numCoins = 1 + recDC(coinValueList,change-i,knownResults)\n",
    "            if numCoins < minCoins:\n",
    "                minCoins = numCoins\n",
    "                knownResults[change] = minCoins\n",
    "    return minCoins"
   ]
  },
  {
   "cell_type": "code",
   "execution_count": 12,
   "id": "da2881b5",
   "metadata": {},
   "outputs": [
    {
     "data": {
      "text/plain": [
       "6"
      ]
     },
     "execution_count": 12,
     "metadata": {},
     "output_type": "execute_result"
    }
   ],
   "source": [
    "recDC([1,5,10,25],63,[0]*64)"
   ]
  },
  {
   "cell_type": "markdown",
   "id": "690f8e5e",
   "metadata": {},
   "source": [
    "* 上面是通过记忆化的方法来优化，并不是动态规划，因为会有空白"
   ]
  },
  {
   "cell_type": "code",
   "execution_count": null,
   "id": "d995baf4",
   "metadata": {},
   "outputs": [],
   "source": []
  }
 ],
 "metadata": {
  "kernelspec": {
   "display_name": "Python 3",
   "language": "python",
   "name": "python3"
  },
  "language_info": {
   "codemirror_mode": {
    "name": "ipython",
    "version": 3
   },
   "file_extension": ".py",
   "mimetype": "text/x-python",
   "name": "python",
   "nbconvert_exporter": "python",
   "pygments_lexer": "ipython3",
   "version": "3.8.8"
  }
 },
 "nbformat": 4,
 "nbformat_minor": 5
}
