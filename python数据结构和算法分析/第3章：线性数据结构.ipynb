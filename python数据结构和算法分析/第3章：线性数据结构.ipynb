{
 "cells": [
  {
   "cell_type": "markdown",
   "id": "0b64139c",
   "metadata": {},
   "source": [
    "## 1.栈\n"
   ]
  },
  {
   "cell_type": "code",
   "execution_count": 1,
   "id": "ef36fe13",
   "metadata": {},
   "outputs": [],
   "source": [
    "from pythonds.basic.stack import Stack"
   ]
  },
  {
   "cell_type": "code",
   "execution_count": 2,
   "id": "58badf0c",
   "metadata": {},
   "outputs": [],
   "source": [
    "s = Stack()"
   ]
  },
  {
   "cell_type": "code",
   "execution_count": 3,
   "id": "53d60feb",
   "metadata": {},
   "outputs": [
    {
     "name": "stdout",
     "output_type": "stream",
     "text": [
      "True\n",
      "dog\n",
      "3\n",
      "False\n",
      "8.4\n",
      "True\n",
      "2\n"
     ]
    }
   ],
   "source": [
    "print(s.isEmpty())\n",
    "s.push(4)\n",
    "s.push('dog')\n",
    "print(s.peek())\n",
    "s.push(True)\n",
    "print(s.size())\n",
    "print(s.isEmpty())\n",
    "s.push(8.4)\n",
    "print(s.pop())\n",
    "print(s.pop())\n",
    "print(s.size())"
   ]
  },
  {
   "cell_type": "markdown",
   "id": "b843ef4e",
   "metadata": {},
   "source": [
    "### 应用一：括号匹配"
   ]
  },
  {
   "cell_type": "code",
   "execution_count": 4,
   "id": "762b9996",
   "metadata": {},
   "outputs": [],
   "source": [
    "from pythonds.basic.stack import Stack\n",
    "\n",
    "def parChecker(symbolString):\n",
    "    s = Stack()\n",
    "    balanced = True\n",
    "    index = 0\n",
    "    while index < len(symbolString) and balanced:\n",
    "        symbol = symbolString[index]\n",
    "        if symbol in \"([{\":\n",
    "            s.push(symbol)\n",
    "        else:\n",
    "            if s.isEmpty():\n",
    "                balanced = False\n",
    "            else:\n",
    "                top = s.pop()\n",
    "                if not matches(top,symbol):\n",
    "                    balanced = False\n",
    "                \n",
    "        index += 1\n",
    "    \n",
    "    if balanced and s.isEmpty():\n",
    "        return True\n",
    "    else:\n",
    "        return False \n",
    "\n",
    "def matches(open,close):\n",
    "    opens = '([{'\n",
    "    closers = ')]}'\n",
    "    return opens.index(open) == closers.index(close)"
   ]
  },
  {
   "cell_type": "code",
   "execution_count": 5,
   "id": "efe81a66",
   "metadata": {},
   "outputs": [
    {
     "name": "stdout",
     "output_type": "stream",
     "text": [
      "True\n"
     ]
    }
   ],
   "source": [
    "print(parChecker('((()))'))"
   ]
  },
  {
   "cell_type": "code",
   "execution_count": 6,
   "id": "baa1a4d7",
   "metadata": {},
   "outputs": [
    {
     "name": "stdout",
     "output_type": "stream",
     "text": [
      "False\n"
     ]
    }
   ],
   "source": [
    "print(parChecker('((()'))"
   ]
  },
  {
   "cell_type": "code",
   "execution_count": 7,
   "id": "1b651ede",
   "metadata": {},
   "outputs": [
    {
     "name": "stdout",
     "output_type": "stream",
     "text": [
      "False\n"
     ]
    }
   ],
   "source": [
    "print(parChecker('{{]]'))"
   ]
  },
  {
   "cell_type": "markdown",
   "id": "760deb66",
   "metadata": {},
   "source": [
    "### 应用二：十进制转换为二进制"
   ]
  },
  {
   "cell_type": "code",
   "execution_count": 8,
   "id": "8780891c",
   "metadata": {},
   "outputs": [],
   "source": [
    "from pythonds.basic.stack import Stack\n",
    "    \n",
    "def divideBy2(decNumber):\n",
    "    remstack = Stack()\n",
    "    \n",
    "    while decNumber > 0:\n",
    "        rem = decNumber % 2\n",
    "        remstack.push(rem)\n",
    "        decNumber = decNumber // 2\n",
    "        \n",
    "    binString = ''\n",
    "    while not remstack.isEmpty():\n",
    "        binString = binString + str(remstack.pop())\n",
    "        \n",
    "    return binString"
   ]
  },
  {
   "cell_type": "code",
   "execution_count": 9,
   "id": "0ee72690",
   "metadata": {},
   "outputs": [
    {
     "name": "stdout",
     "output_type": "stream",
     "text": [
      "101010\n"
     ]
    }
   ],
   "source": [
    "print(divideBy2(42))"
   ]
  },
  {
   "cell_type": "code",
   "execution_count": 10,
   "id": "5a7f4719",
   "metadata": {},
   "outputs": [],
   "source": [
    "from pythonds.basic.stack import Stack\n",
    "    \n",
    "def baseConverter(decNumber,base):\n",
    "    digits = '012345678ABCDEF'\n",
    "    \n",
    "    remstack = Stack()\n",
    "    \n",
    "    while decNumber > 0:\n",
    "        rem = decNumber % base\n",
    "        remstack.push(rem)\n",
    "        decNumber = decNumber // base\n",
    "        \n",
    "    binString = ''\n",
    "    while not remstack.isEmpty():\n",
    "        binString = binString + digits[remstack.pop()]\n",
    "        \n",
    "    return binString"
   ]
  },
  {
   "cell_type": "code",
   "execution_count": 27,
   "id": "6d62de5b",
   "metadata": {},
   "outputs": [
    {
     "name": "stdout",
     "output_type": "stream",
     "text": [
      "11001\n"
     ]
    }
   ],
   "source": [
    "print(baseConverter(25,2))"
   ]
  },
  {
   "cell_type": "code",
   "execution_count": 11,
   "id": "cab775e1",
   "metadata": {},
   "outputs": [
    {
     "name": "stdout",
     "output_type": "stream",
     "text": [
      "1A\n"
     ]
    }
   ],
   "source": [
    "print(baseConverter(25,16))"
   ]
  },
  {
   "cell_type": "markdown",
   "id": "361fda48",
   "metadata": {},
   "source": [
    "### 应用三:表达式转换"
   ]
  },
  {
   "cell_type": "code",
   "execution_count": 12,
   "id": "77112b1e",
   "metadata": {},
   "outputs": [],
   "source": [
    "from pythonds.basic.stack import Stack\n",
    "\n",
    "def infixToPostfix(infixexpr):\n",
    "    prec = {}\n",
    "    prec['*'] = 3\n",
    "    prec['/'] = 3\n",
    "    prec['+'] = 2\n",
    "    prec['-'] = 2\n",
    "    prec['('] = 1\n",
    "    opStack = Stack()\n",
    "    postfixList = []\n",
    "    tokenList = infixexpr.split()\n",
    "    \n",
    "    for token in tokenList:\n",
    "        if token in 'ABCDEFGHIJKLMNOPQRSTUVWXYZ' or token in '0123456789':\n",
    "            postfixList.append(token)\n",
    "        elif token == '(':\n",
    "            opStack.push(token)\n",
    "        elif token == ')':\n",
    "            topToken = opStack.pop()\n",
    "            while topToken != '(':\n",
    "                postfixList.append(topToken)\n",
    "                topToken = opStack.pop()\n",
    "        else:\n",
    "            while (not opStack.isEmpty()) and (prec[opStack.peek()]) >= prec[token]:\n",
    "                postfixList.append(opStack.pop())\n",
    "            opStack.push(token)\n",
    "            \n",
    "            \n",
    "    while not opStack.isEmpty():\n",
    "        postfixList.append(opStack.pop())\n",
    "    return ' '.join(postfixList)\n",
    "    "
   ]
  },
  {
   "cell_type": "code",
   "execution_count": 13,
   "id": "a2b95bb2",
   "metadata": {},
   "outputs": [
    {
     "name": "stdout",
     "output_type": "stream",
     "text": [
      "A B + C D + * A + D + E + C +\n"
     ]
    }
   ],
   "source": [
    "print(infixToPostfix( ' ( A + B ) * ( C + D ) + A + D + E + C '))"
   ]
  },
  {
   "cell_type": "code",
   "execution_count": 14,
   "id": "130c18a9",
   "metadata": {},
   "outputs": [
    {
     "name": "stdout",
     "output_type": "stream",
     "text": [
      "A B + C *\n"
     ]
    }
   ],
   "source": [
    "print(infixToPostfix( ' ( A + B ) * C '))"
   ]
  },
  {
   "cell_type": "code",
   "execution_count": 15,
   "id": "1a1cf08f",
   "metadata": {},
   "outputs": [
    {
     "name": "stdout",
     "output_type": "stream",
     "text": [
      "A B * C +\n"
     ]
    }
   ],
   "source": [
    "print(infixToPostfix( ' ( A * B ) + C '))"
   ]
  },
  {
   "cell_type": "markdown",
   "id": "871698ce",
   "metadata": {},
   "source": [
    "### 应用四：后缀表达式求值"
   ]
  },
  {
   "cell_type": "code",
   "execution_count": 16,
   "id": "f7ebecaf",
   "metadata": {},
   "outputs": [],
   "source": [
    "from pythonds.basic.stack import Stack\n",
    "\n",
    "def postFixEval(postfixExpr):\n",
    "    operandStack = Stack()\n",
    "    tokenList = postfixExpr.split()\n",
    "    \n",
    "    for token in tokenList:\n",
    "        if token in ('0123456789'): \n",
    "            operandStack.push(int(token))\n",
    "        else:\n",
    "            operand2 = operandStack.pop()\n",
    "            operand1 = operandStack.pop()\n",
    "            result = doMath(token,operand1,operand2)\n",
    "            operandStack.push(result)\n",
    "    return operandStack.pop()\n",
    "\n",
    "def doMath(op,op1,op2):\n",
    "    if op == '*':\n",
    "        return op1 * op2\n",
    "    elif op == '/':\n",
    "        return op1 / op2\n",
    "    elif op == '+':\n",
    "        return op1 + op2\n",
    "    else:\n",
    "        return op1 - op2"
   ]
  },
  {
   "cell_type": "code",
   "execution_count": 18,
   "id": "bae8a800",
   "metadata": {},
   "outputs": [
    {
     "data": {
      "text/plain": [
       "13"
      ]
     },
     "execution_count": 18,
     "metadata": {},
     "output_type": "execute_result"
    }
   ],
   "source": [
    "postFixEval('2 4 * 5 +')"
   ]
  },
  {
   "cell_type": "markdown",
   "id": "2d6d1ed0",
   "metadata": {},
   "source": [
    "## 2.队列"
   ]
  },
  {
   "cell_type": "markdown",
   "id": "521ca2bf",
   "metadata": {},
   "source": [
    "### 应用一：热土豆问题"
   ]
  },
  {
   "cell_type": "code",
   "execution_count": 20,
   "id": "a208890c",
   "metadata": {},
   "outputs": [],
   "source": [
    "from pythonds.basic.queue import Queue\n",
    "\n",
    "def hotPotato(namelist,num):\n",
    "    simqueue = Queue()\n",
    "    for name in namelist:\n",
    "        simqueue.enqueue(name)\n",
    "        \n",
    "    while simqueue.size() > 1:\n",
    "        for i in range(num):\n",
    "            simqueue.enqueue(simqueue.dequeue())\n",
    "        simqueue.dequeue()\n",
    "        \n",
    "    return simqueue.dequeue()\n"
   ]
  },
  {
   "cell_type": "code",
   "execution_count": 21,
   "id": "fa00ea0c",
   "metadata": {},
   "outputs": [
    {
     "name": "stdout",
     "output_type": "stream",
     "text": [
      "Susan\n"
     ]
    }
   ],
   "source": [
    "print(hotPotato(['Bill','David','Susan','Jane','Kent','Brad'],7))"
   ]
  },
  {
   "cell_type": "markdown",
   "id": "f38ab2ed",
   "metadata": {},
   "source": [
    "### 应用二：打印任务"
   ]
  },
  {
   "cell_type": "code",
   "execution_count": 35,
   "id": "dcd1b8f3",
   "metadata": {},
   "outputs": [],
   "source": [
    "from pythonds.basic.queue import Queue\n",
    "\n",
    "import random\n",
    "\n",
    "class Printer:\n",
    "    def __init__(self,ppm):\n",
    "        self.pagerate = ppm ##打印速度\n",
    "        self.currentTask = None ##打印任务\n",
    "        self.timeRemaining = 0 ##任务倒计时\n",
    "        \n",
    "    def tick(self): \n",
    "        \"\"\"打印1秒\"\"\"\n",
    "        if self.currentTask != None:\n",
    "            self.timeRemaining -= 1\n",
    "            if self.timeRemaining <= 0:\n",
    "                self.currentTask = None\n",
    "                \n",
    "    def busy(self):\n",
    "        \"\"\"打印忙\"\"\"\n",
    "        if self.currentTask != None:\n",
    "            return True\n",
    "        else:\n",
    "            return False\n",
    "        \n",
    "    def startNext(self,newtask):\n",
    "        \"\"\"打印新作业\"\"\"\n",
    "        self.currentTask = newtask\n",
    "        self.timeRemaining = newtask.getPages() * 60/self.pagerate\n",
    "        \n",
    "class Task:\n",
    "    def __init__(self,time):\n",
    "        self.timestamp = time ##生成时间戳\n",
    "        self.pages = random.randrange(1,21) ##打印页数\n",
    "        \n",
    "    def getStamp(self):\n",
    "        return self.timestamp\n",
    "    \n",
    "    def getPages(self):\n",
    "        return self.pages\n",
    "    \n",
    "    def waitTime(self,currenttime):\n",
    "        \"\"\"等待时间\"\"\"\n",
    "        return currenttime - self.timestamp\n",
    "    \n",
    "def newPrintTask():\n",
    "    num = random.randrange(1,181) ##1/180概率生成作业\n",
    "    if num == 180:\n",
    "        return True\n",
    "    else:\n",
    "        return False\n",
    "    \n",
    "def simulation(numSeconds,pagesPerMinute):\n",
    "    labprinter = Printer(pagesPerMinute)\n",
    "    printQueue = Queue()\n",
    "    waitingtimes = []\n",
    "    \n",
    "    for currentSecond in range(numSeconds):\n",
    "        \"\"\"时间流逝\"\"\"\n",
    "        if newPrintTask():\n",
    "            task = Task(currentSecond)\n",
    "            printQueue.enqueue(task)\n",
    "            \n",
    "        if (not labprinter.busy()) and (not printQueue.isEmpty()):\n",
    "            nexttask = printQueue.dequeue()\n",
    "            waitingtimes.append(nexttask.waitTime(currentSecond))\n",
    "            labprinter.startNext(nexttask)\n",
    "            \n",
    "        labprinter.tick()\n",
    "        \n",
    "    averageWait = sum(waitingtimes)/len(waitingtimes)\n",
    "    print('Average Wait %6.2f secs %3d tasks remaining.'%(averageWait,printQueue.size()))"
   ]
  },
  {
   "cell_type": "code",
   "execution_count": 38,
   "id": "11a9dea9",
   "metadata": {},
   "outputs": [
    {
     "name": "stdout",
     "output_type": "stream",
     "text": [
      "Average Wait 251.56 secs   2 tasks remaining.\n",
      "Average Wait 228.24 secs   3 tasks remaining.\n",
      "Average Wait  70.53 secs   1 tasks remaining.\n",
      "Average Wait  27.68 secs   0 tasks remaining.\n",
      "Average Wait  92.18 secs   1 tasks remaining.\n",
      "Average Wait  49.87 secs   0 tasks remaining.\n",
      "Average Wait  84.90 secs   0 tasks remaining.\n",
      "Average Wait  45.18 secs   0 tasks remaining.\n",
      "Average Wait  70.30 secs   0 tasks remaining.\n",
      "Average Wait 129.73 secs   0 tasks remaining.\n"
     ]
    }
   ],
   "source": [
    "for i in range(10):\n",
    "    simulation(3600,5)"
   ]
  },
  {
   "cell_type": "code",
   "execution_count": 42,
   "id": "7674b246",
   "metadata": {},
   "outputs": [
    {
     "name": "stdout",
     "output_type": "stream",
     "text": [
      "Average Wait  24.91 secs   0 tasks remaining.\n",
      "Average Wait  15.44 secs   0 tasks remaining.\n",
      "Average Wait   7.71 secs   0 tasks remaining.\n",
      "Average Wait  10.42 secs   0 tasks remaining.\n",
      "Average Wait  25.81 secs   0 tasks remaining.\n",
      "Average Wait  32.78 secs   0 tasks remaining.\n",
      "Average Wait  12.31 secs   0 tasks remaining.\n",
      "Average Wait  12.79 secs   0 tasks remaining.\n",
      "Average Wait  28.41 secs   0 tasks remaining.\n",
      "Average Wait  12.47 secs   0 tasks remaining.\n"
     ]
    }
   ],
   "source": [
    "for i in range(10):\n",
    "    simulation(3600,10)"
   ]
  },
  {
   "cell_type": "markdown",
   "id": "29107ed7",
   "metadata": {},
   "source": [
    "模拟系统对现实仿真，帮助决策"
   ]
  },
  {
   "cell_type": "markdown",
   "id": "b69af734",
   "metadata": {},
   "source": [
    "## 3.双端队列"
   ]
  },
  {
   "cell_type": "markdown",
   "id": "85244b7e",
   "metadata": {},
   "source": [
    "### 应用一：回文词判断"
   ]
  },
  {
   "cell_type": "code",
   "execution_count": 5,
   "id": "46ab8cfe",
   "metadata": {},
   "outputs": [],
   "source": [
    "from pythonds.basic.deque import Deque\n",
    "\n",
    "def palchecker(aString):\n",
    "    chardeque = Deque()\n",
    "    \n",
    "    for ch in aString:\n",
    "        chardeque.addRear(ch)\n",
    "        \n",
    "    stillEqual = True\n",
    "    \n",
    "    while chardeque.size() > 1 and stillEqual:\n",
    "        first = chardeque.removeFront()\n",
    "        last = chardeque.removeRear()\n",
    "        if first != last:\n",
    "            stillEqual = False\n",
    "            \n",
    "    return stillEqual"
   ]
  },
  {
   "cell_type": "code",
   "execution_count": 6,
   "id": "92958d3c",
   "metadata": {},
   "outputs": [
    {
     "name": "stdout",
     "output_type": "stream",
     "text": [
      "False\n"
     ]
    }
   ],
   "source": [
    "print(palchecker('lsdkjfskf'))"
   ]
  },
  {
   "cell_type": "code",
   "execution_count": 7,
   "id": "19157c18",
   "metadata": {},
   "outputs": [
    {
     "name": "stdout",
     "output_type": "stream",
     "text": [
      "True\n"
     ]
    }
   ],
   "source": [
    "print(palchecker('radar'))"
   ]
  },
  {
   "cell_type": "markdown",
   "id": "b85a4b84",
   "metadata": {},
   "source": [
    "## 4.无序表"
   ]
  },
  {
   "cell_type": "markdown",
   "id": "aa9cb479",
   "metadata": {},
   "source": [
    "### 链表实现：节点Node"
   ]
  },
  {
   "cell_type": "code",
   "execution_count": 15,
   "id": "c83d8d2e",
   "metadata": {},
   "outputs": [],
   "source": [
    "from pythonds.basic.unorderedlist import Node"
   ]
  },
  {
   "cell_type": "code",
   "execution_count": 16,
   "id": "0959914e",
   "metadata": {},
   "outputs": [],
   "source": [
    "temp = Node(93)"
   ]
  },
  {
   "cell_type": "code",
   "execution_count": 17,
   "id": "20367c2b",
   "metadata": {},
   "outputs": [
    {
     "data": {
      "text/plain": [
       "93"
      ]
     },
     "execution_count": 17,
     "metadata": {},
     "output_type": "execute_result"
    }
   ],
   "source": [
    "temp.getData()"
   ]
  },
  {
   "cell_type": "markdown",
   "id": "7d047ac8",
   "metadata": {},
   "source": [
    "### 链表实现：无序表UnorderedList"
   ]
  },
  {
   "cell_type": "code",
   "execution_count": 18,
   "id": "8446726b",
   "metadata": {},
   "outputs": [],
   "source": [
    "from pythonds.basic.unorderedlist import UnorderedList"
   ]
  },
  {
   "cell_type": "code",
   "execution_count": 19,
   "id": "01623209",
   "metadata": {},
   "outputs": [],
   "source": [
    "myList = UnorderedList()"
   ]
  },
  {
   "cell_type": "code",
   "execution_count": 20,
   "id": "b6130235",
   "metadata": {},
   "outputs": [
    {
     "name": "stdout",
     "output_type": "stream",
     "text": [
      "None\n"
     ]
    }
   ],
   "source": [
    "print(myList.head)"
   ]
  },
  {
   "cell_type": "markdown",
   "id": "eff9bcc7",
   "metadata": {},
   "source": [
    "* 链表无序\n",
    "* 从表头head开始沿着next链接逐个向后查找\n",
    "* 添加新数据项最快捷位置是表头"
   ]
  },
  {
   "cell_type": "code",
   "execution_count": 21,
   "id": "7fb0d982",
   "metadata": {},
   "outputs": [],
   "source": [
    "myList.add('a')"
   ]
  },
  {
   "cell_type": "code",
   "execution_count": 22,
   "id": "e0914af3",
   "metadata": {},
   "outputs": [
    {
     "data": {
      "text/plain": [
       "1"
      ]
     },
     "execution_count": 22,
     "metadata": {},
     "output_type": "execute_result"
    }
   ],
   "source": [
    "myList.size()"
   ]
  },
  {
   "cell_type": "code",
   "execution_count": 23,
   "id": "c6b318d6",
   "metadata": {},
   "outputs": [],
   "source": [
    "myList.remove('a')"
   ]
  },
  {
   "cell_type": "code",
   "execution_count": 7,
   "id": "47d06cc2",
   "metadata": {},
   "outputs": [
    {
     "data": {
      "text/plain": [
       "<pythonds.basic.linked_list.UnorderedList at 0x2381a96b090>"
      ]
     },
     "execution_count": 7,
     "metadata": {},
     "output_type": "execute_result"
    }
   ],
   "source": [
    "myList"
   ]
  },
  {
   "cell_type": "code",
   "execution_count": 24,
   "id": "3e3c6185",
   "metadata": {},
   "outputs": [],
   "source": [
    "myList.add('jc')"
   ]
  },
  {
   "cell_type": "code",
   "execution_count": 25,
   "id": "0868fbfe",
   "metadata": {},
   "outputs": [],
   "source": [
    "myList.add('nijiajia')"
   ]
  },
  {
   "cell_type": "code",
   "execution_count": 26,
   "id": "705ea277",
   "metadata": {},
   "outputs": [
    {
     "data": {
      "text/plain": [
       "2"
      ]
     },
     "execution_count": 26,
     "metadata": {},
     "output_type": "execute_result"
    }
   ],
   "source": [
    "myList.size()"
   ]
  },
  {
   "cell_type": "code",
   "execution_count": 27,
   "id": "d13f578e",
   "metadata": {},
   "outputs": [
    {
     "data": {
      "text/plain": [
       "True"
      ]
     },
     "execution_count": 27,
     "metadata": {},
     "output_type": "execute_result"
    }
   ],
   "source": [
    "myList.search('nijiajia')"
   ]
  },
  {
   "cell_type": "code",
   "execution_count": 28,
   "id": "0dbb852e",
   "metadata": {},
   "outputs": [],
   "source": [
    "myList.remove('nijiajia')"
   ]
  },
  {
   "cell_type": "code",
   "execution_count": 29,
   "id": "a3016ea8",
   "metadata": {},
   "outputs": [
    {
     "data": {
      "text/plain": [
       "1"
      ]
     },
     "execution_count": 29,
     "metadata": {},
     "output_type": "execute_result"
    }
   ],
   "source": [
    "myList.size()"
   ]
  },
  {
   "cell_type": "code",
   "execution_count": 30,
   "id": "c13e5966",
   "metadata": {},
   "outputs": [
    {
     "data": {
      "text/plain": [
       "False"
      ]
     },
     "execution_count": 30,
     "metadata": {},
     "output_type": "execute_result"
    }
   ],
   "source": [
    "myList.search('nijiajia')"
   ]
  },
  {
   "cell_type": "markdown",
   "id": "ef184aa3",
   "metadata": {},
   "source": [
    "## 5.有序表"
   ]
  },
  {
   "cell_type": "markdown",
   "id": "fd7f712a",
   "metadata": {},
   "source": [
    "### 链表实现：节点Node"
   ]
  },
  {
   "cell_type": "markdown",
   "id": "6cdc310e",
   "metadata": {},
   "source": [
    "和无序表相同"
   ]
  },
  {
   "cell_type": "markdown",
   "id": "280a845a",
   "metadata": {},
   "source": [
    "### 链表实现：有序表OrderedList"
   ]
  },
  {
   "cell_type": "code",
   "execution_count": 1,
   "id": "140366de",
   "metadata": {},
   "outputs": [],
   "source": [
    "from pythonds.basic.orderedlist import OrderedList"
   ]
  },
  {
   "cell_type": "code",
   "execution_count": 2,
   "id": "c9cc7814",
   "metadata": {},
   "outputs": [],
   "source": [
    "myList = OrderedList()"
   ]
  },
  {
   "cell_type": "code",
   "execution_count": 3,
   "id": "c85a763d",
   "metadata": {},
   "outputs": [
    {
     "name": "stdout",
     "output_type": "stream",
     "text": [
      "None\n"
     ]
    }
   ],
   "source": [
    "print(myList.head)"
   ]
  },
  {
   "cell_type": "code",
   "execution_count": 4,
   "id": "946d48de",
   "metadata": {},
   "outputs": [],
   "source": [
    "myList.add(1)"
   ]
  },
  {
   "cell_type": "code",
   "execution_count": 6,
   "id": "28d0d1e1",
   "metadata": {},
   "outputs": [
    {
     "data": {
      "text/plain": [
       "1"
      ]
     },
     "execution_count": 6,
     "metadata": {},
     "output_type": "execute_result"
    }
   ],
   "source": [
    "myList.head.getData()"
   ]
  },
  {
   "cell_type": "code",
   "execution_count": 5,
   "id": "c01b9b3a",
   "metadata": {},
   "outputs": [],
   "source": [
    "myList.add(2)"
   ]
  },
  {
   "cell_type": "code",
   "execution_count": 7,
   "id": "7b3a41e9",
   "metadata": {},
   "outputs": [
    {
     "data": {
      "text/plain": [
       "True"
      ]
     },
     "execution_count": 7,
     "metadata": {},
     "output_type": "execute_result"
    }
   ],
   "source": [
    "myList.search(2)"
   ]
  },
  {
   "cell_type": "code",
   "execution_count": null,
   "id": "7fe5a728",
   "metadata": {},
   "outputs": [],
   "source": []
  }
 ],
 "metadata": {
  "kernelspec": {
   "display_name": "Python 3 (ipykernel)",
   "language": "python",
   "name": "python3"
  },
  "language_info": {
   "codemirror_mode": {
    "name": "ipython",
    "version": 3
   },
   "file_extension": ".py",
   "mimetype": "text/x-python",
   "name": "python",
   "nbconvert_exporter": "python",
   "pygments_lexer": "ipython3",
   "version": "3.11.5"
  }
 },
 "nbformat": 4,
 "nbformat_minor": 5
}
