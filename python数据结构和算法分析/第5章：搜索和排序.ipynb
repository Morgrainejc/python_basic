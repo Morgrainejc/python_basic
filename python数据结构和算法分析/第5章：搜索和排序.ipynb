{
 "cells": [
  {
   "cell_type": "markdown",
   "id": "0ce8509f",
   "metadata": {},
   "source": [
    "## 1.搜索"
   ]
  },
  {
   "cell_type": "markdown",
   "id": "2e5eeb4c",
   "metadata": {},
   "source": [
    "### 1）顺序查找\n"
   ]
  },
  {
   "cell_type": "code",
   "execution_count": 1,
   "id": "28634349",
   "metadata": {},
   "outputs": [],
   "source": [
    "def sequentialSearch(alist,item):\n",
    "    pos = 0\n",
    "    found = False\n",
    "    \n",
    "    while pos < len(alist) and not found:\n",
    "        if alist[pos] == item:\n",
    "            found = True\n",
    "        else:\n",
    "            pos = pos + 1\n",
    "            \n",
    "    return found"
   ]
  },
  {
   "cell_type": "code",
   "execution_count": 2,
   "id": "212cab60",
   "metadata": {},
   "outputs": [],
   "source": [
    "testlist = [1,2,32,8,17,19,42,13,0]"
   ]
  },
  {
   "cell_type": "code",
   "execution_count": 3,
   "id": "a44a2958",
   "metadata": {},
   "outputs": [
    {
     "data": {
      "text/plain": [
       "False"
      ]
     },
     "execution_count": 3,
     "metadata": {},
     "output_type": "execute_result"
    }
   ],
   "source": [
    "sequentialSearch(testlist,3)"
   ]
  },
  {
   "cell_type": "code",
   "execution_count": 4,
   "id": "3b476b8f",
   "metadata": {},
   "outputs": [
    {
     "data": {
      "text/plain": [
       "True"
      ]
     },
     "execution_count": 4,
     "metadata": {},
     "output_type": "execute_result"
    }
   ],
   "source": [
    "sequentialSearch(testlist,13)"
   ]
  },
  {
   "cell_type": "markdown",
   "id": "e61b7014",
   "metadata": {},
   "source": [
    "算法复杂度O(n)"
   ]
  },
  {
   "cell_type": "markdown",
   "id": "30e2ffb0",
   "metadata": {},
   "source": [
    "### 2）二分查找"
   ]
  },
  {
   "cell_type": "code",
   "execution_count": 5,
   "id": "50f3b05e",
   "metadata": {},
   "outputs": [],
   "source": [
    "def binarySearch(alist,item):\n",
    "    first = 0\n",
    "    last = len(alist) - 1\n",
    "    found = False\n",
    "    \n",
    "    while first <= last and not found:\n",
    "        midpoint = (first + last)//2\n",
    "        if alist[midpoint] == item:\n",
    "            found = True\n",
    "        else:\n",
    "            if item < alist[midpoint]:\n",
    "                last = midpoint - 1\n",
    "            else:\n",
    "                first = midpoint + 1\n",
    "    return found"
   ]
  },
  {
   "cell_type": "code",
   "execution_count": 6,
   "id": "733257f3",
   "metadata": {},
   "outputs": [],
   "source": [
    "testlist = [0,1,2,8,13,17,19,32,42,]"
   ]
  },
  {
   "cell_type": "code",
   "execution_count": 7,
   "id": "dad1e8c6",
   "metadata": {},
   "outputs": [
    {
     "data": {
      "text/plain": [
       "False"
      ]
     },
     "execution_count": 7,
     "metadata": {},
     "output_type": "execute_result"
    }
   ],
   "source": [
    "binarySearch(testlist,3)"
   ]
  },
  {
   "cell_type": "code",
   "execution_count": 8,
   "id": "82337ef4",
   "metadata": {},
   "outputs": [
    {
     "data": {
      "text/plain": [
       "True"
      ]
     },
     "execution_count": 8,
     "metadata": {},
     "output_type": "execute_result"
    }
   ],
   "source": [
    "binarySearch(testlist,13)"
   ]
  },
  {
   "cell_type": "markdown",
   "id": "991749fb",
   "metadata": {},
   "source": [
    "算法复杂度O(logn)"
   ]
  },
  {
   "cell_type": "markdown",
   "id": "deda3279",
   "metadata": {},
   "source": [
    "## 2.排序"
   ]
  },
  {
   "cell_type": "markdown",
   "id": "2df489e8",
   "metadata": {},
   "source": [
    "### 1）冒泡排序"
   ]
  },
  {
   "cell_type": "code",
   "execution_count": 9,
   "id": "72ff6e2b",
   "metadata": {},
   "outputs": [],
   "source": [
    "def bubbleSort(alist):\n",
    "    for passnum in range(len(alist)-1,0,-1):\n",
    "        for i in range(passnum):\n",
    "            if alist[i] > alist[i+1]:\n",
    "                alist[i],alist[i+1] = alist[i+1],alist[i]\n",
    "                "
   ]
  },
  {
   "cell_type": "code",
   "execution_count": 10,
   "id": "d13ca0c9",
   "metadata": {},
   "outputs": [],
   "source": [
    "alist = [54,26,93,17,77,31,45,44,12]"
   ]
  },
  {
   "cell_type": "code",
   "execution_count": 11,
   "id": "a71a4c2b",
   "metadata": {},
   "outputs": [],
   "source": [
    "bubbleSort(alist)"
   ]
  },
  {
   "cell_type": "code",
   "execution_count": 12,
   "id": "52b392e9",
   "metadata": {},
   "outputs": [
    {
     "name": "stdout",
     "output_type": "stream",
     "text": [
      "[12, 17, 26, 31, 44, 45, 54, 77, 93]\n"
     ]
    }
   ],
   "source": [
    "print(alist)"
   ]
  },
  {
   "cell_type": "markdown",
   "id": "47e09589",
   "metadata": {},
   "source": [
    "* 比对复杂度O(n2）\n",
    "* 交换复杂度O(n2)"
   ]
  },
  {
   "cell_type": "markdown",
   "id": "fc97c563",
   "metadata": {},
   "source": [
    "### 2）选择排序"
   ]
  },
  {
   "cell_type": "code",
   "execution_count": 23,
   "id": "9a918cf0",
   "metadata": {},
   "outputs": [],
   "source": [
    "def shortBubbleSort(alist):\n",
    "    exchanges = True\n",
    "    passnum = len(alist) - 1\n",
    "    while passnum > 0 and exchanges:\n",
    "        exchanges = False\n",
    "        for i in range(passnum):\n",
    "            if alist[i] > alist[i+1]:\n",
    "                exchanges = True\n",
    "                alist[i],alist[i+1] = alist[i+1],alist[i]\n",
    "        passnum = passnum - 1"
   ]
  },
  {
   "cell_type": "code",
   "execution_count": 24,
   "id": "9f150d88",
   "metadata": {},
   "outputs": [],
   "source": [
    "alist = [20,4,35,123,45,354,41]"
   ]
  },
  {
   "cell_type": "code",
   "execution_count": 25,
   "id": "d275e679",
   "metadata": {},
   "outputs": [],
   "source": [
    "shortBubbleSort(alist)"
   ]
  },
  {
   "cell_type": "code",
   "execution_count": 26,
   "id": "c168618c",
   "metadata": {},
   "outputs": [
    {
     "data": {
      "text/plain": [
       "[4, 20, 35, 41, 45, 123, 354]"
      ]
     },
     "execution_count": 26,
     "metadata": {},
     "output_type": "execute_result"
    }
   ],
   "source": [
    "alist"
   ]
  },
  {
   "cell_type": "markdown",
   "id": "4e4bfb55",
   "metadata": {},
   "source": [
    "* 比对复杂度O(n2)\n",
    "* 交换复杂度O(n)"
   ]
  },
  {
   "cell_type": "markdown",
   "id": "d55350c0",
   "metadata": {},
   "source": [
    "### 3）插入排序"
   ]
  },
  {
   "cell_type": "code",
   "execution_count": 27,
   "id": "48832816",
   "metadata": {},
   "outputs": [],
   "source": [
    "def insertionSort(alist):\n",
    "    for index in range(1,len(alist)):\n",
    "        \n",
    "        currentvalue = alist[index]\n",
    "        position = index\n",
    "        \n",
    "        while position > 0 and alist[position-1] > currentvalue:\n",
    "            alist[position] = alist[position-1]\n",
    "            position = position - 1\n",
    "            \n",
    "        alist[position] = currentvalue"
   ]
  },
  {
   "cell_type": "markdown",
   "id": "825a58d6",
   "metadata": {},
   "source": [
    "算法复杂度O(n2)"
   ]
  },
  {
   "cell_type": "markdown",
   "id": "75ed7165",
   "metadata": {},
   "source": [
    "### 4）谢尔排序"
   ]
  },
  {
   "cell_type": "code",
   "execution_count": 28,
   "id": "83c2029a",
   "metadata": {},
   "outputs": [],
   "source": [
    "def shellSort(alist):\n",
    "    sublistCount = len(alist) // 2\n",
    "    while sublistCount > 0:\n",
    "        for startPosition in range(sublistCount):\n",
    "            gapInsertionSort(alist, startPosition, sublistCount)\n",
    "        sublistCount = sublistCount // 2\n",
    "\n",
    "def gapInsertionSort(alist, start, gap):\n",
    "    for i in range(start + gap, len(alist), gap):\n",
    "        currentValue = alist[i]\n",
    "        position = i\n",
    "\n",
    "        while position >= gap and alist[position - gap] > currentValue:\n",
    "            alist[position] = alist[position - gap]\n",
    "            position = position - gap\n",
    "\n",
    "        alist[position] = currentValue\n"
   ]
  },
  {
   "cell_type": "code",
   "execution_count": 29,
   "id": "c28520dc",
   "metadata": {},
   "outputs": [],
   "source": [
    "alist = [54,26,93,17,77,31,44,55,20]"
   ]
  },
  {
   "cell_type": "code",
   "execution_count": 30,
   "id": "9b52759e",
   "metadata": {},
   "outputs": [],
   "source": [
    "shellSort(alist)"
   ]
  },
  {
   "cell_type": "code",
   "execution_count": 32,
   "id": "b1710852",
   "metadata": {},
   "outputs": [
    {
     "data": {
      "text/plain": [
       "[17, 20, 26, 31, 44, 54, 55, 77, 93]"
      ]
     },
     "execution_count": 32,
     "metadata": {},
     "output_type": "execute_result"
    }
   ],
   "source": [
    "alist"
   ]
  },
  {
   "cell_type": "markdown",
   "id": "44832c48",
   "metadata": {},
   "source": [
    "算法复杂度在O(n)和O(n2)之间"
   ]
  },
  {
   "cell_type": "markdown",
   "id": "24ae0be6",
   "metadata": {},
   "source": [
    "### 5）归并排序"
   ]
  },
  {
   "cell_type": "code",
   "execution_count": 33,
   "id": "7d5adbfc",
   "metadata": {},
   "outputs": [],
   "source": [
    "def mergeSort(alist):\n",
    "    if len(alist) > 1:\n",
    "        mid = len(alist) // 2\n",
    "        leftHalf = alist[:mid]\n",
    "        rightHalf = alist[mid:]\n",
    "\n",
    "        mergeSort(leftHalf)\n",
    "        mergeSort(rightHalf)\n",
    "\n",
    "        i = j = k = 0\n",
    "\n",
    "        while i < len(leftHalf) and j < len(rightHalf):\n",
    "            if leftHalf[i] < rightHalf[j]:\n",
    "                alist[k] = leftHalf[i]\n",
    "                i += 1\n",
    "            else:\n",
    "                alist[k] = rightHalf[j]\n",
    "                j += 1\n",
    "            k += 1\n",
    "\n",
    "        while i < len(leftHalf):\n",
    "            alist[k] = leftHalf[i]\n",
    "            i += 1\n",
    "            k += 1\n",
    "\n",
    "        while j < len(rightHalf):\n",
    "            alist[k] = rightHalf[j]\n",
    "            j += 1\n",
    "            k += 1"
   ]
  },
  {
   "cell_type": "code",
   "execution_count": 34,
   "id": "b7377ac0",
   "metadata": {},
   "outputs": [],
   "source": [
    "alist = [54, 26, 93, 17, 77, 31, 44, 55, 20]"
   ]
  },
  {
   "cell_type": "code",
   "execution_count": 35,
   "id": "1fa29ddd",
   "metadata": {},
   "outputs": [],
   "source": [
    "mergeSort(alist)"
   ]
  },
  {
   "cell_type": "code",
   "execution_count": 36,
   "id": "c067174e",
   "metadata": {},
   "outputs": [
    {
     "name": "stdout",
     "output_type": "stream",
     "text": [
      "[17, 20, 26, 31, 44, 54, 55, 77, 93]\n"
     ]
    }
   ],
   "source": [
    "print(alist)"
   ]
  },
  {
   "cell_type": "markdown",
   "id": "3cd8f079",
   "metadata": {},
   "source": [
    "算法复杂度O(nlogn)"
   ]
  },
  {
   "cell_type": "markdown",
   "id": "853e14d7",
   "metadata": {},
   "source": [
    "### 6）快速排序"
   ]
  },
  {
   "cell_type": "code",
   "execution_count": 37,
   "id": "c21795ac",
   "metadata": {},
   "outputs": [],
   "source": [
    "def quickSort(alist):\n",
    "    quickSortHelper(alist, 0, len(alist) - 1)\n",
    "\n",
    "def quickSortHelper(alist, first, last):\n",
    "    if first < last:\n",
    "        splitPoint = partition(alist, first, last)\n",
    "        quickSortHelper(alist, first, splitPoint - 1)\n",
    "        quickSortHelper(alist, splitPoint + 1, last)\n",
    "\n",
    "def partition(alist, first, last):\n",
    "    pivotValue = alist[first]\n",
    "\n",
    "    leftMark = first + 1\n",
    "    rightMark = last\n",
    "\n",
    "    done = False\n",
    "    while not done:\n",
    "        while leftMark <= rightMark and alist[leftMark] <= pivotValue:\n",
    "            leftMark = leftMark + 1\n",
    "\n",
    "        while alist[rightMark] >= pivotValue and rightMark >= leftMark:\n",
    "            rightMark = rightMark - 1\n",
    "\n",
    "        if rightMark < leftMark:\n",
    "            done = True\n",
    "        else:\n",
    "            alist[leftMark], alist[rightMark] = alist[rightMark], alist[leftMark]\n",
    "\n",
    "    alist[first], alist[rightMark] = alist[rightMark], alist[first]\n",
    "\n",
    "    return rightMark\n"
   ]
  },
  {
   "cell_type": "code",
   "execution_count": 38,
   "id": "09a8c6f7",
   "metadata": {},
   "outputs": [],
   "source": [
    "alist = [54, 26, 93, 17, 77, 31, 44, 55, 20]"
   ]
  },
  {
   "cell_type": "code",
   "execution_count": 39,
   "id": "2fec4f8f",
   "metadata": {},
   "outputs": [],
   "source": [
    "quickSort(alist)"
   ]
  },
  {
   "cell_type": "code",
   "execution_count": 40,
   "id": "7f0884a5",
   "metadata": {},
   "outputs": [
    {
     "name": "stdout",
     "output_type": "stream",
     "text": [
      "[17, 20, 26, 31, 44, 54, 55, 77, 93]\n"
     ]
    }
   ],
   "source": [
    "print(alist)"
   ]
  },
  {
   "cell_type": "markdown",
   "id": "6d220f56",
   "metadata": {},
   "source": [
    "算法复杂度O(nlogn)"
   ]
  },
  {
   "cell_type": "markdown",
   "id": "fd7dd536",
   "metadata": {},
   "source": [
    "## 3.散列"
   ]
  },
  {
   "cell_type": "markdown",
   "id": "ba901e58",
   "metadata": {},
   "source": [
    "是一种将数据映射到固定大小值的技术，通常用于快速的数据查找和存储。通过散列函数（Hash Function），将输入数据（如字符串、文件等）转换为一个固定长度的散列值（通常是一个整数），然后使用这个散列值来访问数据存储位置。这种方法使得数据的查找、插入和删除操作变得非常高效"
   ]
  },
  {
   "cell_type": "markdown",
   "id": "a500b62a",
   "metadata": {},
   "source": []
  }
 ],
 "metadata": {
  "kernelspec": {
   "display_name": "Python 3 (ipykernel)",
   "language": "python",
   "name": "python3"
  },
  "language_info": {
   "codemirror_mode": {
    "name": "ipython",
    "version": 3
   },
   "file_extension": ".py",
   "mimetype": "text/x-python",
   "name": "python",
   "nbconvert_exporter": "python",
   "pygments_lexer": "ipython3",
   "version": "3.11.5"
  }
 },
 "nbformat": 4,
 "nbformat_minor": 5
}
