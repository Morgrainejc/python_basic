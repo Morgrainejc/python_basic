{
 "cells": [
  {
   "cell_type": "markdown",
   "id": "4ac7292d",
   "metadata": {},
   "source": [
    "## 7.1 不用正则表达式来查找文本模式"
   ]
  },
  {
   "cell_type": "markdown",
   "id": "1bf9699b",
   "metadata": {},
   "source": [
    "假设电话号码： 3个数字，一个短横线，3个数字，一个短横线，再是 4 个数字。例如：415-555-4242。"
   ]
  },
  {
   "cell_type": "code",
   "execution_count": 5,
   "id": "a2e3e644",
   "metadata": {},
   "outputs": [],
   "source": [
    "def isPhoneNumber(text):\n",
    "    if len(text) != 12:\n",
    "        return False\n",
    "    for i in range(0,3):\n",
    "        if not text[i].isdecimal():\n",
    "            return False\n",
    "    if text[3] != '-':\n",
    "        return False\n",
    "    for i in range(4,7):\n",
    "        if not text[i].isdecimal():\n",
    "            return False\n",
    "    if text[7] != '-':\n",
    "        return False\n",
    "    for i in range(8,12):\n",
    "        if not text[i].isdecimal():\n",
    "            return False\n",
    "    return True"
   ]
  },
  {
   "cell_type": "code",
   "execution_count": 7,
   "id": "eb7bb47b",
   "metadata": {},
   "outputs": [
    {
     "data": {
      "text/plain": [
       "True"
      ]
     },
     "execution_count": 7,
     "metadata": {},
     "output_type": "execute_result"
    }
   ],
   "source": [
    "isPhoneNumber('415-555-4242')"
   ]
  },
  {
   "cell_type": "markdown",
   "id": "976ededf",
   "metadata": {},
   "source": [
    "## 7.2 用正则表达式查找文本模式"
   ]
  },
  {
   "cell_type": "markdown",
   "id": "1cc472d5",
   "metadata": {},
   "source": [
    "* \\d\\d\\d-\\d\\d\\d-\\d\\d\\d\\d\n",
    "* \\d{3}-\\d{3}-\\d{4}"
   ]
  },
  {
   "cell_type": "markdown",
   "id": "a2d2a7de",
   "metadata": {},
   "source": [
    "### 7.2.1 创建正则表达式对象"
   ]
  },
  {
   "cell_type": "code",
   "execution_count": 1,
   "id": "b2cb76c0",
   "metadata": {},
   "outputs": [],
   "source": [
    "import re"
   ]
  },
  {
   "cell_type": "code",
   "execution_count": 9,
   "id": "e4ea64e8",
   "metadata": {},
   "outputs": [],
   "source": [
    "phoneNumRegex = re.compile(r'\\d\\d\\d-\\d\\d\\d-\\d\\d\\d\\d')"
   ]
  },
  {
   "cell_type": "markdown",
   "id": "2bb87529",
   "metadata": {},
   "source": [
    "### 7.2.2 匹配Regex对象"
   ]
  },
  {
   "cell_type": "code",
   "execution_count": 10,
   "id": "c278d08c",
   "metadata": {},
   "outputs": [
    {
     "name": "stdout",
     "output_type": "stream",
     "text": [
      "Phone number found: 415-555-4242\n"
     ]
    }
   ],
   "source": [
    "phoneNumRegex = re.compile(r'\\d\\d\\d-\\d\\d\\d-\\d\\d\\d\\d')\n",
    "mo = phoneNumRegex.search('My nunber is 415-555-4242')\n",
    "print('Phone number found: ' + mo.group())"
   ]
  },
  {
   "cell_type": "markdown",
   "id": "d1d25ae3",
   "metadata": {},
   "source": [
    "search返回一个Match对象，它有一个group()方法，返回实际文本"
   ]
  },
  {
   "cell_type": "code",
   "execution_count": 11,
   "id": "dd7341d4",
   "metadata": {},
   "outputs": [
    {
     "data": {
      "text/plain": [
       "<re.Match object; span=(13, 25), match='415-555-4242'>"
      ]
     },
     "execution_count": 11,
     "metadata": {},
     "output_type": "execute_result"
    }
   ],
   "source": [
    "mo"
   ]
  },
  {
   "cell_type": "markdown",
   "id": "7d408b17",
   "metadata": {},
   "source": [
    "### 7.2.3 正则表达式匹配复习"
   ]
  },
  {
   "cell_type": "markdown",
   "id": "6e7d1e75",
   "metadata": {},
   "source": [
    "有以下几个步骤：\n",
    "* 用import re导入正则表达式模块\n",
    "* 用re.compile()函数创建一个Regex对象，记得使用原始字符串（第一个引号前加上r)\n",
    "* 向Regex对象的search()方法传入想查找的字符串，返回一个Match对象\n",
    "* 调用Match对象的group()方法，返回实际匹配文本的字符串"
   ]
  },
  {
   "cell_type": "code",
   "execution_count": 20,
   "id": "74718f0f",
   "metadata": {},
   "outputs": [
    {
     "name": "stdout",
     "output_type": "stream",
     "text": [
      "\\n\n"
     ]
    }
   ],
   "source": [
    "print(r'\\n')"
   ]
  },
  {
   "cell_type": "code",
   "execution_count": 21,
   "id": "f8827d32",
   "metadata": {},
   "outputs": [
    {
     "name": "stdout",
     "output_type": "stream",
     "text": [
      "\\n\n"
     ]
    }
   ],
   "source": [
    "print('\\\\n')"
   ]
  },
  {
   "cell_type": "markdown",
   "id": "f0c10647",
   "metadata": {},
   "source": [
    "## 7.3 用正则表达式匹配更多模式"
   ]
  },
  {
   "cell_type": "markdown",
   "id": "885f0655",
   "metadata": {},
   "source": [
    "### 7.3.1 利用括号分组"
   ]
  },
  {
   "cell_type": "code",
   "execution_count": 218,
   "id": "96eda362",
   "metadata": {},
   "outputs": [
    {
     "data": {
      "text/plain": [
       "'415'"
      ]
     },
     "execution_count": 218,
     "metadata": {},
     "output_type": "execute_result"
    }
   ],
   "source": [
    "phoneNumRegex = re.compile(r'(\\d\\d\\d)-(\\d\\d\\d-\\d\\d\\d\\d)')\n",
    "mo = phoneNumRegex.search('My number is 415-555-4242.')\n",
    "mo.group(1)"
   ]
  },
  {
   "cell_type": "code",
   "execution_count": 24,
   "id": "cb15ed5e",
   "metadata": {},
   "outputs": [
    {
     "data": {
      "text/plain": [
       "'555-4242'"
      ]
     },
     "execution_count": 24,
     "metadata": {},
     "output_type": "execute_result"
    }
   ],
   "source": [
    "mo.group(2)"
   ]
  },
  {
   "cell_type": "code",
   "execution_count": 25,
   "id": "2376279c",
   "metadata": {},
   "outputs": [
    {
     "data": {
      "text/plain": [
       "'415-555-4242'"
      ]
     },
     "execution_count": 25,
     "metadata": {},
     "output_type": "execute_result"
    }
   ],
   "source": [
    "mo.group(0)"
   ]
  },
  {
   "cell_type": "code",
   "execution_count": 26,
   "id": "b4271403",
   "metadata": {},
   "outputs": [
    {
     "data": {
      "text/plain": [
       "'415-555-4242'"
      ]
     },
     "execution_count": 26,
     "metadata": {},
     "output_type": "execute_result"
    }
   ],
   "source": [
    "mo.group()"
   ]
  },
  {
   "cell_type": "markdown",
   "id": "3cb57b2c",
   "metadata": {},
   "source": [
    "想要一次获取所有分组，用groups()方法"
   ]
  },
  {
   "cell_type": "code",
   "execution_count": 27,
   "id": "5090cdf7",
   "metadata": {},
   "outputs": [
    {
     "data": {
      "text/plain": [
       "('415', '555-4242')"
      ]
     },
     "execution_count": 27,
     "metadata": {},
     "output_type": "execute_result"
    }
   ],
   "source": [
    "mo.groups()"
   ]
  },
  {
   "cell_type": "code",
   "execution_count": 28,
   "id": "ebc5e095",
   "metadata": {},
   "outputs": [],
   "source": [
    "areaCode,mainNumber = mo.groups()"
   ]
  },
  {
   "cell_type": "code",
   "execution_count": 29,
   "id": "ed155ec3",
   "metadata": {},
   "outputs": [
    {
     "name": "stdout",
     "output_type": "stream",
     "text": [
      "415\n"
     ]
    }
   ],
   "source": [
    "print(areaCode)"
   ]
  },
  {
   "cell_type": "code",
   "execution_count": 30,
   "id": "3a0ae5bc",
   "metadata": {},
   "outputs": [
    {
     "name": "stdout",
     "output_type": "stream",
     "text": [
      "555-4242\n"
     ]
    }
   ],
   "source": [
    "print(mainNumber)"
   ]
  },
  {
   "cell_type": "markdown",
   "id": "cda843da",
   "metadata": {},
   "source": [
    "括号在正则表达式中有特殊的含义，如果需要在文本中匹配括号，就要用倒斜杠进行转义"
   ]
  },
  {
   "cell_type": "code",
   "execution_count": 31,
   "id": "02686a3f",
   "metadata": {},
   "outputs": [
    {
     "data": {
      "text/plain": [
       "'(415)'"
      ]
     },
     "execution_count": 31,
     "metadata": {},
     "output_type": "execute_result"
    }
   ],
   "source": [
    "phoneNumRegex = re.compile(r'(\\(\\d\\d\\d\\))(\\d\\d\\d-\\d\\d\\d\\d)')\n",
    "mo = phoneNumRegex.search('My phone number is (415)555-4242/')\n",
    "mo.group(1)"
   ]
  },
  {
   "cell_type": "code",
   "execution_count": 33,
   "id": "35941de3",
   "metadata": {},
   "outputs": [
    {
     "data": {
      "text/plain": [
       "'555-4242'"
      ]
     },
     "execution_count": 33,
     "metadata": {},
     "output_type": "execute_result"
    }
   ],
   "source": [
    "mo.group(2)"
   ]
  },
  {
   "cell_type": "markdown",
   "id": "e3c2dcdf",
   "metadata": {},
   "source": [
    "### 7.3.2 用管道匹配多个分组"
   ]
  },
  {
   "cell_type": "markdown",
   "id": "ae90fd12",
   "metadata": {},
   "source": [
    "字符|被称为管道，希望匹配许多表达式中的一个时，就可以使用它"
   ]
  },
  {
   "cell_type": "code",
   "execution_count": 22,
   "id": "a7c8ce3b",
   "metadata": {},
   "outputs": [
    {
     "data": {
      "text/plain": [
       "'Batman'"
      ]
     },
     "execution_count": 22,
     "metadata": {},
     "output_type": "execute_result"
    }
   ],
   "source": [
    "heroRegex = re.compile(r'Batman|Tina Fey')\n",
    "mo1 = heroRegex.search('Batman and Tina Fey.')\n",
    "mo1.group()"
   ]
  },
  {
   "cell_type": "code",
   "execution_count": null,
   "id": "ffef5cae",
   "metadata": {},
   "outputs": [],
   "source": [
    "mo2 = heroRegex.search('Tina Fey and Batman')\n",
    "mo2.group()"
   ]
  },
  {
   "cell_type": "markdown",
   "id": "71e98a80",
   "metadata": {},
   "source": [
    "也可以用管道匹配多个模式中的一个"
   ]
  },
  {
   "cell_type": "code",
   "execution_count": 39,
   "id": "c8a8c314",
   "metadata": {},
   "outputs": [
    {
     "data": {
      "text/plain": [
       "'Batmobile'"
      ]
     },
     "execution_count": 39,
     "metadata": {},
     "output_type": "execute_result"
    }
   ],
   "source": [
    "batRegex = re.compile(r'Bat(man|mobile|copter|bat)')\n",
    "mo = batRegex.search('Batmobile lost a wheel')\n",
    "mo.group()"
   ]
  },
  {
   "cell_type": "code",
   "execution_count": 40,
   "id": "586f3000",
   "metadata": {},
   "outputs": [
    {
     "data": {
      "text/plain": [
       "'mobile'"
      ]
     },
     "execution_count": 40,
     "metadata": {},
     "output_type": "execute_result"
    }
   ],
   "source": [
    "mo.group(1)"
   ]
  },
  {
   "cell_type": "markdown",
   "id": "efa5babb",
   "metadata": {},
   "source": [
    "如果需要匹配真正的管道字符，需要用倒斜杠"
   ]
  },
  {
   "cell_type": "markdown",
   "id": "f63dd718",
   "metadata": {},
   "source": [
    "### 7.3.3 用问号实现可选匹配,匹配零次或一次"
   ]
  },
  {
   "cell_type": "code",
   "execution_count": null,
   "id": "d4f36e1b",
   "metadata": {},
   "outputs": [],
   "source": [
    "batRegex = re.compile(r'Bat(wo)?man')\n",
    "mo1 = batRegex.search('The Adventures of Batman')\n",
    "mo1.group()"
   ]
  },
  {
   "cell_type": "markdown",
   "id": "5f650c49",
   "metadata": {},
   "source": [
    "(wo)?是可选的"
   ]
  },
  {
   "cell_type": "code",
   "execution_count": 4,
   "id": "473ce02a",
   "metadata": {},
   "outputs": [
    {
     "data": {
      "text/plain": [
       "'415-555-4242'"
      ]
     },
     "execution_count": 4,
     "metadata": {},
     "output_type": "execute_result"
    }
   ],
   "source": [
    "phoneRegex = re.compile(r'(\\d\\d\\d-)?\\d\\d\\d-\\d\\d\\d\\d')\n",
    "mo1 = phoneRegex.search('My number is 415-555-4242')\n",
    "mo1.group()"
   ]
  },
  {
   "cell_type": "code",
   "execution_count": 5,
   "id": "3ca8da26",
   "metadata": {},
   "outputs": [
    {
     "data": {
      "text/plain": [
       "'555-4242'"
      ]
     },
     "execution_count": 5,
     "metadata": {},
     "output_type": "execute_result"
    }
   ],
   "source": [
    "mo2 = phoneRegex.search('My number is 555-4242')\n",
    "mo2.group()"
   ]
  },
  {
   "cell_type": "markdown",
   "id": "6790135e",
   "metadata": {},
   "source": [
    "### 7.3.4 用星号匹配零次或多次"
   ]
  },
  {
   "cell_type": "code",
   "execution_count": 15,
   "id": "0e8a34f4",
   "metadata": {},
   "outputs": [
    {
     "data": {
      "text/plain": [
       "'Batman'"
      ]
     },
     "execution_count": 15,
     "metadata": {},
     "output_type": "execute_result"
    }
   ],
   "source": [
    "batRegex = re.compile(r'Bat(wo)*man')\n",
    "mo1 = batRegex.search('The Adventures of Batman')\n",
    "mo1.group()"
   ]
  },
  {
   "cell_type": "code",
   "execution_count": 7,
   "id": "04a4f019",
   "metadata": {},
   "outputs": [
    {
     "data": {
      "text/plain": [
       "'Batwoman'"
      ]
     },
     "execution_count": 7,
     "metadata": {},
     "output_type": "execute_result"
    }
   ],
   "source": [
    "mo2 = batRegex.search('The Adventures of Batwoman')\n",
    "mo2.group()"
   ]
  },
  {
   "cell_type": "code",
   "execution_count": 12,
   "id": "b6a48340",
   "metadata": {},
   "outputs": [
    {
     "data": {
      "text/plain": [
       "'Batwowowowowoman'"
      ]
     },
     "execution_count": 12,
     "metadata": {},
     "output_type": "execute_result"
    }
   ],
   "source": [
    "mo3 = batRegex.search('The Adventures of Batwowowowowoman')\n",
    "mo3.group()"
   ]
  },
  {
   "cell_type": "markdown",
   "id": "be6d7f94",
   "metadata": {},
   "source": [
    "### 7.3.5 用加号匹配一次或多次"
   ]
  },
  {
   "cell_type": "code",
   "execution_count": 10,
   "id": "2f26003e",
   "metadata": {},
   "outputs": [
    {
     "data": {
      "text/plain": [
       "'Batwoman'"
      ]
     },
     "execution_count": 10,
     "metadata": {},
     "output_type": "execute_result"
    }
   ],
   "source": [
    "batRegex = re.compile(r'Bat(wo)+man')\n",
    "mo1 = batRegex.search('The Adventures of Batwoman')\n",
    "mo1.group()"
   ]
  },
  {
   "cell_type": "code",
   "execution_count": 11,
   "id": "9980484b",
   "metadata": {},
   "outputs": [
    {
     "data": {
      "text/plain": [
       "'Batwoman'"
      ]
     },
     "execution_count": 11,
     "metadata": {},
     "output_type": "execute_result"
    }
   ],
   "source": [
    "mo2 = batRegex.search('The Adventures of Batwoman')\n",
    "mo2.group()"
   ]
  },
  {
   "cell_type": "code",
   "execution_count": 12,
   "id": "eeebca62",
   "metadata": {},
   "outputs": [
    {
     "data": {
      "text/plain": [
       "True"
      ]
     },
     "execution_count": 12,
     "metadata": {},
     "output_type": "execute_result"
    }
   ],
   "source": [
    "mo3 = batRegex.search('The Adventures of Batman')\n",
    "mo3 == None"
   ]
  },
  {
   "cell_type": "markdown",
   "id": "83c48f1c",
   "metadata": {},
   "source": [
    "### 7.3.6 用花括号匹配特定次数"
   ]
  },
  {
   "cell_type": "code",
   "execution_count": 13,
   "id": "09fe8ad6",
   "metadata": {},
   "outputs": [
    {
     "data": {
      "text/plain": [
       "'HaHaHa'"
      ]
     },
     "execution_count": 13,
     "metadata": {},
     "output_type": "execute_result"
    }
   ],
   "source": [
    "haRegex = re.compile(r'(Ha){3}')\n",
    "mo1 = haRegex.search('HaHaHa')\n",
    "mo1.group()"
   ]
  },
  {
   "cell_type": "code",
   "execution_count": 16,
   "id": "d6bc9a6a",
   "metadata": {},
   "outputs": [
    {
     "data": {
      "text/plain": [
       "True"
      ]
     },
     "execution_count": 16,
     "metadata": {},
     "output_type": "execute_result"
    }
   ],
   "source": [
    "mo2 = haRegex.search('Ha')\n",
    "mo2 == None"
   ]
  },
  {
   "cell_type": "markdown",
   "id": "af1e31f3",
   "metadata": {},
   "source": [
    "## 7.4 贪心和非贪心匹配"
   ]
  },
  {
   "cell_type": "markdown",
   "id": "b6ae740f",
   "metadata": {},
   "source": [
    "python的正则表达式默认是贪心的，在有二义的情况下，尽可能匹配最长的字符串。加一个问号就是非贪心版本。"
   ]
  },
  {
   "cell_type": "code",
   "execution_count": 27,
   "id": "5fb5e8c9",
   "metadata": {},
   "outputs": [
    {
     "data": {
      "text/plain": [
       "'HaHaHaHaHa'"
      ]
     },
     "execution_count": 27,
     "metadata": {},
     "output_type": "execute_result"
    }
   ],
   "source": [
    "greedyHaRegex = re.compile(r'(Ha){3,5}')\n",
    "mo1 = greedyHaRegex.search('HaHaHaHaHaHa')\n",
    "mo1.group()"
   ]
  },
  {
   "cell_type": "code",
   "execution_count": 26,
   "id": "a4302064",
   "metadata": {},
   "outputs": [
    {
     "data": {
      "text/plain": [
       "'HaHaHa'"
      ]
     },
     "execution_count": 26,
     "metadata": {},
     "output_type": "execute_result"
    }
   ],
   "source": [
    "nongreedyHaRegex = re.compile(r'(Ha){3,5}?')\n",
    "mo1 = nongreedyHaRegex.search('HaHaHaHaHaHa')\n",
    "mo1.group()"
   ]
  },
  {
   "cell_type": "markdown",
   "id": "22a9ef02",
   "metadata": {},
   "source": [
    "## 7.5 findall()方法"
   ]
  },
  {
   "cell_type": "markdown",
   "id": "960a1ae2",
   "metadata": {},
   "source": [
    "search()返回一个match对象，包含被查找字符串第一次匹配的文本，而findall()返回一组字符串，包含所有匹配。"
   ]
  },
  {
   "cell_type": "code",
   "execution_count": 28,
   "id": "1a6d22e9",
   "metadata": {},
   "outputs": [
    {
     "data": {
      "text/plain": [
       "'415-555-9999'"
      ]
     },
     "execution_count": 28,
     "metadata": {},
     "output_type": "execute_result"
    }
   ],
   "source": [
    "phoneNumRegex = re.compile(r'\\d\\d\\d-\\d\\d\\d-\\d\\d\\d\\d')\n",
    "mo = phoneNumRegex.search('cell:415-555-9999 work:212-555-0000')\n",
    "mo.group()"
   ]
  },
  {
   "cell_type": "code",
   "execution_count": 30,
   "id": "6a0d79fc",
   "metadata": {},
   "outputs": [
    {
     "data": {
      "text/plain": [
       "[('415', '555', '9999'), ('212', '555', '0000')]"
      ]
     },
     "execution_count": 30,
     "metadata": {},
     "output_type": "execute_result"
    }
   ],
   "source": [
    "phoneNumRegex = re.compile(r'(\\d\\d\\d)-(\\d\\d\\d)-(\\d\\d\\d\\d)')\n",
    "phoneNumRegex.findall('cell:415-555-9999 work:212-555-0000')"
   ]
  },
  {
   "cell_type": "markdown",
   "id": "3342d373",
   "metadata": {},
   "source": [
    "## 7.6 字符分类"
   ]
  },
  {
   "cell_type": "code",
   "execution_count": 32,
   "id": "2467fcab",
   "metadata": {},
   "outputs": [
    {
     "data": {
      "text/plain": [
       "['12 drummers', '11 pipers', '10 lorders', '10 ladies', '8 maids']"
      ]
     },
     "execution_count": 32,
     "metadata": {},
     "output_type": "execute_result"
    }
   ],
   "source": [
    "xmasRegex = re.compile(r'\\d+\\s\\w+')\n",
    "xmasRegex.findall('12 drummers,11 pipers,10 lorders,10 ladies,8 maids')"
   ]
  },
  {
   "cell_type": "markdown",
   "id": "aef595b0",
   "metadata": {},
   "source": [
    "## 7.7 建立自己的字符分类"
   ]
  },
  {
   "cell_type": "code",
   "execution_count": 33,
   "id": "836fa781",
   "metadata": {},
   "outputs": [
    {
     "data": {
      "text/plain": [
       "['o', 'o', 'o', 'e', 'a', 'a', 'o', 'o', 'A', 'O', 'O']"
      ]
     },
     "execution_count": 33,
     "metadata": {},
     "output_type": "execute_result"
    }
   ],
   "source": [
    "vowelRegex = re.compile(r'[aeiouAEIOU]')\n",
    "vowelRegex.findall('RoboCop eat baby food.BABY FOOD.')"
   ]
  },
  {
   "cell_type": "markdown",
   "id": "03d4efa5",
   "metadata": {},
   "source": [
    "也可以用短横表示字母或数字的范围，例如[a-zA-Z0-0]将匹配所有小写字母、大写字母和数字"
   ]
  },
  {
   "cell_type": "markdown",
   "id": "447db72b",
   "metadata": {},
   "source": [
    "在方括号内，正则表达式不会被解释，所以不需要倒斜杠转义"
   ]
  },
  {
   "cell_type": "markdown",
   "id": "198a0af2",
   "metadata": {},
   "source": [
    "**^匹配所有不在这个字符类中的字符**"
   ]
  },
  {
   "cell_type": "code",
   "execution_count": 35,
   "id": "bf7e309a",
   "metadata": {},
   "outputs": [
    {
     "data": {
      "text/plain": [
       "['R',\n",
       " 'b',\n",
       " 'C',\n",
       " 'p',\n",
       " ' ',\n",
       " 't',\n",
       " ' ',\n",
       " 'b',\n",
       " 'b',\n",
       " 'y',\n",
       " ' ',\n",
       " 'f',\n",
       " 'd',\n",
       " '.',\n",
       " 'B',\n",
       " 'B',\n",
       " 'Y',\n",
       " ' ',\n",
       " 'F',\n",
       " 'D',\n",
       " '.']"
      ]
     },
     "execution_count": 35,
     "metadata": {},
     "output_type": "execute_result"
    }
   ],
   "source": [
    "consonantRegex = re.compile(r'[^aeiouAEIOU]')\n",
    "consonantRegex.findall('RoboCop eat baby food.BABY FOOD.')"
   ]
  },
  {
   "cell_type": "markdown",
   "id": "17c48306",
   "metadata": {},
   "source": [
    "## 7.8 插入字符和美元字符"
   ]
  },
  {
   "cell_type": "markdown",
   "id": "c401ff19",
   "metadata": {},
   "source": [
    "* 正则表达式开始插入^，表示匹配必须发生在文本开始出\n",
    "* 正则表达式末尾插入美元符号,表示字符串必须以这个正则表达式的模式结束\n",
    "* 可以同时用^和美元符号,表示整个字符串必须匹配该模式"
   ]
  },
  {
   "cell_type": "code",
   "execution_count": 38,
   "id": "b60f4a86",
   "metadata": {},
   "outputs": [
    {
     "data": {
      "text/plain": [
       "True"
      ]
     },
     "execution_count": 38,
     "metadata": {},
     "output_type": "execute_result"
    }
   ],
   "source": [
    "beginWithHello = re.compile(r'^Hello')\n",
    "beginWithHello.search('Hello world.')\n",
    "beginWithHello.search('He said hello.') == None"
   ]
  },
  {
   "cell_type": "code",
   "execution_count": 40,
   "id": "fd764dda",
   "metadata": {},
   "outputs": [
    {
     "data": {
      "text/plain": [
       "True"
      ]
     },
     "execution_count": 40,
     "metadata": {},
     "output_type": "execute_result"
    }
   ],
   "source": [
    "endWithNumber = re.compile(r'\\d$')\n",
    "endWithNumber.search('Your number is 42')\n",
    "endWithNumber.search('Your number is forty two') == None"
   ]
  },
  {
   "cell_type": "code",
   "execution_count": 52,
   "id": "68f9ed6e",
   "metadata": {},
   "outputs": [
    {
     "data": {
      "text/plain": [
       "<re.Match object; span=(0, 8), match='12345678'>"
      ]
     },
     "execution_count": 52,
     "metadata": {},
     "output_type": "execute_result"
    }
   ],
   "source": [
    "wholeStringIsNum = re.compile(r'^\\d+$')\n",
    "wholeStringIsNum.search('12345678')"
   ]
  },
  {
   "cell_type": "code",
   "execution_count": 53,
   "id": "6741bd8e",
   "metadata": {},
   "outputs": [
    {
     "data": {
      "text/plain": [
       "True"
      ]
     },
     "execution_count": 53,
     "metadata": {},
     "output_type": "execute_result"
    }
   ],
   "source": [
    "wholeStringIsNum.search('1234xdf124') == None"
   ]
  },
  {
   "cell_type": "code",
   "execution_count": 54,
   "id": "ee30ee34",
   "metadata": {},
   "outputs": [
    {
     "data": {
      "text/plain": [
       "True"
      ]
     },
     "execution_count": 54,
     "metadata": {},
     "output_type": "execute_result"
    }
   ],
   "source": [
    "wholeStringIsNum.search('1234  124') == None"
   ]
  },
  {
   "cell_type": "markdown",
   "id": "dc390d69",
   "metadata": {},
   "source": [
    "## 7.9 通配字符"
   ]
  },
  {
   "cell_type": "markdown",
   "id": "d183a4fe",
   "metadata": {},
   "source": [
    ".(句点)被称为通配符，匹配除了换行之外的所有字符。要匹配真正的句点，用到斜杠转义。"
   ]
  },
  {
   "cell_type": "code",
   "execution_count": 77,
   "id": "5a2a9ace",
   "metadata": {},
   "outputs": [
    {
     "data": {
      "text/plain": [
       "['cat', 'hat', 'sat', 'lat', 'mat', ' at']"
      ]
     },
     "execution_count": 77,
     "metadata": {},
     "output_type": "execute_result"
    }
   ],
   "source": [
    "atRegex = re.compile(r'.at')\n",
    "atRegex.findall('The cat in the hat sat on the flat smat at')"
   ]
  },
  {
   "cell_type": "markdown",
   "id": "e7a89643",
   "metadata": {},
   "source": [
    "### 7.9.1 用点-星匹配所有字符"
   ]
  },
  {
   "cell_type": "markdown",
   "id": "1764136f",
   "metadata": {},
   "source": [
    "(.*)表示任意文本"
   ]
  },
  {
   "cell_type": "code",
   "execution_count": 75,
   "id": "925fe382",
   "metadata": {},
   "outputs": [],
   "source": [
    "nameRegex = re.compile(r'First Name:(.*) Last Name:(.*)')\n",
    "mo = nameRegex.search('First Name:Al Last Name:Sweigart')"
   ]
  },
  {
   "cell_type": "code",
   "execution_count": 76,
   "id": "668a592a",
   "metadata": {},
   "outputs": [
    {
     "data": {
      "text/plain": [
       "'First Name:Al Last Name:Sweigart'"
      ]
     },
     "execution_count": 76,
     "metadata": {},
     "output_type": "execute_result"
    }
   ],
   "source": [
    "mo.group(0)"
   ]
  },
  {
   "cell_type": "code",
   "execution_count": 72,
   "id": "6784dc92",
   "metadata": {},
   "outputs": [
    {
     "data": {
      "text/plain": [
       "'Al'"
      ]
     },
     "execution_count": 72,
     "metadata": {},
     "output_type": "execute_result"
    }
   ],
   "source": [
    "mo.group(1)"
   ]
  },
  {
   "cell_type": "code",
   "execution_count": 64,
   "id": "43ce4e62",
   "metadata": {},
   "outputs": [
    {
     "data": {
      "text/plain": [
       "'Sweigart'"
      ]
     },
     "execution_count": 64,
     "metadata": {},
     "output_type": "execute_result"
    }
   ],
   "source": [
    "mo.group(2)"
   ]
  },
  {
   "cell_type": "code",
   "execution_count": 77,
   "id": "61d7cf70",
   "metadata": {},
   "outputs": [],
   "source": [
    "x = 'First Name:Al Last Name:Sweigart'"
   ]
  },
  {
   "cell_type": "code",
   "execution_count": 78,
   "id": "bf355b5c",
   "metadata": {},
   "outputs": [
    {
     "data": {
      "text/plain": [
       "[('Al', 'Sweigart')]"
      ]
     },
     "execution_count": 78,
     "metadata": {},
     "output_type": "execute_result"
    }
   ],
   "source": [
    "nameRegex.findall(x)"
   ]
  },
  {
   "cell_type": "markdown",
   "id": "156f2b39",
   "metadata": {},
   "source": [
    "### 7.9.2 用句点字符匹配换行"
   ]
  },
  {
   "cell_type": "markdown",
   "id": "fcfeb06f",
   "metadata": {},
   "source": [
    "(.\\*)将匹配除换行外所有的字符。  \n",
    "传入re.DOTALL作为参数，可以让句点字符匹配所有字符，包括换行字符"
   ]
  },
  {
   "cell_type": "code",
   "execution_count": 73,
   "id": "2cda1b7f",
   "metadata": {},
   "outputs": [
    {
     "data": {
      "text/plain": [
       "'Serve the public trust.'"
      ]
     },
     "execution_count": 73,
     "metadata": {},
     "output_type": "execute_result"
    }
   ],
   "source": [
    "noNewlineRegex = re.compile('.*')\n",
    "noNewlineRegex.search('Serve the public trust.\\nProtect the innocent.\\nUphold the law.' ).group()"
   ]
  },
  {
   "cell_type": "code",
   "execution_count": 76,
   "id": "afb011a6",
   "metadata": {},
   "outputs": [
    {
     "data": {
      "text/plain": [
       "'Serve the public trust.\\nProtect the innocent.\\nUphold the law.'"
      ]
     },
     "execution_count": 76,
     "metadata": {},
     "output_type": "execute_result"
    }
   ],
   "source": [
    "noNewlineRegex = re.compile('.*',re.DOTALL)\n",
    "noNewlineRegex.search('Serve the public trust.\\nProtect the innocent.\\nUphold the law.' ).group()"
   ]
  },
  {
   "cell_type": "markdown",
   "id": "d36d63f4",
   "metadata": {},
   "source": [
    "## 7.10 复习"
   ]
  },
  {
   "cell_type": "markdown",
   "id": "85bb57b1",
   "metadata": {},
   "source": [
    "## 7.11 不区分大小写的匹配"
   ]
  },
  {
   "cell_type": "code",
   "execution_count": 3,
   "id": "942caaf4",
   "metadata": {},
   "outputs": [
    {
     "data": {
      "text/plain": [
       "'RoboCop'"
      ]
     },
     "execution_count": 3,
     "metadata": {},
     "output_type": "execute_result"
    }
   ],
   "source": [
    "robocop = re.compile(r'robocop',re.I)\n",
    "robocop.search('RoboCop is partman.part machine,all cop.').group()"
   ]
  },
  {
   "cell_type": "code",
   "execution_count": 5,
   "id": "29de8f36",
   "metadata": {},
   "outputs": [
    {
     "data": {
      "text/plain": [
       "'ROBOCOP'"
      ]
     },
     "execution_count": 5,
     "metadata": {},
     "output_type": "execute_result"
    }
   ],
   "source": [
    "robocop.search('ROBOCOP protects the innocent.').group()"
   ]
  },
  {
   "cell_type": "markdown",
   "id": "aca6964e",
   "metadata": {},
   "source": [
    "## 7.12 用sub()方法替换字符串"
   ]
  },
  {
   "cell_type": "code",
   "execution_count": 194,
   "id": "46cdab20",
   "metadata": {},
   "outputs": [],
   "source": [
    "namesRegex = re.compile(r'Agent \\w+')"
   ]
  },
  {
   "cell_type": "code",
   "execution_count": 195,
   "id": "b14984c2",
   "metadata": {},
   "outputs": [
    {
     "data": {
      "text/plain": [
       "'Agent Alice'"
      ]
     },
     "execution_count": 195,
     "metadata": {},
     "output_type": "execute_result"
    }
   ],
   "source": [
    "namesRegex.search('Agent Alice gave the secret documents to Agent Bob.').group()"
   ]
  },
  {
   "cell_type": "code",
   "execution_count": 196,
   "id": "34b77605",
   "metadata": {},
   "outputs": [
    {
     "data": {
      "text/plain": [
       "['Agent Alice', 'Agent Bob']"
      ]
     },
     "execution_count": 196,
     "metadata": {},
     "output_type": "execute_result"
    }
   ],
   "source": [
    "namesRegex.findall('Agent Alice gave the secret documents to Agent Bob.')"
   ]
  },
  {
   "cell_type": "code",
   "execution_count": 197,
   "id": "2eccf072",
   "metadata": {},
   "outputs": [
    {
     "data": {
      "text/plain": [
       "'CENSORED gave the secret documents to CENSORED.'"
      ]
     },
     "execution_count": 197,
     "metadata": {},
     "output_type": "execute_result"
    }
   ],
   "source": [
    "namesRegex.sub('CENSORED','Agent Alice gave the secret documents to Agent Bob.')"
   ]
  },
  {
   "cell_type": "markdown",
   "id": "dfa9b824",
   "metadata": {},
   "source": [
    "有时候需要使用匹配的文本本身，作为替换的一部分，输入\\1、\\2、\\3表示替换分组1、2、3的文本.  \\1相当于group(1)"
   ]
  },
  {
   "cell_type": "code",
   "execution_count": 217,
   "id": "290d53d5",
   "metadata": {},
   "outputs": [
    {
     "data": {
      "text/plain": [
       "'A****ice tode C****rol that E****e knew B****b was a double agent'"
      ]
     },
     "execution_count": 217,
     "metadata": {},
     "output_type": "execute_result"
    }
   ],
   "source": [
    "agentNamesRegex = re.compile(r'Agent (\\w)\\w')\n",
    "agentNamesRegex.sub(r'\\1****','Agent Alice tode Agent Carol that Agent Eve knew Agent Bob was a double agent')"
   ]
  },
  {
   "cell_type": "code",
   "execution_count": 33,
   "id": "80335fea",
   "metadata": {},
   "outputs": [],
   "source": [
    "nameRegex = re.compile(r'First Name:(.*) Last Name:(.*)')\n",
    "mo = nameRegex.search('First Name:Al Last Name:Sweigart')"
   ]
  },
  {
   "cell_type": "code",
   "execution_count": 34,
   "id": "464adcbd",
   "metadata": {},
   "outputs": [
    {
     "data": {
      "text/plain": [
       "'Al'"
      ]
     },
     "execution_count": 34,
     "metadata": {},
     "output_type": "execute_result"
    }
   ],
   "source": [
    "mo.group(1)"
   ]
  },
  {
   "cell_type": "code",
   "execution_count": 35,
   "id": "c2309c04",
   "metadata": {},
   "outputs": [
    {
     "data": {
      "text/plain": [
       "'Al* Sweigart*'"
      ]
     },
     "execution_count": 35,
     "metadata": {},
     "output_type": "execute_result"
    }
   ],
   "source": [
    "nameRegex.sub(r'\\1* \\2*','First Name:Al Last Name:Sweigart')"
   ]
  },
  {
   "cell_type": "markdown",
   "id": "4dc5cfb3",
   "metadata": {},
   "source": [
    "## 7.13 管理复杂的正则表达式"
   ]
  },
  {
   "cell_type": "code",
   "execution_count": 47,
   "id": "79747039",
   "metadata": {},
   "outputs": [],
   "source": [
    "phoneRegex = re.compile(r'''(\n",
    "    (\\d{3}|\\(\\d{3}\\))?  # area code\n",
    "    (\\s|-|\\.)?          # separator\n",
    "    \\d{3}               # first 3 digits\n",
    "    (\\s|-|\\.)           # separator\n",
    "    \\d{4}               # last 4 digits\n",
    "    (\\s*(ext|x|ext.)\\s*\\d{2,5})? #extension\n",
    "    )''',re.VERBOSE)"
   ]
  },
  {
   "cell_type": "markdown",
   "id": "9c8592b5",
   "metadata": {},
   "source": [
    "插入注释"
   ]
  },
  {
   "cell_type": "markdown",
   "id": "9e0fd779",
   "metadata": {},
   "source": [
    "## 7.14 组合使用IGNOREC ASE、DOTALL、VERBOSE"
   ]
  },
  {
   "cell_type": "code",
   "execution_count": 48,
   "id": "12a4578f",
   "metadata": {},
   "outputs": [],
   "source": [
    "somRegexValue = re.compile('foo',re.I|re.DOTALL|re.VERBOSE)"
   ]
  },
  {
   "cell_type": "markdown",
   "id": "a5243cc5",
   "metadata": {},
   "source": [
    "## 7.15 项目：电话号码和e-mail地址提取程序"
   ]
  },
  {
   "cell_type": "markdown",
   "id": "287983db",
   "metadata": {},
   "source": [
    "先草拟计划，弄清楚程序要做什么，暂时不考虑真正的代码\n",
    "* 使用pyperclip模块复制和粘贴字符串\n",
    "* 创建两个正则表达式，找到所有匹配，而不是第一次匹配\n",
    "* 将匹配好的字符串整理好格式，放在一个字符串中，用于粘贴\n",
    "* 如果文本中没有找到匹配，显示某种信息"
   ]
  },
  {
   "cell_type": "markdown",
   "id": "b6397f9e",
   "metadata": {},
   "source": [
    "### 第一步：为电话号码创建一个正则表达式"
   ]
  },
  {
   "cell_type": "code",
   "execution_count": 183,
   "id": "50538864",
   "metadata": {},
   "outputs": [],
   "source": [
    "import pyperclip,re\n",
    "\n",
    "phoneRegex = re.compile(r'''(\n",
    "    (\\d{3}|\\(\\d{3}\\))?  # area code\n",
    "    (\\s|-|\\.)?          # separator\n",
    "    (\\d{3})               # first 3 digits\n",
    "    (\\s|-|\\.)           # separator\n",
    "    (\\d{4})              # last 4 digits\n",
    "    (\\s*(ext|x|ext.)\\s*(\\d{2,5}))? #extension\n",
    "    )''',re.VERBOSE)"
   ]
  },
  {
   "cell_type": "markdown",
   "id": "d2ec293b",
   "metadata": {},
   "source": [
    "r后面整个加了个括号，匹配的第一个元素就是完整号码"
   ]
  },
  {
   "cell_type": "markdown",
   "id": "4f6be958",
   "metadata": {},
   "source": [
    "### 第二步：为email地址创建一个正则表达式"
   ]
  },
  {
   "cell_type": "code",
   "execution_count": 259,
   "id": "c9945393",
   "metadata": {},
   "outputs": [],
   "source": [
    "emailRegex = re.compile(r'''(\n",
    "    [a-zA-Z0-9._%+-]+   # username,+表示多个字符\n",
    "    @                   # @\n",
    "    [a-zA-Z0-0.-]+      # domin name\n",
    "    (\\.[a-zA-Z]{2,4})  # dot-something\n",
    "    )''',re.VERBOSE)"
   ]
  },
  {
   "cell_type": "markdown",
   "id": "df79bd16",
   "metadata": {},
   "source": [
    "### 第三步：在剪贴板文本中找到所有匹配"
   ]
  },
  {
   "cell_type": "code",
   "execution_count": 191,
   "id": "d445ddc3",
   "metadata": {},
   "outputs": [],
   "source": [
    "text = '222-222-3435'\n",
    "matches = []\n",
    "\n",
    "for groups in phoneRegex.findall(text):\n",
    "    phoneNum = '-'.join([groups[1],groups[3],groups[5]])\n",
    "    if groups[8] != '':\n",
    "        phoneNum += ' x' + groups[8]\n",
    "    matches.append(phoneNum)\n",
    "\n",
    "for groups in emailRegex.findall(text):\n",
    "    matches.append(groups[0])"
   ]
  },
  {
   "cell_type": "code",
   "execution_count": 192,
   "id": "8f842fa3",
   "metadata": {},
   "outputs": [
    {
     "data": {
      "text/plain": [
       "['222-222-3435']"
      ]
     },
     "execution_count": 192,
     "metadata": {},
     "output_type": "execute_result"
    }
   ],
   "source": [
    "matches"
   ]
  },
  {
   "cell_type": "markdown",
   "id": "490fddf9",
   "metadata": {},
   "source": [
    "（findall)对应一个列表，列表中每个元组包含正则表达式中每个分组的字符串。"
   ]
  },
  {
   "cell_type": "markdown",
   "id": "95e1cb69",
   "metadata": {},
   "source": [
    "第四步：所有匹配连接成一个字符串，复制到剪贴板"
   ]
  },
  {
   "cell_type": "code",
   "execution_count": 193,
   "id": "eabd0d23",
   "metadata": {},
   "outputs": [
    {
     "name": "stdout",
     "output_type": "stream",
     "text": [
      "copied to clipboard:\n",
      "222-222-3435\n"
     ]
    }
   ],
   "source": [
    "if len(matches) > 0:\n",
    "    pyperclip.copy('\\n'.join(matches))\n",
    "    print('copied to clipboard:')\n",
    "    print('\\n'.join(matches))\n",
    "else:\n",
    "    print('not found')"
   ]
  },
  {
   "cell_type": "code",
   "execution_count": 186,
   "id": "3c396cc2",
   "metadata": {},
   "outputs": [],
   "source": [
    "text1 = '222-222-3333 x 423233333'"
   ]
  },
  {
   "cell_type": "code",
   "execution_count": 187,
   "id": "de4e73b4",
   "metadata": {},
   "outputs": [
    {
     "data": {
      "text/plain": [
       "[('222-222-3333 x 42323',\n",
       "  '222',\n",
       "  '-',\n",
       "  '222',\n",
       "  '-',\n",
       "  '3333',\n",
       "  ' x 42323',\n",
       "  'x',\n",
       "  '42323')]"
      ]
     },
     "execution_count": 187,
     "metadata": {},
     "output_type": "execute_result"
    }
   ],
   "source": [
    "phoneRegex.findall(text1)"
   ]
  },
  {
   "cell_type": "markdown",
   "id": "fa054b73",
   "metadata": {},
   "source": [
    "***该结果定义了findall输出的顺序，一个括号表示一个捕获组，先外围捕获组再内部捕获组，先左边捕获组后右边捕获组***"
   ]
  },
  {
   "cell_type": "code",
   "execution_count": 257,
   "id": "eb70b67b",
   "metadata": {},
   "outputs": [],
   "source": [
    "emails = '12213@wee.com'"
   ]
  },
  {
   "cell_type": "code",
   "execution_count": 258,
   "id": "06323541",
   "metadata": {},
   "outputs": [
    {
     "data": {
      "text/plain": [
       "[('12213@wee.com', '.com')]"
      ]
     },
     "execution_count": 258,
     "metadata": {},
     "output_type": "execute_result"
    }
   ],
   "source": [
    "emailRegex.findall(emails)"
   ]
  },
  {
   "cell_type": "markdown",
   "id": "0fb22666",
   "metadata": {},
   "source": [
    "类似程序的构想：\n",
    "* 寻找网站url\n",
    "* 整理不同日期格式\n",
    "* 删除敏感信息\n",
    "* 寻找常见打字错误"
   ]
  },
  {
   "cell_type": "markdown",
   "id": "2b6b9a79",
   "metadata": {},
   "source": [
    "## 7.17 练习"
   ]
  },
  {
   "cell_type": "code",
   "execution_count": 222,
   "id": "1280418b",
   "metadata": {},
   "outputs": [],
   "source": [
    "#18\n",
    "numRex = re.compile(r'\\d+')"
   ]
  },
  {
   "cell_type": "code",
   "execution_count": 223,
   "id": "5bbd7cd6",
   "metadata": {},
   "outputs": [
    {
     "data": {
      "text/plain": [
       "'X drummers,X pipers,five rings,X hens'"
      ]
     },
     "execution_count": 223,
     "metadata": {},
     "output_type": "execute_result"
    }
   ],
   "source": [
    "numRex.sub('X','12 drummers,11 pipers,five rings,3 hens')"
   ]
  },
  {
   "cell_type": "code",
   "execution_count": 242,
   "id": "b9e98e3b",
   "metadata": {},
   "outputs": [],
   "source": [
    "#20如何写一个正则表达式，匹配每3位就有一个逗号的数字？\n",
    "numRex_2 = re.compile(r'(^\\d{1,3}(,\\d{3})*$)')"
   ]
  },
  {
   "cell_type": "code",
   "execution_count": 241,
   "id": "2d2e229f",
   "metadata": {},
   "outputs": [
    {
     "data": {
      "text/plain": [
       "[]"
      ]
     },
     "execution_count": 241,
     "metadata": {},
     "output_type": "execute_result"
    }
   ],
   "source": [
    "numRex_2.findall('1234')"
   ]
  },
  {
   "cell_type": "code",
   "execution_count": 288,
   "id": "056ce7c8",
   "metadata": {},
   "outputs": [],
   "source": [
    "#21如何写一个正则表达式，匹配姓Nakamoto的完整姓名？\n",
    "nameRex = re.compile(r'(^[A-Z][a-z]+\\s(Nakamoto)$)')"
   ]
  },
  {
   "cell_type": "code",
   "execution_count": 290,
   "id": "17864600",
   "metadata": {},
   "outputs": [
    {
     "data": {
      "text/plain": [
       "[('Alice Nakamoto', 'Nakamoto')]"
      ]
     },
     "execution_count": 290,
     "metadata": {},
     "output_type": "execute_result"
    }
   ],
   "source": [
    "nameRex.findall('Alice Nakamoto')"
   ]
  },
  {
   "cell_type": "code",
   "execution_count": 295,
   "id": "37416767",
   "metadata": {},
   "outputs": [],
   "source": [
    "#21如何写一个正则表达式匹配一个句子\n",
    "sentenceRegex = re.compile(r'(^(alice|bob|carol)\\s(eats|pets|throws)\\s(apples|cats|baseballs)$)',re.I)"
   ]
  },
  {
   "cell_type": "code",
   "execution_count": 298,
   "id": "9fab9307",
   "metadata": {},
   "outputs": [
    {
     "data": {
      "text/plain": [
       "[('BOB EATS CATS', 'BOB', 'EATS', 'CATS')]"
      ]
     },
     "execution_count": 298,
     "metadata": {},
     "output_type": "execute_result"
    }
   ],
   "source": [
    "sentenceRegex.findall('BOB EATS CATS')"
   ]
  },
  {
   "cell_type": "markdown",
   "id": "846430d6",
   "metadata": {},
   "source": [
    "## 7.18 实践项目"
   ]
  },
  {
   "cell_type": "markdown",
   "id": "c1c8d015",
   "metadata": {},
   "source": [
    "### 7.18.1 强口令检测"
   ]
  },
  {
   "cell_type": "markdown",
   "id": "80338999",
   "metadata": {},
   "source": [
    "写一个函数，它使用正则表达式，确保传入的口令字符串是强口令。强口令的定义是：长度不少于 8 个字符，同时包含大写和小写字符，至少有一位数字。你可能需要用多个正则表达式来测试该字符串，以保证它的强度。"
   ]
  },
  {
   "cell_type": "code",
   "execution_count": 330,
   "id": "50a1fca5",
   "metadata": {},
   "outputs": [],
   "source": [
    "def strong():\n",
    "    text = input('输入字符：')\n",
    "    long = re.compile(r'\\w{8,}')\n",
    "    lower = re.compile(r'[a-z]')\n",
    "    upper = re.compile(r'[A-Z]')\n",
    "    num = re.compile(r'\\d{1}')\n",
    "    if long.search(text) != None and lower.search(text) != None and upper.search(text) != None and num.search(text) != None:\n",
    "        return '是强口令'\n",
    "    else:\n",
    "        return '不是强口令'"
   ]
  },
  {
   "cell_type": "code",
   "execution_count": 331,
   "id": "6b00419b",
   "metadata": {},
   "outputs": [
    {
     "name": "stdout",
     "output_type": "stream",
     "text": [
      "输入字符：AAAAaaaaa123123\n"
     ]
    },
    {
     "data": {
      "text/plain": [
       "'是强口令'"
      ]
     },
     "execution_count": 331,
     "metadata": {},
     "output_type": "execute_result"
    }
   ],
   "source": [
    "strong()"
   ]
  },
  {
   "cell_type": "code",
   "execution_count": 327,
   "id": "5b6473bd",
   "metadata": {},
   "outputs": [],
   "source": [
    "import re  \n",
    "  \n",
    "def is_strong_password(password):  \n",
    "    # 检查长度  \n",
    "    if len(password) < 8:  \n",
    "        return False  \n",
    "  \n",
    "    # 检查大写字母  \n",
    "    if not re.search(r'[A-Z]', password):  \n",
    "        return False  \n",
    "  \n",
    "    # 检查小写字母  \n",
    "    if not re.search(r'[a-z]', password):  \n",
    "        return False  \n",
    "  \n",
    "    # 检查数字  \n",
    "    if not re.search(r'\\d', password):  \n",
    "        return False  \n",
    "  \n",
    "    # 如果以上条件都满足，返回 True，否则返回 False  \n",
    "    return True"
   ]
  },
  {
   "cell_type": "markdown",
   "id": "7059a35d",
   "metadata": {},
   "source": [
    "### 7.18.2 strip()的正则表达式"
   ]
  },
  {
   "cell_type": "markdown",
   "id": "fd754e4d",
   "metadata": {},
   "source": [
    "写一个函数，它接受一个字符串，做的事情和 strip()字符串方法一样。如果只传入了要去除的字符串，没有其他参数，那么就从该字符串首尾去除空白字符。否则，函数第二个参数指定的字符将从该字符串中去除。"
   ]
  },
  {
   "cell_type": "code",
   "execution_count": 354,
   "id": "5223ef04",
   "metadata": {},
   "outputs": [],
   "source": [
    "def strip_x(text,a = None):\n",
    "    if a == None:\n",
    "        return re.search(r'[a-zA-Z0-9].*[a-zA-Z0-9]',text)[0]\n",
    "    else:\n",
    "        return re.sub(a,'',text)\n",
    "    "
   ]
  },
  {
   "cell_type": "code",
   "execution_count": 343,
   "id": "e60b56b2",
   "metadata": {},
   "outputs": [],
   "source": [
    "text = '  sd sd          '"
   ]
  },
  {
   "cell_type": "code",
   "execution_count": 346,
   "id": "99a3764c",
   "metadata": {},
   "outputs": [
    {
     "data": {
      "text/plain": [
       "['sd sd']"
      ]
     },
     "execution_count": 346,
     "metadata": {},
     "output_type": "execute_result"
    }
   ],
   "source": [
    "re.findall(r'[a-zA-Z0-9].*[a-zA-Z0-9]',text)"
   ]
  },
  {
   "cell_type": "code",
   "execution_count": 347,
   "id": "a383d8be",
   "metadata": {},
   "outputs": [
    {
     "data": {
      "text/plain": [
       "'  d d          '"
      ]
     },
     "execution_count": 347,
     "metadata": {},
     "output_type": "execute_result"
    }
   ],
   "source": [
    "re.sub(r's','',text)"
   ]
  },
  {
   "cell_type": "code",
   "execution_count": 359,
   "id": "f77c117a",
   "metadata": {},
   "outputs": [
    {
     "data": {
      "text/plain": [
       "'sdfsdf'"
      ]
     },
     "execution_count": 359,
     "metadata": {},
     "output_type": "execute_result"
    }
   ],
   "source": [
    "strip_x(' sdfsdf         ')"
   ]
  },
  {
   "cell_type": "code",
   "execution_count": null,
   "id": "89940995",
   "metadata": {},
   "outputs": [],
   "source": []
  }
 ],
 "metadata": {
  "kernelspec": {
   "display_name": "Python 3",
   "language": "python",
   "name": "python3"
  },
  "language_info": {
   "codemirror_mode": {
    "name": "ipython",
    "version": 3
   },
   "file_extension": ".py",
   "mimetype": "text/x-python",
   "name": "python",
   "nbconvert_exporter": "python",
   "pygments_lexer": "ipython3",
   "version": "3.8.8"
  }
 },
 "nbformat": 4,
 "nbformat_minor": 5
}
