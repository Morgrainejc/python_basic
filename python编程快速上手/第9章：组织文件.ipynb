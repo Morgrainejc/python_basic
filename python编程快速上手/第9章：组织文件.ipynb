{
 "cells": [
  {
   "cell_type": "markdown",
   "id": "e6bd27c1",
   "metadata": {},
   "source": [
    "## 9.1 shutil模块"
   ]
  },
  {
   "cell_type": "markdown",
   "id": "0fc17577",
   "metadata": {},
   "source": [
    "shutil模块中包含一些函数，可以用于复制、移动、改名和删除文件"
   ]
  },
  {
   "cell_type": "markdown",
   "id": "b95ba9f6",
   "metadata": {},
   "source": [
    "### 9.1.1 复制文件和文件夹"
   ]
  },
  {
   "cell_type": "markdown",
   "id": "5a8df214",
   "metadata": {},
   "source": [
    "* shutil.copy(source,destination)"
   ]
  },
  {
   "cell_type": "code",
   "execution_count": 2,
   "id": "de10c3a1",
   "metadata": {},
   "outputs": [],
   "source": [
    "import shutil,os"
   ]
  },
  {
   "cell_type": "code",
   "execution_count": 18,
   "id": "3709ca20",
   "metadata": {},
   "outputs": [],
   "source": [
    "os.chdir('E:\\BaiduNetdiskDownload\\python学习\\python编程快速上手\\\\第9章')"
   ]
  },
  {
   "cell_type": "code",
   "execution_count": null,
   "id": "2abb83b1",
   "metadata": {},
   "outputs": [],
   "source": [
    "shutil.copy('test1\\\\jc.txt','test2')"
   ]
  },
  {
   "cell_type": "code",
   "execution_count": 10,
   "id": "8b4acb72",
   "metadata": {},
   "outputs": [
    {
     "data": {
      "text/plain": [
       "'test1\\\\gaga.txt'"
      ]
     },
     "execution_count": 10,
     "metadata": {},
     "output_type": "execute_result"
    }
   ],
   "source": [
    "shutil.copy('test2\\\\gaga.txt','test1')"
   ]
  },
  {
   "cell_type": "code",
   "execution_count": 11,
   "id": "7c3468fd",
   "metadata": {},
   "outputs": [
    {
     "data": {
      "text/plain": [
       "'test1\\\\jc.txt'"
      ]
     },
     "execution_count": 11,
     "metadata": {},
     "output_type": "execute_result"
    }
   ],
   "source": [
    "shutil.copy('test2\\\\jc.txt','test1')"
   ]
  },
  {
   "cell_type": "markdown",
   "id": "ce93882c",
   "metadata": {},
   "source": [
    "* shutil.copy复制一个文件\n",
    "* shutil.copytree复制整个文件夹，目标文件夹不能存在"
   ]
  },
  {
   "cell_type": "code",
   "execution_count": 16,
   "id": "1696a0f5",
   "metadata": {},
   "outputs": [
    {
     "data": {
      "text/plain": [
       "'.\\\\test45'"
      ]
     },
     "execution_count": 16,
     "metadata": {},
     "output_type": "execute_result"
    }
   ],
   "source": [
    "shutil.copytree('.\\\\test3','.\\\\test45')"
   ]
  },
  {
   "cell_type": "markdown",
   "id": "1353d21f",
   "metadata": {},
   "source": [
    "### 9.1.2 文件和文件夹的移动与改名"
   ]
  },
  {
   "cell_type": "markdown",
   "id": "dd98ab63",
   "metadata": {},
   "source": [
    "shutil.move(source,destination)"
   ]
  },
  {
   "cell_type": "markdown",
   "id": "c4856de5",
   "metadata": {},
   "source": [
    "* 指定文件夹名，移动到新的文件夹，如果存在同名文件，则会报错"
   ]
  },
  {
   "cell_type": "code",
   "execution_count": 3,
   "id": "0f58c2ba",
   "metadata": {},
   "outputs": [
    {
     "data": {
      "text/plain": [
       "'.\\\\test2\\\\njj.txt'"
      ]
     },
     "execution_count": 3,
     "metadata": {},
     "output_type": "execute_result"
    }
   ],
   "source": [
    "shutil.move('.\\\\test1\\\\njj.txt','.\\\\test2')"
   ]
  },
  {
   "cell_type": "code",
   "execution_count": 4,
   "id": "a827861f",
   "metadata": {
    "scrolled": true
   },
   "outputs": [
    {
     "ename": "Error",
     "evalue": "Destination path '.\\test2\\jc.txt' already exists",
     "output_type": "error",
     "traceback": [
      "\u001b[1;31m---------------------------------------------------------------------------\u001b[0m",
      "\u001b[1;31mError\u001b[0m                                     Traceback (most recent call last)",
      "\u001b[1;32m<ipython-input-4-4419c394c94c>\u001b[0m in \u001b[0;36m<module>\u001b[1;34m\u001b[0m\n\u001b[1;32m----> 1\u001b[1;33m \u001b[0mshutil\u001b[0m\u001b[1;33m.\u001b[0m\u001b[0mmove\u001b[0m\u001b[1;33m(\u001b[0m\u001b[1;34m'.\\\\test1\\\\jc.txt'\u001b[0m\u001b[1;33m,\u001b[0m\u001b[1;34m'.\\\\test2'\u001b[0m\u001b[1;33m)\u001b[0m\u001b[1;33m\u001b[0m\u001b[1;33m\u001b[0m\u001b[0m\n\u001b[0m",
      "\u001b[1;32m~\\anaconda3\\lib\\shutil.py\u001b[0m in \u001b[0;36mmove\u001b[1;34m(src, dst, copy_function)\u001b[0m\n\u001b[0;32m    787\u001b[0m         \u001b[0mreal_dst\u001b[0m \u001b[1;33m=\u001b[0m \u001b[0mos\u001b[0m\u001b[1;33m.\u001b[0m\u001b[0mpath\u001b[0m\u001b[1;33m.\u001b[0m\u001b[0mjoin\u001b[0m\u001b[1;33m(\u001b[0m\u001b[0mdst\u001b[0m\u001b[1;33m,\u001b[0m \u001b[0m_basename\u001b[0m\u001b[1;33m(\u001b[0m\u001b[0msrc\u001b[0m\u001b[1;33m)\u001b[0m\u001b[1;33m)\u001b[0m\u001b[1;33m\u001b[0m\u001b[1;33m\u001b[0m\u001b[0m\n\u001b[0;32m    788\u001b[0m         \u001b[1;32mif\u001b[0m \u001b[0mos\u001b[0m\u001b[1;33m.\u001b[0m\u001b[0mpath\u001b[0m\u001b[1;33m.\u001b[0m\u001b[0mexists\u001b[0m\u001b[1;33m(\u001b[0m\u001b[0mreal_dst\u001b[0m\u001b[1;33m)\u001b[0m\u001b[1;33m:\u001b[0m\u001b[1;33m\u001b[0m\u001b[1;33m\u001b[0m\u001b[0m\n\u001b[1;32m--> 789\u001b[1;33m             \u001b[1;32mraise\u001b[0m \u001b[0mError\u001b[0m\u001b[1;33m(\u001b[0m\u001b[1;34m\"Destination path '%s' already exists\"\u001b[0m \u001b[1;33m%\u001b[0m \u001b[0mreal_dst\u001b[0m\u001b[1;33m)\u001b[0m\u001b[1;33m\u001b[0m\u001b[1;33m\u001b[0m\u001b[0m\n\u001b[0m\u001b[0;32m    790\u001b[0m     \u001b[1;32mtry\u001b[0m\u001b[1;33m:\u001b[0m\u001b[1;33m\u001b[0m\u001b[1;33m\u001b[0m\u001b[0m\n\u001b[0;32m    791\u001b[0m         \u001b[0mos\u001b[0m\u001b[1;33m.\u001b[0m\u001b[0mrename\u001b[0m\u001b[1;33m(\u001b[0m\u001b[0msrc\u001b[0m\u001b[1;33m,\u001b[0m \u001b[0mreal_dst\u001b[0m\u001b[1;33m)\u001b[0m\u001b[1;33m\u001b[0m\u001b[1;33m\u001b[0m\u001b[0m\n",
      "\u001b[1;31mError\u001b[0m: Destination path '.\\test2\\jc.txt' already exists"
     ]
    }
   ],
   "source": [
    "shutil.move('.\\\\test1\\\\jc.txt','.\\\\test2')"
   ]
  },
  {
   "cell_type": "markdown",
   "id": "97e5d0e3",
   "metadata": {},
   "source": [
    "* 指定文件名，移动并改名"
   ]
  },
  {
   "cell_type": "code",
   "execution_count": 5,
   "id": "71af590a",
   "metadata": {},
   "outputs": [
    {
     "data": {
      "text/plain": [
       "'.\\\\test3\\\\jc_new.txt'"
      ]
     },
     "execution_count": 5,
     "metadata": {},
     "output_type": "execute_result"
    }
   ],
   "source": [
    "shutil.move('.\\\\test1\\\\jc.txt','.\\\\test3\\\\jc_new.txt')"
   ]
  },
  {
   "cell_type": "markdown",
   "id": "f2775b53",
   "metadata": {},
   "source": [
    "* 如果不存在文件夹，且格式和文件类型，则会把地址当作文件名，创建一个新的文件（没有txt文件扩展名的文本文件）"
   ]
  },
  {
   "cell_type": "code",
   "execution_count": null,
   "id": "61583ddc",
   "metadata": {},
   "outputs": [],
   "source": [
    "shutil.move('.\\\\test1\\\\gaga.txt','.\\\\gaga')"
   ]
  },
  {
   "cell_type": "markdown",
   "id": "ce6fa59d",
   "metadata": {},
   "source": [
    "* 如果不存在文件夹，则直接报错"
   ]
  },
  {
   "cell_type": "code",
   "execution_count": 8,
   "id": "d185240b",
   "metadata": {},
   "outputs": [
    {
     "ename": "FileNotFoundError",
     "evalue": "[Errno 2] No such file or directory: '.\\\\gaga\\\\kaka\\\\cc'",
     "output_type": "error",
     "traceback": [
      "\u001b[1;31m---------------------------------------------------------------------------\u001b[0m",
      "\u001b[1;31mFileNotFoundError\u001b[0m                         Traceback (most recent call last)",
      "\u001b[1;32m~\\anaconda3\\lib\\shutil.py\u001b[0m in \u001b[0;36mmove\u001b[1;34m(src, dst, copy_function)\u001b[0m\n\u001b[0;32m    790\u001b[0m     \u001b[1;32mtry\u001b[0m\u001b[1;33m:\u001b[0m\u001b[1;33m\u001b[0m\u001b[1;33m\u001b[0m\u001b[0m\n\u001b[1;32m--> 791\u001b[1;33m         \u001b[0mos\u001b[0m\u001b[1;33m.\u001b[0m\u001b[0mrename\u001b[0m\u001b[1;33m(\u001b[0m\u001b[0msrc\u001b[0m\u001b[1;33m,\u001b[0m \u001b[0mreal_dst\u001b[0m\u001b[1;33m)\u001b[0m\u001b[1;33m\u001b[0m\u001b[1;33m\u001b[0m\u001b[0m\n\u001b[0m\u001b[0;32m    792\u001b[0m     \u001b[1;32mexcept\u001b[0m \u001b[0mOSError\u001b[0m\u001b[1;33m:\u001b[0m\u001b[1;33m\u001b[0m\u001b[1;33m\u001b[0m\u001b[0m\n",
      "\u001b[1;31mFileNotFoundError\u001b[0m: [WinError 3] 系统找不到指定的路径。: '.\\\\test2\\\\njj.txt' -> '.\\\\gaga\\\\kaka\\\\cc'",
      "\nDuring handling of the above exception, another exception occurred:\n",
      "\u001b[1;31mFileNotFoundError\u001b[0m                         Traceback (most recent call last)",
      "\u001b[1;32m<ipython-input-8-a9c7489c0d7d>\u001b[0m in \u001b[0;36m<module>\u001b[1;34m\u001b[0m\n\u001b[1;32m----> 1\u001b[1;33m \u001b[0mshutil\u001b[0m\u001b[1;33m.\u001b[0m\u001b[0mmove\u001b[0m\u001b[1;33m(\u001b[0m\u001b[1;34m'.\\\\test2\\\\njj.txt'\u001b[0m\u001b[1;33m,\u001b[0m\u001b[1;34m'.\\\\gaga\\\\kaka\\\\cc'\u001b[0m\u001b[1;33m)\u001b[0m\u001b[1;33m\u001b[0m\u001b[1;33m\u001b[0m\u001b[0m\n\u001b[0m",
      "\u001b[1;32m~\\anaconda3\\lib\\shutil.py\u001b[0m in \u001b[0;36mmove\u001b[1;34m(src, dst, copy_function)\u001b[0m\n\u001b[0;32m    803\u001b[0m             \u001b[0mrmtree\u001b[0m\u001b[1;33m(\u001b[0m\u001b[0msrc\u001b[0m\u001b[1;33m)\u001b[0m\u001b[1;33m\u001b[0m\u001b[1;33m\u001b[0m\u001b[0m\n\u001b[0;32m    804\u001b[0m         \u001b[1;32melse\u001b[0m\u001b[1;33m:\u001b[0m\u001b[1;33m\u001b[0m\u001b[1;33m\u001b[0m\u001b[0m\n\u001b[1;32m--> 805\u001b[1;33m             \u001b[0mcopy_function\u001b[0m\u001b[1;33m(\u001b[0m\u001b[0msrc\u001b[0m\u001b[1;33m,\u001b[0m \u001b[0mreal_dst\u001b[0m\u001b[1;33m)\u001b[0m\u001b[1;33m\u001b[0m\u001b[1;33m\u001b[0m\u001b[0m\n\u001b[0m\u001b[0;32m    806\u001b[0m             \u001b[0mos\u001b[0m\u001b[1;33m.\u001b[0m\u001b[0munlink\u001b[0m\u001b[1;33m(\u001b[0m\u001b[0msrc\u001b[0m\u001b[1;33m)\u001b[0m\u001b[1;33m\u001b[0m\u001b[1;33m\u001b[0m\u001b[0m\n\u001b[0;32m    807\u001b[0m     \u001b[1;32mreturn\u001b[0m \u001b[0mreal_dst\u001b[0m\u001b[1;33m\u001b[0m\u001b[1;33m\u001b[0m\u001b[0m\n",
      "\u001b[1;32m~\\anaconda3\\lib\\shutil.py\u001b[0m in \u001b[0;36mcopy2\u001b[1;34m(src, dst, follow_symlinks)\u001b[0m\n\u001b[0;32m    433\u001b[0m     \u001b[1;32mif\u001b[0m \u001b[0mos\u001b[0m\u001b[1;33m.\u001b[0m\u001b[0mpath\u001b[0m\u001b[1;33m.\u001b[0m\u001b[0misdir\u001b[0m\u001b[1;33m(\u001b[0m\u001b[0mdst\u001b[0m\u001b[1;33m)\u001b[0m\u001b[1;33m:\u001b[0m\u001b[1;33m\u001b[0m\u001b[1;33m\u001b[0m\u001b[0m\n\u001b[0;32m    434\u001b[0m         \u001b[0mdst\u001b[0m \u001b[1;33m=\u001b[0m \u001b[0mos\u001b[0m\u001b[1;33m.\u001b[0m\u001b[0mpath\u001b[0m\u001b[1;33m.\u001b[0m\u001b[0mjoin\u001b[0m\u001b[1;33m(\u001b[0m\u001b[0mdst\u001b[0m\u001b[1;33m,\u001b[0m \u001b[0mos\u001b[0m\u001b[1;33m.\u001b[0m\u001b[0mpath\u001b[0m\u001b[1;33m.\u001b[0m\u001b[0mbasename\u001b[0m\u001b[1;33m(\u001b[0m\u001b[0msrc\u001b[0m\u001b[1;33m)\u001b[0m\u001b[1;33m)\u001b[0m\u001b[1;33m\u001b[0m\u001b[1;33m\u001b[0m\u001b[0m\n\u001b[1;32m--> 435\u001b[1;33m     \u001b[0mcopyfile\u001b[0m\u001b[1;33m(\u001b[0m\u001b[0msrc\u001b[0m\u001b[1;33m,\u001b[0m \u001b[0mdst\u001b[0m\u001b[1;33m,\u001b[0m \u001b[0mfollow_symlinks\u001b[0m\u001b[1;33m=\u001b[0m\u001b[0mfollow_symlinks\u001b[0m\u001b[1;33m)\u001b[0m\u001b[1;33m\u001b[0m\u001b[1;33m\u001b[0m\u001b[0m\n\u001b[0m\u001b[0;32m    436\u001b[0m     \u001b[0mcopystat\u001b[0m\u001b[1;33m(\u001b[0m\u001b[0msrc\u001b[0m\u001b[1;33m,\u001b[0m \u001b[0mdst\u001b[0m\u001b[1;33m,\u001b[0m \u001b[0mfollow_symlinks\u001b[0m\u001b[1;33m=\u001b[0m\u001b[0mfollow_symlinks\u001b[0m\u001b[1;33m)\u001b[0m\u001b[1;33m\u001b[0m\u001b[1;33m\u001b[0m\u001b[0m\n\u001b[0;32m    437\u001b[0m     \u001b[1;32mreturn\u001b[0m \u001b[0mdst\u001b[0m\u001b[1;33m\u001b[0m\u001b[1;33m\u001b[0m\u001b[0m\n",
      "\u001b[1;32m~\\anaconda3\\lib\\shutil.py\u001b[0m in \u001b[0;36mcopyfile\u001b[1;34m(src, dst, follow_symlinks)\u001b[0m\n\u001b[0;32m    262\u001b[0m         \u001b[0mos\u001b[0m\u001b[1;33m.\u001b[0m\u001b[0msymlink\u001b[0m\u001b[1;33m(\u001b[0m\u001b[0mos\u001b[0m\u001b[1;33m.\u001b[0m\u001b[0mreadlink\u001b[0m\u001b[1;33m(\u001b[0m\u001b[0msrc\u001b[0m\u001b[1;33m)\u001b[0m\u001b[1;33m,\u001b[0m \u001b[0mdst\u001b[0m\u001b[1;33m)\u001b[0m\u001b[1;33m\u001b[0m\u001b[1;33m\u001b[0m\u001b[0m\n\u001b[0;32m    263\u001b[0m     \u001b[1;32melse\u001b[0m\u001b[1;33m:\u001b[0m\u001b[1;33m\u001b[0m\u001b[1;33m\u001b[0m\u001b[0m\n\u001b[1;32m--> 264\u001b[1;33m         \u001b[1;32mwith\u001b[0m \u001b[0mopen\u001b[0m\u001b[1;33m(\u001b[0m\u001b[0msrc\u001b[0m\u001b[1;33m,\u001b[0m \u001b[1;34m'rb'\u001b[0m\u001b[1;33m)\u001b[0m \u001b[1;32mas\u001b[0m \u001b[0mfsrc\u001b[0m\u001b[1;33m,\u001b[0m \u001b[0mopen\u001b[0m\u001b[1;33m(\u001b[0m\u001b[0mdst\u001b[0m\u001b[1;33m,\u001b[0m \u001b[1;34m'wb'\u001b[0m\u001b[1;33m)\u001b[0m \u001b[1;32mas\u001b[0m \u001b[0mfdst\u001b[0m\u001b[1;33m:\u001b[0m\u001b[1;33m\u001b[0m\u001b[1;33m\u001b[0m\u001b[0m\n\u001b[0m\u001b[0;32m    265\u001b[0m             \u001b[1;31m# macOS\u001b[0m\u001b[1;33m\u001b[0m\u001b[1;33m\u001b[0m\u001b[1;33m\u001b[0m\u001b[0m\n\u001b[0;32m    266\u001b[0m             \u001b[1;32mif\u001b[0m \u001b[0m_HAS_FCOPYFILE\u001b[0m\u001b[1;33m:\u001b[0m\u001b[1;33m\u001b[0m\u001b[1;33m\u001b[0m\u001b[0m\n",
      "\u001b[1;31mFileNotFoundError\u001b[0m: [Errno 2] No such file or directory: '.\\\\gaga\\\\kaka\\\\cc'"
     ]
    }
   ],
   "source": [
    "shutil.move('.\\\\test2\\\\njj.txt','.\\\\gaga\\\\kaka\\\\cc')"
   ]
  },
  {
   "cell_type": "markdown",
   "id": "1e0f2fa1",
   "metadata": {},
   "source": [
    "### 9.1.3 永久删除文件和文件夹"
   ]
  },
  {
   "cell_type": "markdown",
   "id": "34e33ccd",
   "metadata": {},
   "source": [
    "* os.unlink(path)删除path处的文件；如果给定路径为目录，会删除其中所有文件，然后再删除该目录\n",
    "* os.rmdir(path)删除path处的文件夹。该文件夹必须为空。\n",
    "* os.remove(path)删除path处的文件\n",
    "* shutil.rmtree(path)删除path处的文件夹，包含的所有文件和文件夹都被删除"
   ]
  },
  {
   "cell_type": "code",
   "execution_count": 28,
   "id": "3af3b702",
   "metadata": {},
   "outputs": [
    {
     "data": {
      "text/plain": [
       "['1.txt',\n",
       " '2.txt',\n",
       " 'delicious',\n",
       " 'example.zip',\n",
       " 'gaga',\n",
       " 'test1',\n",
       " 'test2',\n",
       " 'test3',\n",
       " 'test4',\n",
       " 'test45']"
      ]
     },
     "execution_count": 28,
     "metadata": {},
     "output_type": "execute_result"
    }
   ],
   "source": [
    "os.listdir()"
   ]
  },
  {
   "cell_type": "markdown",
   "id": "1a256f68",
   "metadata": {},
   "source": [
    "删除之前先打印，避免出错"
   ]
  },
  {
   "cell_type": "code",
   "execution_count": 20,
   "id": "abda3609",
   "metadata": {},
   "outputs": [
    {
     "name": "stdout",
     "output_type": "stream",
     "text": [
      "1.txt\n",
      "2.txt\n"
     ]
    }
   ],
   "source": [
    "for filename in os.listdir():\n",
    "    if filename.endswith('.txt'):\n",
    "        #os.unlink(filename)\n",
    "        print(filename)"
   ]
  },
  {
   "cell_type": "markdown",
   "id": "c5a802a9",
   "metadata": {},
   "source": [
    "### 9.1.4 用send2trash模块安全地删除"
   ]
  },
  {
   "cell_type": "code",
   "execution_count": 21,
   "id": "5cd59f26",
   "metadata": {},
   "outputs": [],
   "source": [
    "import send2trash"
   ]
  },
  {
   "cell_type": "code",
   "execution_count": 22,
   "id": "1d1c50e2",
   "metadata": {},
   "outputs": [],
   "source": [
    "with open('bacon.txt','a') as filename:\n",
    "    filename.write('Bacon is not a vegetable')"
   ]
  },
  {
   "cell_type": "code",
   "execution_count": 23,
   "id": "395d4a66",
   "metadata": {},
   "outputs": [],
   "source": [
    "send2trash.send2trash('bacon.txt')"
   ]
  },
  {
   "cell_type": "markdown",
   "id": "cb988361",
   "metadata": {},
   "source": [
    "该函数将文件送到垃圾箱"
   ]
  },
  {
   "cell_type": "markdown",
   "id": "bbda4cd3",
   "metadata": {},
   "source": [
    "## 9.2 遍历目录树"
   ]
  },
  {
   "cell_type": "markdown",
   "id": "d55648b0",
   "metadata": {},
   "source": [
    "想遍历目录树，处理每个文件"
   ]
  },
  {
   "cell_type": "code",
   "execution_count": 26,
   "id": "c3bfc308",
   "metadata": {},
   "outputs": [
    {
     "name": "stdout",
     "output_type": "stream",
     "text": [
      "The cureent folder is .\\delicious\n",
      "Subfolder of .\\delicious: cats\n",
      "Subfolder of .\\delicious: walnut\n",
      "File inside .\\delicious: spam.txt\n",
      "\n",
      "The cureent folder is .\\delicious\\cats\n",
      "File inside .\\delicious\\cats: catnames.txt\n",
      "File inside .\\delicious\\cats: zophie.bmp\n",
      "\n",
      "The cureent folder is .\\delicious\\walnut\n",
      "Subfolder of .\\delicious\\walnut: waffles\n",
      "\n",
      "The cureent folder is .\\delicious\\walnut\\waffles\n",
      "File inside .\\delicious\\walnut\\waffles: butter.txt\n",
      "\n"
     ]
    }
   ],
   "source": [
    "for folderName,subfolders,filename in os.walk('.\\\\delicious'):\n",
    "    print('The cureent folder is ' + folderName)\n",
    "    for subfolder in subfolders:\n",
    "        print('Subfolder of ' + folderName + ': ' + subfolder)\n",
    "    for filename in filename:\n",
    "        print('File inside ' + folderName + ': ' + filename)\n",
    "    print('')"
   ]
  },
  {
   "cell_type": "markdown",
   "id": "388c179d",
   "metadata": {},
   "source": [
    "os.walk()在循环的每次迭代中，返回三个值：\n",
    "* 当前文件夹名称的字符串\n",
    "* 当前文件夹中子文件夹的字符串的列表\n",
    "* 当前文件夹中文件的字符串的列表  \n",
    "当前文件夹就是for循环当前迭代的文件夹，但是程序当前工作目录不会发生改变,在打印的时候绝对地址会受到当前工作目录影响  \n",
    "这个函数是递归的，也就是说会遍历目录下所有子目录和文件"
   ]
  },
  {
   "cell_type": "markdown",
   "id": "435d906b",
   "metadata": {},
   "source": [
    "## 9.3 用zipfile模块压缩文件"
   ]
  },
  {
   "cell_type": "markdown",
   "id": "15ca40ff",
   "metadata": {},
   "source": [
    "### 9.3.1 读取zip文件"
   ]
  },
  {
   "cell_type": "code",
   "execution_count": 29,
   "id": "4f375e27",
   "metadata": {},
   "outputs": [
    {
     "data": {
      "text/plain": [
       "'E:\\\\BaiduNetdiskDownload\\\\python学习\\\\python编程快速上手\\\\第9章'"
      ]
     },
     "execution_count": 29,
     "metadata": {},
     "output_type": "execute_result"
    }
   ],
   "source": [
    "os.getcwd()"
   ]
  },
  {
   "cell_type": "code",
   "execution_count": 31,
   "id": "b1ba32ed",
   "metadata": {},
   "outputs": [],
   "source": [
    "import zipfile,os"
   ]
  },
  {
   "cell_type": "markdown",
   "id": "f9fd5bfc",
   "metadata": {},
   "source": [
    "ZipFile对象在概念上与File对象相似"
   ]
  },
  {
   "cell_type": "code",
   "execution_count": 36,
   "id": "c75e464f",
   "metadata": {},
   "outputs": [
    {
     "data": {
      "text/plain": [
       "['spam.txt', 'cats/', 'cats/catnames.txt', 'cats/zophie.bmp']"
      ]
     },
     "execution_count": 36,
     "metadata": {},
     "output_type": "execute_result"
    }
   ],
   "source": [
    "exampleZip = zipfile.ZipFile('example.zip')\n",
    "exampleZip.namelist()"
   ]
  },
  {
   "cell_type": "markdown",
   "id": "26f10cfd",
   "metadata": {},
   "source": [
    "ZipFile对象的getinfo()方法，返回一个关于特定文件的ZipInfo对象。  \n",
    "对象有自己的属性，诸如字节数file_size和compress_size，分别表示原来文件大小和压缩后文件大小。"
   ]
  },
  {
   "cell_type": "code",
   "execution_count": 37,
   "id": "e7669e9c",
   "metadata": {},
   "outputs": [
    {
     "data": {
      "text/plain": [
       "105"
      ]
     },
     "execution_count": 37,
     "metadata": {},
     "output_type": "execute_result"
    }
   ],
   "source": [
    "spamInfo = exampleZip.getinfo('spam.txt')\n",
    "spamInfo.file_size"
   ]
  },
  {
   "cell_type": "code",
   "execution_count": 38,
   "id": "1b670c78",
   "metadata": {},
   "outputs": [
    {
     "data": {
      "text/plain": [
       "39"
      ]
     },
     "execution_count": 38,
     "metadata": {},
     "output_type": "execute_result"
    }
   ],
   "source": [
    "spamInfo.compress_size"
   ]
  },
  {
   "cell_type": "code",
   "execution_count": 39,
   "id": "27daef99",
   "metadata": {},
   "outputs": [],
   "source": [
    "exampleZip.close()"
   ]
  },
  {
   "cell_type": "markdown",
   "id": "5ae263fc",
   "metadata": {},
   "source": [
    "### 9.3.2 从zip文件中解压缩"
   ]
  },
  {
   "cell_type": "markdown",
   "id": "ad2f625e",
   "metadata": {},
   "source": [
    "extractall()方法从zip文件中解压缩所有文件和文件夹，放到当前工作目录中"
   ]
  },
  {
   "cell_type": "markdown",
   "id": "161eac02",
   "metadata": {},
   "source": [
    "* 将内容解压到x文件夹中，可以向extractall()传递一个文件夹名称，将文件解压缩到那个文件夹。"
   ]
  },
  {
   "cell_type": "code",
   "execution_count": 42,
   "id": "697b5a70",
   "metadata": {},
   "outputs": [],
   "source": [
    "import zipfile,os\n",
    "os.chdir('E:\\\\BaiduNetdiskDownload\\\\python学习\\\\python编程快速上手\\\\第9章\\\\x')\n",
    "exampleZip = zipfile.ZipFile('..\\\\example.zip')\n",
    "exampleZip.extractall()\n",
    "exampleZip.close()"
   ]
  },
  {
   "cell_type": "markdown",
   "id": "0b7f5c72",
   "metadata": {},
   "source": [
    "* 如果文件夹不存在，则创建"
   ]
  },
  {
   "cell_type": "code",
   "execution_count": 51,
   "id": "f747e0d8",
   "metadata": {},
   "outputs": [],
   "source": [
    "import zipfile,os\n",
    "os.chdir('E:\\\\BaiduNetdiskDownload\\\\python学习\\\\python编程快速上手\\\\第9章')\n",
    "exampleZip = zipfile.ZipFile('.\\\\example.zip')\n",
    "exampleZip.extractall('.\\\\test_extract')\n",
    "exampleZip.close()"
   ]
  },
  {
   "cell_type": "markdown",
   "id": "45ae3a47",
   "metadata": {},
   "source": [
    "extract()方法从zip文件中解压缩单个文件。"
   ]
  },
  {
   "cell_type": "code",
   "execution_count": 53,
   "id": "a59f9c89",
   "metadata": {},
   "outputs": [
    {
     "data": {
      "text/plain": [
       "'E:\\\\BaiduNetdiskDownload\\\\python学习\\\\python编程快速上手\\\\第9章\\\\spam.txt'"
      ]
     },
     "execution_count": 53,
     "metadata": {},
     "output_type": "execute_result"
    }
   ],
   "source": [
    "import zipfile,os\n",
    "os.chdir('E:\\\\BaiduNetdiskDownload\\\\python学习\\\\python编程快速上手\\\\第9章')\n",
    "exampleZip = zipfile.ZipFile('.\\\\example.zip')\n",
    "exampleZip.extract('spam.txt')"
   ]
  },
  {
   "cell_type": "code",
   "execution_count": 54,
   "id": "020454b5",
   "metadata": {},
   "outputs": [
    {
     "data": {
      "text/plain": [
       "'test_extract_2\\\\spam.txt'"
      ]
     },
     "execution_count": 54,
     "metadata": {},
     "output_type": "execute_result"
    }
   ],
   "source": [
    "exampleZip.extract('spam.txt','.\\\\test_extract_2')"
   ]
  },
  {
   "cell_type": "code",
   "execution_count": 55,
   "id": "72696c04",
   "metadata": {},
   "outputs": [],
   "source": [
    "exampleZip.close()"
   ]
  },
  {
   "cell_type": "markdown",
   "id": "fed92ef6",
   "metadata": {},
   "source": [
    "### 9.3.3 创建和添加到zip文件"
   ]
  },
  {
   "cell_type": "markdown",
   "id": "b7e91f1f",
   "metadata": {},
   "source": [
    "要创建自己的压缩zip文件，必须以写模式打开。追加可以用追加模式"
   ]
  },
  {
   "cell_type": "code",
   "execution_count": null,
   "id": "c27c2a04",
   "metadata": {},
   "outputs": [],
   "source": [
    "import zipfile\n",
    "newZip = zipfile.ZipFile('new.zip','w')\n",
    "newZip.write('spam.txt',compress_type=zipfile.ZIP_DEFLATED)\n",
    "newZip.close()"
   ]
  },
  {
   "cell_type": "markdown",
   "id": "0fd7b899",
   "metadata": {},
   "source": [
    "## 9.4 项目：将带有美国风格日期的文件改名为欧洲风格日期"
   ]
  },
  {
   "cell_type": "code",
   "execution_count": 73,
   "id": "0fc57456",
   "metadata": {},
   "outputs": [
    {
     "name": "stdout",
     "output_type": "stream",
     "text": [
      "Renaming \"E:\\BaiduNetdiskDownload\\python学习\\python编程快速上手\\第9章\\spam04-03-1993.txt\" to \"E:\\BaiduNetdiskDownload\\python学习\\python编程快速上手\\第9章\\spam03-04-1993.txt\"...\n",
      "Renaming \"E:\\BaiduNetdiskDownload\\python学习\\python编程快速上手\\第9章\\test12-12-2013gaga\" to \"E:\\BaiduNetdiskDownload\\python学习\\python编程快速上手\\第9章\\test12-12-2013gaga\"...\n"
     ]
    }
   ],
   "source": [
    "#第一步：为美国风格日期创建一个正则表达式\n",
    "import shutil,os,re\n",
    "\n",
    "dataPattern = re.compile(r\"\"\"^(.*?) #之前的所有text\n",
    "    ((0|1)?\\d)-                     #月\n",
    "    ((0|1|2|3)?\\d)-                  #日\n",
    "    ((19|20)\\d\\d)                   #年\n",
    "    (.*?)$\n",
    "\"\"\",re.VERBOSE)\n",
    "\n",
    "#第二步：识别文件名中的日期部分\n",
    "\n",
    "for amerFilename in os.listdir('.'):\n",
    "    mo = dataPattern.search(amerFilename)\n",
    "    \n",
    "    if mo == None:\n",
    "        continue\n",
    "    \n",
    "    beforePart = mo.group(1)\n",
    "    monthPart = mo.group(2)\n",
    "    dayPart = mo.group(4)\n",
    "    yearPart = mo.group(6)\n",
    "    afterPart = mo.group(8)\n",
    "    \n",
    "    #第三步：构成新文件名，并对文件改名\n",
    "    euroFilename = beforePart + dayPart + '-' + monthPart + '-' + yearPart + afterPart\n",
    "\n",
    "    absWorkingDir = os.path.abspath('.')\n",
    "    amerFilename = os.path.join(absWorkingDir,amerFilename)\n",
    "    euroFilename = os.path.join(absWorkingDir,euroFilename)\n",
    "\n",
    "    print('Renaming \"%s\" to \"%s\"...'%(amerFilename,euroFilename))\n",
    "    shutil.move(amerFilename,euroFilename)"
   ]
  },
  {
   "cell_type": "markdown",
   "id": "9c5c0e1e",
   "metadata": {},
   "source": [
    "## 9.5 项目：将一个文件夹备份到一个ZIP文件"
   ]
  },
  {
   "cell_type": "code",
   "execution_count": 6,
   "id": "997956bd",
   "metadata": {},
   "outputs": [],
   "source": [
    "#第一步：弄清楚ZIP文件的名称\n",
    "import zipfile,os\n",
    "\n",
    "def backupToZip(folder):\n",
    "    folder = os.path.abspath(folder)\n",
    "    number = 1\n",
    "    while True:\n",
    "        zipFilename = os.path.basename(folder)+'_'+str(number)+'.zip'\n",
    "        if not os.path.exists(zipFilename):\n",
    "            break\n",
    "        number = number+1\n",
    "        \n",
    "    #第二步：创建新ZIP文件\n",
    "    print('Creating %s...'%(zipFilename))\n",
    "    backupZip = zipfile.ZipFile(zipFilename,'w')\n",
    "    \n",
    "    #第三步：遍历目录树并添加到ZIP文件\n",
    "    for foldername,subfolders,filenames in os.walk(folder):\n",
    "        print('Adding files in %s...'%(foldername))\n",
    "        backupZip.write(foldername)\n",
    "        \n",
    "    for filename in filenames:\n",
    "        newBase = os.path.basename(folder)+'_'\n",
    "        if filename.startswith(newBase) and filename.endswith('.zip'):\n",
    "            continue\n",
    "        backupZip.write(os.path.join(foldername,filename))\n",
    "        backupZip.close()\n",
    "        print('Done')\n",
    "        "
   ]
  },
  {
   "cell_type": "code",
   "execution_count": 5,
   "id": "24809eb0",
   "metadata": {},
   "outputs": [
    {
     "data": {
      "text/plain": [
       "'E:\\\\BaiduNetdiskDownload\\\\python学习\\\\python编程快速上手\\\\第9章'"
      ]
     },
     "execution_count": 5,
     "metadata": {},
     "output_type": "execute_result"
    }
   ],
   "source": [
    "os.getcwd()"
   ]
  },
  {
   "cell_type": "code",
   "execution_count": 7,
   "id": "96b5e136",
   "metadata": {},
   "outputs": [
    {
     "name": "stdout",
     "output_type": "stream",
     "text": [
      "Creating delicious_1.zip...\n",
      "Adding files in E:\\BaiduNetdiskDownload\\python学习\\python编程快速上手\\第9章\\delicious...\n",
      "Adding files in E:\\BaiduNetdiskDownload\\python学习\\python编程快速上手\\第9章\\delicious\\cats...\n",
      "Adding files in E:\\BaiduNetdiskDownload\\python学习\\python编程快速上手\\第9章\\delicious\\walnut...\n",
      "Adding files in E:\\BaiduNetdiskDownload\\python学习\\python编程快速上手\\第9章\\delicious\\walnut\\waffles...\n",
      "Done\n"
     ]
    }
   ],
   "source": [
    " backupToZip('E:\\\\BaiduNetdiskDownload\\\\python学习\\\\python编程快速上手\\\\第9章\\\\delicious')"
   ]
  },
  {
   "cell_type": "markdown",
   "id": "f082b8d2",
   "metadata": {},
   "source": [
    "## 9.6小结"
   ]
  },
  {
   "cell_type": "markdown",
   "id": "624ceda7",
   "metadata": {},
   "source": [
    "* 使用os和shutil，复制、移动、改名和删除文件\n",
    "* 使用os.walk遍历目录树\n",
    "* 使用zipfile压缩和解压文件"
   ]
  },
  {
   "cell_type": "markdown",
   "id": "0e510136",
   "metadata": {},
   "source": [
    "## 9.8实践项目"
   ]
  },
  {
   "cell_type": "markdown",
   "id": "9b12ac65",
   "metadata": {},
   "source": [
    "### 9.8.1 选择性拷贝\n",
    "编写一个程序，遍历一个目录树，查找特定扩展名的文件（诸如.pdf 或.jpg）。不论这些文件的位置在哪里，将它们拷贝到一个新的文件夹中。"
   ]
  },
  {
   "cell_type": "markdown",
   "id": "54a6fc69",
   "metadata": {},
   "source": [
    "做这道题发现个问题，os.path.abspaht()只能从它所知道的唯一目录形成绝对路径，见网址：https://www.cnpython.com/qa/85112"
   ]
  },
  {
   "cell_type": "code",
   "execution_count": 8,
   "id": "d43a10c1",
   "metadata": {},
   "outputs": [],
   "source": [
    "import os,shutil"
   ]
  },
  {
   "cell_type": "code",
   "execution_count": 36,
   "id": "a91c4f38",
   "metadata": {},
   "outputs": [],
   "source": [
    "def seach_wenjian(folder):\n",
    "    for foldername,subfolders,filenames in os.walk(folder):\n",
    "        for filename in filenames:\n",
    "            if '.txt' in filename:\n",
    "                filename_new = os.path.join(os.path.abspath(foldername),filename)\n",
    "                print(filename_new)\n",
    "                shutil.copy(filename_new,'E:\\\\BaiduNetdiskDownload\\\\python学习\\\\python编程快速上手\\\\第9章\\\\xuanze')"
   ]
  },
  {
   "cell_type": "code",
   "execution_count": 37,
   "id": "034a64e4",
   "metadata": {},
   "outputs": [
    {
     "name": "stdout",
     "output_type": "stream",
     "text": [
      "E:\\BaiduNetdiskDownload\\python学习\\python编程快速上手\\第8章\\answer\\capitalsquiz_answers1.txt\n",
      "E:\\BaiduNetdiskDownload\\python学习\\python编程快速上手\\第8章\\answer\\capitalsquiz_answers10.txt\n",
      "E:\\BaiduNetdiskDownload\\python学习\\python编程快速上手\\第8章\\answer\\capitalsquiz_answers11.txt\n",
      "E:\\BaiduNetdiskDownload\\python学习\\python编程快速上手\\第8章\\answer\\capitalsquiz_answers12.txt\n",
      "E:\\BaiduNetdiskDownload\\python学习\\python编程快速上手\\第8章\\answer\\capitalsquiz_answers13.txt\n",
      "E:\\BaiduNetdiskDownload\\python学习\\python编程快速上手\\第8章\\answer\\capitalsquiz_answers14.txt\n",
      "E:\\BaiduNetdiskDownload\\python学习\\python编程快速上手\\第8章\\answer\\capitalsquiz_answers15.txt\n",
      "E:\\BaiduNetdiskDownload\\python学习\\python编程快速上手\\第8章\\answer\\capitalsquiz_answers16.txt\n",
      "E:\\BaiduNetdiskDownload\\python学习\\python编程快速上手\\第8章\\answer\\capitalsquiz_answers17.txt\n",
      "E:\\BaiduNetdiskDownload\\python学习\\python编程快速上手\\第8章\\answer\\capitalsquiz_answers18.txt\n",
      "E:\\BaiduNetdiskDownload\\python学习\\python编程快速上手\\第8章\\answer\\capitalsquiz_answers19.txt\n",
      "E:\\BaiduNetdiskDownload\\python学习\\python编程快速上手\\第8章\\answer\\capitalsquiz_answers2.txt\n",
      "E:\\BaiduNetdiskDownload\\python学习\\python编程快速上手\\第8章\\answer\\capitalsquiz_answers20.txt\n",
      "E:\\BaiduNetdiskDownload\\python学习\\python编程快速上手\\第8章\\answer\\capitalsquiz_answers21.txt\n",
      "E:\\BaiduNetdiskDownload\\python学习\\python编程快速上手\\第8章\\answer\\capitalsquiz_answers22.txt\n",
      "E:\\BaiduNetdiskDownload\\python学习\\python编程快速上手\\第8章\\answer\\capitalsquiz_answers23.txt\n",
      "E:\\BaiduNetdiskDownload\\python学习\\python编程快速上手\\第8章\\answer\\capitalsquiz_answers24.txt\n",
      "E:\\BaiduNetdiskDownload\\python学习\\python编程快速上手\\第8章\\answer\\capitalsquiz_answers25.txt\n",
      "E:\\BaiduNetdiskDownload\\python学习\\python编程快速上手\\第8章\\answer\\capitalsquiz_answers26.txt\n",
      "E:\\BaiduNetdiskDownload\\python学习\\python编程快速上手\\第8章\\answer\\capitalsquiz_answers27.txt\n",
      "E:\\BaiduNetdiskDownload\\python学习\\python编程快速上手\\第8章\\answer\\capitalsquiz_answers28.txt\n",
      "E:\\BaiduNetdiskDownload\\python学习\\python编程快速上手\\第8章\\answer\\capitalsquiz_answers29.txt\n",
      "E:\\BaiduNetdiskDownload\\python学习\\python编程快速上手\\第8章\\answer\\capitalsquiz_answers3.txt\n",
      "E:\\BaiduNetdiskDownload\\python学习\\python编程快速上手\\第8章\\answer\\capitalsquiz_answers30.txt\n",
      "E:\\BaiduNetdiskDownload\\python学习\\python编程快速上手\\第8章\\answer\\capitalsquiz_answers31.txt\n",
      "E:\\BaiduNetdiskDownload\\python学习\\python编程快速上手\\第8章\\answer\\capitalsquiz_answers32.txt\n",
      "E:\\BaiduNetdiskDownload\\python学习\\python编程快速上手\\第8章\\answer\\capitalsquiz_answers33.txt\n",
      "E:\\BaiduNetdiskDownload\\python学习\\python编程快速上手\\第8章\\answer\\capitalsquiz_answers34.txt\n",
      "E:\\BaiduNetdiskDownload\\python学习\\python编程快速上手\\第8章\\answer\\capitalsquiz_answers35.txt\n",
      "E:\\BaiduNetdiskDownload\\python学习\\python编程快速上手\\第8章\\answer\\capitalsquiz_answers4.txt\n",
      "E:\\BaiduNetdiskDownload\\python学习\\python编程快速上手\\第8章\\answer\\capitalsquiz_answers5.txt\n",
      "E:\\BaiduNetdiskDownload\\python学习\\python编程快速上手\\第8章\\answer\\capitalsquiz_answers6.txt\n",
      "E:\\BaiduNetdiskDownload\\python学习\\python编程快速上手\\第8章\\answer\\capitalsquiz_answers7.txt\n",
      "E:\\BaiduNetdiskDownload\\python学习\\python编程快速上手\\第8章\\answer\\capitalsquiz_answers8.txt\n",
      "E:\\BaiduNetdiskDownload\\python学习\\python编程快速上手\\第8章\\answer\\capitalsquiz_answers9.txt\n",
      "E:\\BaiduNetdiskDownload\\python学习\\python编程快速上手\\第8章\\quiz\\capitalsquize1.txt\n",
      "E:\\BaiduNetdiskDownload\\python学习\\python编程快速上手\\第8章\\quiz\\capitalsquize10.txt\n",
      "E:\\BaiduNetdiskDownload\\python学习\\python编程快速上手\\第8章\\quiz\\capitalsquize11.txt\n",
      "E:\\BaiduNetdiskDownload\\python学习\\python编程快速上手\\第8章\\quiz\\capitalsquize12.txt\n",
      "E:\\BaiduNetdiskDownload\\python学习\\python编程快速上手\\第8章\\quiz\\capitalsquize13.txt\n",
      "E:\\BaiduNetdiskDownload\\python学习\\python编程快速上手\\第8章\\quiz\\capitalsquize14.txt\n",
      "E:\\BaiduNetdiskDownload\\python学习\\python编程快速上手\\第8章\\quiz\\capitalsquize15.txt\n",
      "E:\\BaiduNetdiskDownload\\python学习\\python编程快速上手\\第8章\\quiz\\capitalsquize16.txt\n",
      "E:\\BaiduNetdiskDownload\\python学习\\python编程快速上手\\第8章\\quiz\\capitalsquize17.txt\n",
      "E:\\BaiduNetdiskDownload\\python学习\\python编程快速上手\\第8章\\quiz\\capitalsquize18.txt\n",
      "E:\\BaiduNetdiskDownload\\python学习\\python编程快速上手\\第8章\\quiz\\capitalsquize19.txt\n",
      "E:\\BaiduNetdiskDownload\\python学习\\python编程快速上手\\第8章\\quiz\\capitalsquize2.txt\n",
      "E:\\BaiduNetdiskDownload\\python学习\\python编程快速上手\\第8章\\quiz\\capitalsquize20.txt\n",
      "E:\\BaiduNetdiskDownload\\python学习\\python编程快速上手\\第8章\\quiz\\capitalsquize21.txt\n",
      "E:\\BaiduNetdiskDownload\\python学习\\python编程快速上手\\第8章\\quiz\\capitalsquize22.txt\n",
      "E:\\BaiduNetdiskDownload\\python学习\\python编程快速上手\\第8章\\quiz\\capitalsquize23.txt\n",
      "E:\\BaiduNetdiskDownload\\python学习\\python编程快速上手\\第8章\\quiz\\capitalsquize24.txt\n",
      "E:\\BaiduNetdiskDownload\\python学习\\python编程快速上手\\第8章\\quiz\\capitalsquize25.txt\n",
      "E:\\BaiduNetdiskDownload\\python学习\\python编程快速上手\\第8章\\quiz\\capitalsquize26.txt\n",
      "E:\\BaiduNetdiskDownload\\python学习\\python编程快速上手\\第8章\\quiz\\capitalsquize27.txt\n",
      "E:\\BaiduNetdiskDownload\\python学习\\python编程快速上手\\第8章\\quiz\\capitalsquize28.txt\n",
      "E:\\BaiduNetdiskDownload\\python学习\\python编程快速上手\\第8章\\quiz\\capitalsquize29.txt\n",
      "E:\\BaiduNetdiskDownload\\python学习\\python编程快速上手\\第8章\\quiz\\capitalsquize3.txt\n",
      "E:\\BaiduNetdiskDownload\\python学习\\python编程快速上手\\第8章\\quiz\\capitalsquize30.txt\n",
      "E:\\BaiduNetdiskDownload\\python学习\\python编程快速上手\\第8章\\quiz\\capitalsquize31.txt\n",
      "E:\\BaiduNetdiskDownload\\python学习\\python编程快速上手\\第8章\\quiz\\capitalsquize32.txt\n",
      "E:\\BaiduNetdiskDownload\\python学习\\python编程快速上手\\第8章\\quiz\\capitalsquize33.txt\n",
      "E:\\BaiduNetdiskDownload\\python学习\\python编程快速上手\\第8章\\quiz\\capitalsquize34.txt\n",
      "E:\\BaiduNetdiskDownload\\python学习\\python编程快速上手\\第8章\\quiz\\capitalsquize35.txt\n",
      "E:\\BaiduNetdiskDownload\\python学习\\python编程快速上手\\第8章\\quiz\\capitalsquize4.txt\n",
      "E:\\BaiduNetdiskDownload\\python学习\\python编程快速上手\\第8章\\quiz\\capitalsquize5.txt\n",
      "E:\\BaiduNetdiskDownload\\python学习\\python编程快速上手\\第8章\\quiz\\capitalsquize6.txt\n",
      "E:\\BaiduNetdiskDownload\\python学习\\python编程快速上手\\第8章\\quiz\\capitalsquize7.txt\n",
      "E:\\BaiduNetdiskDownload\\python学习\\python编程快速上手\\第8章\\quiz\\capitalsquize8.txt\n",
      "E:\\BaiduNetdiskDownload\\python学习\\python编程快速上手\\第8章\\quiz\\capitalsquize9.txt\n"
     ]
    }
   ],
   "source": [
    "seach_wenjian('E:\\\\BaiduNetdiskDownload\\\\python学习\\\\python编程快速上手\\\\第8章')"
   ]
  },
  {
   "cell_type": "markdown",
   "id": "6d87f59d",
   "metadata": {},
   "source": [
    "### 9.8.2 删除不需要的文件"
   ]
  },
  {
   "cell_type": "code",
   "execution_count": 75,
   "id": "1b4eb12f",
   "metadata": {},
   "outputs": [],
   "source": [
    "import os,shutil\n",
    "def delete_wenjian(folder):\n",
    "    for foldername,subfolders,filenames in os.walk(folder):\n",
    "        for filename in filenames:\n",
    "            filename_new = os.path.join(os.path.abspath(foldername),filename)\n",
    "            if os.path.getsize(filename_new) > 10*1024*1024:\n",
    "                print(filename_new)\n",
    "                #os.unlink(filename_new)"
   ]
  },
  {
   "cell_type": "code",
   "execution_count": 76,
   "id": "0b85e6be",
   "metadata": {},
   "outputs": [
    {
     "name": "stdout",
     "output_type": "stream",
     "text": [
      "E:\\红星美凯龙\\1.vpn\\ps-pulse%EF%BC%8864%E4%BD%8D%EF%BC%89.msi\n"
     ]
    }
   ],
   "source": [
    "delete_wenjian('E:\\红星美凯龙')"
   ]
  },
  {
   "cell_type": "markdown",
   "id": "e3a53956",
   "metadata": {},
   "source": [
    "### 9.8.3 消除缺失的编号"
   ]
  },
  {
   "cell_type": "code",
   "execution_count": null,
   "id": "0f1f631a",
   "metadata": {},
   "outputs": [],
   "source": []
  }
 ],
 "metadata": {
  "kernelspec": {
   "display_name": "Python 3",
   "language": "python",
   "name": "python3"
  },
  "language_info": {
   "codemirror_mode": {
    "name": "ipython",
    "version": 3
   },
   "file_extension": ".py",
   "mimetype": "text/x-python",
   "name": "python",
   "nbconvert_exporter": "python",
   "pygments_lexer": "ipython3",
   "version": "3.8.8"
  }
 },
 "nbformat": 4,
 "nbformat_minor": 5
}
