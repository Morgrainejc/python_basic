{
 "cells": [
  {
   "cell_type": "markdown",
   "id": "ffb1eb3f",
   "metadata": {},
   "source": [
    "## 8.1 文件与文件路径"
   ]
  },
  {
   "cell_type": "markdown",
   "id": "540b4e1e",
   "metadata": {},
   "source": [
    "### 8.1.1 windows上的倒斜杠以及OS X和Linux上的正斜杠"
   ]
  },
  {
   "cell_type": "code",
   "execution_count": 1,
   "id": "40d41960",
   "metadata": {},
   "outputs": [
    {
     "data": {
      "text/plain": [
       "'usr\\\\bin\\\\spam'"
      ]
     },
     "execution_count": 1,
     "metadata": {},
     "output_type": "execute_result"
    }
   ],
   "source": [
    "import os\n",
    "os.path.join('usr','bin','spam')"
   ]
  },
  {
   "cell_type": "code",
   "execution_count": 2,
   "id": "d571ca04",
   "metadata": {},
   "outputs": [
    {
     "name": "stdout",
     "output_type": "stream",
     "text": [
      "C:\\Users\\asweigart\\accounts.txt\n",
      "C:\\Users\\asweigart\\details.csv\n",
      "C:\\Users\\asweigart\\invite.docx\n"
     ]
    }
   ],
   "source": [
    "myFiles = ['accounts.txt','details.csv','invite.docx']\n",
    "for filename in myFiles:\n",
    "    print(os.path.join('C:\\\\Users\\\\asweigart',filename))"
   ]
  },
  {
   "cell_type": "markdown",
   "id": "204b2eee",
   "metadata": {},
   "source": [
    "### 8.1.2 当前工作目录"
   ]
  },
  {
   "cell_type": "code",
   "execution_count": 3,
   "id": "eaaf6d08",
   "metadata": {},
   "outputs": [
    {
     "data": {
      "text/plain": [
       "'D:\\\\data analysis\\\\python学习\\\\python编程快速上手'"
      ]
     },
     "execution_count": 3,
     "metadata": {},
     "output_type": "execute_result"
    }
   ],
   "source": [
    "os.getcwd()"
   ]
  },
  {
   "cell_type": "code",
   "execution_count": 4,
   "id": "e27c2e3e",
   "metadata": {},
   "outputs": [
    {
     "ename": "FileNotFoundError",
     "evalue": "[WinError 2] 系统找不到指定的文件。: 'C:\\\\thisfolderdoesnotexist'",
     "output_type": "error",
     "traceback": [
      "\u001b[1;31m---------------------------------------------------------------------------\u001b[0m",
      "\u001b[1;31mFileNotFoundError\u001b[0m                         Traceback (most recent call last)",
      "Cell \u001b[1;32mIn[4], line 1\u001b[0m\n\u001b[1;32m----> 1\u001b[0m os\u001b[38;5;241m.\u001b[39mchdir(\u001b[38;5;124m'\u001b[39m\u001b[38;5;124mC:\u001b[39m\u001b[38;5;130;01m\\\\\u001b[39;00m\u001b[38;5;124mthisfolderdoesnotexist\u001b[39m\u001b[38;5;124m'\u001b[39m)\n",
      "\u001b[1;31mFileNotFoundError\u001b[0m: [WinError 2] 系统找不到指定的文件。: 'C:\\\\thisfolderdoesnotexist'"
     ]
    }
   ],
   "source": [
    "os.chdir('C:\\\\thisfolderdoesnotexist')"
   ]
  },
  {
   "cell_type": "markdown",
   "id": "f7d0e604",
   "metadata": {},
   "source": [
    "### 8.1.3 绝对路径与相对路径"
   ]
  },
  {
   "cell_type": "markdown",
   "id": "532e2bc9",
   "metadata": {},
   "source": [
    "* 绝对路径，从根文件夹开始\n",
    "* 相对路径，相对于程序的当前工作目录\n",
    "* （.) 表示这个目录\n",
    "* (..)表示父目录"
   ]
  },
  {
   "cell_type": "markdown",
   "id": "d8b5b045",
   "metadata": {},
   "source": [
    "### 8.1.4 用os.makedirs()创建新文件夹"
   ]
  },
  {
   "cell_type": "code",
   "execution_count": 5,
   "id": "590806f1",
   "metadata": {},
   "outputs": [],
   "source": [
    "os.makedirs('D:\\\\data analysis\\\\python学习\\\\python编程快速上手\\\\test1')"
   ]
  },
  {
   "cell_type": "code",
   "execution_count": 6,
   "id": "dc18a6ad",
   "metadata": {},
   "outputs": [],
   "source": [
    "os.makedirs('.\\\\test2')"
   ]
  },
  {
   "cell_type": "markdown",
   "id": "1a285d8b",
   "metadata": {},
   "source": [
    "### 8.1.5 os.path 模块"
   ]
  },
  {
   "cell_type": "markdown",
   "id": "ca2869f2",
   "metadata": {},
   "source": [
    "包含了许多与文件名和文件路径相关的有用函数"
   ]
  },
  {
   "cell_type": "markdown",
   "id": "f8b5137c",
   "metadata": {},
   "source": [
    "### 8.1.6 处理绝对路径和相对路径"
   ]
  },
  {
   "cell_type": "code",
   "execution_count": 9,
   "id": "339f6968",
   "metadata": {},
   "outputs": [
    {
     "data": {
      "text/plain": [
       "'D:\\\\data analysis\\\\python学习\\\\python编程快速上手'"
      ]
     },
     "execution_count": 9,
     "metadata": {},
     "output_type": "execute_result"
    }
   ],
   "source": [
    "#返回绝对路径，可以将相对路径转换为绝对路径\n",
    "os.path.abspath('.')"
   ]
  },
  {
   "cell_type": "code",
   "execution_count": 8,
   "id": "ad20aa88",
   "metadata": {},
   "outputs": [
    {
     "data": {
      "text/plain": [
       "'D:\\\\data analysis\\\\python学习\\\\python编程快速上手\\\\python变成快速上手'"
      ]
     },
     "execution_count": 8,
     "metadata": {},
     "output_type": "execute_result"
    }
   ],
   "source": [
    "os.path.abspath('.\\\\python变成快速上手')"
   ]
  },
  {
   "cell_type": "code",
   "execution_count": 10,
   "id": "e6ca0ff1",
   "metadata": {},
   "outputs": [
    {
     "data": {
      "text/plain": [
       "False"
      ]
     },
     "execution_count": 10,
     "metadata": {},
     "output_type": "execute_result"
    }
   ],
   "source": [
    "#绝对路径返回true，相对路径返回false\n",
    "os.path.isabs('.')"
   ]
  },
  {
   "cell_type": "code",
   "execution_count": 11,
   "id": "ae1798f0",
   "metadata": {},
   "outputs": [
    {
     "data": {
      "text/plain": [
       "True"
      ]
     },
     "execution_count": 11,
     "metadata": {},
     "output_type": "execute_result"
    }
   ],
   "source": [
    "os.path.isabs(os.path.abspath('.'))"
   ]
  },
  {
   "cell_type": "code",
   "execution_count": 13,
   "id": "98c79123",
   "metadata": {},
   "outputs": [
    {
     "data": {
      "text/plain": [
       "'python学习\\\\python编程快速上手'"
      ]
     },
     "execution_count": 13,
     "metadata": {},
     "output_type": "execute_result"
    }
   ],
   "source": [
    "#os.path.relpath(path,start)返回从start到path的相对路径的字符串\n",
    "os.path.relpath('D:\\\\data analysis\\\\python学习\\\\python编程快速上手','D:\\\\data analysis')"
   ]
  },
  {
   "cell_type": "code",
   "execution_count": 16,
   "id": "3270c1a3",
   "metadata": {},
   "outputs": [
    {
     "data": {
      "text/plain": [
       "'..\\\\data analysis\\\\python学习\\\\python编程快速上手'"
      ]
     },
     "execution_count": 16,
     "metadata": {},
     "output_type": "execute_result"
    }
   ],
   "source": [
    "os.path.relpath('D:\\\\data analysis\\\\python学习\\\\python编程快速上手','D:\\\\代考')"
   ]
  },
  {
   "cell_type": "code",
   "execution_count": 17,
   "id": "e55e85e9",
   "metadata": {},
   "outputs": [
    {
     "data": {
      "text/plain": [
       "'D:\\\\data analysis\\\\python学习\\\\python编程快速上手'"
      ]
     },
     "execution_count": 17,
     "metadata": {},
     "output_type": "execute_result"
    }
   ],
   "source": [
    "os.getcwd()"
   ]
  },
  {
   "cell_type": "code",
   "execution_count": 21,
   "id": "62b3fdec",
   "metadata": {},
   "outputs": [
    {
     "data": {
      "text/plain": [
       "'第8章.读写文件.ipynb'"
      ]
     },
     "execution_count": 21,
     "metadata": {},
     "output_type": "execute_result"
    }
   ],
   "source": [
    "#返回最后一个斜杠前和后的内容\n",
    "path = 'D:\\\\data analysis\\\\python学习\\\\python编程快速上手\\\\第8章.读写文件.ipynb'\n",
    "os.path.basename(path)"
   ]
  },
  {
   "cell_type": "code",
   "execution_count": 22,
   "id": "1ccc52e9",
   "metadata": {},
   "outputs": [
    {
     "data": {
      "text/plain": [
       "'D:\\\\data analysis\\\\python学习\\\\python编程快速上手'"
      ]
     },
     "execution_count": 22,
     "metadata": {},
     "output_type": "execute_result"
    }
   ],
   "source": [
    "os.path.dirname(path)"
   ]
  },
  {
   "cell_type": "code",
   "execution_count": 23,
   "id": "c06386f2",
   "metadata": {},
   "outputs": [
    {
     "data": {
      "text/plain": [
       "('D:\\\\data analysis\\\\python学习\\\\python编程快速上手', '第8章.读写文件.ipynb')"
      ]
     },
     "execution_count": 23,
     "metadata": {},
     "output_type": "execute_result"
    }
   ],
   "source": [
    "#返回一个路径的目录和基本名称(只返回2个)\n",
    "os.path.split(path)"
   ]
  },
  {
   "cell_type": "code",
   "execution_count": 25,
   "id": "5e54658b",
   "metadata": {},
   "outputs": [
    {
     "data": {
      "text/plain": [
       "('D:\\\\data analysis\\\\python学习\\\\python编程快速上手', '第8章.读写文件.ipynb')"
      ]
     },
     "execution_count": 25,
     "metadata": {},
     "output_type": "execute_result"
    }
   ],
   "source": [
    "(os.path.dirname(path),os.path.basename(path))"
   ]
  },
  {
   "cell_type": "code",
   "execution_count": 26,
   "id": "a6ed2e7a",
   "metadata": {},
   "outputs": [
    {
     "data": {
      "text/plain": [
       "['D:', 'data analysis', 'python学习', 'python编程快速上手', '第8章.读写文件.ipynb']"
      ]
     },
     "execution_count": 26,
     "metadata": {},
     "output_type": "execute_result"
    }
   ],
   "source": [
    "#返回每个文件夹的字符串列表\n",
    "path.split(os.path.sep)"
   ]
  },
  {
   "cell_type": "markdown",
   "id": "34c9c4be",
   "metadata": {},
   "source": [
    "### 8.1.7 查看文件大小和文件夹内容"
   ]
  },
  {
   "cell_type": "code",
   "execution_count": 28,
   "id": "5272278d",
   "metadata": {},
   "outputs": [
    {
     "data": {
      "text/plain": [
       "10111"
      ]
     },
     "execution_count": 28,
     "metadata": {},
     "output_type": "execute_result"
    }
   ],
   "source": [
    "#返回文件字节数\n",
    "os.path.getsize(path)"
   ]
  },
  {
   "cell_type": "code",
   "execution_count": 29,
   "id": "f302cda7",
   "metadata": {},
   "outputs": [
    {
     "data": {
      "text/plain": [
       "['.ipynb_checkpoints',\n",
       " 'test1',\n",
       " 'test2',\n",
       " '第7章.模式匹配与正则表达式.ipynb',\n",
       " '第8章.读写文件.ipynb']"
      ]
     },
     "execution_count": 29,
     "metadata": {},
     "output_type": "execute_result"
    }
   ],
   "source": [
    "#返回文件名字符串列表\n",
    "os.listdir('D:\\\\data analysis\\\\python学习\\\\python编程快速上手')"
   ]
  },
  {
   "cell_type": "markdown",
   "id": "49c61690",
   "metadata": {},
   "source": [
    "### 8.1.8 检查路径有效性"
   ]
  },
  {
   "cell_type": "code",
   "execution_count": 4,
   "id": "ebe7fcb6",
   "metadata": {},
   "outputs": [
    {
     "data": {
      "text/plain": [
       "False"
      ]
     },
     "execution_count": 4,
     "metadata": {},
     "output_type": "execute_result"
    }
   ],
   "source": [
    "#检查路径是否正确\n",
    "os.path.exists('D:\\\\data analysis\\\\python学习\\\\python编程快速上手')"
   ]
  },
  {
   "cell_type": "code",
   "execution_count": 3,
   "id": "d4c9e723",
   "metadata": {},
   "outputs": [
    {
     "data": {
      "text/plain": [
       "False"
      ]
     },
     "execution_count": 3,
     "metadata": {},
     "output_type": "execute_result"
    }
   ],
   "source": [
    "#检查路径是否正确，并且是一个文件夹\n",
    "os.path.isdir('D:\\\\data analysis\\\\python学习\\\\python编程快速上手')"
   ]
  },
  {
   "cell_type": "code",
   "execution_count": 2,
   "id": "aacf5696",
   "metadata": {},
   "outputs": [
    {
     "data": {
      "text/plain": [
       "False"
      ]
     },
     "execution_count": 2,
     "metadata": {},
     "output_type": "execute_result"
    }
   ],
   "source": [
    "#检查路径是否正确，并且是一个文件\n",
    "os.path.isfile('D:\\\\data analysis\\\\python学习\\\\python编程快速上手')"
   ]
  },
  {
   "cell_type": "code",
   "execution_count": 6,
   "id": "d809c777",
   "metadata": {},
   "outputs": [
    {
     "data": {
      "text/plain": [
       "'E:\\\\BaiduNetdiskDownload\\\\python学习\\\\python编程快速上手'"
      ]
     },
     "execution_count": 6,
     "metadata": {},
     "output_type": "execute_result"
    }
   ],
   "source": [
    "os.getcwd()"
   ]
  },
  {
   "cell_type": "markdown",
   "id": "e32ceafd",
   "metadata": {},
   "source": [
    "## 8.2 文件读写过程"
   ]
  },
  {
   "cell_type": "markdown",
   "id": "d5aef36b",
   "metadata": {},
   "source": [
    "### 8.2.1 调用open()函数打开文件"
   ]
  },
  {
   "cell_type": "code",
   "execution_count": 83,
   "id": "8f15276d",
   "metadata": {},
   "outputs": [],
   "source": [
    "helloFile = open('.\\\\hello.txt')"
   ]
  },
  {
   "cell_type": "markdown",
   "id": "9ab5a715",
   "metadata": {},
   "source": [
    "### 8.2.2 读取文件内容"
   ]
  },
  {
   "cell_type": "code",
   "execution_count": 84,
   "id": "06543dec",
   "metadata": {},
   "outputs": [
    {
     "data": {
      "text/plain": [
       "'Hello world!'"
      ]
     },
     "execution_count": 84,
     "metadata": {},
     "output_type": "execute_result"
    }
   ],
   "source": [
    "helloFile.read()"
   ]
  },
  {
   "cell_type": "code",
   "execution_count": 62,
   "id": "86ea3692",
   "metadata": {},
   "outputs": [
    {
     "data": {
      "text/plain": [
       "['And trouble deaf heaven with my\\n', 'And look upon']"
      ]
     },
     "execution_count": 62,
     "metadata": {},
     "output_type": "execute_result"
    }
   ],
   "source": [
    "sonnetFile = open('.\\\\sonnet29.txt')\n",
    "sonnetFile.readlines()"
   ]
  },
  {
   "cell_type": "markdown",
   "id": "ebfe0b76",
   "metadata": {},
   "source": [
    "### 8.2.3 写入文件"
   ]
  },
  {
   "cell_type": "code",
   "execution_count": 17,
   "id": "3fd09ddb",
   "metadata": {},
   "outputs": [
    {
     "data": {
      "text/plain": [
       "12"
      ]
     },
     "execution_count": 17,
     "metadata": {},
     "output_type": "execute_result"
    }
   ],
   "source": [
    "baconFile = open('bacon.txt','w')\n",
    "baconFile.write('Hello word:\\n')"
   ]
  },
  {
   "cell_type": "code",
   "execution_count": 18,
   "id": "a766f308",
   "metadata": {},
   "outputs": [],
   "source": [
    "baconFile.close()"
   ]
  },
  {
   "cell_type": "code",
   "execution_count": 21,
   "id": "1190a2c3",
   "metadata": {},
   "outputs": [
    {
     "data": {
      "text/plain": [
       "23"
      ]
     },
     "execution_count": 21,
     "metadata": {},
     "output_type": "execute_result"
    }
   ],
   "source": [
    "baconFile = open('bacon.txt','a')\n",
    "baconFile.write('Bacon is not a vegetale')"
   ]
  },
  {
   "cell_type": "code",
   "execution_count": 22,
   "id": "54a602d3",
   "metadata": {},
   "outputs": [],
   "source": [
    "baconFile.close()"
   ]
  },
  {
   "cell_type": "code",
   "execution_count": 23,
   "id": "11baea8f",
   "metadata": {},
   "outputs": [],
   "source": [
    "baconFile = open('bacon.txt')"
   ]
  },
  {
   "cell_type": "code",
   "execution_count": 24,
   "id": "1b06f91a",
   "metadata": {},
   "outputs": [],
   "source": [
    "content = baconFile.read()"
   ]
  },
  {
   "cell_type": "code",
   "execution_count": 25,
   "id": "fd935f53",
   "metadata": {},
   "outputs": [],
   "source": [
    "baconFile.close()"
   ]
  },
  {
   "cell_type": "code",
   "execution_count": 26,
   "id": "f69b9519",
   "metadata": {},
   "outputs": [
    {
     "name": "stdout",
     "output_type": "stream",
     "text": [
      "Hello word:\n",
      "Bacon is not a vegetale\n"
     ]
    }
   ],
   "source": [
    "print(content)"
   ]
  },
  {
   "cell_type": "markdown",
   "id": "db806870",
   "metadata": {},
   "source": [
    "## 8.3 用shelve模块保存变量"
   ]
  },
  {
   "cell_type": "markdown",
   "id": "804eca37",
   "metadata": {},
   "source": [
    "利用shelve模块，可以将python程序中的变量保存到二进制的shelf文件中，这样程序就可以从硬盘中回复变量的数据"
   ]
  },
  {
   "cell_type": "code",
   "execution_count": 2,
   "id": "a580dba2",
   "metadata": {},
   "outputs": [],
   "source": [
    "import shelve"
   ]
  },
  {
   "cell_type": "code",
   "execution_count": 3,
   "id": "662f10cf",
   "metadata": {},
   "outputs": [],
   "source": [
    "shelfFile = shelve.open('mydata')\n",
    "cats = ['Zophie','Pooka','Simon']\n",
    "shelfFile['cats'] = cats\n",
    "shelfFile.close()"
   ]
  },
  {
   "cell_type": "markdown",
   "id": "7e568d94",
   "metadata": {},
   "source": [
    "shelf文件打开后既能读也能写"
   ]
  },
  {
   "cell_type": "code",
   "execution_count": 42,
   "id": "9fd49c33",
   "metadata": {},
   "outputs": [
    {
     "data": {
      "text/plain": [
       "shelve.DbfilenameShelf"
      ]
     },
     "execution_count": 42,
     "metadata": {},
     "output_type": "execute_result"
    }
   ],
   "source": [
    "shelfFile = shelve.open('mydata')\n",
    "type(shelfFile)"
   ]
  },
  {
   "cell_type": "code",
   "execution_count": 43,
   "id": "7302391f",
   "metadata": {},
   "outputs": [
    {
     "data": {
      "text/plain": [
       "['Zophie', 'Pooka', 'Simon']"
      ]
     },
     "execution_count": 43,
     "metadata": {},
     "output_type": "execute_result"
    }
   ],
   "source": [
    "shelfFile['cats']"
   ]
  },
  {
   "cell_type": "code",
   "execution_count": 32,
   "id": "f7597735",
   "metadata": {},
   "outputs": [],
   "source": [
    "shelfFile.close()"
   ]
  },
  {
   "cell_type": "markdown",
   "id": "71403365",
   "metadata": {},
   "source": [
    "shelf值由keys()和values()方法"
   ]
  },
  {
   "cell_type": "code",
   "execution_count": 4,
   "id": "17ce1718",
   "metadata": {},
   "outputs": [
    {
     "data": {
      "text/plain": [
       "['cats']"
      ]
     },
     "execution_count": 4,
     "metadata": {},
     "output_type": "execute_result"
    }
   ],
   "source": [
    "shelfFile = shelve.open('mydata')\n",
    "list(shelfFile.keys())"
   ]
  },
  {
   "cell_type": "code",
   "execution_count": 5,
   "id": "2e6419e6",
   "metadata": {},
   "outputs": [
    {
     "data": {
      "text/plain": [
       "[['Zophie', 'Pooka', 'Simon']]"
      ]
     },
     "execution_count": 5,
     "metadata": {},
     "output_type": "execute_result"
    }
   ],
   "source": [
    "list(shelfFile.values())"
   ]
  },
  {
   "cell_type": "code",
   "execution_count": 44,
   "id": "68860e6d",
   "metadata": {},
   "outputs": [],
   "source": [
    "shelfFile.close()"
   ]
  },
  {
   "cell_type": "markdown",
   "id": "01c493a7",
   "metadata": {},
   "source": [
    "## 8.4 用pprint.pformat()函数保存变量"
   ]
  },
  {
   "cell_type": "code",
   "execution_count": 7,
   "id": "caad5e3a",
   "metadata": {},
   "outputs": [],
   "source": [
    "#漂亮打印\n",
    "import pprint\n",
    "message = 'It wa a bright cold day in Apri,and the clocks were strinking thirteen.'\n",
    "count = {}"
   ]
  },
  {
   "cell_type": "code",
   "execution_count": 8,
   "id": "14799924",
   "metadata": {},
   "outputs": [
    {
     "name": "stdout",
     "output_type": "stream",
     "text": [
      "{' ': 12,\n",
      " ',': 1,\n",
      " '.': 1,\n",
      " 'A': 1,\n",
      " 'I': 1,\n",
      " 'a': 4,\n",
      " 'b': 1,\n",
      " 'c': 3,\n",
      " 'd': 3,\n",
      " 'e': 5,\n",
      " 'g': 2,\n",
      " 'h': 3,\n",
      " 'i': 6,\n",
      " 'k': 2,\n",
      " 'l': 2,\n",
      " 'n': 5,\n",
      " 'o': 2,\n",
      " 'p': 1,\n",
      " 'r': 5,\n",
      " 's': 2,\n",
      " 't': 6,\n",
      " 'w': 2,\n",
      " 'y': 1}\n"
     ]
    }
   ],
   "source": [
    "for character in message:\n",
    "    count.setdefault(character,0)\n",
    "    count[character] = count[character] + 1\n",
    "    \n",
    "pprint.pprint(count)"
   ]
  },
  {
   "cell_type": "code",
   "execution_count": 16,
   "id": "28ea92fb",
   "metadata": {},
   "outputs": [
    {
     "data": {
      "text/plain": [
       "\"[{'desc': 'chubby', 'name': 'Zophie'}, {'desc': 'fluffy', 'name': 'Pooja'}]\""
      ]
     },
     "execution_count": 16,
     "metadata": {},
     "output_type": "execute_result"
    }
   ],
   "source": [
    "import pprint\n",
    "cats =[{'name':'Zophie','desc':'chubby'},{'name':'Pooja','desc':'fluffy'}]\n",
    "pprint.pformat(cats)"
   ]
  },
  {
   "cell_type": "code",
   "execution_count": 17,
   "id": "08bf8148",
   "metadata": {},
   "outputs": [
    {
     "data": {
      "text/plain": [
       "83"
      ]
     },
     "execution_count": 17,
     "metadata": {},
     "output_type": "execute_result"
    }
   ],
   "source": [
    "file0bj = open('myCats.py','w')\n",
    "file0bj.write('cats = ' + pprint.pformat(cats) + '\\n')"
   ]
  },
  {
   "cell_type": "code",
   "execution_count": 18,
   "id": "7ea9f641",
   "metadata": {},
   "outputs": [],
   "source": [
    "file0bj.close()"
   ]
  },
  {
   "cell_type": "code",
   "execution_count": 20,
   "id": "8bc19329",
   "metadata": {},
   "outputs": [
    {
     "data": {
      "text/plain": [
       "str"
      ]
     },
     "execution_count": 20,
     "metadata": {},
     "output_type": "execute_result"
    }
   ],
   "source": [
    "#格式化字符串\n",
    "type(pprint.pformat(cats))"
   ]
  },
  {
   "cell_type": "code",
   "execution_count": 21,
   "id": "6c4083d0",
   "metadata": {},
   "outputs": [
    {
     "data": {
      "text/plain": [
       "[{'desc': 'chubby', 'name': 'Zophie'}, {'desc': 'fluffy', 'name': 'Pooja'}]"
      ]
     },
     "execution_count": 21,
     "metadata": {},
     "output_type": "execute_result"
    }
   ],
   "source": [
    "import myCats\n",
    "myCats.cats"
   ]
  },
  {
   "cell_type": "code",
   "execution_count": 22,
   "id": "8733f0a2",
   "metadata": {},
   "outputs": [
    {
     "data": {
      "text/plain": [
       "{'desc': 'chubby', 'name': 'Zophie'}"
      ]
     },
     "execution_count": 22,
     "metadata": {},
     "output_type": "execute_result"
    }
   ],
   "source": [
    "myCats.cats[0]"
   ]
  },
  {
   "cell_type": "markdown",
   "id": "348732b6",
   "metadata": {},
   "source": [
    "## 8.5 项目：生成随机的测验试卷文件"
   ]
  },
  {
   "cell_type": "markdown",
   "id": "31615315",
   "metadata": {},
   "source": [
    "### 第一步.将测验数据保存在一个字典中"
   ]
  },
  {
   "cell_type": "code",
   "execution_count": 30,
   "id": "c0a7fd9f",
   "metadata": {},
   "outputs": [],
   "source": [
    "import random\n",
    "capitals = {'Alabama':'Montgomery','Alaska':'Juneau','Arizona':'Phoenix',\n",
    "            'Arkansas':'Litter Roc','California':'Sacramento'}"
   ]
  },
  {
   "cell_type": "code",
   "execution_count": 37,
   "id": "26863530",
   "metadata": {},
   "outputs": [],
   "source": [
    "#第二步：创建测验文件，并打乱问题次序\n",
    "#创建35份问卷\n",
    "for quizNum in range(35):\n",
    "    quizFile = open('.\\\\第8章\\\\quiz\\\\capitalsquize%s.txt'%(quizNum+1),'w')\n",
    "    answerKeyFile = open('.\\\\第8章\\\\answer\\\\capitalsquiz_answers%s.txt'%(quizNum+1),'w')\n",
    "    \n",
    "    quizFile.write('Name:\\n\\nDate:\\n\\nPeriod:\\n\\n')\n",
    "    quizFile.write((' '*20) + 'State Capitals Quiz (form %s)' % (quizNum+1))\n",
    "    quizFile.write('\\n\\n')\n",
    "    \n",
    "    states = list(capitals.keys())\n",
    "    random.shuffle(states)\n",
    "    \n",
    "    #第三步：创建答案选项\n",
    "    for questionNum in range(3):\n",
    "        correctAnswer = capitals[states[questionNum]]\n",
    "        wrongAnswers = list(capitals.values())\n",
    "        del wrongAnswers[wrongAnswers.index(correctAnswer)]\n",
    "        wrongAnswers = random.sample(wrongAnswers,3)\n",
    "        answerOptions = wrongAnswers + [correctAnswer]\n",
    "        random.shuffle(answerOptions)\n",
    "        \n",
    "        #第四步：将内容写入测验问卷和答案文件\n",
    "        quizFile.write('%s.what is the capital of %s?\\n' % \n",
    "                       (questionNum+1,states[questionNum]))\n",
    "        for i in range(4):\n",
    "            quizFile.write('%s.%s\\n' % ('ABCD'[i],answerOptions[i]))\n",
    "        quizFile.write('\\n')\n",
    "        \n",
    "        answerKeyFile.write('%s.%s\\n' % \n",
    "                            (questionNum+1,'ABCD'[answerOptions.index(correctAnswer)]))\n",
    "        \n",
    "    quizFile.close()\n",
    "    answerKeyFile.close()\n",
    "        "
   ]
  },
  {
   "cell_type": "markdown",
   "id": "4e74a82f",
   "metadata": {},
   "source": [
    "## 8.6 项目：多重剪贴板"
   ]
  },
  {
   "cell_type": "code",
   "execution_count": 38,
   "id": "485a36a3",
   "metadata": {},
   "outputs": [],
   "source": [
    "import shelve,pyperclip,sys"
   ]
  },
  {
   "cell_type": "code",
   "execution_count": 159,
   "id": "b2fae4a7",
   "metadata": {},
   "outputs": [],
   "source": [
    "#第一步：注释和shelf设置\n",
    "mcbShelf = shelve.open('mcb')\n",
    "\n",
    "#第二步：用一个关键字保存剪贴板内容\n",
    "if len(sys.argv) == 3 and sys.argv[1].lower() == 'save':\n",
    "    mcbShelf[sys.argv[2]] = pyperclip.paste()\n",
    "elif len(sys.argv) == 2:\n",
    "    #第三步：列出关键字和加载关键字的内容\n",
    "    if sys.argv[1].lower == 'list':\n",
    "        pyperclip.copy(str(list(mcbShelf.keys())))\n",
    "    elif sys.argv[1] in mcbShelf:\n",
    "        ppyerclip.copy(mcbShelf[sys.argv[1]])\n",
    "        \n",
    "mcbShelf.close()\n",
    "#具体解释见https://blog.csdn.net/qq_37919718/article/details/129317221"
   ]
  },
  {
   "cell_type": "markdown",
   "id": "09ebc956",
   "metadata": {},
   "source": [
    "## 8.8 习题"
   ]
  },
  {
   "cell_type": "code",
   "execution_count": 55,
   "id": "376ef28a",
   "metadata": {},
   "outputs": [
    {
     "data": {
      "text/plain": [
       "'E:\\\\BaiduNetdiskDownload\\\\python学习\\\\python编程快速上手'"
      ]
     },
     "execution_count": 55,
     "metadata": {},
     "output_type": "execute_result"
    }
   ],
   "source": [
    "os.getcwd()"
   ]
  },
  {
   "cell_type": "code",
   "execution_count": 57,
   "id": "7b2f3997",
   "metadata": {},
   "outputs": [],
   "source": [
    "os.chdir('E:\\\\BaiduNetdiskDownload\\\\python学习\\\\python编程快速上手')"
   ]
  },
  {
   "cell_type": "markdown",
   "id": "f2a7e079",
   "metadata": {},
   "source": [
    "## 8.9 实践项目"
   ]
  },
  {
   "cell_type": "markdown",
   "id": "d2347bce",
   "metadata": {},
   "source": [
    "### 8.9.1 扩展多重剪贴板"
   ]
  },
  {
   "cell_type": "code",
   "execution_count": 165,
   "id": "a4368670",
   "metadata": {},
   "outputs": [],
   "source": [
    "#第一步：注释和shelf设置\n",
    "mcbShelf = shelve.open('mcb')\n",
    "\n",
    "#第二步：用一个关键字保存剪贴板内容\n",
    "if len(sys.argv) == 3 and sys.argv[1].lower() == 'save':\n",
    "    mcbShelf[sys.argv[2]] = pyperclip.paste()\n",
    "elif len(sys.argv)  == 3 and sys.argv[1].lower() == 'delete':\n",
    "    del mcbShelf[sys.argv[2]]\n",
    "elif len(sys.argv) == 2:\n",
    "    #第三步：列出关键字和加载关键字的内容\n",
    "    if sys.argv[1].lower == 'list':\n",
    "        pyperclip.copy(str(list(mcbShelf.keys())))\n",
    "    elif sys.argv[1] in mcbShelf:\n",
    "        ppyerclip.copy(mcbShelf[sys.argv[1]])\n",
    "    elif sys.argv[1].lower == 'delete':\n",
    "        mcbShelf.clear()\n",
    "        \n",
    "mcbShelf.close()\n",
    "#具体解释见https://blog.csdn.net/qq_37919718/article/details/129317221"
   ]
  },
  {
   "cell_type": "markdown",
   "id": "a854542c",
   "metadata": {},
   "source": [
    "### 8.9.2 疯狂填词"
   ]
  },
  {
   "cell_type": "code",
   "execution_count": 146,
   "id": "57de3436",
   "metadata": {},
   "outputs": [],
   "source": [
    "def mad_libs(txt):\n",
    "    sentence = open(txt)\n",
    "    sentencelist = sentence.read().split()\n",
    "    for i in range(len(sentencelist)):\n",
    "        if sentencelist[i].lower() == 'adjective':\n",
    "            sentencelist[i] = input('enter an adjective\\n')\n",
    "    \n",
    "    print(' '.join(sentencelist))\n",
    "    \n",
    "    sentence.close()\n",
    "    "
   ]
  },
  {
   "cell_type": "code",
   "execution_count": 147,
   "id": "6eacd476",
   "metadata": {},
   "outputs": [],
   "source": [
    "txt = '8.9.2.txt'"
   ]
  },
  {
   "cell_type": "code",
   "execution_count": 148,
   "id": "af19fa6d",
   "metadata": {},
   "outputs": [
    {
     "name": "stdout",
     "output_type": "stream",
     "text": [
      "enter an adjective\n",
      "jc\n",
      "enter an adjective\n",
      "njj\n",
      "a jc asdf sdfsew njj\n"
     ]
    }
   ],
   "source": [
    "mad_libs(txt)"
   ]
  },
  {
   "cell_type": "markdown",
   "id": "8a52df2b",
   "metadata": {},
   "source": [
    "### 8.9.3 正则表达式查找"
   ]
  },
  {
   "cell_type": "code",
   "execution_count": 116,
   "id": "138f7fc0",
   "metadata": {},
   "outputs": [],
   "source": [
    "import re\n",
    "import glob"
   ]
  },
  {
   "cell_type": "code",
   "execution_count": 141,
   "id": "a1a7a4dc",
   "metadata": {},
   "outputs": [],
   "source": [
    "textfiles = glob.glob(os.path.join\\\n",
    "('E:\\\\BaiduNetdiskDownload\\\\python学习\\\\python编程快速上手','*.txt'))"
   ]
  },
  {
   "cell_type": "code",
   "execution_count": 138,
   "id": "a6cb0f9d",
   "metadata": {},
   "outputs": [],
   "source": [
    "sentenceRex = re.compile(r'^Hello \\w*')"
   ]
  },
  {
   "cell_type": "code",
   "execution_count": 142,
   "id": "707a7797",
   "metadata": {},
   "outputs": [
    {
     "name": "stdout",
     "output_type": "stream",
     "text": [
      "[]\n",
      "['Hello word']\n",
      "['Hello world']\n",
      "[]\n"
     ]
    }
   ],
   "source": [
    "for textfile in textfiles:\n",
    "    with open(textfile,'r') as file:\n",
    "        mo = sentenceRex.findall(file.read())\n",
    "        print(mo)"
   ]
  },
  {
   "cell_type": "code",
   "execution_count": null,
   "id": "0caf5495",
   "metadata": {},
   "outputs": [],
   "source": []
  }
 ],
 "metadata": {
  "kernelspec": {
   "display_name": "Python 3",
   "language": "python",
   "name": "python3"
  },
  "language_info": {
   "codemirror_mode": {
    "name": "ipython",
    "version": 3
   },
   "file_extension": ".py",
   "mimetype": "text/x-python",
   "name": "python",
   "nbconvert_exporter": "python",
   "pygments_lexer": "ipython3",
   "version": "3.8.8"
  }
 },
 "nbformat": 4,
 "nbformat_minor": 5
}
