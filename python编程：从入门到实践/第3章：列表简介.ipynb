{
 "cells": [
  {
   "cell_type": "markdown",
   "id": "8ebe1cdc",
   "metadata": {},
   "source": [
    "## 3.1 列表是什么"
   ]
  },
  {
   "cell_type": "markdown",
   "id": "97dc2925",
   "metadata": {},
   "source": [
    "列表由一系列按特定顺序排列的元素组成。你可以创建包含字母表中所有字母、数字0～9或所有家庭成员姓名的列表；也可以将任何东西加入列表中，其中的元素之间可以没有任何关系。鉴于列表通常包含多个元素，给列表指定一个表示复数的名称（如letters、digits或names）是个不错的主意。"
   ]
  },
  {
   "cell_type": "code",
   "execution_count": 2,
   "id": "cd49a808",
   "metadata": {},
   "outputs": [
    {
     "name": "stdout",
     "output_type": "stream",
     "text": [
      "['trek', 'caanondale', 'redline', 'specialized']\n"
     ]
    }
   ],
   "source": [
    "bicycles = ['trek','caanondale','redline','specialized']\n",
    "print(bicycles)"
   ]
  },
  {
   "cell_type": "markdown",
   "id": "d98f0929",
   "metadata": {},
   "source": [
    "### 3.1.1 访问列表元素\n",
    "列表是**有序集合**，因此要访问列表的任何元素，只需将该元素的位置或索引告诉Python即可。"
   ]
  },
  {
   "cell_type": "code",
   "execution_count": 4,
   "id": "b7e6d82c",
   "metadata": {},
   "outputs": [
    {
     "name": "stdout",
     "output_type": "stream",
     "text": [
      "trek\n",
      "TREK\n"
     ]
    }
   ],
   "source": [
    "bicycles = ['trek','caanondale','redline','specialized']\n",
    "print(bicycles[0])\n",
    "print(bicycles[0].upper())"
   ]
  },
  {
   "cell_type": "markdown",
   "id": "fe94b03c",
   "metadata": {},
   "source": [
    "### 3.1.2 索引从0而不是1开始"
   ]
  },
  {
   "cell_type": "markdown",
   "id": "248fe535",
   "metadata": {},
   "source": [
    "1. 在Python中，第一个列表元素的索引为0，而不是1。"
   ]
  },
  {
   "cell_type": "code",
   "execution_count": 5,
   "id": "de70798b",
   "metadata": {},
   "outputs": [
    {
     "name": "stdout",
     "output_type": "stream",
     "text": [
      "caanondale\n",
      "specialized\n"
     ]
    }
   ],
   "source": [
    "bicycles = ['trek','caanondale','redline','specialized']\n",
    "print(bicycles[1])\n",
    "print(bicycles[3])"
   ]
  },
  {
   "cell_type": "markdown",
   "id": "a44555a9",
   "metadata": {},
   "source": [
    "2. Python为访问最后一个列表元素提供了一种特殊语法。通过将索引指定为-1"
   ]
  },
  {
   "cell_type": "code",
   "execution_count": 7,
   "id": "c41dfe9b",
   "metadata": {},
   "outputs": [
    {
     "name": "stdout",
     "output_type": "stream",
     "text": [
      "specialized\n",
      "redline\n"
     ]
    }
   ],
   "source": [
    "print(bicycles[-1])\n",
    "print(bicycles[-2])"
   ]
  },
  {
   "cell_type": "markdown",
   "id": "24dcf2e8",
   "metadata": {},
   "source": [
    "### 3.1.3 使用列表中的各个值"
   ]
  },
  {
   "cell_type": "code",
   "execution_count": 2,
   "id": "47a621b8",
   "metadata": {},
   "outputs": [
    {
     "name": "stdout",
     "output_type": "stream",
     "text": [
      "My first bicycle was a Trek.\n"
     ]
    }
   ],
   "source": [
    "bicycles = ['trek','cannondale','redline','specialized']\n",
    "message = \"My first bicycle was a \"+bicycles[0].title()+\".\"\n",
    "print(message)"
   ]
  },
  {
   "cell_type": "markdown",
   "id": "2e356081",
   "metadata": {},
   "source": [
    "### 动手试一试"
   ]
  },
  {
   "cell_type": "markdown",
   "id": "ce3cd8e6",
   "metadata": {},
   "source": [
    "1. 将一些朋友的姓名存储在一个列表中，并将其命名为names。依次访问该列表中的每个元素，从而将每个朋友的姓名都打印出来。"
   ]
  },
  {
   "cell_type": "code",
   "execution_count": 4,
   "id": "5520e24e",
   "metadata": {},
   "outputs": [
    {
     "name": "stdout",
     "output_type": "stream",
     "text": [
      "I am Jc.\n",
      "She is Bb\n"
     ]
    }
   ],
   "source": [
    "names = ['jc','bb','hh','hb']\n",
    "message = \"I am \"+names[0].title()+\".\\nShe is \"+names[1].title()\n",
    "print(message)"
   ]
  },
  {
   "cell_type": "markdown",
   "id": "7dc79e42",
   "metadata": {},
   "source": [
    "2. 想想你喜欢的通勤方式，如骑摩托车或开汽车，并创建一个包含多种通勤方式的列表。根据该列表打印一系列有关这些通勤方式的宣言，如“I would like to own a Honda motorcycle”。"
   ]
  },
  {
   "cell_type": "code",
   "execution_count": 5,
   "id": "52e9aa74",
   "metadata": {},
   "outputs": [
    {
     "name": "stdout",
     "output_type": "stream",
     "text": [
      "I like working by Bicycle\n"
     ]
    }
   ],
   "source": [
    "shangban = ['bicycle','subway','car','train']\n",
    "message = 'I like working by '+shangban[0].title()\n",
    "print(message)"
   ]
  },
  {
   "cell_type": "markdown",
   "id": "04dd0fca",
   "metadata": {},
   "source": [
    "## 3.2 修改、添加和删除元素"
   ]
  },
  {
   "cell_type": "markdown",
   "id": "ee703b4c",
   "metadata": {},
   "source": [
    "### 3.2.1 修改列表元素"
   ]
  },
  {
   "cell_type": "code",
   "execution_count": 6,
   "id": "c2f61389",
   "metadata": {},
   "outputs": [
    {
     "name": "stdout",
     "output_type": "stream",
     "text": [
      "['honda', 'yamaha', 'suzuku']\n",
      "['ducati', 'yamaha', 'suzuku']\n"
     ]
    }
   ],
   "source": [
    "motorcycles = ['honda','yamaha','suzuku']\n",
    "print(motorcycles)\n",
    "motorcycles[0] = 'ducati'\n",
    "print(motorcycles)"
   ]
  },
  {
   "cell_type": "markdown",
   "id": "8d4e69a2",
   "metadata": {},
   "source": [
    "### 3.2.2 在列表中添加元素"
   ]
  },
  {
   "cell_type": "markdown",
   "id": "bba5c9ef",
   "metadata": {},
   "source": [
    "#### 1.在列表末尾添加元素"
   ]
  },
  {
   "cell_type": "code",
   "execution_count": 8,
   "id": "03e662d9",
   "metadata": {},
   "outputs": [
    {
     "name": "stdout",
     "output_type": "stream",
     "text": [
      "['honda', 'yamaha', 'suzuki']\n",
      "['honda', 'yamaha', 'suzuki', 'ducati']\n"
     ]
    }
   ],
   "source": [
    "motorcycles = ['honda','yamaha','suzuki']\n",
    "print(motorcycles)\n",
    "motorcycles.append('ducati')\n",
    "print(motorcycles)"
   ]
  },
  {
   "cell_type": "code",
   "execution_count": 9,
   "id": "37b7d21b",
   "metadata": {},
   "outputs": [
    {
     "name": "stdout",
     "output_type": "stream",
     "text": [
      "['honda', 'yamaha', 'suzuki']\n"
     ]
    }
   ],
   "source": [
    "motorcycles = []\n",
    "motorcycles.append('honda')\n",
    "motorcycles.append('yamaha')\n",
    "motorcycles.append('suzuki')\n",
    "print(motorcycles)"
   ]
  },
  {
   "cell_type": "markdown",
   "id": "e7686dbe",
   "metadata": {},
   "source": [
    "#### 2.在列表中插入元素"
   ]
  },
  {
   "cell_type": "code",
   "execution_count": 12,
   "id": "acaf92c2",
   "metadata": {},
   "outputs": [
    {
     "name": "stdout",
     "output_type": "stream",
     "text": [
      "['honda', 'ducati', 'yamaha', 'suzuki']\n"
     ]
    }
   ],
   "source": [
    "motorcycles = ['honda','yamaha','suzuki']\n",
    "motorcycles.insert(1,'ducati')\n",
    "print(motorcycles)"
   ]
  },
  {
   "cell_type": "markdown",
   "id": "ebb8ce9d",
   "metadata": {},
   "source": [
    "### 3.2.3 从列表中删除元素"
   ]
  },
  {
   "cell_type": "markdown",
   "id": "7d054fe4",
   "metadata": {},
   "source": [
    "#### 1.使用del语句删除元素"
   ]
  },
  {
   "cell_type": "code",
   "execution_count": 15,
   "id": "9ead19e7",
   "metadata": {},
   "outputs": [
    {
     "name": "stdout",
     "output_type": "stream",
     "text": [
      "['honda', 'yamaha', 'suzuki']\n",
      "['honda', 'suzuki']\n"
     ]
    }
   ],
   "source": [
    "motorcycles = ['honda','yamaha','suzuki']\n",
    "print(motorcycles)\n",
    "del motorcycles[1]\n",
    "print(motorcycles)"
   ]
  },
  {
   "cell_type": "markdown",
   "id": "51438945",
   "metadata": {},
   "source": [
    "***在这两个示例中，使用del语句将值从列表中删除后，你就无法再访问它了。***"
   ]
  },
  {
   "cell_type": "markdown",
   "id": "b4009661",
   "metadata": {},
   "source": [
    "#### 2.使用方法pop()删除元素"
   ]
  },
  {
   "cell_type": "markdown",
   "id": "c2164005",
   "metadata": {},
   "source": [
    "方法pop()可删除列表末尾的元素，**并让你能够接着使用它**。术语弹出(pop)源自这样的类比：列表就像一个栈，而删除列表末尾的元素相当于弹出栈顶元素。"
   ]
  },
  {
   "cell_type": "code",
   "execution_count": 17,
   "id": "87652050",
   "metadata": {},
   "outputs": [
    {
     "name": "stdout",
     "output_type": "stream",
     "text": [
      "['honda', 'yamaha', 'suzuki']\n",
      "['honda', 'yamaha']\n",
      "suzuki\n"
     ]
    }
   ],
   "source": [
    "motorcycles = ['honda','yamaha','suzuki']\n",
    "print(motorcycles)\n",
    "poped_motorcycles = motorcycles.pop()\n",
    "print(motorcycles)\n",
    "print(poped_motorcycles)"
   ]
  },
  {
   "cell_type": "code",
   "execution_count": 18,
   "id": "49667ccc",
   "metadata": {},
   "outputs": [
    {
     "name": "stdout",
     "output_type": "stream",
     "text": [
      "The last motorcycle I owned was a Suzuki.\n"
     ]
    }
   ],
   "source": [
    "motorcycles = ['honda','yamaha','suzuki']\n",
    "last_owned = motorcycles.pop()\n",
    "print(\"The last motorcycle I owned was a \"+last_owned.title()+\".\")"
   ]
  },
  {
   "cell_type": "markdown",
   "id": "6b779f97",
   "metadata": {},
   "source": [
    "####  3.弹出列表中任何位置处的元素"
   ]
  },
  {
   "cell_type": "code",
   "execution_count": 21,
   "id": "7e00166f",
   "metadata": {},
   "outputs": [
    {
     "name": "stdout",
     "output_type": "stream",
     "text": [
      "The first motorcycle I owned was a Honda.\n"
     ]
    }
   ],
   "source": [
    "motorcycles = ['honda','yamaha','suzuki']\n",
    "first_owned = motorcycles.pop(0)\n",
    "print('The first motorcycle I owned was a '+first_owned.title()+'.')"
   ]
  },
  {
   "cell_type": "markdown",
   "id": "7fe0798f",
   "metadata": {},
   "source": [
    "***如果你不确定该使用del语句还是pop()方法，下面是一个简单的判断标准：如果你要从列表中删除一个元素，且不再以任何方式使用它，就使用del语句；如果你要在删除元素后还能继续使用它，就使用方法pop()。***"
   ]
  },
  {
   "cell_type": "markdown",
   "id": "2765d98f",
   "metadata": {},
   "source": [
    "#### 4.根据值删除元素"
   ]
  },
  {
   "cell_type": "code",
   "execution_count": 25,
   "id": "b15f1443",
   "metadata": {},
   "outputs": [
    {
     "name": "stdout",
     "output_type": "stream",
     "text": [
      "['honda', 'honda', 'suzuki', 'ducati']\n",
      "['honda', 'suzuki', 'ducati']\n"
     ]
    }
   ],
   "source": [
    "motorcycles = ['honda','honda','suzuki','ducati']\n",
    "print(motorcycles)\n",
    "motorcycles.remove('honda')\n",
    "print(motorcycles)"
   ]
  },
  {
   "cell_type": "code",
   "execution_count": 26,
   "id": "e4adf1e1",
   "metadata": {},
   "outputs": [
    {
     "name": "stdout",
     "output_type": "stream",
     "text": [
      "['honda', 'yamaha', 'suzuki', 'ducati']\n",
      "['honda', 'yamaha', 'suzuki']\n",
      "\n",
      "A Ducati is too expensive for me.\n"
     ]
    }
   ],
   "source": [
    "motorcycles = ['honda','yamaha','suzuki','ducati']\n",
    "print(motorcycles)\n",
    "too_expensive = 'ducati'\n",
    "motorcycles.remove(too_expensive)\n",
    "print(motorcycles)\n",
    "print(\"\\nA \"+too_expensive.title()+\" is too expensive for me.\")"
   ]
  },
  {
   "cell_type": "markdown",
   "id": "5ba32c1f",
   "metadata": {},
   "source": [
    "注意　**方法remove()只删除第一个指定的值。** 如果要删除的值可能在列表中出现多次，就需要使用循环来判断是否删除了所有这样的值。你将在第7章学习如何这样做。"
   ]
  },
  {
   "cell_type": "markdown",
   "id": "4d9175f7",
   "metadata": {},
   "source": [
    "### 动手试一试"
   ]
  },
  {
   "cell_type": "markdown",
   "id": "78e88dee",
   "metadata": {},
   "source": [
    "1. 如果你可以邀请任何人一起共进晚餐（无论是在世的还是故去的），你会邀请哪些人？请创建一个列表，其中包含至少3个你想邀请的人；然后，使用这个列表打印消息，邀请这些人来与你共进晚餐。"
   ]
  },
  {
   "cell_type": "code",
   "execution_count": 57,
   "id": "8f6c8201",
   "metadata": {},
   "outputs": [
    {
     "name": "stdout",
     "output_type": "stream",
     "text": [
      "['father', 'grandfather', 'bb']\n",
      "I want to invite Father and Bb to eat dinner.\n"
     ]
    }
   ],
   "source": [
    "people = ['father','grandfather','bb']\n",
    "message = 'I want to invite '+people[0].title()+\" and \"+people[2].title()+\" to eat dinner.\"\n",
    "print(people)\n",
    "print(message)"
   ]
  },
  {
   "cell_type": "markdown",
   "id": "1b0576ed",
   "metadata": {},
   "source": [
    "2. 修改嘉宾名单：你刚得知有位嘉宾无法赴约，因此需要另外邀请一位嘉宾。·以完成练习3-4时编写的程序为基础，在程序末尾添加一条print语句，指出哪位嘉宾无法赴约。·修改嘉宾名单，将无法赴约的嘉宾的姓名替换为新邀请的嘉宾的姓名。·再次打印一系列消息，向名单中的每位嘉宾发出邀请。"
   ]
  },
  {
   "cell_type": "code",
   "execution_count": 58,
   "id": "5c42f063",
   "metadata": {},
   "outputs": [
    {
     "name": "stdout",
     "output_type": "stream",
     "text": [
      "Grandfather has no time to eat dinner.\n",
      "['father', 'haha', 'bb']\n"
     ]
    }
   ],
   "source": [
    "message_2 = people[1].title()+\" has no time to eat dinner.\"\n",
    "print(message_2)\n",
    "people[1] = 'haha'\n",
    "print(people)"
   ]
  },
  {
   "cell_type": "markdown",
   "id": "bdb5b524",
   "metadata": {},
   "source": [
    "3. 添加嘉宾：你刚找到了一个更大的餐桌，可容纳更多的嘉宾。请想想你还想邀请哪三位嘉宾。·以完成练习3-4或练习3-5时编写的程序为基础，在程序末尾添加一条print语句，指出你找到了一个更大的餐桌。·使用insert()将一位新嘉宾添加到名单开头。·使用insert()将另一位新嘉宾添加到名单中间。·使用append()将最后一位新嘉宾添加到名单末尾。·打印一系列消息，向名单中的每位嘉宾发出邀请。"
   ]
  },
  {
   "cell_type": "code",
   "execution_count": 59,
   "id": "0b936e13",
   "metadata": {},
   "outputs": [
    {
     "name": "stdout",
     "output_type": "stream",
     "text": [
      "['mother', 'father', 'haha', 'bb']\n"
     ]
    }
   ],
   "source": [
    "people.insert(0,'mother')\n",
    "print(people)"
   ]
  },
  {
   "cell_type": "code",
   "execution_count": 60,
   "id": "f687719f",
   "metadata": {},
   "outputs": [
    {
     "name": "stdout",
     "output_type": "stream",
     "text": [
      "['mother', 'father', 'gaga', 'haha', 'bb']\n"
     ]
    }
   ],
   "source": [
    "people.insert(2,'gaga')\n",
    "print(people)"
   ]
  },
  {
   "cell_type": "code",
   "execution_count": 61,
   "id": "7b343f3e",
   "metadata": {},
   "outputs": [
    {
     "name": "stdout",
     "output_type": "stream",
     "text": [
      "['mother', 'father', 'gaga', 'haha', 'bb', 'xy']\n"
     ]
    }
   ],
   "source": [
    "people.append('xy')\n",
    "print(people)"
   ]
  },
  {
   "cell_type": "markdown",
   "id": "19fffe38",
   "metadata": {},
   "source": [
    "4. 缩减名单：你刚得知新购买的餐桌无法及时送达，因此只能邀请两位嘉宾。·以完成练习3-6时编写的程序为基础，在程序末尾添加一行代码，打印一条你只能邀请两位嘉宾共进晚餐的消息。·使用pop()不断地删除名单中的嘉宾，直到只有两位嘉宾为止。每次从名单中弹出一位嘉宾时，都打印一条消息，让该嘉宾知悉你很抱歉，无法邀请他来共进晚餐。·对于余下的两位嘉宾中的每一位，都打印一条消息，指出他依然在受邀人之列。·使用del将最后两位嘉宾从名单中删除，让名单变成空的。打印该名单，核实程序结束时名单确实是空的。"
   ]
  },
  {
   "cell_type": "code",
   "execution_count": 62,
   "id": "e27b5b8a",
   "metadata": {},
   "outputs": [
    {
     "name": "stdout",
     "output_type": "stream",
     "text": [
      "Only two people can have dinnser with me\n",
      "xy\n",
      "bb\n",
      "haha\n",
      "gaga\n",
      "MotherFathercan have dinner\n",
      "[]\n"
     ]
    }
   ],
   "source": [
    "message = 'Only two people can have dinnser with me'\n",
    "print(message)\n",
    "poped_1 = people.pop()\n",
    "print(poped_1)\n",
    "poped_2 = people.pop()\n",
    "print(poped_2)\n",
    "poped_3 = people.pop()\n",
    "print(poped_3)\n",
    "poped_4 = people.pop()\n",
    "print(poped_4)\n",
    "print(people[0].title()+people[1].title()+\"can have dinner\")\n",
    "del people[0]\n",
    "del people[0]\n",
    "print(people)"
   ]
  },
  {
   "cell_type": "markdown",
   "id": "478db6e3",
   "metadata": {},
   "source": [
    "## 3.3 组织列表"
   ]
  },
  {
   "cell_type": "markdown",
   "id": "9fa9dd86",
   "metadata": {},
   "source": [
    "### 3.3.1 使用方法sort()对列表进行永久性排序"
   ]
  },
  {
   "cell_type": "code",
   "execution_count": 65,
   "id": "eac3c4bd",
   "metadata": {},
   "outputs": [
    {
     "name": "stdout",
     "output_type": "stream",
     "text": [
      "['audi', 'bmw', 'subaru', 'toyota']\n"
     ]
    }
   ],
   "source": [
    "cars = ['bmw','audi','toyota','subaru']\n",
    "cars.sort()\n",
    "print(cars)"
   ]
  },
  {
   "cell_type": "code",
   "execution_count": 66,
   "id": "465b955b",
   "metadata": {},
   "outputs": [
    {
     "name": "stdout",
     "output_type": "stream",
     "text": [
      "['toyota', 'subaru', 'bmw', 'audi']\n"
     ]
    }
   ],
   "source": [
    "cars = ['bmw','audi','toyota','subaru']\n",
    "cars.sort(reverse=True)\n",
    "print(cars)"
   ]
  },
  {
   "cell_type": "markdown",
   "id": "c09e641c",
   "metadata": {},
   "source": [
    "### 3.3.2 使用函数sorted()对列表进行临时排序"
   ]
  },
  {
   "cell_type": "code",
   "execution_count": 67,
   "id": "214df6c9",
   "metadata": {},
   "outputs": [
    {
     "name": "stdout",
     "output_type": "stream",
     "text": [
      "Here is the original list:\n",
      "['bmw', 'audi', 'toyota', 'subaru']\n",
      "\n",
      "Here is the sorted list:\n",
      "['audi', 'bmw', 'subaru', 'toyota']\n",
      "\n",
      "Here is the original list again:\n",
      "['bmw', 'audi', 'toyota', 'subaru']\n"
     ]
    }
   ],
   "source": [
    "cars = ['bmw','audi','toyota','subaru']\n",
    "print(\"Here is the original list:\")\n",
    "print(cars)\n",
    "print(\"\\nHere is the sorted list:\")\n",
    "print(sorted(cars))\n",
    "print(\"\\nHere is the original list again:\")\n",
    "print(cars)"
   ]
  },
  {
   "cell_type": "code",
   "execution_count": 69,
   "id": "b7ffd40d",
   "metadata": {},
   "outputs": [
    {
     "name": "stdout",
     "output_type": "stream",
     "text": [
      "Here is the original list:\n",
      "['bmw', 'audi', 'toyota', 'subaru']\n",
      "\n",
      "Here is the sorted list:\n",
      "['toyota', 'subaru', 'bmw', 'audi']\n",
      "\n",
      "Here is the original list again:\n",
      "['bmw', 'audi', 'toyota', 'subaru']\n"
     ]
    }
   ],
   "source": [
    "cars = ['bmw','audi','toyota','subaru']\n",
    "print(\"Here is the original list:\")\n",
    "print(cars)\n",
    "print(\"\\nHere is the sorted list:\")\n",
    "print(sorted(cars,reverse=True))\n",
    "print(\"\\nHere is the original list again:\")\n",
    "print(cars)"
   ]
  },
  {
   "cell_type": "markdown",
   "id": "9c474adf",
   "metadata": {},
   "source": [
    "### 3.3.3 倒着打印列表"
   ]
  },
  {
   "cell_type": "code",
   "execution_count": 70,
   "id": "6d8dddae",
   "metadata": {},
   "outputs": [
    {
     "name": "stdout",
     "output_type": "stream",
     "text": [
      "['bmw', 'audi', 'toyota', 'subaru']\n",
      "['subaru', 'toyota', 'audi', 'bmw']\n"
     ]
    }
   ],
   "source": [
    "cars = ['bmw','audi','toyota','subaru']\n",
    "print(cars)\n",
    "cars.reverse()\n",
    "print(cars)"
   ]
  },
  {
   "cell_type": "markdown",
   "id": "fb7e1346",
   "metadata": {},
   "source": [
    "### 3.3.4 确定列表的长度"
   ]
  },
  {
   "cell_type": "code",
   "execution_count": 71,
   "id": "2e69d010",
   "metadata": {},
   "outputs": [
    {
     "data": {
      "text/plain": [
       "4"
      ]
     },
     "execution_count": 71,
     "metadata": {},
     "output_type": "execute_result"
    }
   ],
   "source": [
    "cars = ['bmw','audi','toyota','subaru']\n",
    "len(cars)"
   ]
  },
  {
   "cell_type": "markdown",
   "id": "7a3d0c41",
   "metadata": {},
   "source": [
    "### 动手试一试"
   ]
  },
  {
   "cell_type": "markdown",
   "id": "f04046b2",
   "metadata": {},
   "source": [
    "1. 想出至少5个你渴望去旅游的地方。·将这些地方存储在一个列表中，并确保其中的元素不是按字母顺序排列的。·按原始排列顺序打印该列表。不要考虑输出是否整洁的问题，只管打印原始Python列表。·使用sorted()按字母顺序打印这个列表，同时不要修改它。·再次打印该列表，核实排列顺序未变。·使用sorted()按与字母顺序相反的顺序打印这个列表，同时不要修改它。·再次打印该列表，核实排列顺序未变。·使用reverse()修改列表元素的排列顺序。打印该列表，核实排列顺序确实变了。·使用reverse()再次修改列表元素的排列顺序。打印该列表，核实已恢复到原来的排列顺序。·使用sort()修改该列表，使其元素按字母顺序排列。打印该列表，核实排列顺序确实变了。·使用sort()修改该列表，使其元素按与字母顺序相反的顺序排列。打印该列表，核实排列顺序确实变了。"
   ]
  },
  {
   "cell_type": "code",
   "execution_count": 76,
   "id": "5a03a039",
   "metadata": {},
   "outputs": [
    {
     "name": "stdout",
     "output_type": "stream",
     "text": [
      "['moon', 'northpale', 'mars', 'yelusaleng', 'hawaii']\n",
      "['hawaii', 'mars', 'moon', 'northpale', 'yelusaleng']\n",
      "['yelusaleng', 'northpale', 'moon', 'mars', 'hawaii']\n",
      "['moon', 'northpale', 'mars', 'yelusaleng', 'hawaii']\n",
      "['hawaii', 'yelusaleng', 'mars', 'northpale', 'moon']\n",
      "['moon', 'northpale', 'mars', 'yelusaleng', 'hawaii']\n",
      "['hawaii', 'mars', 'moon', 'northpale', 'yelusaleng']\n"
     ]
    }
   ],
   "source": [
    "wish_place = ['moon','northpale','mars','yelusaleng','hawaii']\n",
    "print(wish_place)\n",
    "print(sorted(wish_place))\n",
    "print(sorted(wish_place,reverse=True))\n",
    "print(wish_place)\n",
    "wish_place.reverse()\n",
    "print(wish_place)\n",
    "wish_place.reverse()\n",
    "print(wish_place)\n",
    "wish_place.sort()\n",
    "print(wish_place)"
   ]
  },
  {
   "cell_type": "markdown",
   "id": "c5754f95",
   "metadata": {},
   "source": [
    "2. 在完成练习3-4～练习3-7时编写的程序之一中，使用len()打印一条消息，指出你邀请了多少位嘉宾来与你共进晚餐。"
   ]
  },
  {
   "cell_type": "code",
   "execution_count": 77,
   "id": "0a7ebca0",
   "metadata": {},
   "outputs": [
    {
     "data": {
      "text/plain": [
       "3"
      ]
     },
     "execution_count": 77,
     "metadata": {},
     "output_type": "execute_result"
    }
   ],
   "source": [
    "people = ['father','grandfather','bb']\n",
    "len(people)"
   ]
  },
  {
   "cell_type": "markdown",
   "id": "f7cc423a",
   "metadata": {},
   "source": [
    "3. 尝试使用各个函数：想想可存储到列表中的东西，如山岳、河流、国家、城市、语言或你喜欢的任何东西。编写一个程序，在其中创建一个包含这些元素的列表，然后，对于本章介绍的每个函数，都至少使用一次来处理这个列表。"
   ]
  },
  {
   "cell_type": "code",
   "execution_count": 84,
   "id": "14da1cd9",
   "metadata": {},
   "outputs": [
    {
     "name": "stdout",
     "output_type": "stream",
     "text": [
      "['father', 'bb', 'northpale', 'mother', 'mars', 'haha', 'hawaii']\n"
     ]
    }
   ],
   "source": [
    "message = ['father','bb','northpale','mother','mars','haha','hawaii']\n",
    "print(message)"
   ]
  },
  {
   "cell_type": "code",
   "execution_count": 85,
   "id": "0a098e6b",
   "metadata": {},
   "outputs": [
    {
     "name": "stdout",
     "output_type": "stream",
     "text": [
      "['father', 'bb', 'gaga', 'mother', 'mars', 'haha', 'hawaii']\n"
     ]
    }
   ],
   "source": [
    "message[2]='gaga'\n",
    "print(message)"
   ]
  },
  {
   "cell_type": "code",
   "execution_count": 86,
   "id": "5d584ced",
   "metadata": {},
   "outputs": [
    {
     "name": "stdout",
     "output_type": "stream",
     "text": [
      "['father', 'bb', 'gaga', 'mars', 'haha', 'hawaii']\n"
     ]
    }
   ],
   "source": [
    "del message[3]\n",
    "print(message)"
   ]
  },
  {
   "cell_type": "code",
   "execution_count": 87,
   "id": "2000f55c",
   "metadata": {},
   "outputs": [
    {
     "name": "stdout",
     "output_type": "stream",
     "text": [
      "['father', 'bb', 'gaga', 'haha', 'hawaii']\n"
     ]
    }
   ],
   "source": [
    "message.pop(3)\n",
    "print(message)"
   ]
  },
  {
   "cell_type": "code",
   "execution_count": 88,
   "id": "d667e44d",
   "metadata": {},
   "outputs": [
    {
     "name": "stdout",
     "output_type": "stream",
     "text": [
      "['father', 'bb', 'gaga', 'mother', 'haha', 'hawaii']\n"
     ]
    }
   ],
   "source": [
    "message.insert(3,'mother')\n",
    "print(message)"
   ]
  },
  {
   "cell_type": "code",
   "execution_count": 90,
   "id": "1c66da04",
   "metadata": {},
   "outputs": [
    {
     "name": "stdout",
     "output_type": "stream",
     "text": [
      "['father', 'bb', 'gaga', 'mother', 'haha', 'hawaii', 'ag']\n"
     ]
    }
   ],
   "source": [
    "message.append('ag')\n",
    "print(message)"
   ]
  },
  {
   "cell_type": "code",
   "execution_count": 91,
   "id": "b55a309f",
   "metadata": {},
   "outputs": [
    {
     "name": "stdout",
     "output_type": "stream",
     "text": [
      "['ag', 'bb', 'father', 'gaga', 'haha', 'hawaii', 'mother']\n"
     ]
    }
   ],
   "source": [
    "print(sorted(message))"
   ]
  },
  {
   "cell_type": "code",
   "execution_count": 92,
   "id": "c536b942",
   "metadata": {},
   "outputs": [
    {
     "name": "stdout",
     "output_type": "stream",
     "text": [
      "['mother', 'hawaii', 'haha', 'gaga', 'father', 'bb', 'ag']\n"
     ]
    }
   ],
   "source": [
    "message.sort(reverse = True)\n",
    "print(message)"
   ]
  },
  {
   "cell_type": "code",
   "execution_count": 93,
   "id": "53433ef0",
   "metadata": {},
   "outputs": [
    {
     "name": "stdout",
     "output_type": "stream",
     "text": [
      "['ag', 'bb', 'father', 'gaga', 'haha', 'hawaii', 'mother']\n"
     ]
    }
   ],
   "source": [
    "message.reverse()\n",
    "print(message)"
   ]
  },
  {
   "cell_type": "code",
   "execution_count": 94,
   "id": "1b614078",
   "metadata": {},
   "outputs": [
    {
     "name": "stdout",
     "output_type": "stream",
     "text": [
      "['ag', 'bb', 'father', 'gaga', 'hawaii', 'mother']\n"
     ]
    }
   ],
   "source": [
    "message.remove('haha')\n",
    "print(message)"
   ]
  },
  {
   "cell_type": "code",
   "execution_count": 95,
   "id": "f62bed73",
   "metadata": {},
   "outputs": [
    {
     "data": {
      "text/plain": [
       "6"
      ]
     },
     "execution_count": 95,
     "metadata": {},
     "output_type": "execute_result"
    }
   ],
   "source": [
    "len(message)"
   ]
  },
  {
   "cell_type": "markdown",
   "id": "e8d383cc",
   "metadata": {},
   "source": [
    "## 3.4 使用列表时避免索引错误"
   ]
  },
  {
   "cell_type": "code",
   "execution_count": 96,
   "id": "49386d19",
   "metadata": {},
   "outputs": [
    {
     "ename": "IndexError",
     "evalue": "list index out of range",
     "output_type": "error",
     "traceback": [
      "\u001b[1;31m---------------------------------------------------------------------------\u001b[0m",
      "\u001b[1;31mIndexError\u001b[0m                                Traceback (most recent call last)",
      "Cell \u001b[1;32mIn[96], line 2\u001b[0m\n\u001b[0;32m      1\u001b[0m motorcycles \u001b[38;5;241m=\u001b[39m [\u001b[38;5;124m'\u001b[39m\u001b[38;5;124mhonda\u001b[39m\u001b[38;5;124m'\u001b[39m,\u001b[38;5;124m'\u001b[39m\u001b[38;5;124myamaha\u001b[39m\u001b[38;5;124m'\u001b[39m,\u001b[38;5;124m'\u001b[39m\u001b[38;5;124msuzuki\u001b[39m\u001b[38;5;124m'\u001b[39m]\n\u001b[1;32m----> 2\u001b[0m \u001b[38;5;28mprint\u001b[39m(\u001b[43mmotorcycles\u001b[49m\u001b[43m[\u001b[49m\u001b[38;5;241;43m3\u001b[39;49m\u001b[43m]\u001b[49m)\n",
      "\u001b[1;31mIndexError\u001b[0m: list index out of range"
     ]
    }
   ],
   "source": [
    "motorcycles = ['honda','yamaha','suzuki']\n",
    "print(motorcycles[3])"
   ]
  },
  {
   "cell_type": "code",
   "execution_count": 97,
   "id": "998804bd",
   "metadata": {},
   "outputs": [
    {
     "ename": "IndexError",
     "evalue": "list index out of range",
     "output_type": "error",
     "traceback": [
      "\u001b[1;31m---------------------------------------------------------------------------\u001b[0m",
      "\u001b[1;31mIndexError\u001b[0m                                Traceback (most recent call last)",
      "Cell \u001b[1;32mIn[97], line 2\u001b[0m\n\u001b[0;32m      1\u001b[0m motorcycles \u001b[38;5;241m=\u001b[39m []\n\u001b[1;32m----> 2\u001b[0m \u001b[38;5;28mprint\u001b[39m(\u001b[43mmotorcycles\u001b[49m\u001b[43m[\u001b[49m\u001b[38;5;241;43m-\u001b[39;49m\u001b[38;5;241;43m1\u001b[39;49m\u001b[43m]\u001b[49m)\n",
      "\u001b[1;31mIndexError\u001b[0m: list index out of range"
     ]
    }
   ],
   "source": [
    "motorcycles = []\n",
    "print(motorcycles[-1])"
   ]
  },
  {
   "cell_type": "markdown",
   "id": "78c14926",
   "metadata": {},
   "source": [
    "***注意　发生索引错误却找不到解决办法时，请尝试将列表或其长度打印出来。列表可能与你以为的截然不同，在程序对其进行了动态处理时尤其如此。通过查看列表或其包含的元素数，可帮助你找出这种逻辑错误。***"
   ]
  },
  {
   "cell_type": "markdown",
   "id": "81a69997",
   "metadata": {},
   "source": [
    "### 3.5 小结"
   ]
  },
  {
   "cell_type": "markdown",
   "id": "3ade732a",
   "metadata": {},
   "source": [
    "**在本章中，你学习了：列表是什么以及如何使用其中的元素；如何定义列表以及如何增删元素；如何对列表进行永久性排序，以及如何为展示列表而进行临时排序；如何确定列表的长度，以及在使用列表时如何避免索引错误。**"
   ]
  },
  {
   "cell_type": "code",
   "execution_count": null,
   "id": "ba7a92ed",
   "metadata": {},
   "outputs": [],
   "source": []
  }
 ],
 "metadata": {
  "kernelspec": {
   "display_name": "Python 3 (ipykernel)",
   "language": "python",
   "name": "python3"
  },
  "language_info": {
   "codemirror_mode": {
    "name": "ipython",
    "version": 3
   },
   "file_extension": ".py",
   "mimetype": "text/x-python",
   "name": "python",
   "nbconvert_exporter": "python",
   "pygments_lexer": "ipython3",
   "version": "3.10.9"
  }
 },
 "nbformat": 4,
 "nbformat_minor": 5
}
