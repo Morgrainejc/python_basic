{
 "cells": [
  {
   "cell_type": "markdown",
   "id": "6946594c",
   "metadata": {},
   "source": [
    "## 8.1 定义函数"
   ]
  },
  {
   "cell_type": "code",
   "execution_count": 2,
   "id": "eb26cfe5",
   "metadata": {},
   "outputs": [
    {
     "name": "stdout",
     "output_type": "stream",
     "text": [
      "Hello!\n"
     ]
    }
   ],
   "source": [
    "def greet_user():\n",
    "    \"\"\"显示简单的问候语\"\"\" \n",
    "    print(\"Hello!\") \n",
    "greet_user()\n"
   ]
  },
  {
   "cell_type": "markdown",
   "id": "01b050c4",
   "metadata": {},
   "source": [
    "### 8.1.1 向函数传递信息"
   ]
  },
  {
   "cell_type": "code",
   "execution_count": 3,
   "id": "b7992704",
   "metadata": {},
   "outputs": [
    {
     "name": "stdout",
     "output_type": "stream",
     "text": [
      "Hello,Jesse!\n"
     ]
    }
   ],
   "source": [
    "def greet_user(username):\n",
    "    \"\"\"显示简单的问候语\"\"\"\n",
    "    print(\"Hello,\"+username.title()+\"!\")\n",
    "greet_user('jesse')\n"
   ]
  },
  {
   "cell_type": "markdown",
   "id": "0b8ea7e6",
   "metadata": {},
   "source": [
    "### 8.1.2 实参和形参"
   ]
  },
  {
   "cell_type": "markdown",
   "id": "68692f1f",
   "metadata": {},
   "source": [
    "在函数greet_user()的定义中，变量username是一个形参——函数完成其工作所需的一项信息。在代码greet_user('jesse')中，值'jesse'是一个实参。实参是调用函数时传递给函数的信息。我们调用函数时，将要让函数使用的信息放在括号内。在greet_user('jesse')中，将实参'jesse'传递给了函数greet_user()，这个值被存储在形参username中。"
   ]
  },
  {
   "cell_type": "markdown",
   "id": "b705c64e",
   "metadata": {},
   "source": [
    "### 动手试一试"
   ]
  },
  {
   "cell_type": "markdown",
   "id": "7e2381de",
   "metadata": {},
   "source": [
    "消息：编写一个名为display_message()的函数，它打印一个句子，指出你在本章学的是什么。调用这个函数，确认显示的消息正确无误。"
   ]
  },
  {
   "cell_type": "code",
   "execution_count": 5,
   "id": "207f94c2",
   "metadata": {},
   "outputs": [
    {
     "name": "stdout",
     "output_type": "stream",
     "text": [
      "I learn function.\n"
     ]
    }
   ],
   "source": [
    "def display_message():\n",
    "    print('I learn function.')\n",
    "display_message()"
   ]
  },
  {
   "cell_type": "markdown",
   "id": "85a14d42",
   "metadata": {},
   "source": [
    "2.喜欢的图书：编写一个名为favorite_book()的函数，其中包含一个名为title的形参。这个函数打印一条消息，如One of my favorite books is Alice in Wonderland。调用这个函数，并将一本图书的名称作为实参传递给它。"
   ]
  },
  {
   "cell_type": "code",
   "execution_count": 6,
   "id": "add313d8",
   "metadata": {},
   "outputs": [
    {
     "name": "stdout",
     "output_type": "stream",
     "text": [
      "One of my favorite book is Python\n"
     ]
    }
   ],
   "source": [
    "def favorite_book(title):\n",
    "    print('One of my favorite book is '+title.title())\n",
    "favorite_book('python')"
   ]
  },
  {
   "cell_type": "markdown",
   "id": "52524556",
   "metadata": {},
   "source": [
    "## 8.2 传递实参"
   ]
  },
  {
   "cell_type": "markdown",
   "id": "cd0bb24a",
   "metadata": {},
   "source": [
    "### 8.2.1 位置实参"
   ]
  },
  {
   "cell_type": "code",
   "execution_count": 8,
   "id": "f52b0f43",
   "metadata": {},
   "outputs": [
    {
     "name": "stdout",
     "output_type": "stream",
     "text": [
      "\n",
      "I have a hamster.\n",
      "My hamster's name is Harry.\n"
     ]
    }
   ],
   "source": [
    "def describe_pet(animal_type,pet_name):\n",
    "    \"\"\"显示宠物的信息\"\"\"\n",
    "    print(\"\\nI have a \"+animal_type+\".\")\n",
    "    print(\"My \"+animal_type+\"'s name is \"+pet_name.title()+\".\")\n",
    "describe_pet('hamster','harry') "
   ]
  },
  {
   "cell_type": "markdown",
   "id": "29e6fd98",
   "metadata": {},
   "source": [
    "#### 1.调用函数多次"
   ]
  },
  {
   "cell_type": "code",
   "execution_count": 9,
   "id": "5a6b23e2",
   "metadata": {},
   "outputs": [
    {
     "name": "stdout",
     "output_type": "stream",
     "text": [
      "\n",
      "I have a hamster.\n",
      "My hamster's name is Harry.\n",
      "\n",
      "I have a dog.\n",
      "My dog's name is Willie.\n"
     ]
    }
   ],
   "source": [
    "def describe_pet(animal_type,pet_name):\n",
    "    \"\"\"显示宠物的信息\"\"\"\n",
    "    print(\"\\nI have a \"+animal_type+\".\")\n",
    "    print(\"My \"+animal_type+\"'s name is \"+pet_name.title()+\".\")\n",
    "describe_pet('hamster','harry')\n",
    "describe_pet('dog','willie')\n"
   ]
  },
  {
   "cell_type": "markdown",
   "id": "0fed48d7",
   "metadata": {},
   "source": [
    "#### 2.位置实参的顺序很重要"
   ]
  },
  {
   "cell_type": "code",
   "execution_count": 10,
   "id": "4807c480",
   "metadata": {},
   "outputs": [
    {
     "name": "stdout",
     "output_type": "stream",
     "text": [
      "\n",
      "I have a harry.\n",
      "My harry's name is Hamster.\n"
     ]
    }
   ],
   "source": [
    "def describe_pet(animal_type,pet_name):\n",
    "    \"\"\"显示宠物的信息\"\"\"\n",
    "    print(\"\\nI have a \"+animal_type+\".\")\n",
    "    print(\"My \"+animal_type+\"'s name is \"+pet_name.title()+\".\")\n",
    "describe_pet('harry','hamster')\n"
   ]
  },
  {
   "cell_type": "markdown",
   "id": "3bd441bd",
   "metadata": {},
   "source": [
    "### 8.2.2 关键字实参"
   ]
  },
  {
   "cell_type": "code",
   "execution_count": 11,
   "id": "c83cf8e8",
   "metadata": {},
   "outputs": [
    {
     "name": "stdout",
     "output_type": "stream",
     "text": [
      "\n",
      "I have a hamster.\n",
      "My hamster's name is Harry.\n"
     ]
    }
   ],
   "source": [
    "def describe_pet(animal_type,pet_name):\n",
    "    \"\"\"显示宠物的信息\"\"\"\n",
    "    print(\"\\nI have a \"+animal_type+\".\")\n",
    "    print(\"My \"+animal_type+\"'s name is \"+pet_name.title()+\".\")\n",
    "describe_pet(animal_type='hamster',pet_name='harry')\n"
   ]
  },
  {
   "cell_type": "markdown",
   "id": "848a91e9",
   "metadata": {},
   "source": [
    "### 8.2.3 默认值"
   ]
  },
  {
   "cell_type": "code",
   "execution_count": 21,
   "id": "02a490e2",
   "metadata": {},
   "outputs": [
    {
     "name": "stdout",
     "output_type": "stream",
     "text": [
      "\n",
      "I have a dog.\n",
      "My dog's name is Willie.\n"
     ]
    }
   ],
   "source": [
    "def describe_pet(pet_name,animal_type='dog'):\n",
    "    \"\"\"显示宠物的信息\"\"\"\n",
    "    print(\"\\nI have a \"+animal_type+\".\")\n",
    "    print(\"My \"+animal_type+\"'s name is \"+pet_name.title()+\".\")\n",
    "describe_pet('willie')\n"
   ]
  },
  {
   "cell_type": "markdown",
   "id": "ca969f09",
   "metadata": {},
   "source": [
    "def describe_pet(pet_name,animal_type='dog'):\n",
    "    \"\"\"显示宠物的信息\"\"\"\n",
    "    print(\"\\nI have a \"+animal_type+\".\")\n",
    "    print(\"My \"+animal_type+\"'s name is \"+pet_name.title()+\".\")\n",
    "describe_pet(pet_name='harry',animal_type='hamster')\n"
   ]
  },
  {
   "cell_type": "markdown",
   "id": "ec4f33e4",
   "metadata": {},
   "source": [
    "### 8.2.4 等效的函数调用"
   ]
  },
  {
   "cell_type": "code",
   "execution_count": 19,
   "id": "0faa834e",
   "metadata": {},
   "outputs": [
    {
     "name": "stdout",
     "output_type": "stream",
     "text": [
      "\n",
      "I have a dog.\n",
      "My dog's name is Willie.\n",
      "\n",
      "I have a dog.\n",
      "My dog's name is Willie.\n",
      "\n",
      "I have a hamster.\n",
      "My hamster's name is Harry.\n",
      "\n",
      "I have a hamster.\n",
      "My hamster's name is Harry.\n",
      "\n",
      "I have a hamster.\n",
      "My hamster's name is Harry.\n"
     ]
    }
   ],
   "source": [
    "def describe_pet(pet_name,animal_type='dog'):\n",
    "    \"\"\"显示宠物的信息\"\"\"\n",
    "    print(\"\\nI have a \"+animal_type+\".\")\n",
    "    print(\"My \"+animal_type+\"'s name is \"+pet_name.title()+\".\")\n",
    "    \n",
    "# 一条名为Willie的小狗\n",
    "describe_pet('willie')\n",
    "describe_pet(pet_name='willie')\n",
    "# 一只名为Harry的仓鼠\n",
    "describe_pet('harry','hamster')\n",
    "describe_pet(pet_name='harry',animal_type='hamster')\n",
    "describe_pet(animal_type='hamster',pet_name='harry')\n"
   ]
  },
  {
   "cell_type": "markdown",
   "id": "10b544bd",
   "metadata": {},
   "source": [
    "### 8.2.5 避免实参错误"
   ]
  },
  {
   "cell_type": "code",
   "execution_count": 22,
   "id": "28b5f695",
   "metadata": {},
   "outputs": [
    {
     "ename": "TypeError",
     "evalue": "describe_pet() missing 2 required positional arguments: 'animal_type' and 'pet_name'",
     "output_type": "error",
     "traceback": [
      "\u001b[1;31m---------------------------------------------------------------------------\u001b[0m",
      "\u001b[1;31mTypeError\u001b[0m                                 Traceback (most recent call last)",
      "\u001b[1;32m<ipython-input-22-165fc5db36ef>\u001b[0m in \u001b[0;36m<module>\u001b[1;34m\u001b[0m\n\u001b[0;32m      3\u001b[0m     \u001b[0mprint\u001b[0m\u001b[1;33m(\u001b[0m\u001b[1;34m\"\\nI have a \"\u001b[0m\u001b[1;33m+\u001b[0m\u001b[0manimal_type\u001b[0m\u001b[1;33m+\u001b[0m\u001b[1;34m\".\"\u001b[0m\u001b[1;33m)\u001b[0m\u001b[1;33m\u001b[0m\u001b[1;33m\u001b[0m\u001b[0m\n\u001b[0;32m      4\u001b[0m     \u001b[0mprint\u001b[0m\u001b[1;33m(\u001b[0m\u001b[1;34m\"My \"\u001b[0m\u001b[1;33m+\u001b[0m\u001b[0manimal_type\u001b[0m\u001b[1;33m+\u001b[0m\u001b[1;34m\"'s name is \"\u001b[0m\u001b[1;33m+\u001b[0m\u001b[0mpet_name\u001b[0m\u001b[1;33m.\u001b[0m\u001b[0mtitle\u001b[0m\u001b[1;33m(\u001b[0m\u001b[1;33m)\u001b[0m\u001b[1;33m+\u001b[0m\u001b[1;34m\".\"\u001b[0m\u001b[1;33m)\u001b[0m\u001b[1;33m\u001b[0m\u001b[1;33m\u001b[0m\u001b[0m\n\u001b[1;32m----> 5\u001b[1;33m \u001b[0mdescribe_pet\u001b[0m\u001b[1;33m(\u001b[0m\u001b[1;33m)\u001b[0m\u001b[1;33m\u001b[0m\u001b[1;33m\u001b[0m\u001b[0m\n\u001b[0m",
      "\u001b[1;31mTypeError\u001b[0m: describe_pet() missing 2 required positional arguments: 'animal_type' and 'pet_name'"
     ]
    }
   ],
   "source": [
    "def describe_pet(animal_type,pet_name):\n",
    "    \"\"\"显示宠物的信息\"\"\"\n",
    "    print(\"\\nI have a \"+animal_type+\".\")\n",
    "    print(\"My \"+animal_type+\"'s name is \"+pet_name.title()+\".\")\n",
    "describe_pet()\n"
   ]
  },
  {
   "cell_type": "markdown",
   "id": "c6d916e1",
   "metadata": {},
   "source": [
    "### 动手试一试"
   ]
  },
  {
   "cell_type": "markdown",
   "id": "be9a8e32",
   "metadata": {},
   "source": [
    "1.T恤：编写一个名为make_shirt()的函数，它接受一个尺码以及要印到T恤上的字样。这个函数应打印一个句子，概要地说明T恤的尺码和字样。使用位置实参调用这个函数来制作一件T恤；再使用关键字实参来调用这个函数。"
   ]
  },
  {
   "cell_type": "code",
   "execution_count": 24,
   "id": "bb53224f",
   "metadata": {},
   "outputs": [
    {
     "name": "stdout",
     "output_type": "stream",
     "text": [
      "T-shirt size is 20\n",
      "The font is yahei\n",
      "T-shirt size is 20\n",
      "The font is yahei\n"
     ]
    }
   ],
   "source": [
    "def make_shirt(size,font):\n",
    "    print('T-shirt size is '+size)\n",
    "    print('The font is '+font)\n",
    "make_shirt('20','yahei')\n",
    "make_shirt(size='20',font='yahei')"
   ]
  },
  {
   "cell_type": "markdown",
   "id": "a5f4347a",
   "metadata": {},
   "source": [
    "2.大号T恤：修改函数make_shirt()，使其在默认情况下制作一件印有字样“I love Python”的大号T恤。调用这个函数来制作如下T恤：一件印有默认字样的大号T恤、一件印有默认字样的中号T恤和一件印有其他字样的T恤（尺码无关紧要）。"
   ]
  },
  {
   "cell_type": "code",
   "execution_count": 26,
   "id": "41ccf8fc",
   "metadata": {},
   "outputs": [
    {
     "name": "stdout",
     "output_type": "stream",
     "text": [
      "T-shirt size is 20\n",
      "The font is I love Python\n",
      "T-shirt size is 0\n",
      "The font is I love Python\n",
      "T-shirt size is 40\n",
      "The font is haha\n"
     ]
    }
   ],
   "source": [
    "def make_shirt(size,font = 'I love Python'):\n",
    "    print('T-shirt size is '+size)\n",
    "    print('The font is '+font)\n",
    "make_shirt('20')\n",
    "make_shirt(size='0')\n",
    "make_shirt(size = '40',font = 'haha')"
   ]
  },
  {
   "cell_type": "markdown",
   "id": "66e36ab6",
   "metadata": {},
   "source": [
    "## 8.3 返回值"
   ]
  },
  {
   "cell_type": "markdown",
   "id": "dd2d7d69",
   "metadata": {},
   "source": [
    "### 8.3.1 返回简单值"
   ]
  },
  {
   "cell_type": "code",
   "execution_count": 30,
   "id": "f6c20f80",
   "metadata": {},
   "outputs": [
    {
     "name": "stdout",
     "output_type": "stream",
     "text": [
      "Jimi Hendrix\n"
     ]
    }
   ],
   "source": [
    "def get_formatted_name(first_name,last_name):\n",
    "    \"\"\"返回整洁的姓名\"\"\"\n",
    "    full_name = first_name+' '+last_name \n",
    "    return full_name.title() \n",
    "musician = get_formatted_name('jimi','hendrix') \n",
    "print(musician)\n"
   ]
  },
  {
   "cell_type": "markdown",
   "id": "64105ca0",
   "metadata": {},
   "source": [
    "### 8.3.2 让实参变成可选的"
   ]
  },
  {
   "cell_type": "code",
   "execution_count": 32,
   "id": "fea998cc",
   "metadata": {},
   "outputs": [
    {
     "name": "stdout",
     "output_type": "stream",
     "text": [
      "Jimi Hendrix\n",
      "John Lee Hooker\n"
     ]
    }
   ],
   "source": [
    "def get_formatted_name(first_name,last_name,middle_name=''):\n",
    "    \"\"\"返回整洁的姓名\"\"\"\n",
    "    if middle_name:\n",
    "        full_name = first_name+' '+middle_name+' '+last_name\n",
    "    else:\n",
    "        full_name = first_name+' '+last_name\n",
    "    return full_name.title()\n",
    "musician = get_formatted_name('jimi','hendrix')\n",
    "print(musician)\n",
    "musician = get_formatted_name('john','hooker','lee') \n",
    "print(musician)\n"
   ]
  },
  {
   "cell_type": "markdown",
   "id": "d2f89bd0",
   "metadata": {},
   "source": [
    "### 8.3.3 返回字典"
   ]
  },
  {
   "cell_type": "code",
   "execution_count": 33,
   "id": "9a0087e4",
   "metadata": {},
   "outputs": [
    {
     "name": "stdout",
     "output_type": "stream",
     "text": [
      "{'first': 'jimi', 'last': 'hendrix'}\n"
     ]
    }
   ],
   "source": [
    "def build_person(first_name,last_name):\n",
    "    \"\"\"返回一个字典，其中包含有关一个人的信息\"\"\"\n",
    "    person = {'first':first_name,'last':last_name} \n",
    "    return person \n",
    "musician = build_person('jimi','hendrix')\n",
    "print(musician) \n"
   ]
  },
  {
   "cell_type": "code",
   "execution_count": 34,
   "id": "88d5eaa8",
   "metadata": {},
   "outputs": [
    {
     "name": "stdout",
     "output_type": "stream",
     "text": [
      "{'first': 'jimi', 'last': 'hendrix', 'age': 27}\n"
     ]
    }
   ],
   "source": [
    "def build_person(first_name,last_name,age=''):\n",
    "    \"\"\"返回一个字典，其中包含有关一个人的信息\"\"\"\n",
    "    person = {'first':first_name,'last':last_name}\n",
    "    if age:\n",
    "        person['age'] = age\n",
    "    return person\n",
    "musician = build_person('jimi','hendrix',age=27)\n",
    "print(musician)\n"
   ]
  },
  {
   "cell_type": "markdown",
   "id": "01c06270",
   "metadata": {},
   "source": [
    "### 8.3.4 结合使用函数和while循环"
   ]
  },
  {
   "cell_type": "code",
   "execution_count": 37,
   "id": "feec06c1",
   "metadata": {},
   "outputs": [
    {
     "name": "stdout",
     "output_type": "stream",
     "text": [
      "\n",
      "Please tell me your name:\n"
     ]
    },
    {
     "ename": "KeyboardInterrupt",
     "evalue": "Interrupted by user",
     "output_type": "error",
     "traceback": [
      "\u001b[1;31m---------------------------------------------------------------------------\u001b[0m",
      "\u001b[1;31mKeyboardInterrupt\u001b[0m                         Traceback (most recent call last)",
      "\u001b[1;32m<ipython-input-37-1468f07da197>\u001b[0m in \u001b[0;36m<module>\u001b[1;34m\u001b[0m\n\u001b[0;32m      6\u001b[0m \u001b[1;32mwhile\u001b[0m \u001b[1;32mTrue\u001b[0m\u001b[1;33m:\u001b[0m\u001b[1;33m\u001b[0m\u001b[1;33m\u001b[0m\u001b[0m\n\u001b[0;32m      7\u001b[0m      \u001b[0mprint\u001b[0m\u001b[1;33m(\u001b[0m\u001b[1;34m\"\\nPlease tell me your name:\"\u001b[0m\u001b[1;33m)\u001b[0m\u001b[1;33m\u001b[0m\u001b[1;33m\u001b[0m\u001b[0m\n\u001b[1;32m----> 8\u001b[1;33m      \u001b[0mf_name\u001b[0m \u001b[1;33m=\u001b[0m \u001b[0minput\u001b[0m\u001b[1;33m(\u001b[0m\u001b[1;34m\"First name:\"\u001b[0m\u001b[1;33m)\u001b[0m\u001b[1;33m\u001b[0m\u001b[1;33m\u001b[0m\u001b[0m\n\u001b[0m\u001b[0;32m      9\u001b[0m      \u001b[0ml_name\u001b[0m \u001b[1;33m=\u001b[0m \u001b[0minput\u001b[0m\u001b[1;33m(\u001b[0m\u001b[1;34m\"Last name:\"\u001b[0m\u001b[1;33m)\u001b[0m\u001b[1;33m\u001b[0m\u001b[1;33m\u001b[0m\u001b[0m\n\u001b[0;32m     10\u001b[0m      \u001b[0mformatted_name\u001b[0m \u001b[1;33m=\u001b[0m \u001b[0mget_formatted_name\u001b[0m\u001b[1;33m(\u001b[0m\u001b[0mf_name\u001b[0m\u001b[1;33m,\u001b[0m\u001b[0ml_name\u001b[0m\u001b[1;33m)\u001b[0m\u001b[1;33m\u001b[0m\u001b[1;33m\u001b[0m\u001b[0m\n",
      "\u001b[1;32m~\\anaconda3\\lib\\site-packages\\ipykernel\\kernelbase.py\u001b[0m in \u001b[0;36mraw_input\u001b[1;34m(self, prompt)\u001b[0m\n\u001b[0;32m    858\u001b[0m                 \u001b[1;34m\"raw_input was called, but this frontend does not support input requests.\"\u001b[0m\u001b[1;33m\u001b[0m\u001b[1;33m\u001b[0m\u001b[0m\n\u001b[0;32m    859\u001b[0m             )\n\u001b[1;32m--> 860\u001b[1;33m         return self._input_request(str(prompt),\n\u001b[0m\u001b[0;32m    861\u001b[0m             \u001b[0mself\u001b[0m\u001b[1;33m.\u001b[0m\u001b[0m_parent_ident\u001b[0m\u001b[1;33m,\u001b[0m\u001b[1;33m\u001b[0m\u001b[1;33m\u001b[0m\u001b[0m\n\u001b[0;32m    862\u001b[0m             \u001b[0mself\u001b[0m\u001b[1;33m.\u001b[0m\u001b[0m_parent_header\u001b[0m\u001b[1;33m,\u001b[0m\u001b[1;33m\u001b[0m\u001b[1;33m\u001b[0m\u001b[0m\n",
      "\u001b[1;32m~\\anaconda3\\lib\\site-packages\\ipykernel\\kernelbase.py\u001b[0m in \u001b[0;36m_input_request\u001b[1;34m(self, prompt, ident, parent, password)\u001b[0m\n\u001b[0;32m    902\u001b[0m             \u001b[1;32mexcept\u001b[0m \u001b[0mKeyboardInterrupt\u001b[0m\u001b[1;33m:\u001b[0m\u001b[1;33m\u001b[0m\u001b[1;33m\u001b[0m\u001b[0m\n\u001b[0;32m    903\u001b[0m                 \u001b[1;31m# re-raise KeyboardInterrupt, to truncate traceback\u001b[0m\u001b[1;33m\u001b[0m\u001b[1;33m\u001b[0m\u001b[1;33m\u001b[0m\u001b[0m\n\u001b[1;32m--> 904\u001b[1;33m                 \u001b[1;32mraise\u001b[0m \u001b[0mKeyboardInterrupt\u001b[0m\u001b[1;33m(\u001b[0m\u001b[1;34m\"Interrupted by user\"\u001b[0m\u001b[1;33m)\u001b[0m \u001b[1;32mfrom\u001b[0m \u001b[1;32mNone\u001b[0m\u001b[1;33m\u001b[0m\u001b[1;33m\u001b[0m\u001b[0m\n\u001b[0m\u001b[0;32m    905\u001b[0m             \u001b[1;32mexcept\u001b[0m \u001b[0mException\u001b[0m \u001b[1;32mas\u001b[0m \u001b[0me\u001b[0m\u001b[1;33m:\u001b[0m\u001b[1;33m\u001b[0m\u001b[1;33m\u001b[0m\u001b[0m\n\u001b[0;32m    906\u001b[0m                 \u001b[0mself\u001b[0m\u001b[1;33m.\u001b[0m\u001b[0mlog\u001b[0m\u001b[1;33m.\u001b[0m\u001b[0mwarning\u001b[0m\u001b[1;33m(\u001b[0m\u001b[1;34m\"Invalid Message:\"\u001b[0m\u001b[1;33m,\u001b[0m \u001b[0mexc_info\u001b[0m\u001b[1;33m=\u001b[0m\u001b[1;32mTrue\u001b[0m\u001b[1;33m)\u001b[0m\u001b[1;33m\u001b[0m\u001b[1;33m\u001b[0m\u001b[0m\n",
      "\u001b[1;31mKeyboardInterrupt\u001b[0m: Interrupted by user"
     ]
    }
   ],
   "source": [
    "def get_formatted_name(first_name,last_name):\n",
    "    \"\"\"返回整洁的姓名\"\"\"\n",
    "    full_name = first_name+''+last_name\n",
    "    return full_name.title()\n",
    "# 这是一个无限循环!\n",
    "while True:\n",
    "     print(\"\\nPlease tell me your name:\") \n",
    "     f_name = input(\"First name:\")\n",
    "     l_name = input(\"Last name:\")\n",
    "     formatted_name = get_formatted_name(f_name,l_name)\n",
    "     print(\"\\nHello,\"+formatted_name+\"!\")\n"
   ]
  },
  {
   "cell_type": "code",
   "execution_count": 38,
   "id": "569145ab",
   "metadata": {},
   "outputs": [
    {
     "name": "stdout",
     "output_type": "stream",
     "text": [
      "\n",
      "Please tell me your name:\n",
      "(enter 'q'at any time to quit)\n",
      "First name:j\n",
      "Last name:c\n",
      "\n",
      "Hello,Jc!\n",
      "\n",
      "Please tell me your name:\n",
      "(enter 'q'at any time to quit)\n",
      "First name:q\n"
     ]
    }
   ],
   "source": [
    "def get_formatted_name(first_name,last_name):\n",
    "    \"\"\"返回整洁的姓名\"\"\"\n",
    "    full_name = first_name+''+last_name\n",
    "    return full_name.title()\n",
    "while True:\n",
    "    print(\"\\nPlease tell me your name:\")\n",
    "    print(\"(enter 'q'at any time to quit)\")\n",
    "    f_name = input(\"First name:\")\n",
    "    if f_name == 'q':\n",
    "        break\n",
    "    l_name = input(\"Last name:\")\n",
    "    if l_name == 'q':\n",
    "        break\n",
    "    formatted_name = get_formatted_name(f_name,l_name)\n",
    "    print(\"\\nHello,\"+formatted_name+\"!\")\n"
   ]
  },
  {
   "cell_type": "markdown",
   "id": "023bc57c",
   "metadata": {},
   "source": [
    "### 动手试一试"
   ]
  },
  {
   "cell_type": "markdown",
   "id": "ad61e237",
   "metadata": {},
   "source": [
    "1.城市名：编写一个名为city_country()的函数，它接受城市的名称及其所属的国家。这个函数应返回一个格式类似于下面这样的字符串"
   ]
  },
  {
   "cell_type": "markdown",
   "id": "87146fa6",
   "metadata": {},
   "source": [
    "def city_country(city,country):\n",
    "    message = city+','+country\n",
    "    return message\n",
    "a = city_country('shanghai','china')\n",
    "print(a)"
   ]
  },
  {
   "cell_type": "markdown",
   "id": "4d783156",
   "metadata": {},
   "source": [
    "2.专辑：编写一个名为make_album()的函数，它创建一个描述音乐专辑的字典。这个函数应接受歌手的名字和专辑名，并返回一个包含这两项信息的字典。使用这个函数创建三个表示不同专辑的字典，并打印每个返回的值，以核实字典正确地存储了专辑的信息。给函数make_album()添加一个可选形参，以便能够存储专辑包含的歌曲数。如果调用这个函数时指定了歌曲数，就将这个值添加到表示专辑的字典中。调用这个函数，并至少在一次调用中指定专辑包含的歌曲数。"
   ]
  },
  {
   "cell_type": "code",
   "execution_count": 2,
   "id": "c0a03269",
   "metadata": {},
   "outputs": [
    {
     "name": "stdout",
     "output_type": "stream",
     "text": [
      "zhoujielun sing qilixiang\n"
     ]
    }
   ],
   "source": [
    "def make_album(name,song):\n",
    "    message = name +' sing '+song\n",
    "    return message\n",
    "message = make_album('zhoujielun','qilixiang')\n",
    "print(message)"
   ]
  },
  {
   "cell_type": "code",
   "execution_count": 4,
   "id": "f6c8356a",
   "metadata": {},
   "outputs": [
    {
     "name": "stdout",
     "output_type": "stream",
     "text": [
      "zhoujielun sing qilixiang\n",
      "linjunjie sing xiqiehaha\n"
     ]
    }
   ],
   "source": [
    "def make_album(name,song,nice = ''):\n",
    "    if nice:\n",
    "        message = name +' sing '+song +nice\n",
    "        return message\n",
    "    else:\n",
    "        message = name +' sing '+song\n",
    "        return message \n",
    "\n",
    "message = make_album('zhoujielun','qilixiang')\n",
    "message_2 = make_album('linjunjie','xiqie','haha')\n",
    "print(message)\n",
    "print(message_2)"
   ]
  },
  {
   "cell_type": "markdown",
   "id": "86bf39cd",
   "metadata": {},
   "source": [
    "## 8.4 传递列表"
   ]
  },
  {
   "cell_type": "code",
   "execution_count": 5,
   "id": "0c0cab74",
   "metadata": {},
   "outputs": [
    {
     "name": "stdout",
     "output_type": "stream",
     "text": [
      "Hello,Hannah!\n",
      "Hello,Ty!\n",
      "Hello,Margot!\n"
     ]
    }
   ],
   "source": [
    "def greet_users(names):\n",
    "    \"\"\"向列表中的每位用户都发出简单的问候\"\"\"\n",
    "    for name in names:\n",
    "        msg = \"Hello,\"+name.title()+\"!\"\n",
    "        print(msg)\n",
    "usernames = ['hannah','ty','margot'] \n",
    "greet_users(usernames)\n"
   ]
  },
  {
   "cell_type": "markdown",
   "id": "1a7f75a0",
   "metadata": {},
   "source": [
    "### 8.4.1 在函数中修改列表"
   ]
  },
  {
   "cell_type": "code",
   "execution_count": 1,
   "id": "9b9434f4",
   "metadata": {},
   "outputs": [
    {
     "name": "stdout",
     "output_type": "stream",
     "text": [
      "Printing model:dodecahedron\n",
      "Printing model:robot pendant\n",
      "Printing model:iphone case\n",
      "\n",
      "The following models have been printed:\n",
      "dodecahedron\n",
      "robot pendant\n",
      "iphone case\n"
     ]
    }
   ],
   "source": [
    "# 首先创建一个列表，其中包含一些要打印的设计\n",
    "unprinted_designs = ['iphone case','robot pendant','dodecahedron']\n",
    "completed_models = []\n",
    "# 模拟打印每个设计，直到没有未打印的设计为止\n",
    "#  打印每个设计后，都将其移到列表completed_models中\n",
    "while unprinted_designs:\n",
    "    current_design = unprinted_designs.pop()\n",
    "    #模拟根据设计制作3D打印模型的过程\n",
    "    print(\"Printing model:\"+current_design)\n",
    "    completed_models.append(current_design)\n",
    "# 显示打印好的所有模型\n",
    "print(\"\\nThe following models have been printed:\")\n",
    "for completed_model in completed_models:\n",
    "    print(completed_model)\n"
   ]
  },
  {
   "cell_type": "code",
   "execution_count": 2,
   "id": "5d33a34c",
   "metadata": {},
   "outputs": [
    {
     "name": "stdout",
     "output_type": "stream",
     "text": [
      "Printing model:dodecahedron\n",
      "Printing model:robot pendant\n",
      "Printing model:iphone case\n",
      "\n",
      "The following models have been printed:\n",
      "dodecahedron\n",
      "robot pendant\n",
      "iphone case\n"
     ]
    }
   ],
   "source": [
    "def print_models(unprinted_designs,completed_models):\n",
    "    \"\"\"\n",
    "    模拟打印每个设计，直到没有未打印的设计为止\n",
    "    打印每个设计后，都将其移到列表completed_models中\n",
    "    \"\"\"\n",
    "    while unprinted_designs:\n",
    "        current_design = unprinted_designs.pop()\n",
    "        # 模拟根据设计制作3D打印模型的过程\n",
    "        print(\"Printing model:\"+current_design)\n",
    "        completed_models.append(current_design)\n",
    "def show_completed_models(completed_models):\n",
    "    \"\"\"显示打印好的所有模型\"\"\"\n",
    "    print(\"\\nThe following models have been printed:\")\n",
    "    for completed_model in completed_models:\n",
    "        print(completed_model)\n",
    "unprinted_designs = ['iphone case','robot pendant','dodecahedron']\n",
    "completed_models = []\n",
    "print_models(unprinted_designs,completed_models)\n",
    "show_completed_models(completed_models)\n"
   ]
  },
  {
   "cell_type": "markdown",
   "id": "0a0ce9e6",
   "metadata": {},
   "source": [
    "### 8.4.2 禁止函数修改列表"
   ]
  },
  {
   "cell_type": "markdown",
   "id": "9a2cf990",
   "metadata": {},
   "source": [
    "为解决这个问题，可向函数传递列表的副本而不是原件；这样函数所做的任何修改都只影响副本，而丝毫不影响原件。"
   ]
  },
  {
   "cell_type": "code",
   "execution_count": null,
   "id": "4a90f5c3",
   "metadata": {},
   "outputs": [],
   "source": [
    "function_name(list_name[:])"
   ]
  },
  {
   "cell_type": "markdown",
   "id": "f69655cf",
   "metadata": {},
   "source": [
    "print_models(unprinted_designs[:],completed_models)\n"
   ]
  },
  {
   "cell_type": "markdown",
   "id": "bc9185f3",
   "metadata": {},
   "source": [
    "### 动手试一试"
   ]
  },
  {
   "cell_type": "markdown",
   "id": "2350d88b",
   "metadata": {},
   "source": [
    "1.魔术师：创建一个包含魔术师名字的列表，并将其传递给一个名为show_magicians()的函数，这个函数打印列表中每个魔术师的名字。"
   ]
  },
  {
   "cell_type": "code",
   "execution_count": 8,
   "id": "bfa69a9b",
   "metadata": {},
   "outputs": [
    {
     "name": "stdout",
     "output_type": "stream",
     "text": [
      "wo\n",
      "jc\n",
      "njj\n"
     ]
    }
   ],
   "source": [
    "magicians = ['wo','jc','njj']\n",
    "def show_magician(magicians):\n",
    "    for magician in magicians:\n",
    "        print(magician)\n",
    "show_magician(magicians)\n"
   ]
  },
  {
   "cell_type": "markdown",
   "id": "9bac7a03",
   "metadata": {},
   "source": [
    "2.了不起的魔术师：在你为完成练习8-9而编写的程序中，编写一个名为make_great()的函数，对魔术师列表进行修改，在每个魔术师的名字中都加入字样“the Great”。调用函数show_magicians()，确认魔术师列表确实变了。"
   ]
  },
  {
   "cell_type": "markdown",
   "id": "a4a26a53",
   "metadata": {},
   "source": [
    "def show_magicians(magicians):\n",
    "    while magicians:\n",
    "        magician_new = magicians.pop()\n",
    "        great_magician.append(magician_new)\n",
    "\n",
    "def make_great(magicians):\n",
    "    for magician in magicians:\n",
    "        print(magician+' the great')\n",
    "        \n",
    "magicians = ['wo','jc','njj']\n",
    "great_magician = []\n",
    "\n",
    "show_magicians(magicians)\n",
    "make_great(great_magician)"
   ]
  },
  {
   "cell_type": "markdown",
   "id": "2a0b581d",
   "metadata": {},
   "source": [
    "3.不变的魔术师：修改你为完成练习8-10而编写的程序，在调用函数make_great()时，向它传递魔术师列表的副本。由于不想修改原始列表，请返回修改后的列表，并将其存储到另一个列表中。分别使用这两个列表来调用show_magicians()，确认一个列表包含的是原来的魔术师名字，而另一个列表包含的是添加了字样“the Great”的魔术师名字。"
   ]
  },
  {
   "cell_type": "code",
   "execution_count": 2,
   "id": "5a32a439",
   "metadata": {},
   "outputs": [
    {
     "name": "stdout",
     "output_type": "stream",
     "text": [
      "njj the great\n",
      "jc the great\n",
      "wo the great\n",
      "['wo', 'jc', 'njj']\n"
     ]
    }
   ],
   "source": [
    "def show_magicians(magicians):\n",
    "    while magicians:\n",
    "        magician_new = magicians.pop()\n",
    "        great_magician.append(magician_new)\n",
    "\n",
    "def make_great(magicians):\n",
    "    for magician in magicians:\n",
    "        print(magician+' the great')\n",
    "        \n",
    "magicians = ['wo','jc','njj']\n",
    "great_magician = []\n",
    "\n",
    "show_magicians(magicians[:])\n",
    "make_great(great_magician)\n",
    "print(magicians)"
   ]
  },
  {
   "cell_type": "markdown",
   "id": "31fb45ae",
   "metadata": {},
   "source": [
    "变量用切片，不需要在函数中加切片，影响运行效率"
   ]
  },
  {
   "cell_type": "markdown",
   "id": "e233f608",
   "metadata": {},
   "source": [
    "## 8.5 传递任意数量的实参"
   ]
  },
  {
   "cell_type": "code",
   "execution_count": 3,
   "id": "c4bc3d47",
   "metadata": {},
   "outputs": [
    {
     "name": "stdout",
     "output_type": "stream",
     "text": [
      "('pepperoni',)\n",
      "('mushrooms', 'green peppers', 'extra cheese')\n"
     ]
    }
   ],
   "source": [
    "def make_pizza(*toppings):\n",
    "    \"\"\"打印顾客点的所有配料\"\"\"\n",
    "    print(toppings)\n",
    "make_pizza('pepperoni')\n",
    "make_pizza('mushrooms','green peppers','extra cheese')"
   ]
  },
  {
   "cell_type": "markdown",
   "id": "49c958ce",
   "metadata": {},
   "source": [
    "**形参名*toppings中的星号让Python创建一个名为toppings的空元组，并将收到的所有值都封装到这个元组中**"
   ]
  },
  {
   "cell_type": "code",
   "execution_count": 4,
   "id": "9c2a603a",
   "metadata": {},
   "outputs": [
    {
     "name": "stdout",
     "output_type": "stream",
     "text": [
      "\n",
      "Making a pizza with the following toppings:\n",
      "- pepperoni\n",
      "\n",
      "Making a pizza with the following toppings:\n",
      "- mushrooms\n",
      "- green peppers\n",
      "- extra cheese\n"
     ]
    }
   ],
   "source": [
    "def make_pizza(*toppings):\n",
    "    \"\"\"概述要制作的比萨\"\"\"\n",
    "    print(\"\\nMaking a pizza with the following toppings:\")\n",
    "    for topping in toppings:\n",
    "        print(\"- \"+topping)\n",
    "make_pizza('pepperoni')\n",
    "make_pizza('mushrooms','green peppers','extra cheese')\n"
   ]
  },
  {
   "cell_type": "markdown",
   "id": "aca2d8d0",
   "metadata": {},
   "source": [
    "### 8.5.1 结合使用位置实参和任意数量实参"
   ]
  },
  {
   "cell_type": "markdown",
   "id": "fa03a666",
   "metadata": {},
   "source": [
    "**如果要让函数接受不同类型的实参，必须在函数定义中将接纳任意数量实参的形参放在最后。Python先匹配位置实参和关键字实参，再将余下的实参都收集到最后一个形参中。**"
   ]
  },
  {
   "cell_type": "code",
   "execution_count": 5,
   "id": "348b6247",
   "metadata": {},
   "outputs": [
    {
     "name": "stdout",
     "output_type": "stream",
     "text": [
      "\n",
      "Making a 16-inch pizza with the following toppings:\n",
      "- pepperoni\n",
      "\n",
      "Making a 12-inch pizza with the following toppings:\n",
      "- mushrooms\n",
      "- green peppers\n",
      "- extra cheese\n"
     ]
    }
   ],
   "source": [
    "def make_pizza(size,*toppings):\n",
    "    \"\"\"概述要制作的比萨\"\"\"\n",
    "    print(\"\\nMaking a \"+str(size)+\n",
    "          \"-inch pizza with the following toppings:\")\n",
    "    for topping in toppings:\n",
    "        print(\"- \"+topping)\n",
    "make_pizza(16,'pepperoni')\n",
    "make_pizza(12,'mushrooms','green peppers','extra cheese')\n"
   ]
  },
  {
   "cell_type": "markdown",
   "id": "f2966cce",
   "metadata": {},
   "source": [
    "### 8.5.2 使用任意数量的关键字实参"
   ]
  },
  {
   "cell_type": "code",
   "execution_count": 6,
   "id": "c3ad4a1e",
   "metadata": {},
   "outputs": [
    {
     "name": "stdout",
     "output_type": "stream",
     "text": [
      "{'first_name': 'albert', 'last_name': 'einstein', 'location': 'princeton', 'field': 'physics'}\n"
     ]
    }
   ],
   "source": [
    "def build_profile(first,last,**user_info):\n",
    "    \"\"\"创建一个字典，其中包含我们知道的有关用户的一切\"\"\"\n",
    "    profile = {}\n",
    "    profile['first_name'] = first \n",
    "    profile['last_name'] = last\n",
    "    for key,value in user_info.items():\n",
    "        profile[key] = value\n",
    "    return profile\n",
    "user_profile = build_profile('albert','einstein',\n",
    "                             location='princeton',\n",
    "                             field='physics')\n",
    "print(user_profile)\n"
   ]
  },
  {
   "cell_type": "markdown",
   "id": "3275f722",
   "metadata": {},
   "source": [
    "**形参user_info中的两个星号让Python创建一个名为user_info的空字典，并将收到的所有名称—值对都封装到这个字典中**"
   ]
  },
  {
   "cell_type": "markdown",
   "id": "da4adb87",
   "metadata": {},
   "source": [
    "\n",
    "### 动手试一试"
   ]
  },
  {
   "cell_type": "markdown",
   "id": "43b75ec3",
   "metadata": {},
   "source": [
    "1.三明治：编写一个函数，它接受顾客要在三明治中添加的一系列食材。这个函数只有一个形参（它收集函数调用中提供的所有食材），并打印一条消息，对顾客点的三明治进行概述。调用这个函数三次，每次都提供不同数量的实参。"
   ]
  },
  {
   "cell_type": "code",
   "execution_count": 30,
   "id": "1e2714b5",
   "metadata": {},
   "outputs": [
    {
     "name": "stdout",
     "output_type": "stream",
     "text": [
      "Jc add \n",
      "('hha', 'gaga')\n",
      "Jc add \n",
      "haha\n",
      "gaga\n"
     ]
    }
   ],
   "source": [
    "def food(name,*toppings):\n",
    "    print(str(name).title()+' add ')\n",
    "    for topping in toppings:\n",
    "        print(topping)\n",
    "name = 'jc'\n",
    "toppings = ('hha','gaga')\n",
    "food(name,toppings)\n",
    "food(name,'haha','gaga')"
   ]
  },
  {
   "cell_type": "markdown",
   "id": "178ac567",
   "metadata": {},
   "source": [
    "2种方法明显同，是因为第一种是把元组存储到元组中。"
   ]
  },
  {
   "cell_type": "markdown",
   "id": "0e00c294",
   "metadata": {},
   "source": [
    "2.用户简介：复制前面的程序user_profile.py，在其中调用build_profile()来创建有关你的简介；调用这个函数时，指定你的名和姓，以及三个描述你的键-值对。"
   ]
  },
  {
   "cell_type": "code",
   "execution_count": 34,
   "id": "68ec166a",
   "metadata": {},
   "outputs": [
    {
     "data": {
      "text/plain": [
       "{'first': 'jiang', 'last': 'chong', 'loction': 'shanghai'}"
      ]
     },
     "execution_count": 34,
     "metadata": {},
     "output_type": "execute_result"
    }
   ],
   "source": [
    "def build_profile(first_name,last_name,**other):\n",
    "    message = {}\n",
    "    message['first'] = first_name\n",
    "    message['last'] = last_name\n",
    "    for k,y in other.items():\n",
    "        message[k] = y\n",
    "    return message\n",
    "\n",
    "build_profile('jiang','chong',loction= 'shanghai')\n"
   ]
  },
  {
   "cell_type": "markdown",
   "id": "169d537b",
   "metadata": {},
   "source": [
    "3.汽车：编写一个函数，将一辆汽车的信息存储在一个字典中。这个函数总是接受制造商和型号，还接受任意数量的关键字实参。这样调用这个函数：提供必不可少的信息，以及两个名称—值对，如颜色和选装配件。这个函数必须能够像下面这样进行调用："
   ]
  },
  {
   "cell_type": "code",
   "execution_count": 35,
   "id": "a8b77930",
   "metadata": {},
   "outputs": [
    {
     "data": {
      "text/plain": [
       "{'car': 'bmw', 'type': 'q5l', 'name': 'haha'}"
      ]
     },
     "execution_count": 35,
     "metadata": {},
     "output_type": "execute_result"
    }
   ],
   "source": [
    "def make_car(car,type,**list):\n",
    "    message = {}\n",
    "    message['car'] = car\n",
    "    message['type'] = type\n",
    "    for k,y in list.items():\n",
    "        message[k] = y\n",
    "    return message\n",
    "\n",
    "make_car('bmw','q5l',name = 'haha')"
   ]
  },
  {
   "cell_type": "markdown",
   "id": "88331a26",
   "metadata": {},
   "source": [
    "## 8.6 将函数存储在模块中"
   ]
  },
  {
   "cell_type": "markdown",
   "id": "b2169d44",
   "metadata": {},
   "source": [
    "函数的优点之一是，使用它们可将代码块与主程序分离"
   ]
  },
  {
   "cell_type": "markdown",
   "id": "aa580dfd",
   "metadata": {},
   "source": [
    "### 8.6.1 导入整个模块"
   ]
  },
  {
   "cell_type": "markdown",
   "id": "9987afb7",
   "metadata": {},
   "source": [
    "如果你使用这种import语句导入了名为module_name.py的整个模块，就可使用下面的语法来使用其中任何一个函数："
   ]
  },
  {
   "cell_type": "code",
   "execution_count": null,
   "id": "ea9b4f13",
   "metadata": {},
   "outputs": [],
   "source": [
    "import pizza\n",
    "pizza.make_pizza(16,'pepperoni') \n",
    "pizza.make_pizza(12,'mushrooms','green peppers','extra cheese')\n"
   ]
  },
  {
   "cell_type": "code",
   "execution_count": null,
   "id": "fe841d5f",
   "metadata": {},
   "outputs": [],
   "source": [
    "module_name.function_name()"
   ]
  },
  {
   "cell_type": "markdown",
   "id": "f8179b58",
   "metadata": {},
   "source": [
    "### 8.6.2 导入选定的函数"
   ]
  },
  {
   "cell_type": "markdown",
   "id": "0b385933",
   "metadata": {},
   "source": [
    "你还可以导入模块中的特定函数，这种导入方法的语法如下："
   ]
  },
  {
   "cell_type": "code",
   "execution_count": null,
   "id": "c7000d7f",
   "metadata": {},
   "outputs": [],
   "source": [
    "from pizza import make_pizza\n",
    "make_pizza(16,'pepperoni')\n",
    "make_pizza(12,'mushrooms','green peppers','extra cheese')\n"
   ]
  },
  {
   "cell_type": "code",
   "execution_count": null,
   "id": "0a7fc1a2",
   "metadata": {},
   "outputs": [],
   "source": [
    "from module_name import function_name"
   ]
  },
  {
   "cell_type": "markdown",
   "id": "0e2b8c8d",
   "metadata": {},
   "source": [
    "### 8.6.3 使用as给函数指定别名"
   ]
  },
  {
   "cell_type": "code",
   "execution_count": null,
   "id": "0020e05b",
   "metadata": {},
   "outputs": [],
   "source": [
    "from pizza import make_pizza as mp\n",
    "mp(16,'pepperoni')\n",
    "mp(12,'mushrooms','green peppers','extra cheese')\n"
   ]
  },
  {
   "cell_type": "markdown",
   "id": "39a0444d",
   "metadata": {},
   "source": [
    "### 使用as给模块指定别名"
   ]
  },
  {
   "cell_type": "code",
   "execution_count": null,
   "id": "7dc6d1a6",
   "metadata": {},
   "outputs": [],
   "source": [
    "import pizza as p\n",
    "p.make_pizza(16,'pepperoni')\n",
    "p.make_pizza(12,'mushrooms','green peppers','extra cheese')\n"
   ]
  },
  {
   "cell_type": "markdown",
   "id": "7b35c97e",
   "metadata": {},
   "source": [
    "### 导入模块中的所有函数"
   ]
  },
  {
   "cell_type": "code",
   "execution_count": null,
   "id": "181e4df9",
   "metadata": {},
   "outputs": [],
   "source": [
    "from pizza import *\n",
    "make_pizza(16,'pepperoni')\n",
    "make_pizza(12,'mushrooms','green peppers','extra cheese')\n"
   ]
  },
  {
   "cell_type": "markdown",
   "id": "09327137",
   "metadata": {},
   "source": [
    "使用并非自己编写的大型模块时，最好不要采用这种导入方法：如果模块中有函数的名称与你的项目中使用的名称相同，可能导致意想不到的结果：Python可能遇到多个名称相同的函数或变量，进而覆盖函数，而不是分别导入所有的函数。"
   ]
  },
  {
   "cell_type": "code",
   "execution_count": null,
   "id": "4701da72",
   "metadata": {},
   "outputs": [],
   "source": []
  }
 ],
 "metadata": {
  "kernelspec": {
   "display_name": "Python 3 (ipykernel)",
   "language": "python",
   "name": "python3"
  },
  "language_info": {
   "codemirror_mode": {
    "name": "ipython",
    "version": 3
   },
   "file_extension": ".py",
   "mimetype": "text/x-python",
   "name": "python",
   "nbconvert_exporter": "python",
   "pygments_lexer": "ipython3",
   "version": "3.10.9"
  }
 },
 "nbformat": 4,
 "nbformat_minor": 5
}
