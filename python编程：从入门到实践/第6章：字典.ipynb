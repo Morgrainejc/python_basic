{
 "cells": [
  {
   "cell_type": "markdown",
   "id": "892d810f",
   "metadata": {},
   "source": [
    "## 6.1 一个简单的字典"
   ]
  },
  {
   "cell_type": "code",
   "execution_count": 1,
   "id": "e24cae0b",
   "metadata": {},
   "outputs": [
    {
     "name": "stdout",
     "output_type": "stream",
     "text": [
      "green\n",
      "5\n"
     ]
    }
   ],
   "source": [
    "alien_0 = {'color':'green','points':5}\n",
    "print(alien_0['color'])\n",
    "print(alien_0['points'])"
   ]
  },
  {
   "cell_type": "markdown",
   "id": "fa84e1fd",
   "metadata": {},
   "source": [
    "## 6.2 使用字典"
   ]
  },
  {
   "cell_type": "markdown",
   "id": "0ecdb34f",
   "metadata": {},
   "source": [
    "事实上，可将任何Python对象用作字典中的值。"
   ]
  },
  {
   "cell_type": "markdown",
   "id": "2cddb906",
   "metadata": {},
   "source": [
    "### 6.2.1 访问字典中的值"
   ]
  },
  {
   "cell_type": "code",
   "execution_count": 2,
   "id": "f11a32bf",
   "metadata": {},
   "outputs": [
    {
     "name": "stdout",
     "output_type": "stream",
     "text": [
      "You just earned 5 points!\n"
     ]
    }
   ],
   "source": [
    "alien_0 = {'color':'green','points':5}\n",
    "new_points = alien_0['points']\n",
    "print(\"You just earned \"+str(new_points)+\" points!\")\n"
   ]
  },
  {
   "cell_type": "markdown",
   "id": "e43e2c4e",
   "metadata": {},
   "source": [
    "### 6.2.2 添加键-值对"
   ]
  },
  {
   "cell_type": "markdown",
   "id": "3872fc93",
   "metadata": {},
   "source": [
    "字典是一种动态结构，可随时在其中添加键—值对。要添加键—值对，可依次指定字典名、用方括号括起的键和相关联的值。"
   ]
  },
  {
   "cell_type": "code",
   "execution_count": 3,
   "id": "7e385eaa",
   "metadata": {},
   "outputs": [
    {
     "name": "stdout",
     "output_type": "stream",
     "text": [
      "{'color': 'green', 'points': 5}\n",
      "{'color': 'green', 'points': 5, 'x_position': 0, 'y_position': 25}\n"
     ]
    }
   ],
   "source": [
    "alien_0 = {'color':'green','points':5}\n",
    "print(alien_0)\n",
    "alien_0['x_position'] = 0\n",
    "alien_0['y_position'] = 25\n",
    "print(alien_0)\n"
   ]
  },
  {
   "cell_type": "markdown",
   "id": "d0ac181a",
   "metadata": {},
   "source": [
    "### 6.2.3 先创建一个空字典"
   ]
  },
  {
   "cell_type": "code",
   "execution_count": 3,
   "id": "ca387dcd",
   "metadata": {},
   "outputs": [
    {
     "name": "stdout",
     "output_type": "stream",
     "text": [
      "{'color': 'green', 'points': 5}\n",
      "{'color': 'green', 'points': 5, 'x_position': 0, 'y_position': 25}\n"
     ]
    }
   ],
   "source": [
    "alien_0 = {'color':'green','points':5}\n",
    "print(alien_0)\n",
    "alien_0['x_position'] = 0 \n",
    "alien_0['y_position'] = 25 \n",
    "print(alien_0)\n"
   ]
  },
  {
   "cell_type": "markdown",
   "id": "b10d82bd",
   "metadata": {},
   "source": [
    "### 6.2.4 修改字典中的值"
   ]
  },
  {
   "cell_type": "code",
   "execution_count": 5,
   "id": "bb0203e4",
   "metadata": {},
   "outputs": [
    {
     "name": "stdout",
     "output_type": "stream",
     "text": [
      "The alien is green.\n",
      "The alien is now yellow.\n"
     ]
    }
   ],
   "source": [
    "alien_0 = {'color':'green'}\n",
    "print(\"The alien is \"+alien_0['color']+\".\")\n",
    "alien_0['color'] = 'yellow'\n",
    "print(\"The alien is now \"+alien_0['color']+\".\")\n"
   ]
  },
  {
   "cell_type": "code",
   "execution_count": 6,
   "id": "ca20c07e",
   "metadata": {},
   "outputs": [
    {
     "name": "stdout",
     "output_type": "stream",
     "text": [
      "Original x-position:0\n",
      "New x-position:2\n"
     ]
    }
   ],
   "source": [
    "alien_0 = {'x_position':0,'y_position':25,'speed':'medium'}\n",
    "print(\"Original x-position:\"+str(alien_0['x_position']))\n",
    "# 向右移动外星人\n",
    "# 据外星人当前速度决定将其移动多远\n",
    "if alien_0['speed'] == 'slow':\n",
    "    x_increment = 1\n",
    "elif alien_0['speed'] == 'medium':\n",
    "    x_increment = 2\n",
    "else:\n",
    "    # 这个外星人的速度一定很快\n",
    "    x_increment = 3\n",
    "# 新位置等于老位置加上增量\n",
    "alien_0['x_position'] = alien_0['x_position']+x_increment \n",
    "print(\"New x-position:\"+str(alien_0['x_position']))\n"
   ]
  },
  {
   "cell_type": "markdown",
   "id": "ec476a92",
   "metadata": {},
   "source": [
    "### 6.2.5 删除键-值对"
   ]
  },
  {
   "cell_type": "code",
   "execution_count": 7,
   "id": "b477f906",
   "metadata": {},
   "outputs": [
    {
     "name": "stdout",
     "output_type": "stream",
     "text": [
      "{'color': 'green', 'points': 5}\n",
      "{'color': 'green'}\n"
     ]
    }
   ],
   "source": [
    "alien_0 = {'color':'green','points':5}\n",
    "print(alien_0)\n",
    "del alien_0['points']\n",
    "print(alien_0)\n"
   ]
  },
  {
   "cell_type": "markdown",
   "id": "f530d0d7",
   "metadata": {},
   "source": [
    "### 6.2.6 由类似对象组成的字典"
   ]
  },
  {
   "cell_type": "code",
   "execution_count": 8,
   "id": "fc73b584",
   "metadata": {},
   "outputs": [],
   "source": [
    "favorite_languages = {\n",
    "    'jen':'python',\n",
    "    'sarah':'c',\n",
    "    'edward':'ruby',\n",
    "    'phil':'python',\n",
    "    }\n"
   ]
  },
  {
   "cell_type": "code",
   "execution_count": 11,
   "id": "669c4dad",
   "metadata": {},
   "outputs": [
    {
     "name": "stdout",
     "output_type": "stream",
     "text": [
      "Sarah's favorite language is C.\n"
     ]
    }
   ],
   "source": [
    "favorite_languages = {\n",
    "    'jen':'python',\n",
    "    'sarah':'c',\n",
    "    'edward':'ruby',\n",
    "    'phil':'python',\n",
    "    }\n",
    "print(\"Sarah's favorite language is \"+\n",
    "    favorite_languages['sarah'].title()+\n",
    "    \".\") \n"
   ]
  },
  {
   "cell_type": "markdown",
   "id": "3c7db1d1",
   "metadata": {},
   "source": [
    "### 动手试一试"
   ]
  },
  {
   "cell_type": "markdown",
   "id": "38e82290",
   "metadata": {},
   "source": [
    "1.使用一个字典来存储一个熟人的信息，包括名、姓、年龄和居住的城市。该字典应包含键first_name、last_name、age和city。将存储在该字典中的每项信息都打印出来。"
   ]
  },
  {
   "cell_type": "code",
   "execution_count": 12,
   "id": "7d9ea5ec",
   "metadata": {},
   "outputs": [
    {
     "name": "stdout",
     "output_type": "stream",
     "text": [
      "jiajia\n"
     ]
    }
   ],
   "source": [
    "love = {'first_name':'jiajia','last_name':'ni','age':26,'city':'shanghai'}\n",
    "print(love['first_name'])"
   ]
  },
  {
   "cell_type": "markdown",
   "id": "ca0cef6a",
   "metadata": {},
   "source": [
    "2.喜欢的数字：使用一个字典来存储一些人喜欢的数字。请想出5个人的名字，并将这些名字用作字典中的键；想出每个人喜欢的一个数字，并将这些数字作为值存储在字典中。打印每个人的名字和喜欢的数字。为让这个程序更有趣，通过询问朋友确保数据是真实的。"
   ]
  },
  {
   "cell_type": "code",
   "execution_count": 15,
   "id": "dc3b8f1d",
   "metadata": {},
   "outputs": [
    {
     "name": "stdout",
     "output_type": "stream",
     "text": [
      "52\n",
      "666\n"
     ]
    }
   ],
   "source": [
    "numbers = {'jc':52,'njj':666,'hxy':897}\n",
    "print(str(numbers['jc'])+'\\n'+str(numbers['njj']))"
   ]
  },
  {
   "cell_type": "markdown",
   "id": "04f5dc96",
   "metadata": {},
   "source": [
    "## 6.3 遍历字典"
   ]
  },
  {
   "cell_type": "markdown",
   "id": "8c2b17ba",
   "metadata": {},
   "source": [
    "### 6.3.1 遍历所有的键-值对"
   ]
  },
  {
   "cell_type": "code",
   "execution_count": 16,
   "id": "2b61e454",
   "metadata": {},
   "outputs": [
    {
     "name": "stdout",
     "output_type": "stream",
     "text": [
      "\n",
      "Key:username\n",
      "Value:efermi\n",
      "\n",
      "Key:first\n",
      "Value:enrico\n",
      "\n",
      "Key:last\n",
      "Value:fermi\n"
     ]
    }
   ],
   "source": [
    "user_0 = {\n",
    "    'username':'efermi',\n",
    "    'first':'enrico',\n",
    "    'last':'fermi',\n",
    "    }\n",
    "for key,value in user_0.items():\n",
    "    print(\"\\nKey:\"+key) \n",
    "    print(\"Value:\"+value) \n"
   ]
  },
  {
   "cell_type": "markdown",
   "id": "54e3f2b8",
   "metadata": {},
   "source": [
    "**for语句的第二部分包含字典名和方法items()，它返回一个键—值对列表。**"
   ]
  },
  {
   "cell_type": "code",
   "execution_count": 17,
   "id": "bc6cb75f",
   "metadata": {},
   "outputs": [
    {
     "name": "stdout",
     "output_type": "stream",
     "text": [
      "Jen's favorite language is Python.\n",
      "Sarah's favorite language is C.\n",
      "Edward's favorite language is Ruby.\n",
      "Phil's favorite language is Python.\n"
     ]
    }
   ],
   "source": [
    "favorite_languages = {\n",
    "    'jen':'python',\n",
    "    'sarah':'c',\n",
    "    'edward':'ruby',\n",
    "    'phil':'python',\n",
    "    }\n",
    "for name,language in favorite_languages.items():\n",
    "    print(name.title()+\"'s favorite language is \"+\n",
    "        language.title()+\".\")\n"
   ]
  },
  {
   "cell_type": "markdown",
   "id": "542d7c44",
   "metadata": {},
   "source": [
    "### 6.3.2 遍历字典中的所有键"
   ]
  },
  {
   "cell_type": "code",
   "execution_count": 18,
   "id": "b60cea36",
   "metadata": {},
   "outputs": [
    {
     "name": "stdout",
     "output_type": "stream",
     "text": [
      "Jen\n",
      "Sarah\n",
      "Edward\n",
      "Phil\n"
     ]
    }
   ],
   "source": [
    "favorite_languages = {\n",
    "    'jen':'python',\n",
    "    'sarah':'c',\n",
    "    'edward':'ruby',\n",
    "    'phil':'python',\n",
    "    }\n",
    "for name in favorite_languages.keys():\n",
    "    print(name.title())\n"
   ]
  },
  {
   "cell_type": "markdown",
   "id": "d24e7cc4",
   "metadata": {},
   "source": [
    "遍历字典时，会默认遍历所有的键，因此，如果将上述代码中的for name in favorite_languages.keys():替换为for name in favorite_languages:，输出将不变。"
   ]
  },
  {
   "cell_type": "markdown",
   "id": "8dc9790f",
   "metadata": {},
   "source": [
    "favorite_languages = {\n",
    "    'jen':'python',\n",
    "    'sarah':'c',\n",
    "    'edward':'ruby',\n",
    "    'phil':'python',\n",
    "    }\n",
    "for name in favorite_languages:\n",
    "    print(name.title())\n"
   ]
  },
  {
   "cell_type": "code",
   "execution_count": 21,
   "id": "9720669c",
   "metadata": {},
   "outputs": [
    {
     "name": "stdout",
     "output_type": "stream",
     "text": [
      "Jen\n",
      "Sarah\n",
      "  Hi Sarah,I see your favorite language is C!\n",
      "Edward\n",
      "Phil\n",
      "  Hi Phil,I see your favorite language is Python!\n"
     ]
    }
   ],
   "source": [
    "favorite_languages = {\n",
    "    'jen':'python',\n",
    "    'sarah':'c',\n",
    "    'edward':'ruby',\n",
    "    'phil':'python',\n",
    "    }\n",
    "friends = ['phil','sarah'] \n",
    "for name in favorite_languages.keys():\n",
    "    print(name.title())\n",
    "    if name in friends:\n",
    "        print(\"  Hi \"+name.title()+\n",
    "            \",I see your favorite language is \"+\n",
    "            favorite_languages[name].title()+\"!\") \n"
   ]
  },
  {
   "cell_type": "code",
   "execution_count": 24,
   "id": "60a352c5",
   "metadata": {},
   "outputs": [
    {
     "name": "stdout",
     "output_type": "stream",
     "text": [
      "Erin,please take our poll!\n"
     ]
    }
   ],
   "source": [
    "favorite_languages = {\n",
    "    'jen':'python',\n",
    "    'sarah':'c',\n",
    "    'edward':'ruby',\n",
    "    'phil':'python',\n",
    "    }\n",
    "if 'erin'not in favorite_languages.keys():\n",
    "    print(\"Erin,please take our poll!\")\n"
   ]
  },
  {
   "cell_type": "markdown",
   "id": "511c8859",
   "metadata": {},
   "source": [
    "### 6.3.3 按顺序遍历字典中的所有键"
   ]
  },
  {
   "cell_type": "code",
   "execution_count": 25,
   "id": "cf1d4e64",
   "metadata": {},
   "outputs": [
    {
     "name": "stdout",
     "output_type": "stream",
     "text": [
      "Edward,thank you for taking the poll.\n",
      "Jen,thank you for taking the poll.\n",
      "Phil,thank you for taking the poll.\n",
      "Sarah,thank you for taking the poll.\n"
     ]
    }
   ],
   "source": [
    "favorite_languages = {\n",
    "    'jen':'python',\n",
    "    'sarah':'c',\n",
    "    'edward':'ruby',\n",
    "    'phil':'python',\n",
    "    }\n",
    "for name in sorted(favorite_languages.keys()):\n",
    "    print(name.title()+\",thank you for taking the poll.\")\n"
   ]
  },
  {
   "cell_type": "markdown",
   "id": "875fec33",
   "metadata": {},
   "source": [
    "### 6.3.4 遍历字典中的所有值"
   ]
  },
  {
   "cell_type": "code",
   "execution_count": 28,
   "id": "06c32a67",
   "metadata": {},
   "outputs": [
    {
     "name": "stdout",
     "output_type": "stream",
     "text": [
      "The following languages have been mentioned:\n",
      "Python\n",
      "C\n",
      "Ruby\n",
      "Python\n"
     ]
    }
   ],
   "source": [
    "favorite_languages = {\n",
    "    'jen':'python',\n",
    "    'sarah':'c',\n",
    "    'edward':'ruby',\n",
    "    'phil':'python',\n",
    "    }\n",
    "print(\"The following languages have been mentioned:\")\n",
    "for language in favorite_languages.values():\n",
    "    print(language.title())\n"
   ]
  },
  {
   "cell_type": "markdown",
   "id": "2d5b1ab9",
   "metadata": {},
   "source": [
    "为剔除重复项，可使用集合(set)。集合类似于列表，但每个元素都必须是独一无二的："
   ]
  },
  {
   "cell_type": "code",
   "execution_count": 29,
   "id": "ae9d4445",
   "metadata": {},
   "outputs": [
    {
     "name": "stdout",
     "output_type": "stream",
     "text": [
      "The following languages have been mentioned:\n",
      "Ruby\n",
      "C\n",
      "Python\n"
     ]
    }
   ],
   "source": [
    "favorite_languages = {\n",
    "    'jen':'python',\n",
    "    'sarah':'c',\n",
    "    'edward':'ruby',\n",
    "    'phil':'python',\n",
    "    }\n",
    "print(\"The following languages have been mentioned:\")\n",
    "for language in set(favorite_languages.values()):\n",
    "    print(language.title())\n"
   ]
  },
  {
   "cell_type": "markdown",
   "id": "57223697",
   "metadata": {},
   "source": [
    "### 动手试一试"
   ]
  },
  {
   "cell_type": "markdown",
   "id": "02a05bb9",
   "metadata": {},
   "source": [
    "1.词汇表2：既然你知道了如何遍历字典，现在请整理你为完成练习6-3而编写的代码，将其中的一系列print语句替换为一个遍历字典中的键和值的循环。确定该循环正确无误后，再在词汇表中添加5个Python术语。当你再次运行这个程序时，这些新术语及其含义将自动包含在输出中。"
   ]
  },
  {
   "cell_type": "code",
   "execution_count": 33,
   "id": "9e0ebaaa",
   "metadata": {},
   "outputs": [
    {
     "name": "stdout",
     "output_type": "stream",
     "text": [
      "first_name:jiajia\n",
      "last_name:ni\n",
      "age:26\n",
      "city:shanghai\n"
     ]
    }
   ],
   "source": [
    "for k,y in love.items():\n",
    "    print(str(k)+':'+str(y))"
   ]
  },
  {
   "cell_type": "markdown",
   "id": "eea4a7e5",
   "metadata": {},
   "source": [
    "2. 河流：创建一个字典，在其中存储三条大河流及其流经的国家。其中一个键—值对可能是'nile':'egypt'。·使用循环为每条河流打印一条消息，如“The Nile runs through Egypt.”。·使用循环将该字典中每条河流的名字都打印出来。·使用循环将该字典包含的每个国家的名字都打印出来。"
   ]
  },
  {
   "cell_type": "code",
   "execution_count": 36,
   "id": "b260f7c1",
   "metadata": {},
   "outputs": [
    {
     "name": "stdout",
     "output_type": "stream",
     "text": [
      "THE nile runs through egypt\n",
      "THE amazon runs through brazil\n",
      "THE yangzi runs through china\n"
     ]
    }
   ],
   "source": [
    "rivers = {'nile':'egypt','amazon':'brazil','yangzi':'china'}\n",
    "for river,country in rivers.items():\n",
    "    print('THE '+river+' runs through '+country)"
   ]
  },
  {
   "cell_type": "markdown",
   "id": "d04da1d0",
   "metadata": {},
   "source": [
    "## 6.4 嵌套"
   ]
  },
  {
   "cell_type": "markdown",
   "id": "f0b611b5",
   "metadata": {},
   "source": [
    "### 6.4.1 字典列表"
   ]
  },
  {
   "cell_type": "code",
   "execution_count": 37,
   "id": "a7f1e43b",
   "metadata": {},
   "outputs": [
    {
     "name": "stdout",
     "output_type": "stream",
     "text": [
      "{'color': 'green', 'points': 5}\n",
      "{'color': 'yellow', 'points': 10}\n",
      "{'color': 'red', 'points': 15}\n"
     ]
    }
   ],
   "source": [
    "alien_0 = {'color':'green','points':5}\n",
    "alien_1 = {'color':'yellow','points':10}\n",
    "alien_2 = {'color':'red','points':15}\n",
    "aliens = [alien_0,alien_1,alien_2]\n",
    "for alien in aliens:\n",
    "    print(alien)\n"
   ]
  },
  {
   "cell_type": "code",
   "execution_count": 38,
   "id": "d5dc22c6",
   "metadata": {},
   "outputs": [
    {
     "name": "stdout",
     "output_type": "stream",
     "text": [
      "{'color': 'green', 'points': 5, 'speed': 'slow'}\n",
      "{'color': 'green', 'points': 5, 'speed': 'slow'}\n",
      "{'color': 'green', 'points': 5, 'speed': 'slow'}\n",
      "{'color': 'green', 'points': 5, 'speed': 'slow'}\n",
      "{'color': 'green', 'points': 5, 'speed': 'slow'}\n",
      "...\n",
      "Total number of aliens:30\n"
     ]
    }
   ],
   "source": [
    "# 创建一个用于存储外星人的空列表\n",
    "aliens = []\n",
    "# 创建30个绿色的外星人\n",
    "for alien_number in range(30):\n",
    "    new_alien = {'color':'green','points':5,'speed':'slow'} \n",
    "    aliens.append(new_alien) \n",
    "# 显示前五个外星人\n",
    "for alien in aliens[:5]:\n",
    "    print(alien)\n",
    "print(\"...\")\n",
    "# 显示创建了多少个外星人\n",
    "print(\"Total number of aliens:\"+str(len(aliens))) \n"
   ]
  },
  {
   "cell_type": "code",
   "execution_count": 40,
   "id": "51501554",
   "metadata": {},
   "outputs": [
    {
     "name": "stdout",
     "output_type": "stream",
     "text": [
      "{'color': 'yellow', 'points': 10, 'speed': 'medium'}\n",
      "{'color': 'yellow', 'points': 10, 'speed': 'medium'}\n",
      "{'color': 'yellow', 'points': 10, 'speed': 'medium'}\n",
      "{'color': 'green', 'points': 5, 'speed': 'slow'}\n",
      "{'color': 'green', 'points': 5, 'speed': 'slow'}\n",
      "...\n"
     ]
    }
   ],
   "source": [
    "# 创建一个用于存储外星人的空列表\n",
    "aliens = []\n",
    "# 创建30个绿色的外星人\n",
    "for alien_number in range (0,30):\n",
    "    new_alien = {'color':'green','points':5,'speed':'slow'}\n",
    "    aliens.append(new_alien)\n",
    "for alien in aliens[0:3]:\n",
    "    if alien['color'] == 'green':\n",
    "        alien['color'] = 'yellow'\n",
    "        alien['speed'] = 'medium'\n",
    "        alien['points'] = 10\n",
    "# 显示前五个外星人\n",
    "for alien in aliens[0:5]:\n",
    "    print(alien)\n",
    "print(\"...\")\n",
    "\n"
   ]
  },
  {
   "cell_type": "markdown",
   "id": "fb6be0a6",
   "metadata": {},
   "source": [
    "### 6.4.2 在字典中存储列表"
   ]
  },
  {
   "cell_type": "code",
   "execution_count": 41,
   "id": "3d7cb51e",
   "metadata": {},
   "outputs": [
    {
     "name": "stdout",
     "output_type": "stream",
     "text": [
      "You ordered a thick-crust pizza with the following toppings:\n",
      "\tmushrooms\n",
      "\textra cheese\n"
     ]
    }
   ],
   "source": [
    "# 存储所点比萨的信息\n",
    "pizza = { \n",
    "    'crust':'thick',\n",
    "    'toppings':['mushrooms','extra cheese'],\n",
    "    }\n",
    "# 概述所点的比萨\n",
    "print(\"You ordered a \"+pizza['crust']+\"-crust pizza \"+\n",
    "    \"with the following toppings:\")\n",
    "for topping in pizza['toppings']:\n",
    "    print(\"\\t\"+topping)\n"
   ]
  },
  {
   "cell_type": "code",
   "execution_count": 44,
   "id": "4ed76bd6",
   "metadata": {},
   "outputs": [
    {
     "name": "stdout",
     "output_type": "stream",
     "text": [
      "\n",
      "Jen's favorite languages are:\n",
      "\tPython\n",
      "\tRuby\n",
      "\n",
      "Sarah's favorite languages are:\n",
      "\tC\n",
      "\n",
      "Edward's favorite languages are:\n",
      "\tRuby\n",
      "\tGo\n",
      "\n",
      "Phil's favorite languages are:\n",
      "\tPython\n",
      "\tHaskell\n"
     ]
    }
   ],
   "source": [
    "favorite_languages = { \n",
    "    'jen':['python','ruby'],\n",
    "    'sarah':['c'],\n",
    "    'edward':['ruby','go'],\n",
    "    'phil':['python','haskell'],\n",
    "    }\n",
    "for name,languages in favorite_languages.items():\n",
    "    print(\"\\n\"+name.title()+\"'s favorite languages are:\")\n",
    "    for language in languages:\n",
    "        print(\"\\t\"+language.title())\n"
   ]
  },
  {
   "cell_type": "markdown",
   "id": "d6127a80",
   "metadata": {},
   "source": [
    "### 6.4.3 在字典中存储字典"
   ]
  },
  {
   "cell_type": "code",
   "execution_count": 45,
   "id": "18fbd760",
   "metadata": {},
   "outputs": [
    {
     "name": "stdout",
     "output_type": "stream",
     "text": [
      "\n",
      "Username:aeinstein\n",
      "\tFull name:Albert Einstein\n",
      "\tLocation:Princeton\n",
      "\n",
      "Username:mcurie\n",
      "\tFull name:Marie Curie\n",
      "\tLocation:Paris\n"
     ]
    }
   ],
   "source": [
    "users = {\n",
    "    'aeinstein':{\n",
    "        'first':'albert',\n",
    "        'last':'einstein',\n",
    "        'location':'princeton',\n",
    "        },\n",
    "    'mcurie':{\n",
    "        'first':'marie',\n",
    "        'last':'curie',\n",
    "        'location':'paris',\n",
    "        },\n",
    "    }\n",
    "for username,user_info in users.items():\n",
    "    print(\"\\nUsername:\"+username) \n",
    "    full_name = user_info['first']+\" \"+user_info['last'] \n",
    "    location = user_info['location']\n",
    "    print(\"\\tFull name:\"+full_name.title()) \n",
    "    print(\"\\tLocation:\"+location.title())\n"
   ]
  },
  {
   "cell_type": "markdown",
   "id": "185577f2",
   "metadata": {},
   "source": [
    "### 动手试一试"
   ]
  },
  {
   "cell_type": "markdown",
   "id": "a1d4b90a",
   "metadata": {},
   "source": [
    "1.人：在为完成练习6-1而编写的程序中，再创建两个表示人的字典，然后将这三个字典都存储在一个名为people的列表中。遍历这个列表，将其中每个人的所有信息都打印出来。"
   ]
  },
  {
   "cell_type": "code",
   "execution_count": 49,
   "id": "c2fadb68",
   "metadata": {},
   "outputs": [
    {
     "name": "stdout",
     "output_type": "stream",
     "text": [
      "\n",
      " he is love\n",
      "\t name is njj\n",
      "\t age is 26\n",
      "\n",
      " he is me\n",
      "\t name is jc\n",
      "\t age is 30\n",
      "\n",
      " he is haha\n",
      "\t name is muji\n",
      "\t age is 888\n"
     ]
    }
   ],
   "source": [
    "people = {\n",
    "    'love' : {\n",
    "        'name' : 'njj',\n",
    "        'age' : 26,\n",
    "        'location' : 'shanghai'\n",
    "    },\n",
    "    'me' : {\n",
    "        'name' : 'jc',\n",
    "        'age' : 30,\n",
    "        'location' : 'shanghai'\n",
    "    },\n",
    "    'haha' : {\n",
    "        'name' : 'muji',\n",
    "        'age' : 888,\n",
    "        'location' : 'yuzhou'\n",
    "    }\n",
    "}\n",
    "for k,y in people.items():\n",
    "    print('\\n he is '+k)\n",
    "    print('\\t name is '+y['name'])\n",
    "    print('\\t age is '+str(y['age']))"
   ]
  },
  {
   "cell_type": "markdown",
   "id": "e956093f",
   "metadata": {},
   "source": [
    "love = {'name':'njj,'age':26}\n",
    "me = {'name':'jc','age':30}\n",
    "a = [1,2]\n"
   ]
  },
  {
   "cell_type": "code",
   "execution_count": 50,
   "id": "8b7f1364",
   "metadata": {},
   "outputs": [
    {
     "name": "stdout",
     "output_type": "stream",
     "text": [
      "{'sd': 'sdf', 'asdf': 'sdf'}\n",
      "{'as': 'sdf', 'sdfsdf': '22er'}\n"
     ]
    }
   ],
   "source": [
    "aa = {'sd':'sdf','asdf':'sdf'}\n",
    "bb = {'as':'sdf','sdfsdf':'22er'}\n",
    "xx = [aa,bb]\n",
    "for a in xx:\n",
    "    print(a)"
   ]
  },
  {
   "cell_type": "code",
   "execution_count": 53,
   "id": "3696379f",
   "metadata": {},
   "outputs": [
    {
     "name": "stdout",
     "output_type": "stream",
     "text": [
      "sdf\n",
      "1\n",
      "2\n",
      "3\n",
      "4\n",
      "sd\n",
      "3\n"
     ]
    }
   ],
   "source": [
    "gaga = {'sdf':[1,2,3,4],'sd':'3'}\n",
    "for k,y in gaga.items():\n",
    "    print(k)\n",
    "    for a in y:\n",
    "        print(a)"
   ]
  },
  {
   "cell_type": "code",
   "execution_count": null,
   "id": "bc778abf",
   "metadata": {},
   "outputs": [],
   "source": []
  }
 ],
 "metadata": {
  "kernelspec": {
   "display_name": "Python 3 (ipykernel)",
   "language": "python",
   "name": "python3"
  },
  "language_info": {
   "codemirror_mode": {
    "name": "ipython",
    "version": 3
   },
   "file_extension": ".py",
   "mimetype": "text/x-python",
   "name": "python",
   "nbconvert_exporter": "python",
   "pygments_lexer": "ipython3",
   "version": "3.10.9"
  }
 },
 "nbformat": 4,
 "nbformat_minor": 5
}
