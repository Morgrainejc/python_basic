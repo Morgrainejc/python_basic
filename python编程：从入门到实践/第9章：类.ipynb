{
 "cells": [
  {
   "cell_type": "markdown",
   "id": "2f1d7e92",
   "metadata": {},
   "source": [
    "## 9.1 创建和使用类"
   ]
  },
  {
   "cell_type": "markdown",
   "id": "84ede2ee",
   "metadata": {},
   "source": [
    "### 9.1.1 创建dog类"
   ]
  },
  {
   "cell_type": "code",
   "execution_count": 2,
   "id": "8c28684c",
   "metadata": {},
   "outputs": [],
   "source": [
    "class Dog():\n",
    "    \"\"\"一次模拟小狗的简单尝试\"\"\" \n",
    "    def __init__(self,name,age):\n",
    "        \"\"\"初始化属性name和age\"\"\"\n",
    "        self.name = name \n",
    "        self.age = age\n",
    "    def sit(self):\n",
    "        \"\"\"模拟小狗被命令时蹲下\"\"\"\n",
    "        print(self.name.title()+\" is now sitting.\")\n",
    "    def roll_over(self):\n",
    "        \"\"\"模拟小狗被命令时打滚\"\"\"\n",
    "        print(self.name.title()+\" rolled over!\")\n"
   ]
  },
  {
   "cell_type": "markdown",
   "id": "cbe04944",
   "metadata": {},
   "source": [
    "根据约定，在Python中，首字母大写的名称指的是类。"
   ]
  },
  {
   "cell_type": "markdown",
   "id": "4cc1a5be",
   "metadata": {},
   "source": [
    "#### 1.方法__init()__"
   ]
  },
  {
   "cell_type": "markdown",
   "id": "bb009999",
   "metadata": {},
   "source": [
    "类中的函数称为方法,__init__()是一个特殊的方法，每当你根据Dog类创建新实例时，Python都会自动运行它。在这个方法的名称中，开头和末尾各有两个下划线，这是一种约定，旨在避免Python默认方法与普通方法发生名称冲突。"
   ]
  },
  {
   "cell_type": "markdown",
   "id": "43e0c9e4",
   "metadata": {},
   "source": [
    "### 9.1.2 根据类创建实例"
   ]
  },
  {
   "cell_type": "code",
   "execution_count": 3,
   "id": "4d67502b",
   "metadata": {},
   "outputs": [
    {
     "name": "stdout",
     "output_type": "stream",
     "text": [
      "My dog's name is Willie.\n",
      "My dog is 6 years old.\n"
     ]
    }
   ],
   "source": [
    "my_dog = Dog('willie',6) \n",
    "print(\"My dog's name is \"+my_dog.name.title()+\".\") \n",
    "print(\"My dog is \"+str(my_dog.age)+\" years old.\") \n"
   ]
  },
  {
   "cell_type": "markdown",
   "id": "e42f7cdc",
   "metadata": {},
   "source": [
    "#### 1.访问属性"
   ]
  },
  {
   "cell_type": "code",
   "execution_count": 4,
   "id": "56acb212",
   "metadata": {},
   "outputs": [
    {
     "data": {
      "text/plain": [
       "'willie'"
      ]
     },
     "execution_count": 4,
     "metadata": {},
     "output_type": "execute_result"
    }
   ],
   "source": [
    "my_dog.name"
   ]
  },
  {
   "cell_type": "markdown",
   "id": "e2db5016",
   "metadata": {},
   "source": [
    "#### 2.调用方法"
   ]
  },
  {
   "cell_type": "code",
   "execution_count": 5,
   "id": "148e5205",
   "metadata": {},
   "outputs": [
    {
     "name": "stdout",
     "output_type": "stream",
     "text": [
      "Willie is now sitting.\n",
      "Willie rolled over!\n"
     ]
    }
   ],
   "source": [
    "my_dog.sit()\n",
    "my_dog.roll_over()"
   ]
  },
  {
   "cell_type": "markdown",
   "id": "4612dcbc",
   "metadata": {},
   "source": [
    "#### 3.创建多个实例"
   ]
  },
  {
   "cell_type": "code",
   "execution_count": 6,
   "id": "64468465",
   "metadata": {},
   "outputs": [
    {
     "name": "stdout",
     "output_type": "stream",
     "text": [
      "My dog's name is Willie.\n",
      "My dog is 6 years old.\n",
      "Willie is now sitting.\n",
      "\n",
      "Your dog's name is Lucy.\n",
      "Your dog is 3 years old.\n",
      "Lucy is now sitting.\n"
     ]
    }
   ],
   "source": [
    "my_dog = Dog('willie',6)\n",
    "your_dog = Dog('lucy',3)\n",
    "print(\"My dog's name is \"+my_dog.name.title()+\".\")\n",
    "print(\"My dog is \"+str(my_dog.age)+\" years old.\")\n",
    "my_dog.sit()\n",
    "print(\"\\nYour dog's name is \"+your_dog.name.title()+\".\")\n",
    "print(\"Your dog is \"+str(your_dog.age)+\" years old.\")\n",
    "your_dog.sit()"
   ]
  },
  {
   "cell_type": "markdown",
   "id": "76fc4018",
   "metadata": {},
   "source": [
    "### 动手试一试"
   ]
  },
  {
   "cell_type": "raw",
   "id": "c6dcdc30",
   "metadata": {},
   "source": [
    "1.餐馆：创建一个名为Restaurant的类，其方法__init__()设置两个属性：restaurant_name和cuisine_type。创建一个名为describe_restaurant()的方法和一个名为open_restaurant()的方法，其中前者打印前述两项信息，而后者打印一条消息，指出餐馆正在营业。根据这个类创建一个名为restaurant的实例，分别打印其两个属性，再调用前述两个方法。"
   ]
  },
  {
   "cell_type": "code",
   "execution_count": 30,
   "id": "dfd7cf76",
   "metadata": {},
   "outputs": [],
   "source": [
    "class Restaurant:\n",
    "    \"\"\"餐馆信息\"\"\"\n",
    "    def __init__(self,restaurant_name,cuisine_type):\n",
    "        self.restaurant_name = restaurant_name\n",
    "        self.cuisine_type = cuisine_type\n",
    "    def describe_restaurant(self):\n",
    "        print('The restaurant name is '+ str(self.restaurant_name))\n",
    "        print( '\\n cuisine_type is ' + str(self.cuisine_type))\n",
    "    def open_restaurant(self):\n",
    "        print('It is open')\n"
   ]
  },
  {
   "cell_type": "code",
   "execution_count": 31,
   "id": "1b1568e7",
   "metadata": {},
   "outputs": [],
   "source": [
    "restaurant = Restaurant('jiangchonglamian','online')"
   ]
  },
  {
   "cell_type": "code",
   "execution_count": 33,
   "id": "81d39492",
   "metadata": {},
   "outputs": [
    {
     "data": {
      "text/plain": [
       "'jiangchonglamian'"
      ]
     },
     "execution_count": 33,
     "metadata": {},
     "output_type": "execute_result"
    }
   ],
   "source": [
    "restaurant.restaurant_name"
   ]
  },
  {
   "cell_type": "code",
   "execution_count": 34,
   "id": "ed32bd9d",
   "metadata": {},
   "outputs": [
    {
     "data": {
      "text/plain": [
       "'online'"
      ]
     },
     "execution_count": 34,
     "metadata": {},
     "output_type": "execute_result"
    }
   ],
   "source": [
    "restaurant.cuisine_type"
   ]
  },
  {
   "cell_type": "code",
   "execution_count": 35,
   "id": "38b843b8",
   "metadata": {},
   "outputs": [
    {
     "name": "stdout",
     "output_type": "stream",
     "text": [
      "The restaurant name is jiangchonglamian\n",
      "\n",
      " cuisine_type is online\n"
     ]
    }
   ],
   "source": [
    "restaurant.describe_restaurant()"
   ]
  },
  {
   "cell_type": "code",
   "execution_count": 36,
   "id": "7c99f750",
   "metadata": {},
   "outputs": [
    {
     "name": "stdout",
     "output_type": "stream",
     "text": [
      "It is open\n"
     ]
    }
   ],
   "source": [
    "restaurant.open_restaurant()"
   ]
  },
  {
   "cell_type": "markdown",
   "id": "d7fa1581",
   "metadata": {},
   "source": [
    "2.用户：创建一个名为User的类，其中包含属性first_name和last_name，还有用户简介通常会存储的其他几个属性。在类User中定义一个名为describe_user()的方法，它打印用户信息摘要；再定义一个名为greet_user()的方法，它向用户发出个性化的问候。"
   ]
  },
  {
   "cell_type": "code",
   "execution_count": 49,
   "id": "99e02217",
   "metadata": {},
   "outputs": [],
   "source": [
    "class User:\n",
    "    \"\"\"用户信息\"\"\"\n",
    "    def __init__(self,first_name,last_name):\n",
    "        self.first_name = first_name\n",
    "        self.last_name = last_name\n",
    "    def describe_user(self):\n",
    "        \"\"\"介绍用户\"\"\"\n",
    "        print(self.first_name.title())\n",
    "    def greet_user(self):\n",
    "        print('hello')"
   ]
  },
  {
   "cell_type": "code",
   "execution_count": 50,
   "id": "d73317a3",
   "metadata": {},
   "outputs": [],
   "source": [
    "usr = User('jiang','chong')"
   ]
  },
  {
   "cell_type": "code",
   "execution_count": 51,
   "id": "6d74c50c",
   "metadata": {},
   "outputs": [
    {
     "data": {
      "text/plain": [
       "'jiang'"
      ]
     },
     "execution_count": 51,
     "metadata": {},
     "output_type": "execute_result"
    }
   ],
   "source": [
    "usr.first_name"
   ]
  },
  {
   "cell_type": "code",
   "execution_count": 52,
   "id": "c918bea9",
   "metadata": {},
   "outputs": [
    {
     "data": {
      "text/plain": [
       "'chong'"
      ]
     },
     "execution_count": 52,
     "metadata": {},
     "output_type": "execute_result"
    }
   ],
   "source": [
    "usr.last_name"
   ]
  },
  {
   "cell_type": "code",
   "execution_count": 53,
   "id": "83b3f0d2",
   "metadata": {},
   "outputs": [
    {
     "name": "stdout",
     "output_type": "stream",
     "text": [
      "Jiang\n"
     ]
    }
   ],
   "source": [
    "usr.describe_user()"
   ]
  },
  {
   "cell_type": "markdown",
   "id": "7daee48d",
   "metadata": {},
   "source": [
    "## 9.2 使用类和实例"
   ]
  },
  {
   "cell_type": "markdown",
   "id": "c3a3b6ec",
   "metadata": {},
   "source": [
    "### 9.2.1 Car类"
   ]
  },
  {
   "cell_type": "code",
   "execution_count": 55,
   "id": "7700e42d",
   "metadata": {},
   "outputs": [
    {
     "name": "stdout",
     "output_type": "stream",
     "text": [
      "2016 Audi A4\n"
     ]
    }
   ],
   "source": [
    "class Car():\n",
    "    \"\"\"一次模拟汽车的简单尝试\"\"\"\n",
    "    def __init__(self,make,model,year):\n",
    "        \"\"\"初始化描述汽车的属性\"\"\"\n",
    "        self.make = make\n",
    "        self.model = model\n",
    "        self.year = year\n",
    "    def get_descriptive_name(self):\n",
    "        \"\"\"返回整洁的描述性信息\"\"\"\n",
    "        long_name = str(self.year)+' '+self.make+' '+self.model\n",
    "        return long_name.title()\n",
    "my_new_car = Car('audi','a4',2016) \n",
    "print(my_new_car.get_descriptive_name())\n"
   ]
  },
  {
   "cell_type": "markdown",
   "id": "a01f32dc",
   "metadata": {},
   "source": [
    "### 9.2.2 给属性指定默认值"
   ]
  },
  {
   "cell_type": "code",
   "execution_count": 57,
   "id": "5e897d74",
   "metadata": {},
   "outputs": [
    {
     "name": "stdout",
     "output_type": "stream",
     "text": [
      "2016 Audi A4\n",
      "This car has 0 miles on it.\n"
     ]
    }
   ],
   "source": [
    "class Car():\n",
    "    def __init__(self,make,model,year):\n",
    "        \"\"\"初始化描述汽车的属性\"\"\"\n",
    "        self.make = make\n",
    "        self.model = model\n",
    "        self.year = year\n",
    "        self.odometer_reading = 0 \n",
    "    def get_descriptive_name(self):\n",
    "        long_name = str(self.year)+' '+self.make+' '+self.model\n",
    "        return long_name.title()\n",
    "    def read_odometer(self):\n",
    "        \"\"\"打印一条指出汽车里程的消息\"\"\"\n",
    "        print(\"This car has \"+str(self.odometer_reading)+\" miles on it.\")\n",
    "my_new_car = Car('audi','a4',2016)\n",
    "print(my_new_car.get_descriptive_name())\n",
    "my_new_car.read_odometer()\n"
   ]
  },
  {
   "cell_type": "markdown",
   "id": "0567995d",
   "metadata": {},
   "source": [
    "### 9.2.3 修改属性的值"
   ]
  },
  {
   "cell_type": "markdown",
   "id": "19be06f9",
   "metadata": {},
   "source": [
    "#### 1.直接修改属性的值"
   ]
  },
  {
   "cell_type": "code",
   "execution_count": 19,
   "id": "6f76f693",
   "metadata": {},
   "outputs": [
    {
     "name": "stdout",
     "output_type": "stream",
     "text": [
      "2016Audia4\n",
      "This car has 23 miles on it.\n"
     ]
    }
   ],
   "source": [
    "my_new_car = Car('audi','a4',2016)\n",
    "print(my_new_car.get_descriptive_name())\n",
    "my_new_car.odometer_reading = 23 \n",
    "my_new_car.read_odometer()\n"
   ]
  },
  {
   "cell_type": "markdown",
   "id": "099e6f3c",
   "metadata": {},
   "source": [
    "#### 2.通过方法修改属性的值"
   ]
  },
  {
   "cell_type": "code",
   "execution_count": 63,
   "id": "e27cd436",
   "metadata": {},
   "outputs": [
    {
     "name": "stdout",
     "output_type": "stream",
     "text": [
      "2016 Audi A4\n",
      "This car has 23 miles on it.\n"
     ]
    }
   ],
   "source": [
    "class Car():\n",
    "    def __init__(self,make,model,year):\n",
    "        \"\"\"初始化描述汽车的属性\"\"\"\n",
    "        self.make = make\n",
    "        self.model = model\n",
    "        self.year = year\n",
    "        self.odometer_reading = 0 \n",
    "    def get_descriptive_name(self):\n",
    "        long_name = str(self.year)+' '+self.make+' '+self.model\n",
    "        return long_name.title()\n",
    "    def read_odometer(self):\n",
    "        \"\"\"打印一条指出汽车里程的消息\"\"\"\n",
    "        print(\"This car has \"+str(self.odometer_reading)+\" miles on it.\")\n",
    "    def update_odometer(self,mileage):\n",
    "        \"\"\"将里程表读数设置为指定的值\"\"\"\n",
    "        self.odometer_reading = mileage\n",
    "my_new_car = Car('audi','a4',2016)\n",
    "print(my_new_car.get_descriptive_name())\n",
    "my_new_car.update_odometer(23) \n",
    "my_new_car.read_odometer()\n"
   ]
  },
  {
   "cell_type": "code",
   "execution_count": null,
   "id": "0db96e4e",
   "metadata": {},
   "outputs": [],
   "source": [
    "class Car():\n",
    "    def __init__(self,make,model,year):\n",
    "        \"\"\"初始化描述汽车的属性\"\"\"\n",
    "        self.make = make\n",
    "        self.model = model\n",
    "        self.year = year\n",
    "        self.odometer_reading = 0 \n",
    "    def get_descriptive_name(self):\n",
    "        long_name = str(self.year)+' '+self.make+' '+self.model\n",
    "        return long_name.title()\n",
    "    def read_odometer(self):\n",
    "        \"\"\"打印一条指出汽车里程的消息\"\"\"\n",
    "        print(\"This car has \"+str(self.odometer_reading)+\" miles on it.\")\n",
    "    def update_odometer(self,mileage):\n",
    "        \n",
    "        \"\"\"\n",
    "        将里程表读数设置为指定的值\n",
    "        禁止将里程表读数往回调\n",
    "        \"\"\"\n",
    "        if mileage >= self.odometer_reading:\n",
    "            self.odometer_reading = mileage\n",
    "        else:\n",
    "            print(\"You can't roll back an odometer!\") "
   ]
  },
  {
   "cell_type": "markdown",
   "id": "87fdfda0",
   "metadata": {},
   "source": [
    "#### 3.通过方法对属性的值进行递增"
   ]
  },
  {
   "cell_type": "code",
   "execution_count": 67,
   "id": "58dee3d2",
   "metadata": {},
   "outputs": [
    {
     "name": "stdout",
     "output_type": "stream",
     "text": [
      "2013 Subaru Outback\n",
      "This car has 23500 miles on it.\n",
      "This car has 23600 miles on it.\n"
     ]
    }
   ],
   "source": [
    "class Car():\n",
    "    def __init__(self,make,model,year):\n",
    "        \"\"\"初始化描述汽车的属性\"\"\"\n",
    "        self.make = make\n",
    "        self.model = model\n",
    "        self.year = year\n",
    "        self.odometer_reading = 0 \n",
    "    def get_descriptive_name(self):\n",
    "        long_name = str(self.year)+' '+self.make+' '+self.model\n",
    "        return long_name.title()\n",
    "    def read_odometer(self):\n",
    "        \"\"\"打印一条指出汽车里程的消息\"\"\"\n",
    "        print(\"This car has \"+str(self.odometer_reading)+\" miles on it.\")\n",
    "    def update_odometer(self,mileage):\n",
    "        \"\"\"将里程表读数设置为指定的值\"\"\"\n",
    "        self.odometer_reading = mileage\n",
    "    def increment_odometer(self,miles):\n",
    "        \"\"\"将里程表读数增加指定的量\"\"\"\n",
    "        self.odometer_reading += miles\n",
    "        \n",
    "\n",
    "my_used_car = Car('subaru','outback',2013) \n",
    "print(my_used_car.get_descriptive_name())\n",
    "my_used_car.update_odometer(23500) \n",
    "my_used_car.read_odometer()\n",
    "my_used_car.increment_odometer(100) \n",
    "my_used_car.read_odometer()\n"
   ]
  },
  {
   "cell_type": "markdown",
   "id": "64b01fdf",
   "metadata": {},
   "source": [
    "### 动手试一试"
   ]
  },
  {
   "cell_type": "markdown",
   "id": "8f011250",
   "metadata": {},
   "source": [
    "1.就餐人数：在为完成练习9-1而编写的程序中，添加一个名为number_served的属性，并将其默认值设置为0。根据这个类创建一个名为restaurant的实例；打印有多少人在这家餐馆就餐过，然后修改这个值并再次打印它。添加一个名为set_number_served()的方法，它让你能够设置就餐人数。调用这个方法并向它传递一个值，然后再次打印这个值。添加一个名为increment_number_served()的方法，它让你能够将就餐人数递增。调用这个方法并向它传递一个这样的值：你认为这家餐馆每天可能接待的就餐人数。"
   ]
  },
  {
   "cell_type": "code",
   "execution_count": 85,
   "id": "d44ad199",
   "metadata": {},
   "outputs": [
    {
     "name": "stdout",
     "output_type": "stream",
     "text": [
      "The restaurant name is laoxiangji\n",
      "\n",
      " cuisine_type is nanchi\n",
      "13\n",
      "43\n"
     ]
    }
   ],
   "source": [
    "class Restaurant:\n",
    "    \"\"\"餐馆信息\"\"\"\n",
    "    def __init__(self,restaurant_name,cuisine_type):\n",
    "        self.restaurant_name = restaurant_name\n",
    "        self.cuisine_type = cuisine_type\n",
    "        self.number_served = 0\n",
    "    def describe_restaurant(self):\n",
    "        print('The restaurant name is '+ str(self.restaurant_name))\n",
    "        print( '\\n cuisine_type is ' + str(self.cuisine_type))\n",
    "    def open_restaurant(self):\n",
    "        print('It is open')\n",
    "    def set_number_served(self,number):\n",
    "        self.number_served = number\n",
    "    def increment_number_served(self,font):\n",
    "        self.number_served  += font\n",
    "        \n",
    "restaurant = Restaurant('laoxiangji','nanchi')\n",
    "restaurant.describe_restaurant()\n",
    "\n",
    "restaurant.set_number_served(13)\n",
    "print(restaurant.number_served)\n",
    "\n",
    "restaurant.increment_number_served(30)\n",
    "print(restaurant.number_served)\n"
   ]
  },
  {
   "cell_type": "markdown",
   "id": "486f7dab",
   "metadata": {},
   "source": [
    "## 9.3 继承"
   ]
  },
  {
   "cell_type": "markdown",
   "id": "43a2deab",
   "metadata": {},
   "source": [
    "一个类继承另一个类时，它将自动获得另一个类的所有属性和方法；原有的类称为父类，而新类称为子类。子类继承了其父类的所有属性和方法，同时还可以定义自己的属性和方法。"
   ]
  },
  {
   "cell_type": "markdown",
   "id": "106ceb31",
   "metadata": {},
   "source": [
    "### 9.3.1 子类的方法__init__()"
   ]
  },
  {
   "cell_type": "code",
   "execution_count": 89,
   "id": "8b493d6d",
   "metadata": {},
   "outputs": [
    {
     "name": "stdout",
     "output_type": "stream",
     "text": [
      "2016 Tesla Model S\n"
     ]
    }
   ],
   "source": [
    "class Car():\n",
    "    \"\"\"一次模拟汽车的简单尝试\"\"\"\n",
    "    def __init__(self,make,model,year):\n",
    "        self.make = make\n",
    "        self.model = model\n",
    "        self.year = year\n",
    "        self.odometer_reading = 0\n",
    "    def get_descriptive_name(self):\n",
    "        long_name = str(self.year)+' '+self.make+' '+self.model\n",
    "        return long_name.title()\n",
    "    def read_odometer(self):\n",
    "        print(\"This car has \"+str(self.odometer_reading)+\" miles on it.\")\n",
    "    def update_odometer(self,mileage):\n",
    "        if mileage >= self.odometer_reading:\n",
    "            self.odometer_reading = mileage\n",
    "        else:\n",
    "            print(\"You can't roll back an odometer!\")\n",
    "    def increment_odometer(self,miles):\n",
    "        self.odometer_reading+= miles\n",
    "        \n",
    "class ElectricCar(Car):\n",
    "    \"\"\"电动汽车的独特之处\"\"\"\n",
    "    def __init__(self,make,model,year):\n",
    "        \"\"\"初始化父类的属性\"\"\"\n",
    "        super().__init__(make,model,year) \n",
    "\n",
    "my_tesla = ElectricCar('tesla','model s',2016) \n",
    "print(my_tesla.get_descriptive_name())\n"
   ]
  },
  {
   "cell_type": "markdown",
   "id": "9ff38660",
   "metadata": {},
   "source": [
    "### 9.3.3 给子类定义属性和方法"
   ]
  },
  {
   "cell_type": "code",
   "execution_count": 98,
   "id": "477057ed",
   "metadata": {},
   "outputs": [
    {
     "name": "stdout",
     "output_type": "stream",
     "text": [
      "2016 Tesla Model S\n",
      "This car has a 70-kWh battery.\n"
     ]
    }
   ],
   "source": [
    "class Car():\n",
    "    \"\"\"一次模拟汽车的简单尝试\"\"\"\n",
    "    def __init__(self,make,model,year):\n",
    "        self.make = make\n",
    "        self.model = model\n",
    "        self.year = year\n",
    "        self.odometer_reading = 0\n",
    "    def get_descriptive_name(self):\n",
    "        long_name = str(self.year)+' '+self.make+' '+self.model\n",
    "        return long_name.title()\n",
    "    def read_odometer(self):\n",
    "        print(\"This car has \"+str(self.odometer_reading)+\" miles on it.\")\n",
    "    def update_odometer(self,mileage):\n",
    "        if mileage >= self.odometer_reading:\n",
    "            self.odometer_reading = mileage\n",
    "        else:\n",
    "            print(\"You can't roll back an odometer!\")\n",
    "    def increment_odometer(self,miles):\n",
    "        self.odometer_reading+= miles\n",
    "        \n",
    "class ElectricCar(Car):\n",
    "    \"\"\"Represent aspects of a car,specific to electric vehicles.\"\"\"\n",
    "    def __init__(self,make,model,year):\n",
    "        \"\"\"\n",
    "        电动汽车的独特之处\n",
    "        初始化父类的属性，再初始化电动汽车特有的属性\n",
    "        \"\"\"\n",
    "        super().__init__(make,model,year)\n",
    "        self.battery_size = 70 \n",
    "    def describe_battery(self):\n",
    "        \"\"\"打印一条描述电瓶容量的消息\"\"\"\n",
    "        print(\"This car has a \"+str(self.battery_size)+\"-kWh battery.\")\n",
    "\n",
    "        \n",
    "my_tesla = ElectricCar('tesla','model s',2016)\n",
    "print(my_tesla.get_descriptive_name())\n",
    "my_tesla.describe_battery()\n"
   ]
  },
  {
   "cell_type": "markdown",
   "id": "54223601",
   "metadata": {},
   "source": [
    "### 9.3.4 重写父类的方法"
   ]
  },
  {
   "cell_type": "markdown",
   "id": "03188973",
   "metadata": {},
   "source": [
    "为此，可在子类中定义一个这样的方法，即它与要重写的父类方法同名。这样，Python将不会考虑这个父类方法，而只关注你在子类中定义的相应方法。"
   ]
  },
  {
   "cell_type": "markdown",
   "id": "8b478ff4",
   "metadata": {},
   "source": [
    "### 9.3.5 将实例用作属性"
   ]
  },
  {
   "cell_type": "code",
   "execution_count": 104,
   "id": "a40dff89",
   "metadata": {},
   "outputs": [
    {
     "name": "stdout",
     "output_type": "stream",
     "text": [
      "2016 Tesla Model S\n",
      "This car has a 70-kWh battery.\n"
     ]
    }
   ],
   "source": [
    "class Car():\n",
    "    \"\"\"一次模拟汽车的简单尝试\"\"\"\n",
    "    def __init__(self,make,model,year):\n",
    "        self.make = make\n",
    "        self.model = model\n",
    "        self.year = year\n",
    "        self.odometer_reading = 0\n",
    "    def get_descriptive_name(self):\n",
    "        long_name = str(self.year)+' '+self.make+' '+self.model\n",
    "        return long_name.title()\n",
    "    def read_odometer(self):\n",
    "        print(\"This car has \"+str(self.odometer_reading)+\" miles on it.\")\n",
    "    def update_odometer(self,mileage):\n",
    "        if mileage >= self.odometer_reading:\n",
    "            self.odometer_reading = mileage\n",
    "        else:\n",
    "            print(\"You can't roll back an odometer!\")\n",
    "    def increment_odometer(self,miles):\n",
    "        self.odometer_reading+= miles\n",
    "class Battery():\n",
    "    \"\"\"一次模拟电动汽车电瓶的简单尝试\"\"\"\n",
    "    def __init__(self,battery_size=70):\n",
    "        \"\"\"初始化电瓶的属性\"\"\"\n",
    "        self.battery_size = battery_size\n",
    "    def describe_battery(self):\n",
    "        \"\"\"打印一条描述电瓶容量的消息\"\"\"\n",
    "        print(\"This car has a \"+str(self.battery_size)+\"-kWh battery.\")\n",
    "\n",
    "class ElectricCar(Car):\n",
    "    \"\"\"电动汽车的独特之处\"\"\"\n",
    "    def __init__(self,make,model,year):\n",
    "        \"\"\"\n",
    "        初始化父类的属性，再初始化电动汽车特有的属性\n",
    "        \"\"\"\n",
    "        super().__init__(make,model,year)\n",
    "        self.battery = Battery() \n",
    "\n",
    "my_tesla = ElectricCar('tesla','model s',2016)\n",
    "print(my_tesla.get_descriptive_name())\n",
    "my_tesla.battery.describe_battery()\n"
   ]
  },
  {
   "cell_type": "code",
   "execution_count": 106,
   "id": "b37df4ad",
   "metadata": {},
   "outputs": [
    {
     "name": "stdout",
     "output_type": "stream",
     "text": [
      "2016 Tesla Model S\n",
      "This car has a 70-kWh battery.\n",
      "This car can go approximately 240 miles on a full charge.\n"
     ]
    }
   ],
   "source": [
    "class Car():\n",
    "    \"\"\"一次模拟汽车的简单尝试\"\"\"\n",
    "    def __init__(self,make,model,year):\n",
    "        self.make = make\n",
    "        self.model = model\n",
    "        self.year = year\n",
    "        self.odometer_reading = 0\n",
    "    def get_descriptive_name(self):\n",
    "        long_name = str(self.year)+' '+self.make+' '+self.model\n",
    "        return long_name.title()\n",
    "    def read_odometer(self):\n",
    "        print(\"This car has \"+str(self.odometer_reading)+\" miles on it.\")\n",
    "    def update_odometer(self,mileage):\n",
    "        if mileage >= self.odometer_reading:\n",
    "            self.odometer_reading = mileage\n",
    "        else:\n",
    "            print(\"You can't roll back an odometer!\")\n",
    "    def increment_odometer(self,miles):\n",
    "        self.odometer_reading+= miles\n",
    "        \n",
    "class Battery():\n",
    "    \"\"\"一次模拟电动汽车电瓶的简单尝试\"\"\"\n",
    "    def __init__(self,battery_size=70):\n",
    "        \"\"\"初始化电瓶的属性\"\"\"\n",
    "        self.battery_size = battery_size\n",
    "    def describe_battery(self):\n",
    "        \"\"\"打印一条描述电瓶容量的消息\"\"\"\n",
    "        print(\"This car has a \"+str(self.battery_size)+\"-kWh battery.\")\n",
    "    def get_range(self):\n",
    "        \"\"\"打印一条消息，指出电瓶的续航里程\"\"\"\n",
    "        if self.battery_size == 70:\n",
    "            range = 240\n",
    "        elif self.battery_size == 85:\n",
    "            range = 270\n",
    "        message = \"This car can go approximately \"+str(range)\n",
    "        message+= \" miles on a full charge.\"\n",
    "        print(message)\n",
    "        \n",
    "class ElectricCar(Car):\n",
    "    \"\"\"电动汽车的独特之处\"\"\"\n",
    "    def __init__(self,make,model,year):\n",
    "        \"\"\"\n",
    "        初始化父类的属性，再初始化电动汽车特有的属性\n",
    "        \"\"\"\n",
    "        super().__init__(make,model,year)\n",
    "        self.battery = Battery() \n",
    "        \n",
    "my_tesla = ElectricCar('tesla','model s',2016)\n",
    "print(my_tesla.get_descriptive_name())\n",
    "my_tesla.battery.describe_battery()\n",
    "my_tesla.battery.get_range() \n"
   ]
  },
  {
   "cell_type": "markdown",
   "id": "72f8f64a",
   "metadata": {},
   "source": [
    "### 9.3.6 模拟实物"
   ]
  },
  {
   "cell_type": "markdown",
   "id": "c85deab4",
   "metadata": {},
   "source": [
    "### 动手试一试"
   ]
  },
  {
   "cell_type": "markdown",
   "id": "06288f29",
   "metadata": {},
   "source": [
    "1.冰淇淋小店：冰淇淋小店是一种特殊的餐馆。编写一个名为IceCreamStand的类，让它继承你为完成练习9-1或练习9-4而编写的Restaurant类。这两个版本的Restaurant类都可以，挑选你更喜欢的那个即可。添加一个名为flavors的属性，用于存储一个由各种口味的冰淇淋组成的列表。编写一个显示这些冰淇淋的方法。创建一个IceCreamStand实例，并调用这个方法。"
   ]
  },
  {
   "cell_type": "code",
   "execution_count": 112,
   "id": "e441ee02",
   "metadata": {},
   "outputs": [
    {
     "name": "stdout",
     "output_type": "stream",
     "text": [
      "The restaurant name is A\n",
      "\n",
      " cuisine_type is a\n",
      "laobingung\n",
      "tianqiu\n",
      "zhongxuegao\n"
     ]
    }
   ],
   "source": [
    "class Restaurant:\n",
    "    \"\"\"餐馆信息\"\"\"\n",
    "    def __init__(self,restaurant_name,cuisine_type):\n",
    "        self.restaurant_name = restaurant_name\n",
    "        self.cuisine_type = cuisine_type\n",
    "        self.number_served = 0\n",
    "    def describe_restaurant(self):\n",
    "        print('The restaurant name is '+ str(self.restaurant_name))\n",
    "        print( '\\n cuisine_type is ' + str(self.cuisine_type))\n",
    "    def open_restaurant(self):\n",
    "        print('It is open')\n",
    "    def set_number_served(self,number):\n",
    "        self.number_served = number\n",
    "    def increment_number_served(self,font):\n",
    "        self.number_served  += font\n",
    "        \n",
    "class IceCreamStand(Restaurant):\n",
    "    def __init__(self,restaurant_name,cuisine_type):\n",
    "        super().__init__(restaurant_name,cuisine_type)\n",
    "        self.flavors =  ['laobingung','tianqiu','zhongxuegao']\n",
    "    def show_flavors(self):\n",
    "        for ice in self.flavors:\n",
    "            print(ice)\n",
    "myicecream = IceCreamStand('A','a')\n",
    "myicecream.describe_restaurant()\n",
    "myicecream.show_flavors()\n"
   ]
  },
  {
   "cell_type": "markdown",
   "id": "39e1a7fc",
   "metadata": {},
   "source": [
    "2.权限：编写一个名为Privileges的类，它只有一个属性——privileges，其中存储了练习9-7所说的字符串列表。将方法show_privileges()移到这个类中。在Admin类中，将一个Privileges实例用作其属性。创建一个Admin实例，并使用方法show_privileges()来显示其权限。"
   ]
  },
  {
   "cell_type": "code",
   "execution_count": 124,
   "id": "8b63b884",
   "metadata": {},
   "outputs": [
    {
     "name": "stdout",
     "output_type": "stream",
     "text": [
      "a\n",
      "n\n"
     ]
    },
    {
     "data": {
      "text/plain": [
       "('a', 'n')"
      ]
     },
     "execution_count": 124,
     "metadata": {},
     "output_type": "execute_result"
    }
   ],
   "source": [
    "class Privileges:\n",
    "    def __init__(self,privileges):\n",
    "        self.privileges = privileges\n",
    "    def show_privileges(self):\n",
    "        for privilege in self.privileges:\n",
    "            print(privilege)\n",
    "\n",
    "class Admin:\n",
    "    def __init__(self,privileges):\n",
    "        self.admin = Privileges(privileges)\n",
    "\n",
    "Admin(('a','n')).admin.show_privileges()\n",
    "Admin(('a','n')).admin.privileges"
   ]
  },
  {
   "cell_type": "markdown",
   "id": "62f145d2",
   "metadata": {},
   "source": [
    "3.电瓶升级：在本节最后一个electric_car.py版本中，给Battery类添加一个名为upgrade_battery()的方法。这个方法检查电瓶容量，如果它不是85，就将它设置为85。创建一辆电瓶容量为默认值的电动汽车，调用方法get_range()，然后对电瓶进行升级，并再次调用get_range()。你会看到这辆汽车的续航里程增加了。"
   ]
  },
  {
   "cell_type": "code",
   "execution_count": 9,
   "id": "bc86a972",
   "metadata": {},
   "outputs": [],
   "source": [
    "class Battery():\n",
    "    \"\"\"一次模拟电动汽车电瓶的简单尝试\"\"\"\n",
    "    def __init__(self,battery_size=70):\n",
    "        \"\"\"初始化电瓶的属性\"\"\"\n",
    "        self.battery_size = battery_size\n",
    "    def describe_battery(self):\n",
    "        \"\"\"打印一条描述电瓶容量的消息\"\"\"\n",
    "        print(\"This car has a \"+str(self.battery_size)+\"-kWh battery.\")\n",
    "    def get_range(self):\n",
    "        \"\"\"打印一条消息，指出电瓶的续航里程\"\"\"\n",
    "        if self.battery_size == 70:\n",
    "            range = 240\n",
    "        elif self.battery_size == 85:\n",
    "            range = 270\n",
    "        return range\n",
    "    def upgrade_battery(self):\n",
    "        if self.battery_size != 85:\n",
    "            self.battery_size = 85\n",
    "        \n",
    "        "
   ]
  },
  {
   "cell_type": "code",
   "execution_count": 10,
   "id": "857d1aa1",
   "metadata": {},
   "outputs": [],
   "source": [
    "electric = Battery()"
   ]
  },
  {
   "cell_type": "code",
   "execution_count": 11,
   "id": "5c4284b2",
   "metadata": {},
   "outputs": [
    {
     "data": {
      "text/plain": [
       "70"
      ]
     },
     "execution_count": 11,
     "metadata": {},
     "output_type": "execute_result"
    }
   ],
   "source": [
    "electric.battery_size"
   ]
  },
  {
   "cell_type": "code",
   "execution_count": 12,
   "id": "245da195",
   "metadata": {},
   "outputs": [
    {
     "name": "stdout",
     "output_type": "stream",
     "text": [
      "This car has a 70-kWh battery.\n"
     ]
    }
   ],
   "source": [
    "electric.describe_battery()"
   ]
  },
  {
   "cell_type": "code",
   "execution_count": 13,
   "id": "caa7f264",
   "metadata": {},
   "outputs": [],
   "source": [
    "electric.upgrade_battery()"
   ]
  },
  {
   "cell_type": "code",
   "execution_count": 14,
   "id": "a36fb8b2",
   "metadata": {},
   "outputs": [
    {
     "data": {
      "text/plain": [
       "85"
      ]
     },
     "execution_count": 14,
     "metadata": {},
     "output_type": "execute_result"
    }
   ],
   "source": [
    "electric.battery_size"
   ]
  },
  {
   "cell_type": "code",
   "execution_count": 15,
   "id": "3bced492",
   "metadata": {},
   "outputs": [
    {
     "data": {
      "text/plain": [
       "270"
      ]
     },
     "execution_count": 15,
     "metadata": {},
     "output_type": "execute_result"
    }
   ],
   "source": [
    "electric.get_range()"
   ]
  },
  {
   "cell_type": "markdown",
   "id": "e8a06642",
   "metadata": {},
   "source": [
    "## 9.4 导入类"
   ]
  },
  {
   "cell_type": "markdown",
   "id": "5f46cfab",
   "metadata": {},
   "source": [
    "### 9.4.1 导入单个类"
   ]
  },
  {
   "cell_type": "code",
   "execution_count": null,
   "id": "6e928a96",
   "metadata": {},
   "outputs": [],
   "source": [
    "from car import Car \n",
    "my_new_car = Car('audi','a4',2016)\n",
    "print(my_new_car.get_descriptive_name())\n",
    "my_new_car.odometer_reading = 23\n",
    "my_new_car.read_odometer()\n"
   ]
  },
  {
   "cell_type": "markdown",
   "id": "a5d1725d",
   "metadata": {},
   "source": [
    "### 9.4.2 在一个模块中存储多个类"
   ]
  },
  {
   "cell_type": "code",
   "execution_count": null,
   "id": "d65a98e6",
   "metadata": {},
   "outputs": [],
   "source": [
    "from car import ElectricCar\n",
    "my_tesla = ElectricCar('tesla','model s',2016)\n",
    "print(my_tesla.get_descriptive_name())\n",
    "my_tesla.battery.describe_battery()\n",
    "my_tesla.battery.get_range()\n"
   ]
  },
  {
   "cell_type": "markdown",
   "id": "7b746009",
   "metadata": {},
   "source": [
    "### 9.4.3 从一个模块中导入多个类"
   ]
  },
  {
   "cell_type": "code",
   "execution_count": null,
   "id": "fe197716",
   "metadata": {},
   "outputs": [],
   "source": [
    "from car import Car,ElectricCar \n",
    "my_beetle = Car('volkswagen','beetle',2016) \n",
    "print(my_beetle.get_descriptive_name())\n",
    "my_tesla = ElectricCar('tesla','roadster',2016) \n",
    "print(my_tesla.get_descriptive_name())\n"
   ]
  },
  {
   "cell_type": "markdown",
   "id": "ff7ca97b",
   "metadata": {},
   "source": [
    "### 9.4.4 导入整个模块"
   ]
  },
  {
   "cell_type": "code",
   "execution_count": null,
   "id": "b2588fe5",
   "metadata": {},
   "outputs": [],
   "source": [
    "import car \n",
    "my_beetle = car.Car('volkswagen','beetle',2016) \n",
    "print(my_beetle.get_descriptive_name())\n",
    "my_tesla = car.ElectricCar('tesla','roadster',2016) \n",
    "print(my_tesla.get_descriptive_name())\n"
   ]
  },
  {
   "cell_type": "markdown",
   "id": "6884ec86",
   "metadata": {},
   "source": [
    "### 9.4.5 导入模块中的所有类"
   ]
  },
  {
   "cell_type": "code",
   "execution_count": null,
   "id": "27c76546",
   "metadata": {},
   "outputs": [],
   "source": [
    "frommodule_name import *\n"
   ]
  },
  {
   "cell_type": "markdown",
   "id": "0b15c971",
   "metadata": {},
   "source": [
    "不推荐使用这种导入方式"
   ]
  },
  {
   "cell_type": "markdown",
   "id": "37492529",
   "metadata": {},
   "source": [
    "### 9.4.6 在一个模块中导入另一个模块"
   ]
  },
  {
   "cell_type": "code",
   "execution_count": null,
   "id": "d1ffaa25",
   "metadata": {},
   "outputs": [],
   "source": [
    "from car import Car \n",
    "from electric_car import ElectricCar\n",
    "my_beetle = Car('volkswagen','beetle',2016)\n",
    "print(my_beetle.get_descriptive_name())\n",
    "my_tesla = ElectricCar('tesla','roadster',2016)\n",
    "print(my_tesla.get_descriptive_name())\n"
   ]
  },
  {
   "cell_type": "markdown",
   "id": "282b217c",
   "metadata": {},
   "source": [
    "## 9.5 Python标准库"
   ]
  },
  {
   "cell_type": "code",
   "execution_count": 17,
   "id": "5ac4c4b0",
   "metadata": {},
   "outputs": [
    {
     "name": "stdout",
     "output_type": "stream",
     "text": [
      "Jen's favorite language is Python.\n",
      "Sarah's favorite language is C.\n",
      "Edward's favorite language is Ruby.\n",
      "Phil's favorite language is Python.\n"
     ]
    }
   ],
   "source": [
    "from collections import OrderedDict \n",
    "favorite_languages = OrderedDict() \n",
    "favorite_languages['jen'] = 'python'\n",
    "favorite_languages['sarah'] = 'c'\n",
    "favorite_languages['edward'] = 'ruby'\n",
    "favorite_languages['phil'] = 'python'\n",
    "for name,language in favorite_languages.items():\n",
    "    print(name.title()+\"'s favorite language is \"+\n",
    "        language.title()+\".\")\n"
   ]
  },
  {
   "cell_type": "markdown",
   "id": "79bcb448",
   "metadata": {},
   "source": [
    "字典让你能够将信息关联起来，但它们不记录你添加键—值对的顺序。要创建字典并记录其中的键—值对的添加顺序，可使用模块collections中的OrderedDict类。OrderedDict实例的行为几乎与字典相同，区别只在于记录了键—值对的添加顺序。请注意，这里没有使用花括号，而是调用OrderedDict()来创建一个空的有序字典，并将其存储在favorite_languages中。"
   ]
  },
  {
   "cell_type": "markdown",
   "id": "9b41ba81",
   "metadata": {},
   "source": [
    "http://pymotw.com/"
   ]
  },
  {
   "cell_type": "markdown",
   "id": "c76113ac",
   "metadata": {},
   "source": [
    "## 9.6 类编码风格\n"
   ]
  },
  {
   "cell_type": "markdown",
   "id": "a6dc2175",
   "metadata": {},
   "source": [
    "类名应采用驼峰命名法，即将类名中的每个单词的首字母都大写，而不使用下划线。实例名和模块名都采用小写格式，并在单词之间加上下划线。"
   ]
  },
  {
   "cell_type": "markdown",
   "id": "1239dad6",
   "metadata": {},
   "source": [
    "可使用空行来组织代码，但不要滥用。在类中，可使用一个空行来分隔方法；而在模块中，可使用两个空行来分隔类。"
   ]
  },
  {
   "cell_type": "code",
   "execution_count": null,
   "id": "c62da3da",
   "metadata": {},
   "outputs": [],
   "source": []
  }
 ],
 "metadata": {
  "kernelspec": {
   "display_name": "Python 3 (ipykernel)",
   "language": "python",
   "name": "python3"
  },
  "language_info": {
   "codemirror_mode": {
    "name": "ipython",
    "version": 3
   },
   "file_extension": ".py",
   "mimetype": "text/x-python",
   "name": "python",
   "nbconvert_exporter": "python",
   "pygments_lexer": "ipython3",
   "version": "3.10.9"
  }
 },
 "nbformat": 4,
 "nbformat_minor": 5
}
