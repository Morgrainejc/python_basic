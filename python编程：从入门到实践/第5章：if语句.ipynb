{
 "cells": [
  {
   "cell_type": "markdown",
   "id": "7fabee12",
   "metadata": {},
   "source": [
    "## 5.1 一个简单示例"
   ]
  },
  {
   "cell_type": "code",
   "execution_count": 1,
   "id": "a9cc81f8",
   "metadata": {},
   "outputs": [
    {
     "name": "stdout",
     "output_type": "stream",
     "text": [
      "Audi\n",
      "BMW\n",
      "Subaru\n",
      "Toyota\n"
     ]
    }
   ],
   "source": [
    "cars = ['audi','bmw','subaru','toyota']\n",
    "for car in cars:\n",
    "    if car == 'bmw':\n",
    "        print(car.upper())\n",
    "    else:\n",
    "        print(car.title())\n"
   ]
  },
  {
   "cell_type": "markdown",
   "id": "f01c86fa",
   "metadata": {},
   "source": [
    "## 5.2 条件测试"
   ]
  },
  {
   "cell_type": "markdown",
   "id": "feddfe19",
   "metadata": {},
   "source": [
    "每条if语句的核心都是一个值为True或False的表达式，这种表达式被称为条件测试。Python根据条件测试的值为True还是False来决定是否执行if语句中的代码。如果条件测试的值为True,Python就执行紧跟在if语句后面的代码；如果为False,Python就忽略这些代码。"
   ]
  },
  {
   "cell_type": "markdown",
   "id": "55b69ab5",
   "metadata": {},
   "source": [
    "### 5.2.1 检查是否相等"
   ]
  },
  {
   "cell_type": "code",
   "execution_count": 2,
   "id": "7268d486",
   "metadata": {},
   "outputs": [
    {
     "data": {
      "text/plain": [
       "True"
      ]
     },
     "execution_count": 2,
     "metadata": {},
     "output_type": "execute_result"
    }
   ],
   "source": [
    "car = 'bmw'\n",
    "car == 'bmw'"
   ]
  },
  {
   "cell_type": "markdown",
   "id": "8c00ce7a",
   "metadata": {},
   "source": [
    "### 5.2.2 检查是否相等时不考虑大小写"
   ]
  },
  {
   "cell_type": "code",
   "execution_count": 3,
   "id": "35993982",
   "metadata": {},
   "outputs": [
    {
     "data": {
      "text/plain": [
       "False"
      ]
     },
     "execution_count": 3,
     "metadata": {},
     "output_type": "execute_result"
    }
   ],
   "source": [
    "car = 'Audi'\n",
    "car == 'audi'"
   ]
  },
  {
   "cell_type": "code",
   "execution_count": 4,
   "id": "c02832f3",
   "metadata": {},
   "outputs": [
    {
     "data": {
      "text/plain": [
       "True"
      ]
     },
     "execution_count": 4,
     "metadata": {},
     "output_type": "execute_result"
    }
   ],
   "source": [
    "car = 'Audi'\n",
    "car.lower() == 'audi'"
   ]
  },
  {
   "cell_type": "markdown",
   "id": "e2bb2425",
   "metadata": {},
   "source": [
    "### 5.2.3 检查是否不相等"
   ]
  },
  {
   "cell_type": "code",
   "execution_count": 5,
   "id": "61c190d4",
   "metadata": {},
   "outputs": [
    {
     "name": "stdout",
     "output_type": "stream",
     "text": [
      "Hold the anchovies!\n"
     ]
    }
   ],
   "source": [
    "requested_topping = 'mushrooms'\n",
    "if requested_topping != 'anchovies':\n",
    "    print(\"Hold the anchovies!\")"
   ]
  },
  {
   "cell_type": "markdown",
   "id": "22e44947",
   "metadata": {},
   "source": [
    "### 5.2.4 比较数字"
   ]
  },
  {
   "cell_type": "code",
   "execution_count": 6,
   "id": "59dad4b1",
   "metadata": {},
   "outputs": [
    {
     "data": {
      "text/plain": [
       "True"
      ]
     },
     "execution_count": 6,
     "metadata": {},
     "output_type": "execute_result"
    }
   ],
   "source": [
    "age = 18\n",
    "age == 18"
   ]
  },
  {
   "cell_type": "code",
   "execution_count": 8,
   "id": "3740e92b",
   "metadata": {},
   "outputs": [
    {
     "name": "stdout",
     "output_type": "stream",
     "text": [
      "haha\n"
     ]
    }
   ],
   "source": [
    "answer = 17 \n",
    "if answer != 42:\n",
    "    print(\"haha\")"
   ]
  },
  {
   "cell_type": "markdown",
   "id": "9bc3f162",
   "metadata": {},
   "source": [
    "### 5.2.5 检查多个条件"
   ]
  },
  {
   "cell_type": "markdown",
   "id": "69e8060f",
   "metadata": {},
   "source": [
    "#### 1.使用and检查多个条件"
   ]
  },
  {
   "cell_type": "markdown",
   "id": "9aac2ecd",
   "metadata": {},
   "source": [
    "age_0 = 22 \n",
    "age_1 = 18\n",
    "age_0 >= 21 and age_1 >= 21\n",
    "\n"
   ]
  },
  {
   "cell_type": "markdown",
   "id": "3dfaa9b6",
   "metadata": {},
   "source": [
    "#### 2.使用or检查多个条件"
   ]
  },
  {
   "cell_type": "code",
   "execution_count": 11,
   "id": "ac1c5402",
   "metadata": {},
   "outputs": [
    {
     "data": {
      "text/plain": [
       "True"
      ]
     },
     "execution_count": 11,
     "metadata": {},
     "output_type": "execute_result"
    }
   ],
   "source": [
    "age_0 = 22\n",
    "age_1 = 18\n",
    "age_0 >= 21 or age_1 >= 21\n"
   ]
  },
  {
   "cell_type": "markdown",
   "id": "eef3f931",
   "metadata": {},
   "source": [
    "### 5.2.6 检查特定值是否包含在列表中"
   ]
  },
  {
   "cell_type": "markdown",
   "id": "b719bb29",
   "metadata": {},
   "source": [
    "requested_toppings = ['mushrooms','onions','pineapple']\n",
    "'mushrooms'in requested_toppings \n"
   ]
  },
  {
   "cell_type": "markdown",
   "id": "6a125243",
   "metadata": {},
   "source": [
    "### 5.2.7 检查特定值是否不包含在列表中"
   ]
  },
  {
   "cell_type": "code",
   "execution_count": 13,
   "id": "b53f1694",
   "metadata": {},
   "outputs": [
    {
     "name": "stdout",
     "output_type": "stream",
     "text": [
      "Marie,you can post a response if you wish.\n"
     ]
    }
   ],
   "source": [
    "banned_users = ['andrew','carolina','david']\n",
    "user = 'marie'\n",
    "if user not in banned_users:\n",
    "    print(user.title()+\",you can post a response if you wish.\")\n"
   ]
  },
  {
   "cell_type": "markdown",
   "id": "053a3193",
   "metadata": {},
   "source": [
    "### 5.2.8 布尔表达式"
   ]
  },
  {
   "cell_type": "code",
   "execution_count": 14,
   "id": "586bd275",
   "metadata": {},
   "outputs": [],
   "source": [
    "game_active = True\n",
    "can_edit = False"
   ]
  },
  {
   "cell_type": "markdown",
   "id": "536ef221",
   "metadata": {},
   "source": [
    "### 动手试一试"
   ]
  },
  {
   "cell_type": "markdown",
   "id": "eb6ae9f4",
   "metadata": {},
   "source": [
    "1.编写一系列条件测试；将每个测试以及你对其结果的预测和实际结果都打印出来。你编写的代码应类似于下面这样："
   ]
  },
  {
   "cell_type": "code",
   "execution_count": 18,
   "id": "56ff2e63",
   "metadata": {},
   "outputs": [
    {
     "name": "stdout",
     "output_type": "stream",
     "text": [
      "Is car == 'subaru'?I predict True.\n",
      "True\n",
      "\n",
      "Is car == 'audi'?I predict False.\n",
      "False\n"
     ]
    }
   ],
   "source": [
    "car = 'subaru'\n",
    "print(\"Is car == 'subaru'?I predict True.\")\n",
    "print(car == 'subaru')\n",
    "print(\"\\nIs car == 'audi'?I predict False.\")\n",
    "print(car == 'audi')"
   ]
  },
  {
   "cell_type": "markdown",
   "id": "a03cdee1",
   "metadata": {},
   "source": [
    "2.你并非只能创建10个测试。如果你想尝试做更多的比较，可再编写一些测试，并将它们加入到conditional_tests.py中。对于下面列出的各种测试，至少编写一个结果为True和False的测试。·检查两个字符串相等和不等。·使用函数lower()的测试。·检查两个数字相等、不等、大于、小于、大于等于和小于等于。·使用关键字and和or的测试。·测试特定的值是否包含在列表中。·测试特定的值是否未包含在列表中。"
   ]
  },
  {
   "cell_type": "code",
   "execution_count": 19,
   "id": "cfd57cae",
   "metadata": {},
   "outputs": [
    {
     "name": "stdout",
     "output_type": "stream",
     "text": [
      "False\n"
     ]
    }
   ],
   "source": [
    "car = 'bmw'\n",
    "car_2 = 'benz'\n",
    "print(car == car_2)"
   ]
  },
  {
   "cell_type": "code",
   "execution_count": 20,
   "id": "a868316d",
   "metadata": {},
   "outputs": [
    {
     "name": "stdout",
     "output_type": "stream",
     "text": [
      "True\n"
     ]
    }
   ],
   "source": [
    "car = 'BMW'\n",
    "car_2 = 'bmw'\n",
    "print(car.lower()==car_2)"
   ]
  },
  {
   "cell_type": "markdown",
   "id": "264d6944",
   "metadata": {},
   "source": [
    "## 5.3 if语句"
   ]
  },
  {
   "cell_type": "markdown",
   "id": "654be52d",
   "metadata": {},
   "source": [
    "### 5.3.1 简单的if语句"
   ]
  },
  {
   "cell_type": "code",
   "execution_count": 22,
   "id": "a40c92de",
   "metadata": {},
   "outputs": [
    {
     "name": "stdout",
     "output_type": "stream",
     "text": [
      "You are old enough to vote!\n"
     ]
    }
   ],
   "source": [
    "age = 19\n",
    "if age >= 18:\n",
    "    print(\"You are old enough to vote!\") \n"
   ]
  },
  {
   "cell_type": "markdown",
   "id": "405bb290",
   "metadata": {},
   "source": [
    "### 5.3.2 if-else语句|"
   ]
  },
  {
   "cell_type": "code",
   "execution_count": 23,
   "id": "8ab95164",
   "metadata": {},
   "outputs": [
    {
     "name": "stdout",
     "output_type": "stream",
     "text": [
      "Sorry,you are too young to vote.\n",
      "Please register to vote as soon as you turn 18!\n"
     ]
    }
   ],
   "source": [
    "age = 17\n",
    "if age >= 18:\n",
    "    print(\"You are old enough to vote!\")\n",
    "    print(\"Have you registered to vote yet?\")\n",
    "else:\n",
    "    print(\"Sorry,you are too young to vote.\")\n",
    "    print(\"Please register to vote as soon as you turn 18!\")\n"
   ]
  },
  {
   "cell_type": "markdown",
   "id": "a2fbd1c7",
   "metadata": {},
   "source": [
    "### 5.3.3 if-elif-else结构"
   ]
  },
  {
   "cell_type": "code",
   "execution_count": 24,
   "id": "3705eb3c",
   "metadata": {},
   "outputs": [
    {
     "name": "stdout",
     "output_type": "stream",
     "text": [
      "Your admission cost is $5.\n"
     ]
    }
   ],
   "source": [
    "age = 12\n",
    "if age <4:\n",
    "    print(\"Your admission cost is $0.\")\n",
    "elif age <18:\n",
    "    print(\"Your admission cost is $5.\")\n",
    "else:\n",
    "    print(\"Your admission cost is $10.\")\n"
   ]
  },
  {
   "cell_type": "code",
   "execution_count": 26,
   "id": "978fa16e",
   "metadata": {},
   "outputs": [
    {
     "name": "stdout",
     "output_type": "stream",
     "text": [
      "Your admission cost is $5.\n"
     ]
    }
   ],
   "source": [
    "age = 12\n",
    "if age <4:\n",
    "    price = 0 \n",
    "elif age <18:\n",
    "    price = 5 \n",
    "else:\n",
    "    price = 10 \n",
    "print(\"Your admission cost is $\"+str(price)+\".\") \n"
   ]
  },
  {
   "cell_type": "markdown",
   "id": "79b99a6a",
   "metadata": {},
   "source": [
    "### 5.3.4 使用多个elif代码块"
   ]
  },
  {
   "cell_type": "code",
   "execution_count": 27,
   "id": "a5fa9ea3",
   "metadata": {},
   "outputs": [
    {
     "name": "stdout",
     "output_type": "stream",
     "text": [
      "Your admission cost is $5.\n"
     ]
    }
   ],
   "source": [
    "age = 12\n",
    "if age <4:\n",
    "    price = 0\n",
    "elif age <18:\n",
    "    price = 5\n",
    "elif age <65:\n",
    "    price = 10\n",
    "else:\n",
    "    price = 5\n",
    "print(\"Your admission cost is $\"+str(price)+\".\")\n"
   ]
  },
  {
   "cell_type": "markdown",
   "id": "cec8de1c",
   "metadata": {},
   "source": [
    "### 5.3.5 省略else代码块"
   ]
  },
  {
   "cell_type": "code",
   "execution_count": 28,
   "id": "f3f562e1",
   "metadata": {},
   "outputs": [
    {
     "name": "stdout",
     "output_type": "stream",
     "text": [
      "Your admission cost is $5.\n"
     ]
    }
   ],
   "source": [
    "age = 12\n",
    "if age <4:\n",
    "    price = 0\n",
    "elif age <18:\n",
    "    price = 5\n",
    "elif age <65:\n",
    "    price = 10\n",
    "elif age >= 65:\n",
    "    price = 5\n",
    "print(\"Your admission cost is $\"+str(price)+\".\")\n"
   ]
  },
  {
   "cell_type": "markdown",
   "id": "40640fb6",
   "metadata": {},
   "source": [
    "### 5.3.6 测试多个条件"
   ]
  },
  {
   "cell_type": "code",
   "execution_count": 30,
   "id": "86e278ec",
   "metadata": {},
   "outputs": [
    {
     "name": "stdout",
     "output_type": "stream",
     "text": [
      "Adding mushrooms.\n",
      "Adding extra cheese.\n",
      "\n",
      "Finished making your pizza!\n"
     ]
    }
   ],
   "source": [
    "requested_toppings = ['mushrooms','extra cheese']\n",
    "if 'mushrooms'in requested_toppings:\n",
    "    print(\"Adding mushrooms.\")\n",
    "if 'pepperoni'in requested_toppings:\n",
    "    print(\"Adding pepperoni.\")\n",
    "if 'extra cheese'in requested_toppings:\n",
    "    print(\"Adding extra cheese.\")\n",
    "print(\"\\nFinished making your pizza!\")"
   ]
  },
  {
   "cell_type": "markdown",
   "id": "e7c675e8",
   "metadata": {},
   "source": [
    "### 动手试一试"
   ]
  },
  {
   "cell_type": "markdown",
   "id": "d23803bb",
   "metadata": {},
   "source": [
    "1.假设在游戏中刚射杀了一个外星人，请创建一个名为alien_color的变量，并将其设置为'green'、'yellow'或'red'。·\n",
    "编写一条if语句，检查外星人是否是绿色的；如果是，就打印一条消息，指出玩家获得了5个点。·编写这个程序的两个版本，在一个版本中上述测试通过了，而在另一个版本中未通过（未通过测试时没有输出）。"
   ]
  },
  {
   "cell_type": "code",
   "execution_count": 31,
   "id": "e374d4cf",
   "metadata": {},
   "outputs": [],
   "source": [
    "alien_color = ['green','yellow','red']"
   ]
  },
  {
   "cell_type": "code",
   "execution_count": 33,
   "id": "4df2ebde",
   "metadata": {},
   "outputs": [
    {
     "name": "stdout",
     "output_type": "stream",
     "text": [
      "5\n",
      "10\n",
      "15\n"
     ]
    }
   ],
   "source": [
    "for color in alien_color:\n",
    "    if color == 'green':\n",
    "        print(\"5\")\n",
    "    elif color == 'yellow':\n",
    "        print(\"10\")\n",
    "    elif color == 'red':\n",
    "        print(\"15\")"
   ]
  },
  {
   "cell_type": "markdown",
   "id": "b6b3e1ad",
   "metadata": {},
   "source": [
    "## 5.4 通过if语句处理列表"
   ]
  },
  {
   "cell_type": "markdown",
   "id": "c43f30ed",
   "metadata": {},
   "source": [
    "### 5.4.1 检查特殊元素"
   ]
  },
  {
   "cell_type": "code",
   "execution_count": 1,
   "id": "d6d35282",
   "metadata": {},
   "outputs": [
    {
     "name": "stdout",
     "output_type": "stream",
     "text": [
      "Adding mushrooms.\n",
      "Adding green peppers.\n",
      "Adding extra cheese.\n",
      "\n",
      "Finished making your pizza!\n"
     ]
    }
   ],
   "source": [
    "requested_toppings = ['mushrooms','green peppers','extra cheese']\n",
    "for requested_topping in requested_toppings:\n",
    "    print(\"Adding \"+requested_topping+\".\")\n",
    "print(\"\\nFinished making your pizza!\")\n"
   ]
  },
  {
   "cell_type": "code",
   "execution_count": 2,
   "id": "aa857119",
   "metadata": {},
   "outputs": [
    {
     "name": "stdout",
     "output_type": "stream",
     "text": [
      "Adding mushrooms.\n",
      "Sorry,we are out of green peppers right now.\n",
      "Adding extra cheese.\n",
      "\n",
      "Finished making your pizza!\n"
     ]
    }
   ],
   "source": [
    "requested_toppings = ['mushrooms','green peppers','extra cheese']\n",
    "for requested_topping in requested_toppings:\n",
    "    if requested_topping == 'green peppers':\n",
    "        print(\"Sorry,we are out of green peppers right now.\")\n",
    "    else:\n",
    "        print(\"Adding \"+requested_topping+\".\")\n",
    "print(\"\\nFinished making your pizza!\")\n"
   ]
  },
  {
   "cell_type": "markdown",
   "id": "ae573fbd",
   "metadata": {},
   "source": [
    "### 5.4.2 确定列表不是空的"
   ]
  },
  {
   "cell_type": "code",
   "execution_count": 3,
   "id": "593684fb",
   "metadata": {},
   "outputs": [
    {
     "name": "stdout",
     "output_type": "stream",
     "text": [
      "Are you sure you want a plain pizza?\n"
     ]
    }
   ],
   "source": [
    "requested_toppings = [] \n",
    "if requested_toppings:\n",
    "    for requested_topping in requested_toppings:\n",
    "        print(\"Adding \"+requested_topping+\".\")\n",
    "    print(\"\\nFinished making your pizza!\")\n",
    "else:\n",
    "    print(\"Are you sure you want a plain pizza?\")\n"
   ]
  },
  {
   "cell_type": "markdown",
   "id": "9b4e74ee",
   "metadata": {},
   "source": [
    "在if语句中将列表名用在条件表达式中时，Python将在列表至少包含一个元素时返回True，并在列表为空时返回False。"
   ]
  },
  {
   "cell_type": "markdown",
   "id": "9e080b3c",
   "metadata": {},
   "source": [
    "### 5.4.3 使用多个列表"
   ]
  },
  {
   "cell_type": "code",
   "execution_count": 6,
   "id": "a45e307b",
   "metadata": {},
   "outputs": [
    {
     "name": "stdout",
     "output_type": "stream",
     "text": [
      "Adding mushrooms.\n",
      "Sorry,we don't have french fries.\n",
      "Adding extra cheese.\n",
      "\n",
      "Finished making your pizza!\n"
     ]
    }
   ],
   "source": [
    "available_toppings = ['mushrooms','olives','green peppers',\n",
    "                      'pepperoni','pineapple','extra cheese']\n",
    "requested_toppings = ['mushrooms','french fries','extra cheese'] \n",
    "for requested_topping in requested_toppings:\n",
    "    if requested_topping in available_toppings:\n",
    "        print(\"Adding \"+requested_topping+\".\")\n",
    "    else:\n",
    "        print(\"Sorry,we don't have \"+requested_topping+\".\")\n",
    "print(\"\\nFinished making your pizza!\")"
   ]
  },
  {
   "cell_type": "markdown",
   "id": "0463f10a",
   "metadata": {},
   "source": [
    "### 动手试一试"
   ]
  },
  {
   "cell_type": "markdown",
   "id": "4add4881",
   "metadata": {},
   "source": [
    "1. 以特殊方式跟管理员打招呼：创建一个至少包含5个用户名的列表，且其中一个用户名为'admin'。想象你要编写代码，在每位用户登录网站后都打印一条问候消息。遍历用户名列表，并向每位用户打印一条问候消息。·如果用户名为'admin'，就打印一条特殊的问候消息，如“Hello admin,would you like to see a status report?”。·否则，打印一条普通的问候消息，如“Hello Eric,thank you for logging in again”。"
   ]
  },
  {
   "cell_type": "code",
   "execution_count": 9,
   "id": "c59de535",
   "metadata": {},
   "outputs": [
    {
     "name": "stdout",
     "output_type": "stream",
     "text": [
      "\"Hello Admin,would you like to see a status report?\"\n",
      "\"Hello Wo,thank you for logging in again\"\n",
      "\"Hello Ni,thank you for logging in again\"\n",
      "\"Hello Ta,thank you for logging in again\"\n",
      "\"Hello A,thank you for logging in again\"\n"
     ]
    }
   ],
   "source": [
    "managers = ['admin','wo','ni','ta','a']\n",
    "for manager in managers:\n",
    "    if manager == 'admin':\n",
    "        print('\"Hello '+manager.title()+',would you like to see a status report?\"')\n",
    "    else:\n",
    "        print('\"Hello '+manager.title()+',thank you for logging in again\"')"
   ]
  },
  {
   "cell_type": "markdown",
   "id": "36b4b14b",
   "metadata": {},
   "source": [
    "2.处理没有用户的情形：在为完成练习5-8编写的程序中，添加一条if语句，检查用户名列表是否为空。·如果为空，就打印消息“We need to find some users!”。·删除列表中的所有用户名，确定将打印正确的消息。"
   ]
  },
  {
   "cell_type": "code",
   "execution_count": 14,
   "id": "7ab4f466",
   "metadata": {},
   "outputs": [
    {
     "name": "stdout",
     "output_type": "stream",
     "text": [
      "\"We need to find some users!\"\n"
     ]
    }
   ],
   "source": [
    "managers = []\n",
    "if managers:\n",
    "    for manager in managers:\n",
    "        if manager == 'admin':\n",
    "            print('\"Hello '+manager.title()+',would you like to see a status report?\"')\n",
    "        else:\n",
    "            print('\"Hello '+manager.title()+',thank you for logging in again\"')\n",
    "else:\n",
    "    print('\"We need to find some users!\"')"
   ]
  },
  {
   "cell_type": "markdown",
   "id": "25526c92",
   "metadata": {},
   "source": [
    "3.检查用户名：按下面的说明编写一个程序，模拟网站确保每位用户的用户名都独一无二的方式。·创建一个至少包含5个用户名的列表，并将其命名为current_users。·再创建一个包含5个用户名的列表，将其命名为new_users，并确保其中有一两个用户名也包含在列表current_users中。·遍历列表new_users，对于其中的每个用户名，都检查它是否已被使用。如果是这样，就打印一条消息，指出需要输入别的用户名；否则，打印一条消息，指出这个用户名未被使用。·确保比较时不区分大小写；换句话说，如果用户名'John'已被使用，应拒绝用户名'JOHN'。"
   ]
  },
  {
   "cell_type": "code",
   "execution_count": 22,
   "id": "0719162b",
   "metadata": {},
   "outputs": [
    {
     "name": "stdout",
     "output_type": "stream",
     "text": [
      "njj\n",
      "jc\n",
      "未使用\n",
      "未使用\n",
      "未使用\n"
     ]
    }
   ],
   "source": [
    "current_users = ['njj','jc','hxy','sjq','xdl']\n",
    "new_users = ['njj','jc','xhy','wsl','gxf']\n",
    "for new_user in new_users:\n",
    "    if new_user in current_users:\n",
    "        print(new_user)\n",
    "    else:\n",
    "        print('未使用')"
   ]
  },
  {
   "cell_type": "markdown",
   "id": "1a099712",
   "metadata": {},
   "source": [
    "4.序数：序数表示位置，如1st和2nd。大多数序数都以th结尾，只有1、2和3例外。·在一个列表中存储数字1～9。·遍历这个列表。·在循环中使用一个if-elif-else结构，以打印每个数字对应的序数。输出内容应为1st、2nd、3rd、4th、5th、6th、7th、8th和9th，但每个序数都独占一行。"
   ]
  },
  {
   "cell_type": "code",
   "execution_count": 25,
   "id": "b8268e31",
   "metadata": {},
   "outputs": [
    {
     "name": "stdout",
     "output_type": "stream",
     "text": [
      "1st\n",
      "2nd\n",
      "3rd\n",
      "4th\n",
      "5th\n",
      "6th\n",
      "7th\n",
      "8th\n",
      "9th\n"
     ]
    }
   ],
   "source": [
    "numbers = [1,2,3,4,5,6,7,8,9]\n",
    "for number in numbers:\n",
    "    if number == 1:\n",
    "        print(str(number)+\"st\")\n",
    "    elif number == 2:\n",
    "        print(str(number)+\"nd\")\n",
    "    elif number == 3:\n",
    "        print(str(number)+\"rd\")\n",
    "    else:\n",
    "        print(str(number)+\"th\")"
   ]
  },
  {
   "cell_type": "code",
   "execution_count": null,
   "id": "6b5a18a2",
   "metadata": {},
   "outputs": [],
   "source": []
  }
 ],
 "metadata": {
  "kernelspec": {
   "display_name": "Python 3 (ipykernel)",
   "language": "python",
   "name": "python3"
  },
  "language_info": {
   "codemirror_mode": {
    "name": "ipython",
    "version": 3
   },
   "file_extension": ".py",
   "mimetype": "text/x-python",
   "name": "python",
   "nbconvert_exporter": "python",
   "pygments_lexer": "ipython3",
   "version": "3.10.9"
  }
 },
 "nbformat": 4,
 "nbformat_minor": 5
}
