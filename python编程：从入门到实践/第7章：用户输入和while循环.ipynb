{
 "cells": [
  {
   "cell_type": "markdown",
   "id": "9927dcf3",
   "metadata": {},
   "source": [
    "## 7.1 函数input()的工作原理"
   ]
  },
  {
   "cell_type": "code",
   "execution_count": 1,
   "id": "90b602e6",
   "metadata": {},
   "outputs": [
    {
     "name": "stdout",
     "output_type": "stream",
     "text": [
      "Tell me something,and I will repeat it back to you:1\n",
      "1\n"
     ]
    }
   ],
   "source": [
    "message = input(\"Tell me something,and I will repeat it back to you:\")\n",
    "print(message)\n"
   ]
  },
  {
   "cell_type": "markdown",
   "id": "10e8af4d",
   "metadata": {},
   "source": [
    "### 7.1.1 编写清晰的程序"
   ]
  },
  {
   "cell_type": "code",
   "execution_count": 2,
   "id": "ae7367c1",
   "metadata": {},
   "outputs": [
    {
     "name": "stdout",
     "output_type": "stream",
     "text": [
      "Please enter your name:3\n",
      "Hello,3!\n"
     ]
    }
   ],
   "source": [
    "name = input(\"Please enter your name:\")\n",
    "print(\"Hello,\"+name+\"!\")"
   ]
  },
  {
   "cell_type": "code",
   "execution_count": 3,
   "id": "869894e9",
   "metadata": {},
   "outputs": [
    {
     "name": "stdout",
     "output_type": "stream",
     "text": [
      "If you tell us who you are,we can personalize the messages you see.\n",
      "What is your first name?123\n",
      "\n",
      "Hello,123!\n"
     ]
    }
   ],
   "source": [
    "prompt = \"If you tell us who you are,we can personalize the messages you see.\"\n",
    "prompt+= \"\\nWhat is your first name?\"\n",
    "name = input(prompt)\n",
    "print(\"\\nHello,\"+name+\"!\")"
   ]
  },
  {
   "cell_type": "markdown",
   "id": "3d538bc6",
   "metadata": {},
   "source": [
    "### 7.1.2 使用int()获取数值"
   ]
  },
  {
   "cell_type": "code",
   "execution_count": 6,
   "id": "c2ac3a24",
   "metadata": {},
   "outputs": [
    {
     "name": "stdout",
     "output_type": "stream",
     "text": [
      "How old are you?11\n"
     ]
    },
    {
     "data": {
      "text/plain": [
       "'11'"
      ]
     },
     "execution_count": 6,
     "metadata": {},
     "output_type": "execute_result"
    }
   ],
   "source": [
    "age = input('How old are you?')\n",
    "age"
   ]
  },
  {
   "cell_type": "code",
   "execution_count": 8,
   "id": "f0b3c4a1",
   "metadata": {},
   "outputs": [
    {
     "name": "stdout",
     "output_type": "stream",
     "text": [
      "How old are you?1\n"
     ]
    },
    {
     "ename": "TypeError",
     "evalue": "'>=' not supported between instances of 'str' and 'int'",
     "output_type": "error",
     "traceback": [
      "\u001b[1;31m---------------------------------------------------------------------------\u001b[0m",
      "\u001b[1;31mTypeError\u001b[0m                                 Traceback (most recent call last)",
      "Cell \u001b[1;32mIn[8], line 2\u001b[0m\n\u001b[0;32m      1\u001b[0m age \u001b[38;5;241m=\u001b[39m \u001b[38;5;28minput\u001b[39m(\u001b[38;5;124m\"\u001b[39m\u001b[38;5;124mHow old are you?\u001b[39m\u001b[38;5;124m\"\u001b[39m)\n\u001b[1;32m----> 2\u001b[0m \u001b[43mage\u001b[49m\u001b[43m \u001b[49m\u001b[38;5;241;43m>\u001b[39;49m\u001b[38;5;241;43m=\u001b[39;49m\u001b[43m \u001b[49m\u001b[38;5;241;43m18\u001b[39;49m\n",
      "\u001b[1;31mTypeError\u001b[0m: '>=' not supported between instances of 'str' and 'int'"
     ]
    }
   ],
   "source": [
    "age = input(\"How old are you?\")\n",
    "age >= 18 "
   ]
  },
  {
   "cell_type": "code",
   "execution_count": 9,
   "id": "6db93253",
   "metadata": {},
   "outputs": [
    {
     "name": "stdout",
     "output_type": "stream",
     "text": [
      "How old are you?30\n"
     ]
    },
    {
     "data": {
      "text/plain": [
       "True"
      ]
     },
     "execution_count": 9,
     "metadata": {},
     "output_type": "execute_result"
    }
   ],
   "source": [
    "age = input(\"How old are you?\")\n",
    "age = int(age) \n",
    "age >= 18\n",
    "\n"
   ]
  },
  {
   "cell_type": "code",
   "execution_count": 10,
   "id": "a3247092",
   "metadata": {},
   "outputs": [
    {
     "name": "stdout",
     "output_type": "stream",
     "text": [
      "How tall are you,in inches?30\n",
      "\n",
      "You'll be able to ride when you're a little older.\n"
     ]
    }
   ],
   "source": [
    "height = input(\"How tall are you,in inches?\")\n",
    "height = int(height)\n",
    "if height >= 36:\n",
    "    print(\"\\nYou're tall enough to ride!\")\n",
    "else:\n",
    "    print(\"\\nYou'll be able to ride when you're a little older.\")\n"
   ]
  },
  {
   "cell_type": "markdown",
   "id": "67460408",
   "metadata": {},
   "source": [
    "### 7.1.3 求模运算符"
   ]
  },
  {
   "cell_type": "code",
   "execution_count": 11,
   "id": "8138c457",
   "metadata": {},
   "outputs": [
    {
     "data": {
      "text/plain": [
       "1"
      ]
     },
     "execution_count": 11,
     "metadata": {},
     "output_type": "execute_result"
    }
   ],
   "source": [
    "4 % 3"
   ]
  },
  {
   "cell_type": "markdown",
   "id": "bee5107a",
   "metadata": {},
   "source": [
    "如果一个数可被另一个数整除，余数就为0，因此求模运算符将返回0。你可利用这一点来判断一个数是奇数还是偶数"
   ]
  },
  {
   "cell_type": "code",
   "execution_count": 12,
   "id": "a53d239b",
   "metadata": {},
   "outputs": [
    {
     "name": "stdout",
     "output_type": "stream",
     "text": [
      "Enter a number,and I'll tell you if it's even or odd:3\n",
      "\n",
      "The number 3 is odd.\n"
     ]
    }
   ],
   "source": [
    "number = input(\"Enter a number,and I'll tell you if it's even or odd:\")\n",
    "number = int(number)\n",
    "if number % 2 == 0:\n",
    "    print(\"\\nThe number \"+str(number)+\" is even.\")\n",
    "else:\n",
    "    print(\"\\nThe number \"+str(number)+\" is odd.\")\n"
   ]
  },
  {
   "cell_type": "markdown",
   "id": "2df666ce",
   "metadata": {},
   "source": [
    "### 动手试一试"
   ]
  },
  {
   "cell_type": "markdown",
   "id": "d5802151",
   "metadata": {},
   "source": [
    "1.汽车租赁：编写一个程序，询问用户要租赁什么样的汽车，并打印一条消息，如“Let me see if I can find you a Subaru”。"
   ]
  },
  {
   "cell_type": "code",
   "execution_count": 13,
   "id": "b8d71ff3",
   "metadata": {},
   "outputs": [
    {
     "name": "stdout",
     "output_type": "stream",
     "text": [
      "Which car you want?bmw\n",
      "Let me see if i can find you bmw\n"
     ]
    }
   ],
   "source": [
    "question = input('Which car you want?')\n",
    "print('Let me see if i can find you '+question)"
   ]
  },
  {
   "cell_type": "markdown",
   "id": "8f6f26d5",
   "metadata": {},
   "source": [
    "2.餐馆订位：编写一个程序，询问用户有多少人用餐。如果超过8人，就打印一条消息，指出没有空桌；否则指出有空桌。"
   ]
  },
  {
   "cell_type": "code",
   "execution_count": 14,
   "id": "2ec1d0d1",
   "metadata": {},
   "outputs": [
    {
     "name": "stdout",
     "output_type": "stream",
     "text": [
      "How many people?12\n",
      "no empty\n"
     ]
    }
   ],
   "source": [
    "number = input('How many people?')\n",
    "number = int(number)\n",
    "if number > 8:\n",
    "    print('no empty')\n",
    "else:\n",
    "    print('have desk')"
   ]
  },
  {
   "cell_type": "markdown",
   "id": "f606f8c6",
   "metadata": {},
   "source": [
    "3.10的整数倍：让用户输入一个数字，并指出这个数字是否是10的整数倍。"
   ]
  },
  {
   "cell_type": "code",
   "execution_count": 16,
   "id": "14eee18b",
   "metadata": {},
   "outputs": [
    {
     "name": "stdout",
     "output_type": "stream",
     "text": [
      "press any number90\n",
      "10的倍数\n"
     ]
    }
   ],
   "source": [
    "number = input('press any number')\n",
    "number = int(number)\n",
    "if number % 10 == 0:\n",
    "    print('10的倍数')\n",
    "else:\n",
    "    print('no 10')"
   ]
  },
  {
   "cell_type": "markdown",
   "id": "e0a475ed",
   "metadata": {},
   "source": [
    "## 7.2 while循环简介"
   ]
  },
  {
   "cell_type": "markdown",
   "id": "00c93549",
   "metadata": {},
   "source": [
    "for循环用于针对集合中的每个元素的一个代码块，而while循环不断地运行，直到指定的条件不满足为止。"
   ]
  },
  {
   "cell_type": "markdown",
   "id": "be0b8ffd",
   "metadata": {},
   "source": [
    "### 7.2.1 使用while循环"
   ]
  },
  {
   "cell_type": "code",
   "execution_count": 17,
   "id": "c2c7a3a1",
   "metadata": {},
   "outputs": [
    {
     "name": "stdout",
     "output_type": "stream",
     "text": [
      "1\n",
      "2\n",
      "3\n",
      "4\n",
      "5\n"
     ]
    }
   ],
   "source": [
    "current_number = 1\n",
    "while current_number <= 5:\n",
    "    print(current_number)\n",
    "    current_number+= 1"
   ]
  },
  {
   "cell_type": "markdown",
   "id": "4e8b8ecc",
   "metadata": {},
   "source": [
    "### 7.2.2 让用户选择何时退出"
   ]
  },
  {
   "cell_type": "code",
   "execution_count": 18,
   "id": "b84d4d01",
   "metadata": {},
   "outputs": [
    {
     "name": "stdout",
     "output_type": "stream",
     "text": [
      "\n",
      "Tell me something,and I will repeat it back to you:\n",
      "Enter 'quit'to end the program.12\n",
      "12\n",
      "\n",
      "Tell me something,and I will repeat it back to you:\n",
      "Enter 'quit'to end the program.sdsd\n",
      "sdsd\n",
      "\n",
      "Tell me something,and I will repeat it back to you:\n",
      "Enter 'quit'to end the program.quit\n",
      "quit\n"
     ]
    }
   ],
   "source": [
    "prompt = \"\\nTell me something,and I will repeat it back to you:\" \n",
    "prompt+= \"\\nEnter 'quit'to end the program.\"\n",
    "message = \"\" \n",
    "while message != 'quit':\n",
    "    message = input(prompt)\n",
    "    print(message)\n"
   ]
  },
  {
   "cell_type": "markdown",
   "id": "d5070e92",
   "metadata": {},
   "source": [
    "### 7.2.3 使用标志"
   ]
  },
  {
   "cell_type": "markdown",
   "id": "91ab7994",
   "metadata": {},
   "source": [
    "在要求很多条件都满足才继续运行的程序中，可定义一个变量，用于判断整个程序是否处于活动状态。这个变量被称为标志，充当了程序的交通信号灯。"
   ]
  },
  {
   "cell_type": "markdown",
   "id": "8d57816a",
   "metadata": {},
   "source": [
    "prompt = \"\\nTell me something,and I will repeat it back to you:\"\n",
    "prompt+= \"\\nEnter 'quit'to end the program.\"\n",
    "active = True \n",
    "while active:\n",
    "    message = input(prompt)\n",
    "    if message == 'quit':\n",
    "        active = False\n",
    "    else:\n",
    "        print(message)\n"
   ]
  },
  {
   "cell_type": "markdown",
   "id": "0fe600b8",
   "metadata": {},
   "source": [
    "### 7.2.4 使用break退出循环"
   ]
  },
  {
   "cell_type": "code",
   "execution_count": 20,
   "id": "786c320a",
   "metadata": {},
   "outputs": [
    {
     "name": "stdout",
     "output_type": "stream",
     "text": [
      "\n",
      "Please enter the name of a city you have visited:\n",
      "(Enter 'quit'when you are finished.) sdf\n",
      "I'd love to go to Sdf!\n",
      "\n",
      "Please enter the name of a city you have visited:\n",
      "(Enter 'quit'when you are finished.) quit\n"
     ]
    }
   ],
   "source": [
    "prompt = \"\\nPlease enter the name of a city you have visited:\"\n",
    "prompt+= \"\\n(Enter 'quit'when you are finished.) \"\n",
    "while True:\n",
    "    city = input(prompt)\n",
    "    if city == 'quit':\n",
    "        break\n",
    "    else:\n",
    "        print(\"I'd love to go to \"+city.title()+\"!\")\n"
   ]
  },
  {
   "cell_type": "markdown",
   "id": "cc228d9c",
   "metadata": {},
   "source": [
    "以while True打头的循环（见❶）将不断运行，直到遇到break语句。"
   ]
  },
  {
   "cell_type": "markdown",
   "id": "80af1f11",
   "metadata": {},
   "source": [
    "### 7.2.5 在循环中使用continue"
   ]
  },
  {
   "cell_type": "markdown",
   "id": "b5d4ad75",
   "metadata": {},
   "source": [
    "要返回到循环开头，并根据条件测试结果决定是否继续执行循环，可使用continue语句，它不像break语句那样不再执行余下的代码并退出整个循环。"
   ]
  },
  {
   "cell_type": "code",
   "execution_count": 21,
   "id": "6296c33d",
   "metadata": {},
   "outputs": [
    {
     "name": "stdout",
     "output_type": "stream",
     "text": [
      "1\n",
      "3\n",
      "5\n",
      "7\n",
      "9\n"
     ]
    }
   ],
   "source": [
    "current_number = 0\n",
    "while current_number <10:\n",
    "    current_number+= 1 \n",
    "    if current_number % 2 == 0:\n",
    "        continue\n",
    "    print(current_number)\n"
   ]
  },
  {
   "cell_type": "markdown",
   "id": "44a6a311",
   "metadata": {},
   "source": [
    "### 7.2.6 避免无限循环"
   ]
  },
  {
   "cell_type": "markdown",
   "id": "f2bb0baa",
   "metadata": {},
   "source": [
    "### 动手试一试"
   ]
  },
  {
   "cell_type": "markdown",
   "id": "c773065a",
   "metadata": {},
   "source": [
    "1.比萨配料：编写一个循环，提示用户输入一系列的比萨配料，并在用户输入'quit'时结束循环。每当用户输入一种配料后，都打印一条消息，说我们会在比萨中添加这种配料。"
   ]
  },
  {
   "cell_type": "code",
   "execution_count": 2,
   "id": "2bed91fc",
   "metadata": {},
   "outputs": [
    {
     "name": "stdout",
     "output_type": "stream",
     "text": [
      "what you want1221\n",
      "you add 1221\n",
      "what you wantquit\n",
      "you add quit\n"
     ]
    }
   ],
   "source": [
    "test = 'what you want'\n",
    "pizza = ''\n",
    "while pizza != 'quit':\n",
    "    pizza = input(test)\n",
    "    print('you add '+pizza)\n",
    "\n"
   ]
  },
  {
   "cell_type": "markdown",
   "id": "2ae5d8b5",
   "metadata": {},
   "source": [
    "2.电影票：有家电影院根据观众的年龄收取不同的票价：不到3岁的观众免费；3～12岁的观众为10美元；超过12岁的观众为15美元。请编写一个循环，在其中询问用户的年龄，并指出其票价。"
   ]
  },
  {
   "cell_type": "code",
   "execution_count": 4,
   "id": "c45474de",
   "metadata": {},
   "outputs": [
    {
     "name": "stdout",
     "output_type": "stream",
     "text": [
      "how old are you?122\n",
      "15\n",
      "how old are you?7\n",
      "10\n",
      "how old are you?12\n",
      "10\n",
      "how old are you?-2\n",
      "free\n"
     ]
    }
   ],
   "source": [
    "question = 'how old are you?'\n",
    "year = 0\n",
    "while year >= 0:\n",
    "    year = int(input(question))\n",
    "    if year <= 3:\n",
    "        print('free')\n",
    "    elif year <=12 :\n",
    "        print(10)\n",
    "    else:\n",
    "        print(15)\n",
    "    "
   ]
  },
  {
   "cell_type": "markdown",
   "id": "8aa27dc7",
   "metadata": {},
   "source": [
    "3.三个出口：以另一种方式完成练习7-4或练习7-5，在程序中采取如下所有做法。·在while循环中使用条件测试来结束循环。·使用变量active来控制循环结束的时机。·使用break语句在用户输入'quit'时退出循环。"
   ]
  },
  {
   "cell_type": "code",
   "execution_count": 7,
   "id": "5e553cf5",
   "metadata": {},
   "outputs": [
    {
     "name": "stdout",
     "output_type": "stream",
     "text": [
      "what you want2\n",
      "you add 2\n",
      "what you want1234\n",
      "you add 1234\n",
      "what you wantquit\n"
     ]
    }
   ],
   "source": [
    "test = 'what you want'\n",
    "active = True\n",
    "while active:\n",
    "    pizza = input(test)\n",
    "    if pizza == 'quit':\n",
    "        active = False\n",
    "    else:\n",
    "        print('you add '+pizza)"
   ]
  },
  {
   "cell_type": "code",
   "execution_count": 8,
   "id": "d4ec85e3",
   "metadata": {},
   "outputs": [
    {
     "name": "stdout",
     "output_type": "stream",
     "text": [
      "what you want12\n",
      "you add 12\n",
      "what you want34\n",
      "you add 34\n",
      "what you wantquit\n"
     ]
    }
   ],
   "source": [
    "test = 'what you want'\n",
    "while True:\n",
    "    pizza = input(test)\n",
    "    if pizza == 'quit':\n",
    "        break\n",
    "    else:\n",
    "        print('you add '+pizza)"
   ]
  },
  {
   "cell_type": "markdown",
   "id": "aa41b9f9",
   "metadata": {},
   "source": [
    "## 7.3 使用while循环来处理列表和字典"
   ]
  },
  {
   "cell_type": "markdown",
   "id": "c7f16891",
   "metadata": {},
   "source": [
    "### 7.3.1 在列表之间移动元素"
   ]
  },
  {
   "cell_type": "code",
   "execution_count": 11,
   "id": "07db3e08",
   "metadata": {},
   "outputs": [
    {
     "name": "stdout",
     "output_type": "stream",
     "text": [
      "Verifying user:Candace\n",
      "Verifying user:Brian\n",
      "Verifying user:Alice\n",
      "\n",
      "The following users have been confirmed:\n",
      "Candace\n",
      "Brian\n",
      "Alice\n"
     ]
    }
   ],
   "source": [
    "# 首先，创建一个待验证用户列表\n",
    "# 和一个用于存储已验证用户的空列表\n",
    "unconfirmed_users = ['alice','brian','candace'] \n",
    "confirmed_users = []\n",
    "# 验证每个用户，直到没有未验证用户为止\n",
    "#  将每个经过验证的列表都移到已验证用户列表中\n",
    "while unconfirmed_users:\n",
    "    current_user = unconfirmed_users.pop() \n",
    "    print(\"Verifying user:\"+current_user.title())\n",
    "    confirmed_users.append(current_user) \n",
    "# 显示所有已验证的用户\n",
    "print(\"\\nThe following users have been confirmed:\")\n",
    "for confirmed_user in confirmed_users:\n",
    "    print(confirmed_user.title())\n"
   ]
  },
  {
   "cell_type": "markdown",
   "id": "1f17ff90",
   "metadata": {},
   "source": [
    "**❷处的while循环将不断地运行，直到列表unconfirmed_users变成空的。**"
   ]
  },
  {
   "cell_type": "markdown",
   "id": "407ee200",
   "metadata": {},
   "source": [
    "### 7.3.2 删除包含特定值的所有列表元素"
   ]
  },
  {
   "cell_type": "markdown",
   "id": "227022b5",
   "metadata": {},
   "source": [
    "假设你有一个宠物列表，其中包含多个值为'cat'的元素。要删除所有这些元素，可不断运行一个while循环，直到列表中不再包含值'cat'，如下所示："
   ]
  },
  {
   "cell_type": "code",
   "execution_count": 12,
   "id": "a0784f7f",
   "metadata": {},
   "outputs": [
    {
     "name": "stdout",
     "output_type": "stream",
     "text": [
      "['dog', 'cat', 'dog', 'goldfish', 'cat', 'rabbit', 'cat']\n",
      "['dog', 'dog', 'goldfish', 'rabbit']\n"
     ]
    }
   ],
   "source": [
    "pets = ['dog','cat','dog','goldfish','cat','rabbit','cat']\n",
    "print(pets)\n",
    "while 'cat'in pets:\n",
    "    pets.remove('cat')\n",
    "print(pets)\n"
   ]
  },
  {
   "cell_type": "markdown",
   "id": "aaa8f288",
   "metadata": {},
   "source": [
    "### 7.3.3 使用用户输入来填充字典"
   ]
  },
  {
   "cell_type": "code",
   "execution_count": 24,
   "id": "13b2d435",
   "metadata": {},
   "outputs": [
    {
     "name": "stdout",
     "output_type": "stream",
     "text": [
      "\n",
      "What is your name?sdf\n",
      "Which mountain would you like to climb someday?sfd\n",
      "Would you like to let another person respond?(yes/ no) yes\n",
      "\n",
      "What is your name?wqe\n",
      "Which mountain would you like to climb someday?sf\n",
      "Would you like to let another person respond?(yes/ no) no\n",
      "\n",
      "--- Poll Results ---\n",
      "sdf would like to climb sfd.\n",
      "wqe would like to climb sf.\n"
     ]
    }
   ],
   "source": [
    "responses = {}\n",
    "# 设置一个标志，指出调查是否继续\n",
    "polling_active = True\n",
    "while polling_active:\n",
    "    # 提示输入被调查者的名字和回答\n",
    "    name = input(\"\\nWhat is your name?\") \n",
    "    response = input(\"Which mountain would you like to climb someday?\")\n",
    "    # 将答卷存储在字典中\n",
    "    responses[name] = response \n",
    "    # 看看是否还有人要参与调查\n",
    "    repeat = input(\"Would you like to let another person respond?(yes/ no) \") \n",
    "    if repeat == 'no':\n",
    "        polling_active = False\n",
    "# 调查结束，显示结果\n",
    "print(\"\\n--- Poll Results ---\")\n",
    "for name,response in responses.items():\n",
    "    print(name+\" would like to climb \"+response+\".\")\n"
   ]
  },
  {
   "cell_type": "markdown",
   "id": "f57a71b2",
   "metadata": {},
   "source": [
    "### 动手试一试"
   ]
  },
  {
   "cell_type": "markdown",
   "id": "4fe39782",
   "metadata": {},
   "source": [
    "1.熟食店：创建一个名为sandwich_orders的列表，在其中包含各种三明治的名字；再创建一个名为finished_sandwiches的空列表。遍历列表sandwich_orders，对于其中的每种三明治，都打印一条消息，如I made your tuna sandwich，并将其移到列表finished_sandwiches。所有三明治都制作好后，打印一条消息，将这些三明治列出来。"
   ]
  },
  {
   "cell_type": "code",
   "execution_count": 18,
   "id": "0f13f909",
   "metadata": {},
   "outputs": [
    {
     "name": "stdout",
     "output_type": "stream",
     "text": [
      "I made your niurou\n",
      "I made your shutiao\n",
      "I made your hanbao\n",
      "niurou\n",
      "shutiao\n",
      "hanbao\n"
     ]
    }
   ],
   "source": [
    "sandwich_orders = ['hanbao','shutiao','niurou']\n",
    "finished_sandwiches = []\n",
    "while sandwich_orders:\n",
    "    sandwich = sandwich_orders.pop()\n",
    "    print('I made your '+sandwich)\n",
    "    finished_sandwiches.append(sandwich)\n",
    "for sandwich in finished_sandwiches:\n",
    "    print(sandwich)"
   ]
  },
  {
   "cell_type": "markdown",
   "id": "537fe3a9",
   "metadata": {},
   "source": [
    "2.五香烟熏牛肉(pastrami)卖完了：使用为完成练习7-8而创建的列表sandwich_orders，并确保'pastrami'在其中至少出现了三次。在程序开头附近添加这样的代码：打印一条消息，指出熟食店的五香烟熏牛肉卖完了；再使用一个while循环将列表sandwich_orders中的'pastrami'都删除。确认最终的列表finished_sandwiches中不包含'pastrami'。"
   ]
  },
  {
   "cell_type": "code",
   "execution_count": 19,
   "id": "d6e7319c",
   "metadata": {},
   "outputs": [
    {
     "name": "stdout",
     "output_type": "stream",
     "text": [
      "['hanbao', 'shutiao', 'niurou']\n"
     ]
    }
   ],
   "source": [
    "sandwich_orders = ['hanbao','shutiao','niurou','pastrami','pastrami','pastrami']\n",
    "while 'pastrami' in sandwich_orders:\n",
    "    sandwich_orders.remove('pastrami')\n",
    "print(sandwich_orders)"
   ]
  },
  {
   "cell_type": "markdown",
   "id": "69b375aa",
   "metadata": {},
   "source": [
    "3.梦想的度假胜地：编写一个程序，调查用户梦想的度假胜地。使用类似于“If you could visit one place in the world,where would you go?”的提示，并编写一个打印调查结果的代码块。"
   ]
  },
  {
   "cell_type": "code",
   "execution_count": 33,
   "id": "86d3fe46",
   "metadata": {},
   "outputs": [
    {
     "name": "stdout",
     "output_type": "stream",
     "text": [
      "what's your name?\n",
      "jc\n",
      "where you like to go?\n",
      "jia\n",
      "continue? y/n \n",
      "nijiajia\n",
      "what's your name?\n",
      "haha\n",
      "where you like to go?\n",
      "hh\n",
      "continue? y/n \n",
      "n\n",
      "jcwant to go to jia\n",
      "hahawant to go to hh\n"
     ]
    }
   ],
   "source": [
    "places = {}\n",
    "while True:\n",
    "    name = input(\"what's your name?\\n\")\n",
    "    place = input(\"where you like to go?\\n\")\n",
    "    places[name] = place\n",
    "    wenti = input('continue? y/n \\n')\n",
    "    if wenti == 'n':\n",
    "        break\n",
    "for name,place in places.items():\n",
    "    print(name + ' want to go to '+place)"
   ]
  },
  {
   "cell_type": "code",
   "execution_count": null,
   "id": "f0142808",
   "metadata": {},
   "outputs": [],
   "source": []
  }
 ],
 "metadata": {
  "kernelspec": {
   "display_name": "Python 3",
   "language": "python",
   "name": "python3"
  },
  "language_info": {
   "codemirror_mode": {
    "name": "ipython",
    "version": 3
   },
   "file_extension": ".py",
   "mimetype": "text/x-python",
   "name": "python",
   "nbconvert_exporter": "python",
   "pygments_lexer": "ipython3",
   "version": "3.8.8"
  }
 },
 "nbformat": 4,
 "nbformat_minor": 5
}
