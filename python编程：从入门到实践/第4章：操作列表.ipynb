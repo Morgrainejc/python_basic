{
 "cells": [
  {
   "cell_type": "markdown",
   "id": "578e067a",
   "metadata": {},
   "source": [
    "## 4.1 遍历整个列表"
   ]
  },
  {
   "cell_type": "markdown",
   "id": "7908c444",
   "metadata": {},
   "source": [
    "### 4.1.1 深入地研究循环"
   ]
  },
  {
   "cell_type": "code",
   "execution_count": 1,
   "id": "cfc9478a",
   "metadata": {},
   "outputs": [
    {
     "name": "stdout",
     "output_type": "stream",
     "text": [
      "alice\n",
      "david\n",
      "carolina\n"
     ]
    }
   ],
   "source": [
    "magicians = ['alice','david','carolina']\n",
    "for magician in magicians:\n",
    "    print(magician)"
   ]
  },
  {
   "cell_type": "markdown",
   "id": "3fcd0eed",
   "metadata": {},
   "source": [
    "### 4.1.2 在for循环中执行更多的操作"
   ]
  },
  {
   "cell_type": "code",
   "execution_count": 2,
   "id": "45508f12",
   "metadata": {},
   "outputs": [
    {
     "name": "stdout",
     "output_type": "stream",
     "text": [
      "Alice,that was a great trick!\n",
      "David,that was a great trick!\n",
      "Carolina,that was a great trick!\n"
     ]
    }
   ],
   "source": [
    "magicians = ['alice','david','carolina']\n",
    "for magician in magicians:\n",
    "    print(magician.title()+\",that was a great trick!\")"
   ]
  },
  {
   "cell_type": "code",
   "execution_count": 3,
   "id": "6e3dfdfa",
   "metadata": {},
   "outputs": [
    {
     "name": "stdout",
     "output_type": "stream",
     "text": [
      "Alice,that was a great trick!\n",
      "I can't wait to see your next trick,Alice.\n",
      "\n",
      "David,that was a great trick!\n",
      "I can't wait to see your next trick,David.\n",
      "\n",
      "Carolina,that was a great trick!\n",
      "I can't wait to see your next trick,Carolina.\n",
      "\n"
     ]
    }
   ],
   "source": [
    "magicians = ['alice','david','carolina']\n",
    "for magician in magicians:\n",
    "    print(magician.title()+\",that was a great trick!\")\n",
    "    print(\"I can't wait to see your next trick,\"+magician.title()+\".\\n\")"
   ]
  },
  {
   "cell_type": "markdown",
   "id": "05bcbcd5",
   "metadata": {},
   "source": [
    "### 4.1.3 在for循环结束后执行一些操作"
   ]
  },
  {
   "cell_type": "code",
   "execution_count": 4,
   "id": "0fdb49c6",
   "metadata": {},
   "outputs": [
    {
     "name": "stdout",
     "output_type": "stream",
     "text": [
      "Alice,that was a great trick!\n",
      "I can't wait to see your next trick,Alice.\n",
      "\n",
      "David,that was a great trick!\n",
      "I can't wait to see your next trick,David.\n",
      "\n",
      "Carolina,that was a great trick!\n",
      "I can't wait to see your next trick,Carolina.\n",
      "\n",
      "Thank you,everyone.That was a great magic show!\n"
     ]
    }
   ],
   "source": [
    "magicians = ['alice','david','carolina']\n",
    "for magician in magicians:\n",
    "    print(magician.title()+\",that was a great trick!\")\n",
    "    print(\"I can't wait to see your next trick,\"+magician.title()+\".\\n\")\n",
    "print(\"Thank you,everyone.That was a great magic show!\")\n"
   ]
  },
  {
   "cell_type": "markdown",
   "id": "14943485",
   "metadata": {},
   "source": [
    "**在for循环后面，没有缩进的代码都只执行一次，而不会重复执行。**"
   ]
  },
  {
   "cell_type": "markdown",
   "id": "be5902ca",
   "metadata": {},
   "source": [
    "## 4.2 避免缩进错误"
   ]
  },
  {
   "cell_type": "markdown",
   "id": "88660463",
   "metadata": {},
   "source": [
    "### 4.2.1 忘记缩进"
   ]
  },
  {
   "cell_type": "code",
   "execution_count": 5,
   "id": "3293efe8",
   "metadata": {},
   "outputs": [
    {
     "ename": "IndentationError",
     "evalue": "expected an indented block after 'for' statement on line 2 (963099272.py, line 3)",
     "output_type": "error",
     "traceback": [
      "\u001b[1;36m  Cell \u001b[1;32mIn[5], line 3\u001b[1;36m\u001b[0m\n\u001b[1;33m    print(magician)\u001b[0m\n\u001b[1;37m    ^\u001b[0m\n\u001b[1;31mIndentationError\u001b[0m\u001b[1;31m:\u001b[0m expected an indented block after 'for' statement on line 2\n"
     ]
    }
   ],
   "source": [
    "magicians = ['alice','david','carolina']\n",
    "for magician in magicians:\n",
    "print(magician)\n"
   ]
  },
  {
   "cell_type": "markdown",
   "id": "b1bf0e29",
   "metadata": {},
   "source": [
    "### 4.2.2 忘记缩进额外的代码行"
   ]
  },
  {
   "cell_type": "code",
   "execution_count": 6,
   "id": "eb77982d",
   "metadata": {},
   "outputs": [
    {
     "name": "stdout",
     "output_type": "stream",
     "text": [
      "Alice,that was a great trick!\n",
      "David,that was a great trick!\n",
      "Carolina,that was a great trick!\n",
      "I can't wait to see your next trick,Carolina.\n",
      "\n"
     ]
    }
   ],
   "source": [
    "magicians = ['alice','david','carolina']\n",
    "for magician in magicians:\n",
    "    print(magician.title()+\",that was a great trick!\")\n",
    "print(\"I can't wait to see your next trick,\"+magician.title()+\".\\n\") "
   ]
  },
  {
   "cell_type": "markdown",
   "id": "87c65a8f",
   "metadata": {},
   "source": [
    "### 4.2.3 不必要的缩进"
   ]
  },
  {
   "cell_type": "code",
   "execution_count": 7,
   "id": "a6e8d1d2",
   "metadata": {},
   "outputs": [
    {
     "ename": "IndentationError",
     "evalue": "unexpected indent (2495908521.py, line 2)",
     "output_type": "error",
     "traceback": [
      "\u001b[1;36m  Cell \u001b[1;32mIn[7], line 2\u001b[1;36m\u001b[0m\n\u001b[1;33m    print(message)\u001b[0m\n\u001b[1;37m    ^\u001b[0m\n\u001b[1;31mIndentationError\u001b[0m\u001b[1;31m:\u001b[0m unexpected indent\n"
     ]
    }
   ],
   "source": [
    "message = \"Hello Python world!\"\n",
    "    print(message)"
   ]
  },
  {
   "cell_type": "markdown",
   "id": "f4104247",
   "metadata": {},
   "source": [
    "### 4.2.4 循环后不必要的缩进"
   ]
  },
  {
   "cell_type": "code",
   "execution_count": 8,
   "id": "93c6506b",
   "metadata": {},
   "outputs": [
    {
     "name": "stdout",
     "output_type": "stream",
     "text": [
      "Alice,that was a great trick!\n",
      "I can't wait to see your next trick,Alice.\n",
      "\n",
      "Thank you everyone,that was a great magic show!\n",
      "David,that was a great trick!\n",
      "I can't wait to see your next trick,David.\n",
      "\n",
      "Thank you everyone,that was a great magic show!\n",
      "Carolina,that was a great trick!\n",
      "I can't wait to see your next trick,Carolina.\n",
      "\n",
      "Thank you everyone,that was a great magic show!\n"
     ]
    }
   ],
   "source": [
    "magicians = ['alice','david','carolina']\n",
    "for magician in magicians:\n",
    "    print(magician.title()+\",that was a great trick!\")\n",
    "    print(\"I can't wait to see your next trick,\"+magician.title()+\".\\n\")\n",
    "    print(\"Thank you everyone,that was a great magic show!\")"
   ]
  },
  {
   "cell_type": "markdown",
   "id": "b96f7fb5",
   "metadata": {},
   "source": [
    "### 4.2.5 遗漏冒号"
   ]
  },
  {
   "cell_type": "code",
   "execution_count": 9,
   "id": "859c37d4",
   "metadata": {},
   "outputs": [
    {
     "ename": "SyntaxError",
     "evalue": "expected ':' (1890693340.py, line 2)",
     "output_type": "error",
     "traceback": [
      "\u001b[1;36m  Cell \u001b[1;32mIn[9], line 2\u001b[1;36m\u001b[0m\n\u001b[1;33m    for magician in magicians\u001b[0m\n\u001b[1;37m                             ^\u001b[0m\n\u001b[1;31mSyntaxError\u001b[0m\u001b[1;31m:\u001b[0m expected ':'\n"
     ]
    }
   ],
   "source": [
    "magicians = ['alice','david','carolina']\n",
    "for magician in magicians\n",
    "    print(magician)"
   ]
  },
  {
   "cell_type": "markdown",
   "id": "49d40fc3",
   "metadata": {},
   "source": [
    "### 动手试一试"
   ]
  },
  {
   "cell_type": "markdown",
   "id": "3e8c4f3c",
   "metadata": {},
   "source": [
    "1.比萨：想出至少三种你喜欢的比萨，将其名称存储在一个列表中，再使用for循环将每种比萨的名称都打印出来。·修改这个for循环，使其打印包含比萨名称的句子，而不仅仅是比萨的名称。对于每种比萨，都显示一行输出，如“I like pepperoni pizza”。·在程序末尾添加一行代码，它不在for循环中，指出你有多喜欢比萨。输出应包含针对每种比萨的消息，还有一个总结性句子，如“I really love pizza!”。"
   ]
  },
  {
   "cell_type": "code",
   "execution_count": 11,
   "id": "9c7275b9",
   "metadata": {},
   "outputs": [
    {
     "name": "stdout",
     "output_type": "stream",
     "text": [
      "bishengke\n",
      "dameile\n",
      "haha\n"
     ]
    }
   ],
   "source": [
    "pizzas = ['bishengke','dameile','haha']\n",
    "for pizza in pizzas:\n",
    "    print(pizza)"
   ]
  },
  {
   "cell_type": "code",
   "execution_count": 14,
   "id": "e0fe5a1a",
   "metadata": {},
   "outputs": [
    {
     "name": "stdout",
     "output_type": "stream",
     "text": [
      "I like Bishengke pizza.\n",
      "I like Dameile pizza.\n",
      "I like Haha pizza.\n"
     ]
    }
   ],
   "source": [
    "for pizza in pizzas:\n",
    "    print(\"I like \"+pizza.title()+\" pizza.\")"
   ]
  },
  {
   "cell_type": "code",
   "execution_count": 15,
   "id": "53d5eb31",
   "metadata": {},
   "outputs": [
    {
     "name": "stdout",
     "output_type": "stream",
     "text": [
      "I like Bishengke pizza.\n",
      "\n",
      "I like Dameile pizza.\n",
      "\n",
      "I like Haha pizza.\n",
      "\n",
      "I really love pizza!\n"
     ]
    }
   ],
   "source": [
    "for pizza in pizzas:\n",
    "    print(\"I like \"+pizza.title()+\" pizza.\"+\"\\n\")\n",
    "print(\"I really love pizza!\")"
   ]
  },
  {
   "cell_type": "markdown",
   "id": "f977de49",
   "metadata": {},
   "source": [
    "## 4.3 创建数值列表"
   ]
  },
  {
   "cell_type": "markdown",
   "id": "d3eeb4ca",
   "metadata": {},
   "source": [
    "### 4.3.1 使用函数range()"
   ]
  },
  {
   "cell_type": "code",
   "execution_count": 16,
   "id": "3fd689d8",
   "metadata": {},
   "outputs": [
    {
     "name": "stdout",
     "output_type": "stream",
     "text": [
      "1\n",
      "2\n",
      "3\n",
      "4\n"
     ]
    }
   ],
   "source": [
    "for value in range(1,5):\n",
    "    print(value)"
   ]
  },
  {
   "cell_type": "markdown",
   "id": "7f3c4370",
   "metadata": {},
   "source": [
    "**函数range()让Python从你指定的第一个值开始数，并在到达你指定的第二个值后停止，因此输出不包含第二个值（这里为5）。**"
   ]
  },
  {
   "cell_type": "markdown",
   "id": "e7300384",
   "metadata": {},
   "source": [
    "### 4.3.2 使用range()创建数字列表"
   ]
  },
  {
   "cell_type": "markdown",
   "id": "4c003381",
   "metadata": {},
   "source": [
    "要创建数字列表，可使用函数list()将range()的结果直接转换为列表。"
   ]
  },
  {
   "cell_type": "code",
   "execution_count": 20,
   "id": "82e32854",
   "metadata": {},
   "outputs": [
    {
     "name": "stdout",
     "output_type": "stream",
     "text": [
      "[1, 2, 3, 4, 5]\n"
     ]
    }
   ],
   "source": [
    "numbers = list(range(1,6))\n",
    "print(numbers)"
   ]
  },
  {
   "cell_type": "markdown",
   "id": "39d8bbf1",
   "metadata": {},
   "source": [
    "使用函数range()时，还可指定步长。例如，下面的代码打印1～10内的偶数："
   ]
  },
  {
   "cell_type": "code",
   "execution_count": 23,
   "id": "98d474ca",
   "metadata": {},
   "outputs": [
    {
     "name": "stdout",
     "output_type": "stream",
     "text": [
      "[2, 5, 8]\n"
     ]
    }
   ],
   "source": [
    "even_numbers = list(range(2,11,3))\n",
    "print(even_numbers)"
   ]
  },
  {
   "cell_type": "markdown",
   "id": "e582579d",
   "metadata": {},
   "source": [
    "在这个示例中，函数range()从2开始数，然后不断地加3，直到达到或超过终值(11)"
   ]
  },
  {
   "cell_type": "code",
   "execution_count": 6,
   "id": "04d3605e",
   "metadata": {},
   "outputs": [
    {
     "name": "stdout",
     "output_type": "stream",
     "text": [
      "[1, 4, 9, 16, 25, 36, 49, 64, 81, 100]\n"
     ]
    }
   ],
   "source": [
    "squares = []\n",
    "for value in range(1,11):\n",
    "    square = value**2\n",
    "    squares.append(square)\n",
    "print(squares)"
   ]
  },
  {
   "cell_type": "markdown",
   "id": "4fc71a84",
   "metadata": {},
   "source": [
    "### 4.3.2 对数字列表执行简单的统计计算"
   ]
  },
  {
   "cell_type": "code",
   "execution_count": 2,
   "id": "bd099518",
   "metadata": {},
   "outputs": [],
   "source": [
    "digits = [1,2,3,4,5,6,7,8,9,0]"
   ]
  },
  {
   "cell_type": "code",
   "execution_count": 3,
   "id": "51702c74",
   "metadata": {},
   "outputs": [
    {
     "data": {
      "text/plain": [
       "0"
      ]
     },
     "execution_count": 3,
     "metadata": {},
     "output_type": "execute_result"
    }
   ],
   "source": [
    "min(digits)"
   ]
  },
  {
   "cell_type": "code",
   "execution_count": 4,
   "id": "805c8867",
   "metadata": {},
   "outputs": [
    {
     "data": {
      "text/plain": [
       "9"
      ]
     },
     "execution_count": 4,
     "metadata": {},
     "output_type": "execute_result"
    }
   ],
   "source": [
    "max(digits)"
   ]
  },
  {
   "cell_type": "code",
   "execution_count": 5,
   "id": "f8b89cbc",
   "metadata": {},
   "outputs": [
    {
     "data": {
      "text/plain": [
       "45"
      ]
     },
     "execution_count": 5,
     "metadata": {},
     "output_type": "execute_result"
    }
   ],
   "source": [
    "sum(digits)"
   ]
  },
  {
   "cell_type": "markdown",
   "id": "247977ee",
   "metadata": {},
   "source": [
    "### 4.3.4 列表解析"
   ]
  },
  {
   "cell_type": "code",
   "execution_count": 7,
   "id": "26771cb9",
   "metadata": {},
   "outputs": [
    {
     "name": "stdout",
     "output_type": "stream",
     "text": [
      "[1, 4, 9, 16, 25, 36, 49, 64, 81, 100]\n"
     ]
    }
   ],
   "source": [
    "sqaures = [value**2 for value in range(1,11)]\n",
    "print(squares)"
   ]
  },
  {
   "cell_type": "markdown",
   "id": "58f9a586",
   "metadata": {},
   "source": [
    "### 动手试一试"
   ]
  },
  {
   "cell_type": "markdown",
   "id": "71febc43",
   "metadata": {},
   "source": [
    "1. 数到20：使用一个for循环打印数字1～20（含）"
   ]
  },
  {
   "cell_type": "code",
   "execution_count": 8,
   "id": "9d1cae6a",
   "metadata": {},
   "outputs": [
    {
     "name": "stdout",
     "output_type": "stream",
     "text": [
      "1\n",
      "2\n",
      "3\n",
      "4\n",
      "5\n",
      "6\n",
      "7\n",
      "8\n",
      "9\n",
      "10\n",
      "11\n",
      "12\n",
      "13\n",
      "14\n",
      "15\n",
      "16\n",
      "17\n",
      "18\n",
      "19\n",
      "20\n"
     ]
    }
   ],
   "source": [
    "for number in range(1,21):\n",
    "    print(number)"
   ]
  },
  {
   "cell_type": "markdown",
   "id": "85a20281",
   "metadata": {},
   "source": [
    "2.一百万：创建一个列表，其中包含数字1～1000000，再使用一个for循环将这些数字打印出来（如果输出的时间太长，按Ctrl+C停止输出，或关闭输出窗口）。"
   ]
  },
  {
   "cell_type": "code",
   "execution_count": 9,
   "id": "38320159",
   "metadata": {},
   "outputs": [
    {
     "name": "stdout",
     "output_type": "stream",
     "text": [
      "1\n",
      "2\n",
      "3\n",
      "4\n",
      "5\n",
      "6\n",
      "7\n",
      "8\n",
      "9\n",
      "10\n",
      "11\n",
      "12\n",
      "13\n",
      "14\n"
     ]
    }
   ],
   "source": [
    "numbers = [value for value in range(1,15)]\n",
    "for number in numbers:\n",
    "    print(number)"
   ]
  },
  {
   "cell_type": "markdown",
   "id": "da42fef0",
   "metadata": {},
   "source": [
    "3.计算1～1000000的总和：创建一个列表，其中包含数字1～1000000，再使用min()和max()核实该列表确实是从1开始，到1000000结束的。另外，对这个列表调用函数sum()，看看Python将一百万个数字相加需要多长时间。"
   ]
  },
  {
   "cell_type": "code",
   "execution_count": 10,
   "id": "962ecabb",
   "metadata": {},
   "outputs": [
    {
     "name": "stdout",
     "output_type": "stream",
     "text": [
      "1\n",
      "1000000\n",
      "500000500000\n"
     ]
    }
   ],
   "source": [
    "numbers = [value for value in range(1,1000001)]\n",
    "print(min(numbers))\n",
    "print(max(numbers))\n",
    "print(sum(numbers))"
   ]
  },
  {
   "cell_type": "markdown",
   "id": "0ebe60bb",
   "metadata": {},
   "source": [
    "4.奇数：通过给函数range()指定第三个参数来创建一个列表，其中包含1～20的奇数；再使用一个for循环将这些数字都打印出来。"
   ]
  },
  {
   "cell_type": "code",
   "execution_count": 11,
   "id": "d5cfe7bd",
   "metadata": {},
   "outputs": [
    {
     "name": "stdout",
     "output_type": "stream",
     "text": [
      "1\n",
      "3\n",
      "5\n",
      "7\n",
      "9\n",
      "11\n",
      "13\n",
      "15\n",
      "17\n",
      "19\n"
     ]
    }
   ],
   "source": [
    "jishu = list(range(1,21,2))\n",
    "for jishu in jishu:\n",
    "    print(jishu)"
   ]
  },
  {
   "cell_type": "markdown",
   "id": "c39c32b7",
   "metadata": {},
   "source": [
    "5.创建一个列表，其中包含3～30内能被3整除的数字；再使用一个for循环将这个列表中的数字都打印出来。"
   ]
  },
  {
   "cell_type": "code",
   "execution_count": 12,
   "id": "d5ba90a9",
   "metadata": {},
   "outputs": [
    {
     "name": "stdout",
     "output_type": "stream",
     "text": [
      "3\n",
      "6\n",
      "9\n",
      "12\n",
      "15\n",
      "18\n",
      "21\n",
      "24\n",
      "27\n",
      "30\n"
     ]
    }
   ],
   "source": [
    "three = list(range(3,31,3))\n",
    "for three in three:\n",
    "    print(three)"
   ]
  },
  {
   "cell_type": "markdown",
   "id": "29a7f1c4",
   "metadata": {},
   "source": [
    "6.将同一个数字乘三次称为立方。例如，在Python中，2的立方用2**3表示。请创建一个列表，其中包含前10个整数（即1～10）的立方，再使用一个for循环将这些立方数都打印出来。"
   ]
  },
  {
   "cell_type": "code",
   "execution_count": 31,
   "id": "325d3370",
   "metadata": {},
   "outputs": [
    {
     "name": "stdout",
     "output_type": "stream",
     "text": [
      "1\n",
      "8\n",
      "27\n",
      "64\n",
      "125\n",
      "216\n",
      "343\n",
      "512\n",
      "729\n",
      "1000\n"
     ]
    }
   ],
   "source": [
    "lifangs = [value**3 for value in range(1,11)]\n",
    "for lifang in lifangs:\n",
    "    print(lifang)"
   ]
  },
  {
   "cell_type": "code",
   "execution_count": 14,
   "id": "829de41f",
   "metadata": {},
   "outputs": [
    {
     "name": "stdout",
     "output_type": "stream",
     "text": [
      "[1, 8, 27, 64, 125, 216, 343, 512, 729, 1000]\n"
     ]
    }
   ],
   "source": [
    "lifang_2s = []\n",
    "for value in range(1,11):\n",
    "    lifang_2 = value**3\n",
    "    lifang_2s.append(lifang_2)\n",
    "print(lifang_2s)"
   ]
  },
  {
   "cell_type": "markdown",
   "id": "f1b30689",
   "metadata": {},
   "source": [
    "## 4.4 使用列表的一部分"
   ]
  },
  {
   "cell_type": "markdown",
   "id": "bc4edfda",
   "metadata": {},
   "source": [
    "### 4.4.1 切片"
   ]
  },
  {
   "cell_type": "markdown",
   "id": "ac419ffc",
   "metadata": {},
   "source": [
    "要创建切片，可指定要使用的第一个元素和最后一个元素的索引。与函数range()一样，Python在到达你指定的第二个索引前面的元素后停止。要输出列表中的前三个元素，需要指定索引0～3，这将输出分别为0、1和2的元素。"
   ]
  },
  {
   "cell_type": "code",
   "execution_count": 16,
   "id": "af67e1b6",
   "metadata": {},
   "outputs": [
    {
     "name": "stdout",
     "output_type": "stream",
     "text": [
      "['charles', 'martina', 'michael']\n"
     ]
    }
   ],
   "source": [
    "players = ['charles','martina','michael','florence','eli']\n",
    "print(players[0:3])"
   ]
  },
  {
   "cell_type": "code",
   "execution_count": 17,
   "id": "9f2281c6",
   "metadata": {},
   "outputs": [
    {
     "name": "stdout",
     "output_type": "stream",
     "text": [
      "['martina', 'michael', 'florence']\n"
     ]
    }
   ],
   "source": [
    "players = ['charles','martina','michael','florence','eli']\n",
    "print(players[1:4])"
   ]
  },
  {
   "cell_type": "code",
   "execution_count": 18,
   "id": "c951e249",
   "metadata": {},
   "outputs": [
    {
     "name": "stdout",
     "output_type": "stream",
     "text": [
      "['charles', 'martina', 'michael', 'florence']\n"
     ]
    }
   ],
   "source": [
    "players = ['charles','martina','michael','florence','eli']\n",
    "print(players[:4])"
   ]
  },
  {
   "cell_type": "code",
   "execution_count": 19,
   "id": "540e5bc3",
   "metadata": {},
   "outputs": [
    {
     "name": "stdout",
     "output_type": "stream",
     "text": [
      "['michael', 'florence', 'eli']\n"
     ]
    }
   ],
   "source": [
    "players = ['charles','martina','michael','florence','eli']\n",
    "print(players[2:])"
   ]
  },
  {
   "cell_type": "markdown",
   "id": "f1e9c604",
   "metadata": {},
   "source": [
    "本书前面说过，负数索引返回离列表末尾相应距离的元素，因此你可以输出列表末尾的任何切片。例如，如果你要输出名单上的最后三名队员，可使用切片players[-3:]："
   ]
  },
  {
   "cell_type": "code",
   "execution_count": 20,
   "id": "10e0baf2",
   "metadata": {},
   "outputs": [
    {
     "name": "stdout",
     "output_type": "stream",
     "text": [
      "['michael', 'florence', 'eli']\n"
     ]
    }
   ],
   "source": [
    "players = ['charles','martina','michael','florence','eli']\n",
    "print(players[-3:])"
   ]
  },
  {
   "cell_type": "markdown",
   "id": "b6b912c6",
   "metadata": {},
   "source": [
    "### 4.4.2 遍历切片"
   ]
  },
  {
   "cell_type": "code",
   "execution_count": 21,
   "id": "e2c4d02e",
   "metadata": {},
   "outputs": [
    {
     "name": "stdout",
     "output_type": "stream",
     "text": [
      "Here are the first three players on my team:\n",
      "Charles\n",
      "Martina\n",
      "Michael\n"
     ]
    }
   ],
   "source": [
    "players = ['charles','martina','michael','florence','eli']\n",
    "print(\"Here are the first three players on my team:\")\n",
    "for player in players[:3]:\n",
    "    print(player.title())"
   ]
  },
  {
   "cell_type": "markdown",
   "id": "5a3f881b",
   "metadata": {},
   "source": [
    "### 4.4.3 复制列表"
   ]
  },
  {
   "cell_type": "markdown",
   "id": "db21ef98",
   "metadata": {},
   "source": [
    "要复制列表，可创建一个包含整个列表的切片，方法是同时省略起始索引和终止索引([:])。这让Python创建一个始于第一个元素，终止于最后一个元素的切片，即复制整个列表。"
   ]
  },
  {
   "cell_type": "code",
   "execution_count": 22,
   "id": "5c7ac827",
   "metadata": {},
   "outputs": [
    {
     "name": "stdout",
     "output_type": "stream",
     "text": [
      "My favorite foods are:\n",
      "['pizza', 'falafel', 'carrot cake']\n",
      "\n",
      "My friend's favorite foods are:\n",
      "['pizza', 'falafel', 'carrot cake']\n"
     ]
    }
   ],
   "source": [
    "my_foods = ['pizza','falafel','carrot cake'] \n",
    "friend_foods = my_foods[:] \n",
    "print(\"My favorite foods are:\")\n",
    "print(my_foods)\n",
    "print(\"\\nMy friend's favorite foods are:\")\n",
    "print(friend_foods)"
   ]
  },
  {
   "cell_type": "code",
   "execution_count": 23,
   "id": "eef70038",
   "metadata": {},
   "outputs": [
    {
     "name": "stdout",
     "output_type": "stream",
     "text": [
      "My favorite foods are:\n",
      "['pizza', 'falafel', 'carrot cake', 'cannoli']\n",
      "\n",
      "My friend's favorite foods are:\n",
      "['pizza', 'falafel', 'carrot cake', 'ice cream']\n"
     ]
    }
   ],
   "source": [
    "my_foods = ['pizza','falafel','carrot cake']\n",
    "friend_foods = my_foods[:]\n",
    "my_foods.append('cannoli')\n",
    "friend_foods.append('ice cream')\n",
    "print(\"My favorite foods are:\")\n",
    "print(my_foods)\n",
    "print(\"\\nMy friend's favorite foods are:\")\n",
    "print(friend_foods)\n"
   ]
  },
  {
   "cell_type": "code",
   "execution_count": 24,
   "id": "bcc3349c",
   "metadata": {},
   "outputs": [
    {
     "name": "stdout",
     "output_type": "stream",
     "text": [
      "My favorite foods are:\n",
      "['pizza', 'falafel', 'carrot cake', 'cannoli', 'ice cream']\n",
      "\n",
      "My friend's favorite foods are:\n",
      "['pizza', 'falafel', 'carrot cake', 'cannoli', 'ice cream']\n"
     ]
    }
   ],
   "source": [
    "my_foods = ['pizza','falafel','carrot cake']\n",
    "#这行不通\n",
    "friend_foods = my_foods \n",
    "my_foods.append('cannoli')\n",
    "friend_foods.append('ice cream')\n",
    "print(\"My favorite foods are:\")\n",
    "print(my_foods)\n",
    "print(\"\\nMy friend's favorite foods are:\")\n",
    "print(friend_foods)"
   ]
  },
  {
   "cell_type": "markdown",
   "id": "c3a2fe1d",
   "metadata": {},
   "source": [
    "**这里将my_foods赋给friend_foods，而不是将my_foods的副本存储到friend_foods。这种语法实际上是让Python将新变量friend_foods关联到包含在my_foods中的列表，因此这两个变量都指向同一个列表**"
   ]
  },
  {
   "cell_type": "markdown",
   "id": "cb6527f6",
   "metadata": {},
   "source": [
    "### 动手试一试"
   ]
  },
  {
   "cell_type": "markdown",
   "id": "b575d6a2",
   "metadata": {},
   "source": [
    "1.选择你在本章编写的一个程序，在末尾添加几行代码，以完成如下任务。·打印消息“The first three items in the list are:”，再使用切片来打印列表的前三个元素。·打印消息“Three items from the middle of the list are:”，再使用切片来打印列表中间的三个元素。·打印消息“The last three items in the list are:”，再使用切片来打印列表末尾的三个元素。"
   ]
  },
  {
   "cell_type": "code",
   "execution_count": 32,
   "id": "b10b7ec5",
   "metadata": {},
   "outputs": [
    {
     "data": {
      "text/plain": [
       "[1, 8, 27, 64, 125, 216, 343, 512, 729, 1000]"
      ]
     },
     "execution_count": 32,
     "metadata": {},
     "output_type": "execute_result"
    }
   ],
   "source": [
    "lifangs"
   ]
  },
  {
   "cell_type": "code",
   "execution_count": 33,
   "id": "e8878d9c",
   "metadata": {},
   "outputs": [
    {
     "data": {
      "text/plain": [
       "[1, 8, 27]"
      ]
     },
     "execution_count": 33,
     "metadata": {},
     "output_type": "execute_result"
    }
   ],
   "source": [
    "lifangs[:3]"
   ]
  },
  {
   "cell_type": "code",
   "execution_count": 35,
   "id": "8b21b21b",
   "metadata": {},
   "outputs": [
    {
     "data": {
      "text/plain": [
       "[512, 729, 1000]"
      ]
     },
     "execution_count": 35,
     "metadata": {},
     "output_type": "execute_result"
    }
   ],
   "source": [
    "lifangs[-3:]"
   ]
  },
  {
   "cell_type": "code",
   "execution_count": 36,
   "id": "08d32d3d",
   "metadata": {},
   "outputs": [
    {
     "data": {
      "text/plain": [
       "[1, 8, 27, 64, 125, 216, 343, 512, 729, 1000]"
      ]
     },
     "execution_count": 36,
     "metadata": {},
     "output_type": "execute_result"
    }
   ],
   "source": [
    "lifangs[:]"
   ]
  },
  {
   "cell_type": "code",
   "execution_count": 37,
   "id": "d9b4ae83",
   "metadata": {},
   "outputs": [
    {
     "data": {
      "text/plain": [
       "[1, 8]"
      ]
     },
     "execution_count": 37,
     "metadata": {},
     "output_type": "execute_result"
    }
   ],
   "source": [
    "lifangs[:2]"
   ]
  },
  {
   "cell_type": "code",
   "execution_count": 38,
   "id": "3e61291c",
   "metadata": {},
   "outputs": [
    {
     "name": "stdout",
     "output_type": "stream",
     "text": [
      "[1, 8, 27, 64, 125, 216, 343, 512, 729, 1000, 3]\n",
      "[1, 8, 27, 64, 125, 216, 343, 512, 729, 1000, 4]\n"
     ]
    }
   ],
   "source": [
    "lifangss = lifangs[:]\n",
    "lifangs.append(3)\n",
    "lifangss.append(4)\n",
    "print(lifangs)\n",
    "print(lifangss)"
   ]
  },
  {
   "cell_type": "markdown",
   "id": "279002c3",
   "metadata": {},
   "source": [
    "## 4.5 元组"
   ]
  },
  {
   "cell_type": "markdown",
   "id": "a621dc9f",
   "metadata": {},
   "source": [
    "需要创建一系列不可修改的元素，元组可以满足这种需求"
   ]
  },
  {
   "cell_type": "markdown",
   "id": "a8ceb048",
   "metadata": {},
   "source": [
    "### 4.5.1 定义元组"
   ]
  },
  {
   "cell_type": "code",
   "execution_count": 39,
   "id": "5b8be3f4",
   "metadata": {},
   "outputs": [
    {
     "name": "stdout",
     "output_type": "stream",
     "text": [
      "200\n",
      "50\n"
     ]
    }
   ],
   "source": [
    "dimensions = (200,50)\n",
    "print(dimensions[0])\n",
    "print(dimensions[1])"
   ]
  },
  {
   "cell_type": "code",
   "execution_count": 40,
   "id": "9dfa074c",
   "metadata": {},
   "outputs": [
    {
     "ename": "TypeError",
     "evalue": "'tuple' object does not support item assignment",
     "output_type": "error",
     "traceback": [
      "\u001b[1;31m---------------------------------------------------------------------------\u001b[0m",
      "\u001b[1;31mTypeError\u001b[0m                                 Traceback (most recent call last)",
      "Cell \u001b[1;32mIn[40], line 2\u001b[0m\n\u001b[0;32m      1\u001b[0m dimensions \u001b[38;5;241m=\u001b[39m (\u001b[38;5;241m200\u001b[39m,\u001b[38;5;241m50\u001b[39m)\n\u001b[1;32m----> 2\u001b[0m dimensions[\u001b[38;5;241m0\u001b[39m] \u001b[38;5;241m=\u001b[39m \u001b[38;5;241m250\u001b[39m\n",
      "\u001b[1;31mTypeError\u001b[0m: 'tuple' object does not support item assignment"
     ]
    }
   ],
   "source": [
    "dimensions = (200,50)\n",
    "dimensions[0] = 250"
   ]
  },
  {
   "cell_type": "markdown",
   "id": "6c2a56b1",
   "metadata": {},
   "source": [
    "### 4.5.2 遍历元组中的所有值"
   ]
  },
  {
   "cell_type": "code",
   "execution_count": 42,
   "id": "2f604196",
   "metadata": {},
   "outputs": [
    {
     "name": "stdout",
     "output_type": "stream",
     "text": [
      "200\n",
      "50\n"
     ]
    }
   ],
   "source": [
    "dimensions = (200,50)\n",
    "for dimension in dimensions:\n",
    "    print(dimension)"
   ]
  },
  {
   "cell_type": "markdown",
   "id": "c7e86004",
   "metadata": {},
   "source": [
    "### 4.5.3 修改元组变量"
   ]
  },
  {
   "cell_type": "code",
   "execution_count": 44,
   "id": "e3dcdf84",
   "metadata": {},
   "outputs": [
    {
     "name": "stdout",
     "output_type": "stream",
     "text": [
      "Original dimensions:\n",
      "200\n",
      "50\n",
      "\n",
      "Modified dimensions:\n",
      "400\n",
      "100\n"
     ]
    }
   ],
   "source": [
    "dimensions = (200,50)\n",
    "print(\"Original dimensions:\")\n",
    "for dimension in dimensions:\n",
    "    print(dimension)\n",
    "dimensions = (400,100)\n",
    "print(\"\\nModified dimensions:\")\n",
    "for dimension in dimensions:\n",
    "    print(dimension)\n"
   ]
  },
  {
   "cell_type": "code",
   "execution_count": null,
   "id": "15148f99",
   "metadata": {},
   "outputs": [],
   "source": []
  }
 ],
 "metadata": {
  "kernelspec": {
   "display_name": "Python 3",
   "language": "python",
   "name": "python3"
  },
  "language_info": {
   "codemirror_mode": {
    "name": "ipython",
    "version": 3
   },
   "file_extension": ".py",
   "mimetype": "text/x-python",
   "name": "python",
   "nbconvert_exporter": "python",
   "pygments_lexer": "ipython3",
   "version": "3.8.8"
  }
 },
 "nbformat": 4,
 "nbformat_minor": 5
}
