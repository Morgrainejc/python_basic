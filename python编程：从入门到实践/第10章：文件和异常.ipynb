{
 "cells": [
  {
   "cell_type": "markdown",
   "id": "7f35aa18",
   "metadata": {},
   "source": [
    "## 10.1 从文件中读取数据"
   ]
  },
  {
   "cell_type": "markdown",
   "id": "d28a42f9",
   "metadata": {},
   "source": [
    "### 10.1.1 读取整个文件"
   ]
  },
  {
   "cell_type": "code",
   "execution_count": 18,
   "id": "2881eca2",
   "metadata": {
    "scrolled": true
   },
   "outputs": [
    {
     "name": "stdout",
     "output_type": "stream",
     "text": [
      "3.1415926535\n",
      "  8979323846\n",
      "  2643383279\n",
      "\n"
     ]
    }
   ],
   "source": [
    "with open('D:\\\\data analysis\\\\python编程：从入门到实践\\\\text\\\\pi_digits.txt') as file_object:\n",
    "    contents = file_object.read()\n",
    "    print(contents)"
   ]
  },
  {
   "cell_type": "markdown",
   "id": "4edbcb9c",
   "metadata": {},
   "source": [
    "**因为\\会被当做转义字符而报错**"
   ]
  },
  {
   "cell_type": "markdown",
   "id": "7aa28c2b",
   "metadata": {},
   "source": [
    "为何会多出这个空行呢？因为read()到达文件末尾时返回一个空字符串，而将这个空字符串显示出来时就是一个空行。要删除末尾的空行，可在print语句中使用rstrip()："
   ]
  },
  {
   "cell_type": "code",
   "execution_count": 17,
   "id": "1ab43e76",
   "metadata": {},
   "outputs": [
    {
     "name": "stdout",
     "output_type": "stream",
     "text": [
      "3.1415926535\n",
      "  8979323846\n",
      "  2643383279\n"
     ]
    }
   ],
   "source": [
    "with open('D:\\\\data analysis\\\\python编程：从入门到实践\\\\text\\\\pi_digits.txt') as file_object:\n",
    "    contents = file_object.read()\n",
    "    print(contents.rstrip())"
   ]
  },
  {
   "cell_type": "markdown",
   "id": "73cfc0aa",
   "metadata": {},
   "source": [
    "### 10.1.2 文件路径"
   ]
  },
  {
   "cell_type": "code",
   "execution_count": 16,
   "id": "59f1f316",
   "metadata": {},
   "outputs": [
    {
     "name": "stdout",
     "output_type": "stream",
     "text": [
      "3.1415926535\n",
      "  8979323846\n",
      "  2643383279\n",
      "\n"
     ]
    }
   ],
   "source": [
    "with open('D:/data analysis/python编程：从入门到实践/text/pi_digits.txt') as file_object:\n",
    "    contents = file_object.read()\n",
    "    print(contents)"
   ]
  },
  {
   "cell_type": "markdown",
   "id": "7d0fe898",
   "metadata": {},
   "source": [
    "**用/代替\\也是可行的**"
   ]
  },
  {
   "cell_type": "code",
   "execution_count": 20,
   "id": "e6adb14b",
   "metadata": {},
   "outputs": [
    {
     "name": "stdout",
     "output_type": "stream",
     "text": [
      "3.1415926535\n",
      "  8979323846\n",
      "  2643383279\n"
     ]
    }
   ],
   "source": [
    "with open(r'D:\\data analysis\\python编程：从入门到实践\\text\\pi_digits.txt') as file_object:\n",
    "    contents = file_object.read()\n",
    "    print(contents.rstrip())"
   ]
  },
  {
   "cell_type": "markdown",
   "id": "532d18ae",
   "metadata": {},
   "source": [
    "**在开头单引号前加r更保险**"
   ]
  },
  {
   "cell_type": "markdown",
   "id": "efc8f316",
   "metadata": {},
   "source": [
    "### 10.1.3 逐行读取"
   ]
  },
  {
   "cell_type": "code",
   "execution_count": 25,
   "id": "acad3fdd",
   "metadata": {},
   "outputs": [
    {
     "name": "stdout",
     "output_type": "stream",
     "text": [
      "3.1415926535\n",
      "\n",
      "  8979323846\n",
      "\n",
      "  2643383279\n",
      "\n"
     ]
    }
   ],
   "source": [
    "with open(r'D:\\data analysis\\python编程：从入门到实践\\text\\pi_digits.txt') as file_object:\n",
    "    for line in file_object:\n",
    "        print(line)"
   ]
  },
  {
   "cell_type": "markdown",
   "id": "11b31a15",
   "metadata": {},
   "source": [
    "因为在这个文件中，每行的末尾都有一个看不见的换行符，而print语句也会加上一个换行符，因此每行末尾都有两个换行符：一个来自文件，另一个来自print语句。要消除这些多余的空白行，可在print语句中使用rstrip()："
   ]
  },
  {
   "cell_type": "markdown",
   "id": "f4f42ebe",
   "metadata": {},
   "source": [
    "with open(r'D:\\data analysis\\python编程：从入门到实践\\text\\pi_digits.txt') as file_object:\n",
    "    for line in file_object:\n",
    "        print(line.rstrip())"
   ]
  },
  {
   "cell_type": "markdown",
   "id": "ae9b5c0e",
   "metadata": {},
   "source": [
    "### 10.1.4 创建一个包含文件各行内容的列表"
   ]
  },
  {
   "cell_type": "markdown",
   "id": "a18da1c4",
   "metadata": {},
   "source": [
    "使用关键字with时，open()返回的文件对象只在with代码块内可用。如果要在with代码块外访问文件的内容，可在with代码块内将文件的各行存储在一个列表中，并在with代码块外使用该列表"
   ]
  },
  {
   "cell_type": "code",
   "execution_count": 27,
   "id": "7fbd9a9d",
   "metadata": {},
   "outputs": [
    {
     "name": "stdout",
     "output_type": "stream",
     "text": [
      "3.1415926535\n",
      "  8979323846\n",
      "  2643383279\n"
     ]
    }
   ],
   "source": [
    "with open(r'D:\\data analysis\\python编程：从入门到实践\\text\\pi_digits.txt') as file_object:\n",
    "    lines = file_object.readlines()\n",
    "for line in lines:\n",
    "    print(line.rstrip())"
   ]
  },
  {
   "cell_type": "markdown",
   "id": "81afe838",
   "metadata": {},
   "source": [
    "readlines()从文件中读取每一行，并将其存储在一个列表中"
   ]
  },
  {
   "cell_type": "markdown",
   "id": "adab7bcd",
   "metadata": {},
   "source": [
    "### 10.1.5 使用文件的内容"
   ]
  },
  {
   "cell_type": "code",
   "execution_count": 21,
   "id": "99f274bb",
   "metadata": {},
   "outputs": [
    {
     "name": "stdout",
     "output_type": "stream",
     "text": [
      "3.1415926535  8979323846  2643383279\n",
      "36\n"
     ]
    }
   ],
   "source": [
    "filename ='D:\\\\data analysis\\\\python编程：从入门到实践\\\\text\\\\pi_digits.txt'\n",
    "with open(filename) as file_object:\n",
    "    lines = file_object.readlines()\n",
    "pi_string = ''\n",
    "for line in lines:\n",
    "    pi_string+= line.rstrip()\n",
    "print(pi_string)\n",
    "print(len(pi_string))"
   ]
  },
  {
   "cell_type": "markdown",
   "id": "89d17cb1",
   "metadata": {},
   "source": [
    "为删除这些空格，可使用strip()而不是rstrip()："
   ]
  },
  {
   "cell_type": "code",
   "execution_count": 3,
   "id": "aa1a07a6",
   "metadata": {},
   "outputs": [
    {
     "name": "stdout",
     "output_type": "stream",
     "text": [
      "3.141592653589793238462643383279\n",
      "32\n"
     ]
    }
   ],
   "source": [
    "filename ='E:\\\\data analysis\\\\python编程：从入门到实践\\\\text\\\\pi_digits.txt'\n",
    "with open(filename) as file_object:\n",
    "    lines = file_object.readlines()\n",
    "pi_string = ''\n",
    "for line in lines:\n",
    "    pi_string+= line.strip()\n",
    "print(pi_string)\n",
    "print(len(pi_string))"
   ]
  },
  {
   "cell_type": "markdown",
   "id": "594b04a1",
   "metadata": {},
   "source": [
    "### 10.1.6 包含一百万位的大型文件"
   ]
  },
  {
   "cell_type": "markdown",
   "id": "90a4c78a",
   "metadata": {},
   "source": [
    "### 动手试一试"
   ]
  },
  {
   "cell_type": "markdown",
   "id": "6305b21a",
   "metadata": {},
   "source": [
    "1.Python学习笔记：在文本编辑器中新建一个文件，写几句话来总结一下你至此学到的Python知识，其中每一行都以“In Python you can”打头。将这个文件命名为learning_python.txt，并将其存储到为完成本章练习而编写的程序所在的目录中。编写一个程序，它读取这个文件，并将你所写的内容打印三次：第一次打印时读取整个文件；第二次打印时遍历文件对象；第三次打印时将各行存储在一个列表中，再在with代码块外打印它们。"
   ]
  },
  {
   "cell_type": "code",
   "execution_count": 7,
   "id": "6dcf2ee0",
   "metadata": {},
   "outputs": [
    {
     "name": "stdout",
     "output_type": "stream",
     "text": [
      "In Python we can use list\n",
      "In Python we can use tumple\n",
      "In Python we can acculmuate\n"
     ]
    }
   ],
   "source": [
    "filename ='E:\\\\data analysis\\\\python编程：从入门到实践\\\\text\\\\My_Python.txt'\n",
    "with open(filename) as file_object:\n",
    "    text = file_object.read()\n",
    "    print(text)"
   ]
  },
  {
   "cell_type": "code",
   "execution_count": 8,
   "id": "1b7668c9",
   "metadata": {},
   "outputs": [
    {
     "name": "stdout",
     "output_type": "stream",
     "text": [
      "In Python we can use list\n",
      "In Python we can use tumple\n",
      "In Python we can acculmuate\n"
     ]
    }
   ],
   "source": [
    "filename ='E:\\\\data analysis\\\\python编程：从入门到实践\\\\text\\\\My_Python.txt'\n",
    "with open(filename) as file_object:\n",
    "    for line in file_object:\n",
    "        print(line.rstrip())"
   ]
  },
  {
   "cell_type": "code",
   "execution_count": 11,
   "id": "76a75eaf",
   "metadata": {},
   "outputs": [
    {
     "name": "stdout",
     "output_type": "stream",
     "text": [
      "In Python we can use list\n",
      "In Python we can use tumple\n",
      "In Python we can acculmuate\n"
     ]
    }
   ],
   "source": [
    "filename ='E:\\\\data analysis\\\\python编程：从入门到实践\\\\text\\\\My_Python.txt'\n",
    "with open(filename) as file_object:\n",
    "    lines = file_object.readlines()\n",
    "for line in lines:\n",
    "    print(line.rstrip())"
   ]
  },
  {
   "cell_type": "markdown",
   "id": "ba21c8f2",
   "metadata": {},
   "source": [
    "2.C语言学习笔记：可使用方法replace()将字符串中的特定单词都替换为另一个单词。下面是一个简单的示例，演示了如何将句子中的'dog'替换为'cat'："
   ]
  },
  {
   "cell_type": "code",
   "execution_count": 16,
   "id": "7e2560c6",
   "metadata": {},
   "outputs": [
    {
     "name": "stdout",
     "output_type": "stream",
     "text": [
      "In C we can use list\n",
      "In C we can use tumple\n",
      "In C we can acculmuate\n"
     ]
    }
   ],
   "source": [
    "filename ='E:\\\\data analysis\\\\python编程：从入门到实践\\\\text\\\\My_Python.txt'\n",
    "with open(filename) as file_object:\n",
    "    text = file_object.read()\n",
    "    print(text.replace('Python','C'))"
   ]
  },
  {
   "cell_type": "markdown",
   "id": "497a7a07",
   "metadata": {},
   "source": [
    "## 10.2 写入文件"
   ]
  },
  {
   "cell_type": "markdown",
   "id": "33398aca",
   "metadata": {},
   "source": [
    "### 10.2.1 写入空文件"
   ]
  },
  {
   "cell_type": "code",
   "execution_count": 17,
   "id": "17d5b135",
   "metadata": {},
   "outputs": [],
   "source": [
    "filename ='E:\\\\data analysis\\\\python编程：从入门到实践\\\\text\\\\programming.txt'\n",
    "with open(filename,'w') as file_object:\n",
    "    file_object.write('I love programming')"
   ]
  },
  {
   "cell_type": "markdown",
   "id": "148df799",
   "metadata": {},
   "source": [
    "Python只能将字符串写入文本文件。要将数值数据存储到文本文件中，必须先使用函数str()将其转换为字符串格式。"
   ]
  },
  {
   "cell_type": "markdown",
   "id": "3162d2ff",
   "metadata": {},
   "source": [
    "### 10.2.2 写入多行"
   ]
  },
  {
   "cell_type": "code",
   "execution_count": 20,
   "id": "6fa4c709",
   "metadata": {},
   "outputs": [],
   "source": [
    "filename ='E:\\\\data analysis\\\\python编程：从入门到实践\\\\text\\\\programming.txt'\n",
    "with open(filename,'w') as file_object:\n",
    "    file_object.write(\"I love programming.\")\n",
    "    file_object.write(\"I love creating new games.\")\n"
   ]
  },
  {
   "cell_type": "code",
   "execution_count": 23,
   "id": "207116fd",
   "metadata": {},
   "outputs": [],
   "source": [
    "filename ='E:\\\\data analysis\\\\python编程：从入门到实践\\\\text\\\\programming.txt'\n",
    "with open(filename,'w') as file_object:\n",
    "    file_object.write(\"I love programming.\\n\")\n",
    "    file_object.write(\"I love creating new games.\\n\")"
   ]
  },
  {
   "cell_type": "markdown",
   "id": "e5a77c04",
   "metadata": {},
   "source": [
    "**打开文件时，可指定读取模式('r')、写入模式('w')、附加模式('a')或让你能够读取和写入文件的模式('r+')。**"
   ]
  },
  {
   "cell_type": "markdown",
   "id": "7a37e04f",
   "metadata": {},
   "source": [
    "### 10.2.3 附加到文件"
   ]
  },
  {
   "cell_type": "code",
   "execution_count": 29,
   "id": "de4c0407",
   "metadata": {},
   "outputs": [],
   "source": [
    "filename ='E:\\\\data analysis\\\\python编程：从入门到实践\\\\text\\\\programming.txt'\n",
    "with open(filename,'a') as file_object:\n",
    "    file_object.write(\"I also love finding meaning in large datasets.\\n\") \n",
    "    file_object.write(\"I love creating apps that can run in a browser.\\n\")"
   ]
  },
  {
   "cell_type": "markdown",
   "id": "7d648f98",
   "metadata": {},
   "source": [
    "### 动手试一试"
   ]
  },
  {
   "cell_type": "markdown",
   "id": "78001669",
   "metadata": {},
   "source": [
    "1.访客：编写一个程序，提示用户输入其名字；用户作出响应后，将其名字写入到文件guest.txt中。"
   ]
  },
  {
   "cell_type": "code",
   "execution_count": 6,
   "id": "9e6eebc5",
   "metadata": {},
   "outputs": [
    {
     "name": "stdout",
     "output_type": "stream",
     "text": [
      "\n",
      "Please input your namejiang\n",
      "\n",
      "Please input your namenijiaja\n",
      "\n",
      "Please input your namen\n"
     ]
    }
   ],
   "source": [
    "filename ='E:\\\\data analysis\\\\python编程：从入门到实践\\\\text\\\\guest.txt'\n",
    "active = True\n",
    "while active:\n",
    "    text = input('\\nPlease input your name')\n",
    "    if text == 'n':\n",
    "        break\n",
    "    else:\n",
    "        with open(filename,'a') as file_object:\n",
    "            file_object.write(text+'\\n')\n",
    "   \n",
    "    "
   ]
  },
  {
   "cell_type": "markdown",
   "id": "7c431680",
   "metadata": {},
   "source": [
    "2.访客名单：编写一个while循环，提示用户输入其名字。用户输入其名字后，在屏幕上打印一句问候语，并将一条访问记录添加到文件guest_book.txt中。确保这个文件中的每条记录都独占一行。"
   ]
  },
  {
   "cell_type": "code",
   "execution_count": 4,
   "id": "d7793eee",
   "metadata": {},
   "outputs": [
    {
     "name": "stdout",
     "output_type": "stream",
     "text": [
      "\n",
      " input your namesd\n",
      "\n",
      " input your namewe\n",
      "\n",
      " input your namen\n"
     ]
    }
   ],
   "source": [
    "filename ='D:\\\\data analysis\\\\python编程：从入门到实践\\\\text\\\\guest_book.txt'\n",
    "active = True\n",
    "while active:\n",
    "    test = input('\\n input your name')\n",
    "    if test == 'n':\n",
    "        break\n",
    "    else:\n",
    "        with open(filename,'a') as file_object:\n",
    "            file_object.write(test+'\\n')\n",
    "        "
   ]
  },
  {
   "cell_type": "markdown",
   "id": "9c2f32d0",
   "metadata": {},
   "source": [
    "## 10.3 异常"
   ]
  },
  {
   "cell_type": "markdown",
   "id": "54b804b6",
   "metadata": {},
   "source": [
    "Python使用被称为异常的特殊对象来管理程序执行期间发生的错误。使用了try-except代码块时，即便出现异常，程序也将继续运行：显示你编写的友好的错误消息，而不是令用户迷惑的traceback。"
   ]
  },
  {
   "cell_type": "markdown",
   "id": "0b3a3309",
   "metadata": {},
   "source": [
    "### 10.3.1 处理ZeroDivisionError异常"
   ]
  },
  {
   "cell_type": "code",
   "execution_count": 5,
   "id": "736d37fa",
   "metadata": {
    "scrolled": true
   },
   "outputs": [
    {
     "ename": "ZeroDivisionError",
     "evalue": "division by zero",
     "output_type": "error",
     "traceback": [
      "\u001b[1;31m---------------------------------------------------------------------------\u001b[0m",
      "\u001b[1;31mZeroDivisionError\u001b[0m                         Traceback (most recent call last)",
      "\u001b[1;32m~\\AppData\\Local\\Temp\\ipykernel_6796\\1152173066.py\u001b[0m in \u001b[0;36m<module>\u001b[1;34m\u001b[0m\n\u001b[1;32m----> 1\u001b[1;33m \u001b[0mprint\u001b[0m\u001b[1;33m(\u001b[0m\u001b[1;36m5\u001b[0m\u001b[1;33m/\u001b[0m\u001b[1;36m0\u001b[0m\u001b[1;33m)\u001b[0m\u001b[1;33m\u001b[0m\u001b[1;33m\u001b[0m\u001b[0m\n\u001b[0m",
      "\u001b[1;31mZeroDivisionError\u001b[0m: division by zero"
     ]
    }
   ],
   "source": [
    "print(5/0)"
   ]
  },
  {
   "cell_type": "markdown",
   "id": "5ce7bb22",
   "metadata": {},
   "source": [
    "### 10.3.2 使用try-except代码块"
   ]
  },
  {
   "cell_type": "code",
   "execution_count": 8,
   "id": "264d7acc",
   "metadata": {},
   "outputs": [
    {
     "name": "stdout",
     "output_type": "stream",
     "text": [
      "You can't divide by zero!\n"
     ]
    }
   ],
   "source": [
    "try:\n",
    "    print(5/0)\n",
    "except ZeroDivisionError:\n",
    "    print(\"You can't divide by zero!\")\n"
   ]
  },
  {
   "cell_type": "code",
   "execution_count": 9,
   "id": "46675e40",
   "metadata": {},
   "outputs": [
    {
     "name": "stdout",
     "output_type": "stream",
     "text": [
      "You can't divide by zero!\n"
     ]
    }
   ],
   "source": [
    "try:\n",
    "    print(5/0)\n",
    "except:\n",
    "    print(\"You can't divide by zero!\")\n"
   ]
  },
  {
   "cell_type": "markdown",
   "id": "5fcb4477",
   "metadata": {},
   "source": [
    "### 10.3.3 使用异常避免崩溃"
   ]
  },
  {
   "cell_type": "code",
   "execution_count": 10,
   "id": "b812e060",
   "metadata": {},
   "outputs": [
    {
     "name": "stdout",
     "output_type": "stream",
     "text": [
      "Give me two numbers,and I'll divide them.\n",
      "Enter 'q'to quit.\n",
      "\n",
      "First number:1\n",
      "Second number:2\n",
      "0.5\n",
      "\n",
      "First number:q\n"
     ]
    }
   ],
   "source": [
    "print(\"Give me two numbers,and I'll divide them.\")\n",
    "print(\"Enter 'q'to quit.\")\n",
    "while True:\n",
    "    first_number = input(\"\\nFirst number:\")\n",
    "    if first_number == 'q':\n",
    "        break\n",
    "    second_number = input(\"Second number:\")\n",
    "    if second_number == 'q':\n",
    "        break\n",
    "    answer = int(first_number) / int(second_number)\n",
    "    print(answer)"
   ]
  },
  {
   "cell_type": "markdown",
   "id": "92c37e27",
   "metadata": {},
   "source": [
    "### 10.3.4 else代码块"
   ]
  },
  {
   "cell_type": "code",
   "execution_count": null,
   "id": "ae879ffc",
   "metadata": {},
   "outputs": [],
   "source": [
    "print(\"Give me two numbers,and I'll divide them.\")\n",
    "print(\"Enter 'q'to quit.\")\n",
    "while True:\n",
    "    first_number = input(\"\\nFirst number:\")\n",
    "    if first_number == 'q':\n",
    "        break\n",
    "    second_number = input(\"Second number:\")\n",
    "    try:\n",
    "        answer = int(first_number) / int(second_number)\n",
    "    except ZeroDivisionError:\n",
    "        print(\"You can't divide by 0!\")\n",
    "    else:\n",
    "        print(answer)\n"
   ]
  },
  {
   "cell_type": "markdown",
   "id": "c0be7ddb",
   "metadata": {},
   "source": [
    "### 10.3.5 处理FileNotFoundError异常"
   ]
  },
  {
   "cell_type": "code",
   "execution_count": 13,
   "id": "7f4ca207",
   "metadata": {},
   "outputs": [
    {
     "ename": "FileNotFoundError",
     "evalue": "[Errno 2] No such file or directory: 'alice.txt'",
     "output_type": "error",
     "traceback": [
      "\u001b[1;31m---------------------------------------------------------------------------\u001b[0m",
      "\u001b[1;31mFileNotFoundError\u001b[0m                         Traceback (most recent call last)",
      "\u001b[1;32m~\\AppData\\Local\\Temp\\ipykernel_6796\\2351878046.py\u001b[0m in \u001b[0;36m<module>\u001b[1;34m\u001b[0m\n\u001b[0;32m      1\u001b[0m \u001b[0mfilename\u001b[0m \u001b[1;33m=\u001b[0m \u001b[1;34m'alice.txt'\u001b[0m\u001b[1;33m\u001b[0m\u001b[1;33m\u001b[0m\u001b[0m\n\u001b[1;32m----> 2\u001b[1;33m \u001b[1;32mwith\u001b[0m \u001b[0mopen\u001b[0m\u001b[1;33m(\u001b[0m\u001b[0mfilename\u001b[0m\u001b[1;33m)\u001b[0m \u001b[1;32mas\u001b[0m \u001b[0mf_obj\u001b[0m\u001b[1;33m:\u001b[0m\u001b[1;33m\u001b[0m\u001b[1;33m\u001b[0m\u001b[0m\n\u001b[0m\u001b[0;32m      3\u001b[0m     \u001b[0mcontents\u001b[0m \u001b[1;33m=\u001b[0m \u001b[0mf_obj\u001b[0m\u001b[1;33m.\u001b[0m\u001b[0mread\u001b[0m\u001b[1;33m(\u001b[0m\u001b[1;33m)\u001b[0m\u001b[1;33m\u001b[0m\u001b[1;33m\u001b[0m\u001b[0m\n",
      "\u001b[1;31mFileNotFoundError\u001b[0m: [Errno 2] No such file or directory: 'alice.txt'"
     ]
    }
   ],
   "source": [
    "filename = 'alice.txt'\n",
    "with open(filename) as f_obj:\n",
    "    contents = f_obj.read()\n"
   ]
  },
  {
   "cell_type": "code",
   "execution_count": 14,
   "id": "9f12554d",
   "metadata": {},
   "outputs": [
    {
     "name": "stdout",
     "output_type": "stream",
     "text": [
      "Sorry,the file alice.txt does not exist.\n"
     ]
    }
   ],
   "source": [
    "filename = 'alice.txt'\n",
    "try:\n",
    "    with open(filename) as f_obj:\n",
    "        contents = f_obj.read()\n",
    "except FileNotFoundError:\n",
    "    msg = \"Sorry,the file \"+filename+\" does not exist.\"\n",
    "    print(msg)\n"
   ]
  },
  {
   "cell_type": "markdown",
   "id": "e24797a8",
   "metadata": {},
   "source": [
    "### 10.3.6 分析文本"
   ]
  },
  {
   "cell_type": "code",
   "execution_count": 16,
   "id": "337199c0",
   "metadata": {},
   "outputs": [
    {
     "data": {
      "text/plain": [
       "['Alice', 'in', 'Wonderland']"
      ]
     },
     "execution_count": 16,
     "metadata": {},
     "output_type": "execute_result"
    }
   ],
   "source": [
    "title = \"Alice in Wonderland\"\n",
    "title.split()\n"
   ]
  },
  {
   "cell_type": "code",
   "execution_count": 27,
   "id": "d99b9e3d",
   "metadata": {},
   "outputs": [
    {
     "name": "stdout",
     "output_type": "stream",
     "text": [
      "The file D:\\data analysis\\python编程：从入门到实践\\text\\alice.txt has about 17845 words.\n"
     ]
    }
   ],
   "source": [
    "filename = 'D:\\\\data analysis\\\\python编程：从入门到实践\\\\text\\\\alice.txt'\n",
    "try:\n",
    "    with open(filename,encoding = 'utf-8') as f_obj:\n",
    "        contents = f_obj.read()\n",
    "except FileNotFoundError:\n",
    "    msg = \"Sorry,the file \"+filename+\" does not exist.\"\n",
    "    print(msg)\n",
    "else:\n",
    "    # 计算文件大致包含多少个单词\n",
    "    words = contents.split()\n",
    "    num_words = len(words)\n",
    "    print(\"The file \"+filename+\" has about \"+str(num_words)+\" words.\")\n"
   ]
  },
  {
   "cell_type": "markdown",
   "id": "38b821b6",
   "metadata": {},
   "source": [
    "### 10.3.7 使用多个文件"
   ]
  },
  {
   "cell_type": "code",
   "execution_count": 29,
   "id": "4cb5ed2c",
   "metadata": {},
   "outputs": [
    {
     "name": "stdout",
     "output_type": "stream",
     "text": [
      "The file D:\\data analysis\\python编程：从入门到实践\\text\\alice.txt has about 17845 words.\n"
     ]
    }
   ],
   "source": [
    "def count_words(filename):\n",
    "    \"\"\"计算一个文件大致包含多少个单词\"\"\" \n",
    "    try:\n",
    "        with open(filename,encoding = 'utf-8') as f_obj:\n",
    "            contents = f_obj.read()\n",
    "    except FileNotFoundError:\n",
    "        msg = \"Sorry,the file \"+filename+\" does not exist.\"\n",
    "        print(msg)\n",
    "    else:\n",
    "        # 计算文件大致包含多少个单词\n",
    "        words = contents.split()\n",
    "        num_words = len(words)\n",
    "        print(\"The file \"+filename+\" has about \"+str(num_words)+\" words.\")\n",
    "filename = 'D:\\\\data analysis\\\\python编程：从入门到实践\\\\text\\\\alice.txt'\n",
    "count_words(filename)\n"
   ]
  },
  {
   "cell_type": "markdown",
   "id": "8126fbc7",
   "metadata": {},
   "source": [
    "### 10.3.8 失败时一声不吭"
   ]
  },
  {
   "cell_type": "code",
   "execution_count": 32,
   "id": "27cdbce3",
   "metadata": {},
   "outputs": [],
   "source": [
    "def count_words(filename):\n",
    "    \"\"\"计算一个文件大致包含多少个单词\"\"\"\n",
    "    try:\n",
    "        with open(filename,encoding = 'utf-8') as f_obj:\n",
    "            contents = f_obj.read()\n",
    "    except FileNotFoundError:\n",
    "        pass\n",
    "    else:\n",
    "        # 计算文件大致包含多少个单词\n",
    "        words = contents.split()\n",
    "        num_words = len(words)\n",
    "        print(\"The file \"+filename+\" has about \"+str(num_words)+\" words.\")\n",
    "filenames = ['alice.txt','siddhartha.txt','moby_dick.txt','little_women.txt']\n",
    "for filename in filenames:\n",
    "    count_words(filename)\n"
   ]
  },
  {
   "cell_type": "markdown",
   "id": "2b273609",
   "metadata": {},
   "source": [
    "### 动手试一试"
   ]
  },
  {
   "cell_type": "markdown",
   "id": "e7238831",
   "metadata": {},
   "source": [
    "1.加法运算：提示用户提供数值输入时，常出现的一个问题是，用户提供的是文本而不是数字。在这种情况下，当你尝试将输入转换为整数时，将引发ValueError异常。编写一个程序，提示用户输入两个数字，再将它们相加并打印结果。在用户输入的任何一个值不是数字时都捕获ValueError异常，并打印一条友好的错误消息。对你编写的程序进行测试：先输入两个数字，再输入一些文本而不是数字。"
   ]
  },
  {
   "cell_type": "code",
   "execution_count": 36,
   "id": "b5be9fd2",
   "metadata": {},
   "outputs": [
    {
     "name": "stdout",
     "output_type": "stream",
     "text": [
      "Please input two numbers\n",
      "\n",
      "the first is \n",
      "1\n",
      "the seconde is \n",
      "2\n",
      "3\n",
      "the first is \n",
      "ss\n",
      "the seconde is \n",
      "1\n",
      "the number is not shuzi\n",
      "the first is \n",
      "n\n"
     ]
    }
   ],
   "source": [
    "print('Please input two numbers\\n')\n",
    "while True:\n",
    "    first_number = input('the first is \\n')\n",
    "    if first_number == 'n':\n",
    "        break\n",
    "    second_number = input('the seconde is \\n')\n",
    "    try:\n",
    "        number = int(first_number) + int(second_number)\n",
    "    except ValueError:\n",
    "        print('the number is not shuzi')\n",
    "    else:\n",
    "        print(number)\n",
    "\n",
    "       "
   ]
  },
  {
   "cell_type": "markdown",
   "id": "7ea3d411",
   "metadata": {},
   "source": [
    "2.猫和狗：创建两个文件cats.txt和dogs.txt，在第一个文件中至少存储三只猫的名字，在第二个文件中至少存储三条狗的名字。编写一个程序，尝试读取这些文件，并将其内容打印到屏幕上。将这些代码放在一个try-except代码块中，以便在文件不存在时捕获FileNotFound错误，并打印一条友好的消息。将其中一个文件移到另一个地方，并确认except代码块中的代码将正确地执行。"
   ]
  },
  {
   "cell_type": "code",
   "execution_count": 38,
   "id": "2aeae7cd",
   "metadata": {},
   "outputs": [
    {
     "name": "stdout",
     "output_type": "stream",
     "text": [
      "the file is not found\n"
     ]
    }
   ],
   "source": [
    "file_name1 = 'D:\\\\data analysis\\\\python编程：从入门到实践\\\\text\\\\cats.txt'\n",
    "file_name2 = 'D:\\\\data analysis\\\\python编程：从入门到实践\\\\text\\\\dogs.txt'\n",
    "file_name3 = 'cats.txt'\n",
    "file_name4 = 'dogs.txt'\n",
    "try:\n",
    "    with open(file_name3) as ob_ject1:\n",
    "        file1 = ob_ject1.read()\n",
    "except FileNotFoundError:\n",
    "    print('the file is not found')\n",
    "else:\n",
    "    print(file1)"
   ]
  },
  {
   "cell_type": "code",
   "execution_count": 39,
   "id": "f5cc4eba",
   "metadata": {},
   "outputs": [],
   "source": [
    "file_name1 = 'D:\\\\data analysis\\\\python编程：从入门到实践\\\\text\\\\cats.txt'\n",
    "file_name2 = 'D:\\\\data analysis\\\\python编程：从入门到实践\\\\text\\\\dogs.txt'\n",
    "file_name3 = 'cats.txt'\n",
    "file_name4 = 'dogs.txt'\n",
    "try:\n",
    "    with open(file_name3) as ob_ject1:\n",
    "        file1 = ob_ject1.read()\n",
    "except FileNotFoundError:\n",
    "    pass\n",
    "else:\n",
    "    print(file1)"
   ]
  },
  {
   "cell_type": "code",
   "execution_count": 42,
   "id": "2e610320",
   "metadata": {},
   "outputs": [
    {
     "name": "stdout",
     "output_type": "stream",
     "text": [
      "1\n"
     ]
    }
   ],
   "source": [
    "file_name1 = 'D:\\\\data analysis\\\\python编程：从入门到实践\\\\text\\\\cats.txt'\n",
    "file_name2 = 'D:\\\\data analysis\\\\python编程：从入门到实践\\\\text\\\\dogs.txt'\n",
    "file_name3 = 'cats.txt'\n",
    "file_name4 = 'dogs.txt'\n",
    "try:\n",
    "    with open(file_name1) as ob_ject1:\n",
    "        file1 = ob_ject1.read()\n",
    "except FileNotFoundError:\n",
    "    print('the file is not found')\n",
    "else:\n",
    "    print(file1.count('hanbao'))"
   ]
  },
  {
   "cell_type": "code",
   "execution_count": 46,
   "id": "ca4981ed",
   "metadata": {},
   "outputs": [
    {
     "data": {
      "text/plain": [
       "3"
      ]
     },
     "execution_count": 46,
     "metadata": {},
     "output_type": "execute_result"
    }
   ],
   "source": [
    "line = \"Row,row,row your boat\"\n",
    "line.lower().count('row')"
   ]
  },
  {
   "cell_type": "markdown",
   "id": "3333320b",
   "metadata": {},
   "source": [
    "## 10.4 存储数据"
   ]
  },
  {
   "cell_type": "markdown",
   "id": "3ea749bf",
   "metadata": {},
   "source": [
    "### 10.4.1 使用json.dump()和json.load()"
   ]
  },
  {
   "cell_type": "code",
   "execution_count": 2,
   "id": "76454ab5",
   "metadata": {},
   "outputs": [],
   "source": [
    "import json\n",
    "numbers = [2,3,5,7,11,13]\n",
    "filename = 'numbers.json'\n",
    "with open(filename,'w') as f_obj:\n",
    "    json.dump(numbers,f_obj) \n"
   ]
  },
  {
   "cell_type": "code",
   "execution_count": 3,
   "id": "be99eebf",
   "metadata": {},
   "outputs": [
    {
     "name": "stdout",
     "output_type": "stream",
     "text": [
      "[2, 3, 5, 7, 11, 13]\n"
     ]
    }
   ],
   "source": [
    "import json\n",
    "filename = 'numbers.json'\n",
    "with open(filename) as f_obj:\n",
    "    numbers = json.load(f_obj) \n",
    "print(numbers)\n"
   ]
  },
  {
   "cell_type": "markdown",
   "id": "5d38a7dd",
   "metadata": {},
   "source": [
    "### 10.4.2 保存和读取用户生成的数据"
   ]
  },
  {
   "cell_type": "code",
   "execution_count": 4,
   "id": "449a96be",
   "metadata": {},
   "outputs": [
    {
     "name": "stdout",
     "output_type": "stream",
     "text": [
      "What is your name?jiangchong\n",
      "We'll remember you when you come back,jiangchong!\n"
     ]
    }
   ],
   "source": [
    "import json\n",
    "username = input(\"What is your name?\") \n",
    "filename = 'username.json'\n",
    "with open(filename,'w') as f_obj:\n",
    "    json.dump(username,f_obj) \n",
    "    print(\"We'll remember you when you come back,\"+username+\"!\") \n"
   ]
  },
  {
   "cell_type": "code",
   "execution_count": 5,
   "id": "af0900c8",
   "metadata": {},
   "outputs": [
    {
     "name": "stdout",
     "output_type": "stream",
     "text": [
      "Welcome back,jiangchong!\n"
     ]
    }
   ],
   "source": [
    "import json\n",
    "filename = 'username.json'\n",
    "with open(filename) as f_obj:\n",
    "    username = json.load(f_obj) \n",
    "    print(\"Welcome back,\"+username+\"!\") \n"
   ]
  },
  {
   "cell_type": "code",
   "execution_count": 6,
   "id": "a2ca3a2e",
   "metadata": {},
   "outputs": [
    {
     "name": "stdout",
     "output_type": "stream",
     "text": [
      "Welcome back,jiangchong!\n"
     ]
    }
   ],
   "source": [
    "import json\n",
    "# 如果以前存储了用户名，就加载它\n",
    "#  否则，就提示用户输入用户名并存储它\n",
    "filename = 'username.json'\n",
    "try:\n",
    "    with open(filename) as f_obj:\n",
    "        username = json.load(f_obj) \n",
    "except FileNotFoundError:\n",
    "    username = input(\"What is your name?\") \n",
    "    with open(filename,'w') as f_obj:\n",
    "        json.dump(username,f_obj)\n",
    "        print(\"We'll remember you when you come back,\"+username+\"!\")\n",
    "else:\n",
    "    print(\"Welcome back,\"+username+\"!\")\n"
   ]
  },
  {
   "cell_type": "markdown",
   "id": "b995a3ad",
   "metadata": {},
   "source": [
    "### 10.4.3 重构"
   ]
  },
  {
   "cell_type": "markdown",
   "id": "ec4ed8d9",
   "metadata": {},
   "source": [
    "你经常会遇到这样的情况：代码能够正确地运行，但可做进一步的改进——将代码划分为一系列完成具体工作的函数。这样的过程被称为重构。"
   ]
  },
  {
   "cell_type": "code",
   "execution_count": 7,
   "id": "747d7a5d",
   "metadata": {},
   "outputs": [
    {
     "name": "stdout",
     "output_type": "stream",
     "text": [
      "Welcome back,jiangchong!\n"
     ]
    }
   ],
   "source": [
    "import json\n",
    "def greet_user():\n",
    "    \"\"\"问候用户，并指出其名字\"\"\" \n",
    "    filename = 'username.json'\n",
    "    try:\n",
    "        with open(filename) as f_obj:\n",
    "            username = json.load(f_obj)\n",
    "    except FileNotFoundError:\n",
    "        username = input(\"What is your name?\")\n",
    "        with open(filename,'w') as f_obj:\n",
    "            json.dump(username,f_obj)\n",
    "            print(\"We'll remember you when you come back,\"+username+\"!\")\n",
    "    else:\n",
    "        print(\"Welcome back,\"+username+\"!\")\n",
    "greet_user()\n"
   ]
  },
  {
   "cell_type": "code",
   "execution_count": 8,
   "id": "2af96eca",
   "metadata": {},
   "outputs": [
    {
     "name": "stdout",
     "output_type": "stream",
     "text": [
      "Welcome back,jiangchong!\n"
     ]
    }
   ],
   "source": [
    "import json\n",
    "def get_stored_username():\n",
    "    \"\"\"如果存储了用户名，就获取它\"\"\" \n",
    "    filename = 'username.json'\n",
    "    try:\n",
    "        with open(filename) as f_obj:\n",
    "            username = json.load(f_obj)\n",
    "    except FileNotFoundError:\n",
    "        return None \n",
    "    else:\n",
    "        return username\n",
    "def greet_user():\n",
    "    \"\"\"问候用户，并指出其名字\"\"\"\n",
    "    username = get_stored_username()\n",
    "    if username:\n",
    "        print(\"Welcome back,\"+username+\"!\")\n",
    "    else:\n",
    "        username = input(\"What is your name?\")\n",
    "        filename = 'username.json'\n",
    "        with open(filename,'w') as f_obj:\n",
    "            json.dump(username,f_obj)\n",
    "            print(\"We'll remember you when you come back,\"+username+\"!\")\n",
    "greet_user()\n"
   ]
  },
  {
   "cell_type": "markdown",
   "id": "b9dc4317",
   "metadata": {},
   "source": [
    "### 动手试一试"
   ]
  },
  {
   "cell_type": "markdown",
   "id": "f0eb9806",
   "metadata": {},
   "source": [
    "1.喜欢的数字：编写一个程序，提示用户输入他喜欢的数字，并使用json.dump()将这个数字存储到文件中。再编写一个程序，从文件中读取这个值，并打印消息“I know your favorite number!It's _____.”。"
   ]
  },
  {
   "cell_type": "code",
   "execution_count": 10,
   "id": "bd3039ee",
   "metadata": {},
   "outputs": [
    {
     "name": "stdout",
     "output_type": "stream",
     "text": [
      "Please input numbers you like\n",
      "23333\n",
      "23333\n"
     ]
    }
   ],
   "source": [
    "import json\n",
    "number = input('Please input numbers you like\\n')\n",
    "filename = 'number.json'\n",
    "with open(filename,'w') as ob_ject:\n",
    "    json.dump(number,ob_ject)\n",
    "with open(filename) as ob_ject:\n",
    "    number2 = json.load(ob_ject)\n",
    "print(number2)"
   ]
  },
  {
   "cell_type": "markdown",
   "id": "2fe986ee",
   "metadata": {},
   "source": [
    "2.验证用户：最后一个remember_me.py版本假设用户要么已输入其用户名，要么是首次运行该程序。我们应修改这个程序，以应对这样的情形：当前和最后一次运行该程序的用户并非同一个人。为此，在greet_user()中打印欢迎用户回来的消息前，先询问他用户名是否是对的。如果不对，就调用get_new_username()让用户输入正确的用户名。"
   ]
  },
  {
   "cell_type": "code",
   "execution_count": 16,
   "id": "17a4e1e8",
   "metadata": {},
   "outputs": [],
   "source": [
    "import json\n",
    "def get_stored_username():\n",
    "    \"\"\"如果存储了用户名，就获取它\"\"\" \n",
    "    filename = 'username.json'\n",
    "    try:\n",
    "        with open(filename) as f_obj:\n",
    "            username = json.load(f_obj)\n",
    "    except FileNotFoundError:\n",
    "        return None \n",
    "    else:\n",
    "        return username\n",
    "    \n",
    "def greet_user():\n",
    "    \"\"\"问候用户，并指出其名字\"\"\"\n",
    "    username = get_stored_username()\n",
    "    print('Your name is '+username+' ?')\n",
    "    is_right = input('is your name?')\n",
    "    '''请输入Y/N'''\n",
    "    if is_right == 'Y':\n",
    "        print(\"Welcome back,\"+username+\"!\")\n",
    "    elif is_right == 'N':\n",
    "        username = input(\"What is your name?\")\n",
    "        filename = 'username.json'\n",
    "        with open(filename,'w') as f_obj:\n",
    "            json.dump(username,f_obj)\n",
    "            print(\"We'll remember you when you come back,\"+username+\"!\")\n",
    "    else:\n",
    "        print('You input wrong number.')\n"
   ]
  },
  {
   "cell_type": "code",
   "execution_count": 18,
   "id": "420f8377",
   "metadata": {},
   "outputs": [
    {
     "name": "stdout",
     "output_type": "stream",
     "text": [
      "Your name is nijiajia ?\n",
      "is your name?N\n",
      "What is your name?jiang\n",
      "We'll remember you when you come back,jiang!\n"
     ]
    }
   ],
   "source": [
    "greet_user()"
   ]
  },
  {
   "cell_type": "code",
   "execution_count": null,
   "id": "442b109a",
   "metadata": {},
   "outputs": [],
   "source": []
  }
 ],
 "metadata": {
  "kernelspec": {
   "display_name": "Python 3",
   "language": "python",
   "name": "python3"
  },
  "language_info": {
   "codemirror_mode": {
    "name": "ipython",
    "version": 3
   },
   "file_extension": ".py",
   "mimetype": "text/x-python",
   "name": "python",
   "nbconvert_exporter": "python",
   "pygments_lexer": "ipython3",
   "version": "3.8.8"
  }
 },
 "nbformat": 4,
 "nbformat_minor": 5
}
