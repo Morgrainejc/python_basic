{
 "cells": [
  {
   "cell_type": "code",
   "execution_count": 2,
   "metadata": {},
   "outputs": [
    {
     "name": "stdout",
     "output_type": "stream",
     "text": [
      "False\n"
     ]
    }
   ],
   "source": [
    "x = [2,1]\n",
    "y = [2,1]\n",
    "z = False\n",
    "if x == y:\n",
    "    if sorted(x) == sorted(y):\n",
    "         if x.sort() == y.sort():\n",
    "               z =  x.sort() == sorted(y)\n",
    "print(z)"
   ]
  },
  {
   "cell_type": "code",
   "execution_count": 3,
   "metadata": {},
   "outputs": [],
   "source": [
    "def sort1(lst):\n",
    "    swapFlag = True\n",
    "    iteration = 0\n",
    "    while swapFlag:\n",
    "        swapFlag = False\n",
    "        for i in range(len(lst)-1):\n",
    "            if lst[i] > lst[i+1]:\n",
    "                temp = lst[i+1]\n",
    "                lst[i+1] = lst[i]\n",
    "                lst[i] = temp\n",
    "                swapFlag = True\n",
    "\n",
    "        L = lst[:]  # the next 3 questions assume this line just executed\n",
    "        iteration += 1\n",
    "    return lst"
   ]
  },
  {
   "cell_type": "code",
   "execution_count": 4,
   "metadata": {},
   "outputs": [],
   "source": [
    "def jumpAndBackpedal(isMyNumber):\n",
    "    '''\n",
    "    isMyNumber: Procedure that hides a secret number. \n",
    "     It takes as a parameter one number and returns:\n",
    "     *  -1 if the number is less than the secret number\n",
    "     *  0 if the number is equal to the secret number\n",
    "     *  1 if the number is greater than the secret number\n",
    " \n",
    "    returns: integer, the secret number\n",
    "    ''' \n",
    "    guess = 1\n",
    "    if isMyNumber(guess) == 1:\n",
    "        return guess\n",
    "    foundNumber = False\n",
    "    while not foundNumber:\n",
    "        sign = isMyNumber(guess)\n",
    "        if sign == -1:\n",
    "            guess *= 2\n",
    "        else:\n",
    "            guess -= 1\n",
    "    return guess"
   ]
  },
  {
   "cell_type": "code",
   "execution_count": null,
   "metadata": {},
   "outputs": [],
   "source": [
    "class Frob(object):\n",
    "    def __init__(self, name):\n",
    "        self.name = name\n",
    "        self.before = None\n",
    "        self.after = None\n",
    "    def setBefore(self, before):\n",
    "        # example: a.setBefore(b) sets b before a\n",
    "        self.before = before\n",
    "    def setAfter(self, after):\n",
    "        # example: a.setAfter(b) sets b after a\n",
    "        self.after = after\n",
    "    def getBefore(self):\n",
    "        return self.before\n",
    "    def getAfter(self):\n",
    "        return self.after\n",
    "    def myName(self):\n",
    "        return self.name"
   ]
  },
  {
   "cell_type": "code",
   "execution_count": null,
   "metadata": {},
   "outputs": [],
   "source": []
  }
 ],
 "metadata": {
  "kernelspec": {
   "display_name": "Python 3",
   "language": "python",
   "name": "python3"
  },
  "language_info": {
   "codemirror_mode": {
    "name": "ipython",
    "version": 3
   },
   "file_extension": ".py",
   "mimetype": "text/x-python",
   "name": "python",
   "nbconvert_exporter": "python",
   "pygments_lexer": "ipython3",
   "version": "3.6.5"
  }
 },
 "nbformat": 4,
 "nbformat_minor": 2
}
