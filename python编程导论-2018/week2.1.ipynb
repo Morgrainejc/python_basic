{
 "cells": [
  {
   "cell_type": "code",
   "execution_count": 1,
   "metadata": {},
   "outputs": [
    {
     "name": "stdout",
     "output_type": "stream",
     "text": [
      "10\n",
      "9\n",
      "8\n",
      "7\n",
      "Breaking out of loop\n",
      "Outside of loop\n"
     ]
    }
   ],
   "source": [
    "#迭代\n",
    "#while循环\n",
    "num = 10\n",
    "while True:\n",
    "    if num < 7:\n",
    "        print ('Breaking out of loop')\n",
    "        break\n",
    "    print(num)\n",
    "    num -= 1\n",
    "print ('Outside of loop' )\n",
    "#break结束最近的一次循环"
   ]
  },
  {
   "cell_type": "code",
   "execution_count": null,
   "metadata": {},
   "outputs": [],
   "source": [
    "a=2\n",
    "while a<=10:\n",
    "    print(a)\n",
    "    a=a+2\n",
    "print ('Goodebye!')"
   ]
  },
  {
   "cell_type": "code",
   "execution_count": null,
   "metadata": {},
   "outputs": [],
   "source": [
    "#for循环\n",
    "list(range(8,10))"
   ]
  },
  {
   "cell_type": "code",
   "execution_count": null,
   "metadata": {},
   "outputs": [],
   "source": [
    "num = 10\n",
    "for num in range(5):\n",
    "    print (num)\n",
    "print (num) #num已被赋值为4"
   ]
  },
  {
   "cell_type": "code",
   "execution_count": null,
   "metadata": {},
   "outputs": [],
   "source": [
    "divisor = 2\n",
    "for num in range(0, 10, 2):#分别表示首尾和间隔\n",
    "    print (num/divisor)"
   ]
  },
  {
   "cell_type": "code",
   "execution_count": null,
   "metadata": {},
   "outputs": [],
   "source": [
    "for variable in range(20):\n",
    "    if variable % 4 == 0:\n",
    "        print (variable)\n",
    "    if variable % 16 == 0:\n",
    "        print ('Foo!')"
   ]
  },
  {
   "cell_type": "code",
   "execution_count": null,
   "metadata": {},
   "outputs": [],
   "source": [
    "for letter in 'hola':\n",
    "    print (letter)  "
   ]
  },
  {
   "cell_type": "code",
   "execution_count": null,
   "metadata": {},
   "outputs": [],
   "source": [
    "count = 0\n",
    "for letter in 'Snow!':\n",
    "    print ('Letter # ' + str(count) + ' is ' + str(letter))\n",
    "    count += 1\n",
    "    break\n",
    "print (count) "
   ]
  },
  {
   "cell_type": "code",
   "execution_count": null,
   "metadata": {},
   "outputs": [],
   "source": [
    "for a in range(2,12,2):#注意冒号\n",
    "    print(a)\n",
    "print(\"Goodbye!\")"
   ]
  },
  {
   "cell_type": "code",
   "execution_count": null,
   "metadata": {},
   "outputs": [],
   "source": [
    "#浮点数，abs（x-y）<0.0001 not x==y\n",
    "x=[1,2,3,4,5]\n",
    "x[0:-5]"
   ]
  },
  {
   "cell_type": "code",
   "execution_count": null,
   "metadata": {},
   "outputs": [],
   "source": [
    "#简单算法\n",
    "#穷举法，确定步长，不断逼近的一种算法\n",
    "x = 25\n",
    "epsilon = 0.01\n",
    "step = 0.1\n",
    "guess = 0.0\n",
    "\n",
    "while guess <= x:\n",
    "    if abs(guess**2 -x) < epsilon:\n",
    "        break\n",
    "    else:\n",
    "        guess += step\n",
    "\n",
    "if abs(guess**2 - x) >= epsilon:\n",
    "    print ('failed')\n",
    "else:\n",
    "    print ('succeeded: ' + str(guess))"
   ]
  },
  {
   "cell_type": "code",
   "execution_count": 1,
   "metadata": {},
   "outputs": [
    {
     "name": "stdout",
     "output_type": "stream",
     "text": [
      "Please think of a number between 0 and 100!\n",
      "Is your secret number 49\n",
      "Enter 'h' to indicate the guess is too high. Enter 'l' to indicate the guess is too low. Enter 'c' to indicate I guessed correctly.l\n",
      "Is your secret number74\n",
      "Enter 'h' to indicate the guess is too high. Enter 'l' to indicate the guess is too low. Enter 'c' to indicate I guessed correctly.h\n",
      "Is your secret number61\n",
      "Enter 'h' to indicate the guess is too high. Enter 'l' to indicate the guess is too low. Enter 'c' to indicate I guessed correctly.h\n",
      "Is your secret number55\n",
      "Enter 'h' to indicate the guess is too high. Enter 'l' to indicate the guess is too low. Enter 'c' to indicate I guessed correctly.l\n",
      "Is your secret number58\n",
      "Enter 'h' to indicate the guess is too high. Enter 'l' to indicate the guess is too low. Enter 'c' to indicate I guessed correctly.h\n",
      "Is your secret number56\n",
      "Enter 'h' to indicate the guess is too high. Enter 'l' to indicate the guess is too low. Enter 'c' to indicate I guessed correctly.c\n"
     ]
    }
   ],
   "source": [
    "#二分法，比穷举法更快，适用于拥有排序属性的问题\n",
    "print('Please think of a number between 0 and 100!')\n",
    "high=99\n",
    "low=0\n",
    "guess=(high+low)//2\n",
    "print('Is your secret number '+str(guess))\n",
    "ans=input(\"Enter 'h' to indicate the guess is too high. Enter 'l' to indicate the guess is too low. Enter 'c' to indicate I guessed correctly.\")\n",
    "while high<100 and low >=0:\n",
    "    if ans=='h':\n",
    "        high=guess\n",
    "        guess=(high+low)//2\n",
    "        print('Is your secret number'+str(guess))\n",
    "        ans=input(\"Enter 'h' to indicate the guess is too high. Enter 'l' to indicate the guess is too low. Enter 'c' to indicate I guessed correctly.\")\n",
    "    elif ans=='l':\n",
    "        low=guess\n",
    "        guess=(high+low)//2\n",
    "        print('Is your secret number'+str(guess))\n",
    "        ans=input(\"Enter 'h' to indicate the guess is too high. Enter 'l' to indicate the guess is too low. Enter 'c' to indicate I guessed correctly.\")\n",
    "    elif ans=='c':\n",
    "        break\n",
    "    else:\n",
    "        input(\"Enter 'h' to indicate the guess is too high. Enter 'l' to indicate the guess is too low. Enter 'c' to indicate I guessed correctly.\")  \n"
   ]
  },
  {
   "cell_type": "code",
   "execution_count": 4,
   "metadata": {},
   "outputs": [
    {
     "name": "stdout",
     "output_type": "stream",
     "text": [
      "31.008333333333333\n",
      "17.455255083758846\n",
      "12.193632461870076\n",
      "11.058422232197227\n",
      "11.000154323878364\n",
      "11.000154323878364\n"
     ]
    }
   ],
   "source": [
    "#牛顿-拉尔菲\n",
    "epsilon=0.01\n",
    "y=121\n",
    "guess=y//2\n",
    "while abs(guess*guess-y)>=epsilon:\n",
    "    guess=guess-((guess**2)-y)/(2*guess)\n",
    "    print(guess)\n",
    "print(guess)"
   ]
  }
 ],
 "metadata": {
  "kernelspec": {
   "display_name": "Python 3 (ipykernel)",
   "language": "python",
   "name": "python3"
  },
  "language_info": {
   "codemirror_mode": {
    "name": "ipython",
    "version": 3
   },
   "file_extension": ".py",
   "mimetype": "text/x-python",
   "name": "python",
   "nbconvert_exporter": "python",
   "pygments_lexer": "ipython3",
   "version": "3.11.5"
  }
 },
 "nbformat": 4,
 "nbformat_minor": 2
}
