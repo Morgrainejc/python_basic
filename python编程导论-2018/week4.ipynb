{
 "cells": [
  {
   "cell_type": "code",
   "execution_count": null,
   "metadata": {},
   "outputs": [],
   "source": [
    "#bug，\n",
    "#black box，一般规则0、1、>1\n",
    "def size(aSet):\n",
    "   \"\"\"\n",
    "   aSet is a collection of objects, which might be empty.\n",
    "   Objects are assumed to be of the same type.\n",
    "   \"\"\"\n"
   ]
  },
  {
   "cell_type": "code",
   "execution_count": 6,
   "metadata": {},
   "outputs": [],
   "source": [
    "#exception\n",
    "def FancyDivide(numbers,index):\n",
    "    try:\n",
    "        denom = numbers[index]\n",
    "        for i in range(len(numbers)):\n",
    "            numbers[i] /= denom\n",
    "    except IndexError as e:\n",
    "        print (\"-1\")\n",
    "    else:\n",
    "        print (\"1\")\n",
    "    finally:\n",
    "        print (\"0\") "
   ]
  },
  {
   "cell_type": "code",
   "execution_count": 8,
   "metadata": {},
   "outputs": [],
   "source": [
    "def FancyDivide(numbers, index):\n",
    "    try:\n",
    "        denom = numbers[index]\n",
    "        for i in range(len(numbers)):\n",
    "            numbers[i] /= denom\n",
    "    except IndexError as e:\n",
    "        FancyDivide(numbers, len(numbers) - 1)\n",
    "    except ZeroDivisionError as e:\n",
    "        print (\"-2\")\n",
    "    else:\n",
    "        print (\"1\")\n",
    "    finally:\n",
    "        print (\"0\")"
   ]
  },
  {
   "cell_type": "code",
   "execution_count": 18,
   "metadata": {},
   "outputs": [],
   "source": [
    "#assert\n",
    "def Normalize(numbers):\n",
    "    max_number = max(numbers)\n",
    "    assert(max_number != 0), \"Cannot divide by 0\"\n",
    "    for i in range(len(numbers)):\n",
    "        numbers[i]  /= float(max_number)\n",
    "        assert(0.0 <= numbers[i] <= 1.0), \"output not between 0 and 1\"\n",
    "    return numbers        \n",
    "        "
   ]
  }
 ],
 "metadata": {
  "kernelspec": {
   "display_name": "Python 3",
   "language": "python",
   "name": "python3"
  },
  "language_info": {
   "codemirror_mode": {
    "name": "ipython",
    "version": 3
   },
   "file_extension": ".py",
   "mimetype": "text/x-python",
   "name": "python",
   "nbconvert_exporter": "python",
   "pygments_lexer": "ipython3",
   "version": "3.6.5"
  }
 },
 "nbformat": 4,
 "nbformat_minor": 2
}
