{
 "cells": [
  {
   "cell_type": "code",
   "execution_count": 1,
   "metadata": {},
   "outputs": [],
   "source": [
    "def isAlphabeticalWord(word, wordList):\n",
    "    if (len(word) > 0):\n",
    "        curr = word[0]\n",
    "    for letter in word:\n",
    "        if (curr > letter):\n",
    "            return False\n",
    "        else:\n",
    "            curr = letter\n",
    "    if wordList is None:\n",
    "        return True\n",
    "        return word in wordList"
   ]
  },
  {
   "cell_type": "code",
   "execution_count": 2,
   "metadata": {},
   "outputs": [
    {
     "data": {
      "text/plain": [
       "False"
      ]
     },
     "execution_count": 2,
     "metadata": {},
     "output_type": "execute_result"
    }
   ],
   "source": [
    "isAlphabeticalWord('sdf','sdffd')"
   ]
  },
  {
   "cell_type": "code",
   "execution_count": 4,
   "metadata": {},
   "outputs": [],
   "source": [
    "def lotsOfParameters1(a,b,c,d,e):\n",
    "    print (a)\n",
    "    print (b)\n",
    "    print (c)\n",
    "    print (d)\n",
    "    print (e)"
   ]
  },
  {
   "cell_type": "code",
   "execution_count": 11,
   "metadata": {},
   "outputs": [
    {
     "ename": "SyntaxError",
     "evalue": "invalid syntax (<ipython-input-11-cc656be084da>, line 5)",
     "output_type": "error",
     "traceback": [
      "\u001b[1;36m  File \u001b[1;32m\"<ipython-input-11-cc656be084da>\"\u001b[1;36m, line \u001b[1;32m5\u001b[0m\n\u001b[1;33m    line = inFile.readline()\u001b[0m\n\u001b[1;37m       ^\u001b[0m\n\u001b[1;31mSyntaxError\u001b[0m\u001b[1;31m:\u001b[0m invalid syntax\n"
     ]
    }
   ],
   "source": [
    "def loadWords2():\n",
    "    try:\n",
    "        inFile = open(PATH_TO_FILE, 'r', 0)\n",
    "        return ['apple', 'orange', 'pear', 'lime', 'lemon', 'grape', 'pineapple']\n",
    "    line = inFile.readline()\n",
    "    wordlist = string.split(line)\n",
    "    return wordlist"
   ]
  }
 ],
 "metadata": {
  "kernelspec": {
   "display_name": "Python 3",
   "language": "python",
   "name": "python3"
  },
  "language_info": {
   "codemirror_mode": {
    "name": "ipython",
    "version": 3
   },
   "file_extension": ".py",
   "mimetype": "text/x-python",
   "name": "python",
   "nbconvert_exporter": "python",
   "pygments_lexer": "ipython3",
   "version": "3.6.5"
  }
 },
 "nbformat": 4,
 "nbformat_minor": 2
}
