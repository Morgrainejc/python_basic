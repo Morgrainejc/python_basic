{
 "cells": [
  {
   "cell_type": "code",
   "execution_count": 1,
   "metadata": {},
   "outputs": [
    {
     "data": {
      "text/plain": [
       "'cat'"
      ]
     },
     "execution_count": 1,
     "metadata": {},
     "output_type": "execute_result"
    }
   ],
   "source": [
    ">>> import random\n",
    ">>> random.randint(1, 5)\n",
    "4\n",
    ">>> random.choice(['apple', 'banana', 'cat'])\n",
    "'cat'"
   ]
  },
  {
   "cell_type": "code",
   "execution_count": null,
   "metadata": {},
   "outputs": [],
   "source": [
    "import random\n",
    "def dist1():\n",
    "    return random.random() * 2 - 1\n",
    "\n",
    "def dist2():\n",
    "    if random.random() > 0.5:\n",
    "        return random.random()\n",
    "    else:\n",
    "        return random.random() - 1 "
   ]
  },
  {
   "cell_type": "code",
   "execution_count": null,
   "metadata": {},
   "outputs": [],
   "source": [
    "1. def simWalks(numSteps, numTrials):\n",
    "2.     homer = Drunk('Homer')\n",
    "3.     notOrigin = Location(1, 0)\n",
    "4.     distances = []\n",
    "5.     for t in range(numTrials):\n",
    "6.         f = Field()\n",
    "7.         f.addDrunk(homer, notOrigin)\n",
    "8.         distances.append(walk(f, homer, numTrials))\n",
    "9.     return distances"
   ]
  }
 ],
 "metadata": {
  "kernelspec": {
   "display_name": "Python 3",
   "language": "python",
   "name": "python3"
  },
  "language_info": {
   "codemirror_mode": {
    "name": "ipython",
    "version": 3
   },
   "file_extension": ".py",
   "mimetype": "text/x-python",
   "name": "python",
   "nbconvert_exporter": "python",
   "pygments_lexer": "ipython3",
   "version": "3.6.5"
  }
 },
 "nbformat": 4,
 "nbformat_minor": 2
}
