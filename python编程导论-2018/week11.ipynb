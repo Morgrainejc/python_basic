{
 "cells": [
  {
   "cell_type": "code",
   "execution_count": null,
   "metadata": {},
   "outputs": [],
   "source": [
    "# 倒入用到的库\n",
    "from math import log, sqrt, exp\n",
    "from scipy import stats"
   ]
  },
  {
   "cell_type": "code",
   "execution_count": null,
   "metadata": {},
   "outputs": [],
   "source": [
    "# 期权的定价计算,根据公式１．\n",
    "def bsm_call_value(S_0, K, T, r, sigma):\n",
    "    S_0 = float(S_0)\n",
    "    d_1 = (log(S_0 / K) + (r + 0.5 *sigma **2) *T)/(sigma * sqrt(T))\n",
    "    d_2 = (log(S_0 / K) + (r - 0.5 *sigma **2) *T)/(sigma * sqrt(T))\n",
    "    C_0 = (S_0 * stats.norm.cdf(d_1, 0.0, 1.0) - K * exp(-r * T) * stats.norm.cdf(d_2, 0.0, 1.0))\n",
    "    return C_0"
   ]
  },
  {
   "cell_type": "code",
   "execution_count": null,
   "metadata": {},
   "outputs": [],
   "source": [
    "# 计算的一些初始值\n",
    "S_0 = 100.0    # 股票或指数初始的价格;\n",
    "K = 105        #  行权价格\n",
    "T = 1.0        #  期权的到期年限(距离到期日时间间隔)\n",
    "r = 0.05       #   无风险利率\n",
    "sigma = 0.2    # 波动率(收益标准差)"
   ]
  },
  {
   "cell_type": "code",
   "execution_count": null,
   "metadata": {},
   "outputs": [],
   "source": [
    "# 到期期权价值\n",
    "%time print bsm_call_value(S_0, K, T, r, sigma)"
   ]
  }
 ],
 "metadata": {
  "kernelspec": {
   "display_name": "Python 3",
   "language": "python",
   "name": "python3"
  },
  "language_info": {
   "codemirror_mode": {
    "name": "ipython",
    "version": 3
   },
   "file_extension": ".py",
   "mimetype": "text/x-python",
   "name": "python",
   "nbconvert_exporter": "python",
   "pygments_lexer": "ipython3",
   "version": "3.6.5"
  }
 },
 "nbformat": 4,
 "nbformat_minor": 2
}
