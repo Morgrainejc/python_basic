{
 "cells": [
  {
   "cell_type": "markdown",
   "id": "feb4b4e3",
   "metadata": {},
   "source": [
    "import numpy as np"
   ]
  },
  {
   "cell_type": "code",
   "execution_count": 3,
   "id": "2a51c502",
   "metadata": {},
   "outputs": [
    {
     "data": {
      "text/plain": [
       "[1, 2, 3, '5']"
      ]
     },
     "execution_count": 3,
     "metadata": {},
     "output_type": "execute_result"
    }
   ],
   "source": [
    "a = [1,2,3,'5']\n",
    "a"
   ]
  },
  {
   "cell_type": "code",
   "execution_count": 5,
   "id": "0f66c5f9",
   "metadata": {},
   "outputs": [
    {
     "data": {
      "text/plain": [
       "array(['4', '5', '6'], dtype='<U11')"
      ]
     },
     "execution_count": 5,
     "metadata": {},
     "output_type": "execute_result"
    }
   ],
   "source": [
    "#numpy中的数组的数据类型一定要完全一致\n",
    "b = np.array([4,5,'6'])\n",
    "b"
   ]
  },
  {
   "cell_type": "code",
   "execution_count": 6,
   "id": "68aa5aeb",
   "metadata": {},
   "outputs": [
    {
     "data": {
      "text/plain": [
       "array([4., 5., 6.])"
      ]
     },
     "execution_count": 6,
     "metadata": {},
     "output_type": "execute_result"
    }
   ],
   "source": [
    "c = np.array([4,5,6.0])\n",
    "c"
   ]
  },
  {
   "cell_type": "markdown",
   "id": "474a8d3a",
   "metadata": {},
   "source": [
    "## 1）创建数组"
   ]
  },
  {
   "cell_type": "code",
   "execution_count": 7,
   "id": "94fdf4a8",
   "metadata": {},
   "outputs": [
    {
     "name": "stdout",
     "output_type": "stream",
     "text": [
      "[1 2 3 4]\n",
      "<class 'numpy.ndarray'>\n"
     ]
    }
   ],
   "source": [
    "#1.使用np.array\n",
    "a = np.array([1,2,3,4])\n",
    "print(a)\n",
    "print(type(a))"
   ]
  },
  {
   "cell_type": "code",
   "execution_count": 8,
   "id": "b6ef3d5c",
   "metadata": {},
   "outputs": [
    {
     "name": "stdout",
     "output_type": "stream",
     "text": [
      "Help on built-in function array in module numpy:\n",
      "\n",
      "array(...)\n",
      "    array(object, dtype=None, *, copy=True, order='K', subok=False, ndmin=0,\n",
      "          like=None)\n",
      "    \n",
      "    Create an array.\n",
      "    \n",
      "    Parameters\n",
      "    ----------\n",
      "    object : array_like\n",
      "        An array, any object exposing the array interface, an object whose\n",
      "        __array__ method returns an array, or any (nested) sequence.\n",
      "        If object is a scalar, a 0-dimensional array containing object is\n",
      "        returned.\n",
      "    dtype : data-type, optional\n",
      "        The desired data-type for the array.  If not given, then the type will\n",
      "        be determined as the minimum type required to hold the objects in the\n",
      "        sequence.\n",
      "    copy : bool, optional\n",
      "        If true (default), then the object is copied.  Otherwise, a copy will\n",
      "        only be made if __array__ returns a copy, if obj is a nested sequence,\n",
      "        or if a copy is needed to satisfy any of the other requirements\n",
      "        (`dtype`, `order`, etc.).\n",
      "    order : {'K', 'A', 'C', 'F'}, optional\n",
      "        Specify the memory layout of the array. If object is not an array, the\n",
      "        newly created array will be in C order (row major) unless 'F' is\n",
      "        specified, in which case it will be in Fortran order (column major).\n",
      "        If object is an array the following holds.\n",
      "    \n",
      "        ===== ========= ===================================================\n",
      "        order  no copy                     copy=True\n",
      "        ===== ========= ===================================================\n",
      "        'K'   unchanged F & C order preserved, otherwise most similar order\n",
      "        'A'   unchanged F order if input is F and not C, otherwise C order\n",
      "        'C'   C order   C order\n",
      "        'F'   F order   F order\n",
      "        ===== ========= ===================================================\n",
      "    \n",
      "        When ``copy=False`` and a copy is made for other reasons, the result is\n",
      "        the same as if ``copy=True``, with some exceptions for 'A', see the\n",
      "        Notes section. The default order is 'K'.\n",
      "    subok : bool, optional\n",
      "        If True, then sub-classes will be passed-through, otherwise\n",
      "        the returned array will be forced to be a base-class array (default).\n",
      "    ndmin : int, optional\n",
      "        Specifies the minimum number of dimensions that the resulting\n",
      "        array should have.  Ones will be prepended to the shape as\n",
      "        needed to meet this requirement.\n",
      "    like : array_like, optional\n",
      "        Reference object to allow the creation of arrays which are not\n",
      "        NumPy arrays. If an array-like passed in as ``like`` supports\n",
      "        the ``__array_function__`` protocol, the result will be defined\n",
      "        by it. In this case, it ensures the creation of an array object\n",
      "        compatible with that passed in via this argument.\n",
      "    \n",
      "        .. versionadded:: 1.20.0\n",
      "    \n",
      "    Returns\n",
      "    -------\n",
      "    out : ndarray\n",
      "        An array object satisfying the specified requirements.\n",
      "    \n",
      "    See Also\n",
      "    --------\n",
      "    empty_like : Return an empty array with shape and type of input.\n",
      "    ones_like : Return an array of ones with shape and type of input.\n",
      "    zeros_like : Return an array of zeros with shape and type of input.\n",
      "    full_like : Return a new array with shape of input filled with value.\n",
      "    empty : Return a new uninitialized array.\n",
      "    ones : Return a new array setting values to one.\n",
      "    zeros : Return a new array setting values to zero.\n",
      "    full : Return a new array of given shape filled with value.\n",
      "    \n",
      "    \n",
      "    Notes\n",
      "    -----\n",
      "    When order is 'A' and `object` is an array in neither 'C' nor 'F' order,\n",
      "    and a copy is forced by a change in dtype, then the order of the result is\n",
      "    not necessarily 'C' as expected. This is likely a bug.\n",
      "    \n",
      "    Examples\n",
      "    --------\n",
      "    >>> np.array([1, 2, 3])\n",
      "    array([1, 2, 3])\n",
      "    \n",
      "    Upcasting:\n",
      "    \n",
      "    >>> np.array([1, 2, 3.0])\n",
      "    array([ 1.,  2.,  3.])\n",
      "    \n",
      "    More than one dimension:\n",
      "    \n",
      "    >>> np.array([[1, 2], [3, 4]])\n",
      "    array([[1, 2],\n",
      "           [3, 4]])\n",
      "    \n",
      "    Minimum dimensions 2:\n",
      "    \n",
      "    >>> np.array([1, 2, 3], ndmin=2)\n",
      "    array([[1, 2, 3]])\n",
      "    \n",
      "    Type provided:\n",
      "    \n",
      "    >>> np.array([1, 2, 3], dtype=complex)\n",
      "    array([ 1.+0.j,  2.+0.j,  3.+0.j])\n",
      "    \n",
      "    Data-type consisting of more than one element:\n",
      "    \n",
      "    >>> x = np.array([(1,2),(3,4)],dtype=[('a','<i4'),('b','<i4')])\n",
      "    >>> x['a']\n",
      "    array([1, 3])\n",
      "    \n",
      "    Creating an array from sub-classes:\n",
      "    \n",
      "    >>> np.array(np.mat('1 2; 3 4'))\n",
      "    array([[1, 2],\n",
      "           [3, 4]])\n",
      "    \n",
      "    >>> np.array(np.mat('1 2; 3 4'), subok=True)\n",
      "    matrix([[1, 2],\n",
      "            [3, 4]])\n",
      "\n"
     ]
    }
   ],
   "source": [
    "help(np.array)"
   ]
  },
  {
   "cell_type": "code",
   "execution_count": 8,
   "id": "d140a3b5",
   "metadata": {},
   "outputs": [
    {
     "data": {
      "text/plain": [
       "array([0, 3, 6, 9])"
      ]
     },
     "execution_count": 8,
     "metadata": {},
     "output_type": "execute_result"
    }
   ],
   "source": [
    "#2.使用np.arange,类似python中的range\n",
    "b = np.arange(0,11,3)\n",
    "b"
   ]
  },
  {
   "cell_type": "code",
   "execution_count": 9,
   "id": "a8fce6c7",
   "metadata": {},
   "outputs": [
    {
     "data": {
      "text/plain": [
       "0.26058517342632226"
      ]
     },
     "execution_count": 9,
     "metadata": {},
     "output_type": "execute_result"
    }
   ],
   "source": [
    "#3.使用np.random模块\n",
    "c = np.random.random()\n",
    "c"
   ]
  },
  {
   "cell_type": "code",
   "execution_count": 16,
   "id": "21f10de8",
   "metadata": {},
   "outputs": [
    {
     "data": {
      "text/plain": [
       "array([[0.46302205, 0.35649744, 0.13665015],\n",
       "       [0.83948556, 0.31169902, 0.71760449],\n",
       "       [0.01658788, 0.30431872, 0.99105665],\n",
       "       [0.22189495, 0.94395695, 0.35095591]])"
      ]
     },
     "execution_count": 16,
     "metadata": {},
     "output_type": "execute_result"
    }
   ],
   "source": [
    "d = np.random.random((4,3)) #生成4行3列的随机数的数组\n",
    "d"
   ]
  },
  {
   "cell_type": "code",
   "execution_count": 20,
   "id": "df375b43",
   "metadata": {},
   "outputs": [
    {
     "data": {
      "text/plain": [
       "array([[42, 28, 41, 72],\n",
       "       [36, 69, 55, 51],\n",
       "       [71, 69, 51, 92],\n",
       "       [10, 27, 83, 67]])"
      ]
     },
     "execution_count": 20,
     "metadata": {},
     "output_type": "execute_result"
    }
   ],
   "source": [
    "e = np.random.randint(0,100,size=(4,4))#生成4行4列的数组，值的范围0-100之间\n",
    "e"
   ]
  },
  {
   "cell_type": "code",
   "execution_count": 21,
   "id": "4f7d5862",
   "metadata": {},
   "outputs": [],
   "source": [
    "#4.使用特殊函数生成"
   ]
  },
  {
   "cell_type": "code",
   "execution_count": 24,
   "id": "8000355d",
   "metadata": {},
   "outputs": [
    {
     "data": {
      "text/plain": [
       "array([[0., 0., 0.],\n",
       "       [0., 0., 0.],\n",
       "       [0., 0., 0.]])"
      ]
     },
     "execution_count": 24,
     "metadata": {},
     "output_type": "execute_result"
    }
   ],
   "source": [
    "a1 = np.zeros((3,3))\n",
    "a1"
   ]
  },
  {
   "cell_type": "code",
   "execution_count": 25,
   "id": "1961eb1a",
   "metadata": {},
   "outputs": [
    {
     "data": {
      "text/plain": [
       "array([[1., 1., 1., 1.],\n",
       "       [1., 1., 1., 1.],\n",
       "       [1., 1., 1., 1.],\n",
       "       [1., 1., 1., 1.]])"
      ]
     },
     "execution_count": 25,
     "metadata": {},
     "output_type": "execute_result"
    }
   ],
   "source": [
    "a2 = np.ones((4,4))\n",
    "a2"
   ]
  },
  {
   "cell_type": "code",
   "execution_count": 26,
   "id": "6e2aad8b",
   "metadata": {},
   "outputs": [
    {
     "data": {
      "text/plain": [
       "array([[6, 6, 6, 6, 6],\n",
       "       [6, 6, 6, 6, 6],\n",
       "       [6, 6, 6, 6, 6],\n",
       "       [6, 6, 6, 6, 6],\n",
       "       [6, 6, 6, 6, 6]])"
      ]
     },
     "execution_count": 26,
     "metadata": {},
     "output_type": "execute_result"
    }
   ],
   "source": [
    "a3 = np.full((5,5),6)\n",
    "a3"
   ]
  },
  {
   "cell_type": "code",
   "execution_count": 27,
   "id": "4a6b0fb1",
   "metadata": {},
   "outputs": [
    {
     "data": {
      "text/plain": [
       "array([[1., 0., 0., 0., 0., 0., 0.],\n",
       "       [0., 1., 0., 0., 0., 0., 0.],\n",
       "       [0., 0., 1., 0., 0., 0., 0.],\n",
       "       [0., 0., 0., 1., 0., 0., 0.],\n",
       "       [0., 0., 0., 0., 1., 0., 0.],\n",
       "       [0., 0., 0., 0., 0., 1., 0.],\n",
       "       [0., 0., 0., 0., 0., 0., 1.]])"
      ]
     },
     "execution_count": 27,
     "metadata": {},
     "output_type": "execute_result"
    }
   ],
   "source": [
    "a4 = np.eye(7)\n",
    "a4"
   ]
  },
  {
   "cell_type": "markdown",
   "id": "cfb0ab32",
   "metadata": {},
   "source": [
    "总结\n",
    "* 数组中的数据类型都是一致的\n",
    "* 使用四种方法创建数组"
   ]
  },
  {
   "cell_type": "markdown",
   "id": "5d39d23f",
   "metadata": {},
   "source": [
    "## 2）数组数据类型dtype"
   ]
  },
  {
   "cell_type": "code",
   "execution_count": 1,
   "id": "5acf2910",
   "metadata": {},
   "outputs": [],
   "source": [
    "import numpy as np"
   ]
  },
  {
   "cell_type": "code",
   "execution_count": 2,
   "id": "e9be6874",
   "metadata": {},
   "outputs": [
    {
     "name": "stdout",
     "output_type": "stream",
     "text": [
      "[1 2]\n",
      "int32\n"
     ]
    }
   ],
   "source": [
    "e = np.array([1,2,])\n",
    "print(e)\n",
    "print(e.dtype)"
   ]
  },
  {
   "cell_type": "code",
   "execution_count": 3,
   "id": "15b8ebe3",
   "metadata": {},
   "outputs": [
    {
     "name": "stdout",
     "output_type": "stream",
     "text": [
      "['a' 'n']\n",
      "<U1\n"
     ]
    }
   ],
   "source": [
    "f = np.array(['a','n'],dtype='U')\n",
    "print(f)\n",
    "print(f.dtype)"
   ]
  },
  {
   "cell_type": "code",
   "execution_count": 5,
   "id": "bf067713",
   "metadata": {},
   "outputs": [
    {
     "name": "stdout",
     "output_type": "stream",
     "text": [
      "[b'a' b'n']\n",
      "|S1\n",
      "<U1\n"
     ]
    }
   ],
   "source": [
    "uf = f.astype('S')\n",
    "print(uf)\n",
    "print(uf.dtype)\n",
    "print(f.dtype)"
   ]
  },
  {
   "cell_type": "markdown",
   "id": "8a1ce6b2",
   "metadata": {},
   "source": [
    "总结\n",
    "* numpy基于C语言编写，所以有很多数据类型\n",
    "* numpy为了考虑处理海量数据的性能，针对不同的数据给不同的数据类型，来节省内存空间，所以有不同的数据类型\n",
    "* numpy数组的元素有多种数据类型\n",
    "* 用ndarray.astype修改数据类型"
   ]
  },
  {
   "cell_type": "markdown",
   "id": "282c0b0c",
   "metadata": {},
   "source": [
    "## 3）多维数组"
   ]
  },
  {
   "cell_type": "code",
   "execution_count": 36,
   "id": "daed58c9",
   "metadata": {},
   "outputs": [],
   "source": [
    "import numpy as np"
   ]
  },
  {
   "cell_type": "code",
   "execution_count": 37,
   "id": "0f1d04d5",
   "metadata": {},
   "outputs": [
    {
     "name": "stdout",
     "output_type": "stream",
     "text": [
      "1\n"
     ]
    }
   ],
   "source": [
    "a1 = np.array([1,2,3])\n",
    "print(a1.ndim)"
   ]
  },
  {
   "cell_type": "code",
   "execution_count": 38,
   "id": "b976af4e",
   "metadata": {},
   "outputs": [
    {
     "name": "stdout",
     "output_type": "stream",
     "text": [
      "2\n"
     ]
    }
   ],
   "source": [
    "a2 = np.array([[1,2,3],[4,5,6]])\n",
    "print(a2.ndim)"
   ]
  },
  {
   "cell_type": "code",
   "execution_count": 39,
   "id": "ece6ecf7",
   "metadata": {},
   "outputs": [
    {
     "name": "stdout",
     "output_type": "stream",
     "text": [
      "3\n"
     ]
    }
   ],
   "source": [
    "a3 = np.array([\n",
    "    [\n",
    "        [1,2,3],\n",
    "        [4,5,6]\n",
    "    ],\n",
    "    [\n",
    "        [7,8,9],\n",
    "        [10,11,12]\n",
    "    ]\n",
    "])\n",
    "print(a3.ndim)"
   ]
  },
  {
   "cell_type": "code",
   "execution_count": 43,
   "id": "ccd6a2f3",
   "metadata": {},
   "outputs": [
    {
     "name": "stdout",
     "output_type": "stream",
     "text": [
      "[[ 1  2  3  4  5  6  7  8  9 10 11 12]]\n",
      "(1, 12)\n",
      "2\n"
     ]
    }
   ],
   "source": [
    "a4 = a3.reshape([1,12])\n",
    "print(a4)\n",
    "print(a4.shape)\n",
    "print(a4.ndim)"
   ]
  },
  {
   "cell_type": "code",
   "execution_count": 7,
   "id": "f9281622",
   "metadata": {},
   "outputs": [
    {
     "name": "stdout",
     "output_type": "stream",
     "text": [
      "[ 1  2  3  4  5  6  7  8  9 10 11 12]\n",
      "1\n"
     ]
    }
   ],
   "source": [
    "a5 = a3.reshape([12,])\n",
    "print(a5)\n",
    "print(a5.ndim)"
   ]
  },
  {
   "cell_type": "code",
   "execution_count": 9,
   "id": "5cd185d5",
   "metadata": {},
   "outputs": [
    {
     "name": "stdout",
     "output_type": "stream",
     "text": [
      "[ 1  2  3  4  5  6  7  8  9 10 11 12]\n",
      "1\n"
     ]
    }
   ],
   "source": [
    "a5 = a3.flatten()\n",
    "print(a5)\n",
    "print(a5.ndim)"
   ]
  },
  {
   "cell_type": "code",
   "execution_count": 11,
   "id": "4e084dc7",
   "metadata": {},
   "outputs": [
    {
     "name": "stdout",
     "output_type": "stream",
     "text": [
      "12\n"
     ]
    }
   ],
   "source": [
    "#元素个数\n",
    "count = a3.size\n",
    "print(count)"
   ]
  },
  {
   "cell_type": "code",
   "execution_count": 12,
   "id": "731ba337",
   "metadata": {},
   "outputs": [
    {
     "name": "stdout",
     "output_type": "stream",
     "text": [
      "4\n",
      "int32\n"
     ]
    }
   ],
   "source": [
    "#每一个元素占字节的大小\n",
    "itemsize = a3.itemsize\n",
    "print(itemsize)\n",
    "print(a3.dtype)"
   ]
  },
  {
   "cell_type": "markdown",
   "id": "e4011dc0",
   "metadata": {},
   "source": [
    "总结\n",
    "* 数组一般达到3维已经很复杂，不方便计算，所以一般会把3维以上的数组转换为2维数组\n",
    "* 通过ndarray.ndim可以看到数组的维度\n",
    "* 通过ndarray.shape可以看到数组的形状，shape是一个元祖，里面有几个元素代表几维数组\n",
    "* 通过ndarray.reshape可以修改数组的形状，条件只有一个，就是修改后的形状的元素个数必须和原来的个数一致\n",
    "* 通过ndarray.size可以看到数组一共有多少元素\n",
    "* 通过ndarray.itemsize可以看到数组中每个元素的所占内存的大小，单位是字节（1个字节=8位）"
   ]
  },
  {
   "cell_type": "markdown",
   "id": "ae14db01",
   "metadata": {},
   "source": [
    "## 4）数组的索引和切片"
   ]
  },
  {
   "cell_type": "code",
   "execution_count": 13,
   "id": "6c1d5782",
   "metadata": {},
   "outputs": [],
   "source": [
    "import numpy as np"
   ]
  },
  {
   "cell_type": "code",
   "execution_count": 17,
   "id": "a2573d98",
   "metadata": {},
   "outputs": [
    {
     "name": "stdout",
     "output_type": "stream",
     "text": [
      "4\n",
      "[4 5]\n",
      "[0 1 2 3 4 5 6 7 8 9]\n",
      "[0 2 4 6 8]\n",
      "9\n"
     ]
    }
   ],
   "source": [
    "#1.一维数组的索引和切片\n",
    "a1 = np.arange(10)\n",
    "print(a1[4])\n",
    "print(a1[4:6])\n",
    "print(a1[:])\n",
    "print(a1[::2])\n",
    "print(a1[-1])"
   ]
  },
  {
   "cell_type": "code",
   "execution_count": 23,
   "id": "aca072bd",
   "metadata": {},
   "outputs": [
    {
     "name": "stdout",
     "output_type": "stream",
     "text": [
      "[[8 5 2 0 2 5]\n",
      " [2 7 2 1 8 8]\n",
      " [8 7 2 4 5 4]\n",
      " [3 6 3 0 0 5]]\n"
     ]
    }
   ],
   "source": [
    "#2.多维数组的索引和切片\n",
    "#在中括号中，使用逗号进行分割，逗号前面是行，后面是列，如果只有一个值，那这个值就是行\n",
    "a2 = np.random.randint(0,10,size=(4,6))\n",
    "print(a2)"
   ]
  },
  {
   "cell_type": "code",
   "execution_count": 24,
   "id": "02aef4f0",
   "metadata": {},
   "outputs": [
    {
     "data": {
      "text/plain": [
       "array([8, 5, 2, 0, 2, 5])"
      ]
     },
     "execution_count": 24,
     "metadata": {},
     "output_type": "execute_result"
    }
   ],
   "source": [
    "a2[0]"
   ]
  },
  {
   "cell_type": "code",
   "execution_count": 25,
   "id": "80beffea",
   "metadata": {},
   "outputs": [
    {
     "data": {
      "text/plain": [
       "array([[2, 7, 2, 1, 8, 8],\n",
       "       [8, 7, 2, 4, 5, 4]])"
      ]
     },
     "execution_count": 25,
     "metadata": {},
     "output_type": "execute_result"
    }
   ],
   "source": [
    "a2[1:3]"
   ]
  },
  {
   "cell_type": "code",
   "execution_count": 27,
   "id": "b324ef46",
   "metadata": {},
   "outputs": [
    {
     "data": {
      "text/plain": [
       "array([[8, 5, 2, 0, 2, 5],\n",
       "       [8, 7, 2, 4, 5, 4],\n",
       "       [3, 6, 3, 0, 0, 5]])"
      ]
     },
     "execution_count": 27,
     "metadata": {},
     "output_type": "execute_result"
    }
   ],
   "source": [
    "a2[[0,2,3]]"
   ]
  },
  {
   "cell_type": "code",
   "execution_count": 28,
   "id": "88eb927d",
   "metadata": {},
   "outputs": [
    {
     "data": {
      "text/plain": [
       "7"
      ]
     },
     "execution_count": 28,
     "metadata": {},
     "output_type": "execute_result"
    }
   ],
   "source": [
    "a2[1,1]"
   ]
  },
  {
   "cell_type": "code",
   "execution_count": 29,
   "id": "a8b332f4",
   "metadata": {},
   "outputs": [
    {
     "data": {
      "text/plain": [
       "array([8, 4])"
      ]
     },
     "execution_count": 29,
     "metadata": {},
     "output_type": "execute_result"
    }
   ],
   "source": [
    "a2[[1,2],[4,5]]"
   ]
  },
  {
   "cell_type": "code",
   "execution_count": 31,
   "id": "d7917939",
   "metadata": {
    "scrolled": true
   },
   "outputs": [
    {
     "data": {
      "text/plain": [
       "array([8, 4])"
      ]
     },
     "execution_count": 31,
     "metadata": {},
     "output_type": "execute_result"
    }
   ],
   "source": [
    "a2[(1,2),(4,5)]"
   ]
  },
  {
   "cell_type": "code",
   "execution_count": 32,
   "id": "4e69810b",
   "metadata": {},
   "outputs": [
    {
     "data": {
      "text/plain": [
       "array([[8, 8],\n",
       "       [5, 4]])"
      ]
     },
     "execution_count": 32,
     "metadata": {},
     "output_type": "execute_result"
    }
   ],
   "source": [
    "a2[1:3,4:6]"
   ]
  },
  {
   "cell_type": "code",
   "execution_count": 33,
   "id": "6c88c8ee",
   "metadata": {},
   "outputs": [
    {
     "data": {
      "text/plain": [
       "array([5, 7, 7, 6])"
      ]
     },
     "execution_count": 33,
     "metadata": {},
     "output_type": "execute_result"
    }
   ],
   "source": [
    "a2[:,1]"
   ]
  },
  {
   "cell_type": "markdown",
   "id": "9a10bf58",
   "metadata": {},
   "source": [
    "总结\n",
    "* 如果数组是一维的，那么索引和切片就是跟python的列表是一样的\n",
    "* 如果是多维的（以二维为例），那么在中括号中，给两个值，两个值是通过逗号分隔的，逗号前面是行，逗号后面是列。如果括号中只有一个值，那么就是代表的行\n",
    "* 如果是多维数组（以二维为例），那么行的部分和列的部分，都遵循一维数组的方式，可以使用整形和切片，还可以使用中括号的形式来代表不连续行列。"
   ]
  },
  {
   "cell_type": "markdown",
   "id": "1c6f99bb",
   "metadata": {},
   "source": [
    "## 5）布尔索引"
   ]
  },
  {
   "cell_type": "code",
   "execution_count": 44,
   "id": "a9e5a77c",
   "metadata": {},
   "outputs": [],
   "source": [
    "import numpy as np"
   ]
  },
  {
   "cell_type": "code",
   "execution_count": 45,
   "id": "9e8a2478",
   "metadata": {},
   "outputs": [],
   "source": [
    "a2 = np.arange(24).reshape([4,6])"
   ]
  },
  {
   "cell_type": "code",
   "execution_count": 47,
   "id": "bd363af3",
   "metadata": {},
   "outputs": [
    {
     "name": "stdout",
     "output_type": "stream",
     "text": [
      "[[ 0  1  2  3  4  5]\n",
      " [ 6  7  8  9 10 11]\n",
      " [12 13 14 15 16 17]\n",
      " [18 19 20 21 22 23]]\n"
     ]
    }
   ],
   "source": [
    "print(a2)"
   ]
  },
  {
   "cell_type": "code",
   "execution_count": 48,
   "id": "9527ecd4",
   "metadata": {},
   "outputs": [
    {
     "data": {
      "text/plain": [
       "array([[ True,  True,  True,  True,  True,  True],\n",
       "       [ True,  True,  True,  True, False, False],\n",
       "       [False, False, False, False, False, False],\n",
       "       [False, False, False, False, False, False]])"
      ]
     },
     "execution_count": 48,
     "metadata": {},
     "output_type": "execute_result"
    }
   ],
   "source": [
    "a2 < 10"
   ]
  },
  {
   "cell_type": "code",
   "execution_count": 49,
   "id": "86431677",
   "metadata": {},
   "outputs": [
    {
     "data": {
      "text/plain": [
       "array([0, 1, 2, 3, 4, 5, 6, 7, 8, 9])"
      ]
     },
     "execution_count": 49,
     "metadata": {},
     "output_type": "execute_result"
    }
   ],
   "source": [
    "a2[a2<10]"
   ]
  },
  {
   "cell_type": "code",
   "execution_count": 50,
   "id": "35cf9f98",
   "metadata": {},
   "outputs": [
    {
     "data": {
      "text/plain": [
       "array([ 0,  1,  2,  3,  4, 11, 12, 13, 14, 15, 16, 17, 18, 19, 20, 21, 22,\n",
       "       23])"
      ]
     },
     "execution_count": 50,
     "metadata": {},
     "output_type": "execute_result"
    }
   ],
   "source": [
    "a2[(a2<5)|(a2>10)]"
   ]
  },
  {
   "cell_type": "markdown",
   "id": "e0848bea",
   "metadata": {},
   "source": [
    "## 6）数组值的替换"
   ]
  },
  {
   "cell_type": "code",
   "execution_count": 51,
   "id": "64c0489a",
   "metadata": {},
   "outputs": [],
   "source": [
    "import numpy as np"
   ]
  },
  {
   "cell_type": "code",
   "execution_count": 53,
   "id": "9cf34cff",
   "metadata": {},
   "outputs": [
    {
     "data": {
      "text/plain": [
       "array([[6, 1, 6, 8, 5],\n",
       "       [6, 3, 5, 2, 4],\n",
       "       [9, 7, 1, 9, 1]])"
      ]
     },
     "execution_count": 53,
     "metadata": {},
     "output_type": "execute_result"
    }
   ],
   "source": [
    "a3 = np.random.randint(0,10,size=(3,5))\n",
    "a3"
   ]
  },
  {
   "cell_type": "code",
   "execution_count": 56,
   "id": "51e98053",
   "metadata": {},
   "outputs": [
    {
     "data": {
      "text/plain": [
       "array([[6, 1, 6, 8, 5],\n",
       "       [0, 0, 0, 0, 0],\n",
       "       [9, 7, 1, 9, 1]])"
      ]
     },
     "execution_count": 56,
     "metadata": {},
     "output_type": "execute_result"
    }
   ],
   "source": [
    "#索引替换\n",
    "a3[1] = 0\n",
    "a3"
   ]
  },
  {
   "cell_type": "code",
   "execution_count": 57,
   "id": "30aea49b",
   "metadata": {},
   "outputs": [
    {
     "data": {
      "text/plain": [
       "array([[6, 1, 6, 8, 5],\n",
       "       [1, 2, 3, 4, 5],\n",
       "       [9, 7, 1, 9, 1]])"
      ]
     },
     "execution_count": 57,
     "metadata": {},
     "output_type": "execute_result"
    }
   ],
   "source": [
    "a3[1] = np.array([1,2,3,4,5])\n",
    "a3"
   ]
  },
  {
   "cell_type": "code",
   "execution_count": 59,
   "id": "c2c9ccee",
   "metadata": {},
   "outputs": [
    {
     "data": {
      "text/plain": [
       "array([[6, 1, 6, 8, 5],\n",
       "       [1, 1, 3, 4, 5],\n",
       "       [9, 7, 1, 9, 1]])"
      ]
     },
     "execution_count": 59,
     "metadata": {},
     "output_type": "execute_result"
    }
   ],
   "source": [
    "#条件索引替换\n",
    "a3[a3<3] = 1\n",
    "a3"
   ]
  },
  {
   "cell_type": "code",
   "execution_count": 62,
   "id": "a3c04c53",
   "metadata": {},
   "outputs": [
    {
     "data": {
      "text/plain": [
       "array([[1, 0, 1, 1, 1],\n",
       "       [0, 0, 0, 0, 1],\n",
       "       [1, 1, 0, 1, 0]])"
      ]
     },
     "execution_count": 62,
     "metadata": {},
     "output_type": "execute_result"
    }
   ],
   "source": [
    "#函数替换\n",
    "result = np.where(a3<5,0,1)\n",
    "result"
   ]
  },
  {
   "cell_type": "markdown",
   "id": "de8ab626",
   "metadata": {},
   "source": [
    "总结\n",
    "* 使用索引或者切片来替换\n",
    "* 利用条件索引来替换\n",
    "* 使用where函数来实现"
   ]
  },
  {
   "cell_type": "markdown",
   "id": "3116ecc9",
   "metadata": {},
   "source": [
    "## 7）数组的广播机制"
   ]
  },
  {
   "cell_type": "code",
   "execution_count": 11,
   "id": "5b99483c",
   "metadata": {},
   "outputs": [],
   "source": [
    "import numpy as np"
   ]
  },
  {
   "cell_type": "code",
   "execution_count": 12,
   "id": "a296fbcf",
   "metadata": {},
   "outputs": [],
   "source": [
    "a1 = np.random.randint(0,5,size=(3,5))"
   ]
  },
  {
   "cell_type": "code",
   "execution_count": 13,
   "id": "6a2ca329",
   "metadata": {},
   "outputs": [
    {
     "data": {
      "text/plain": [
       "array([[3, 1, 2, 2, 3],\n",
       "       [2, 2, 2, 3, 1],\n",
       "       [4, 2, 1, 1, 2]])"
      ]
     },
     "execution_count": 13,
     "metadata": {},
     "output_type": "execute_result"
    }
   ],
   "source": [
    "a1"
   ]
  },
  {
   "cell_type": "code",
   "execution_count": 14,
   "id": "829389d4",
   "metadata": {},
   "outputs": [
    {
     "data": {
      "text/plain": [
       "array([[6, 2, 4, 4, 6],\n",
       "       [4, 4, 4, 6, 2],\n",
       "       [8, 4, 2, 2, 4]])"
      ]
     },
     "execution_count": 14,
     "metadata": {},
     "output_type": "execute_result"
    }
   ],
   "source": [
    "a1*2"
   ]
  },
  {
   "cell_type": "markdown",
   "id": "76890117",
   "metadata": {},
   "source": [
    "### 数组与数组的运算"
   ]
  },
  {
   "cell_type": "markdown",
   "id": "df126b07",
   "metadata": {},
   "source": [
    "1.结构相同的数组之间的运算"
   ]
  },
  {
   "cell_type": "code",
   "execution_count": null,
   "id": "9558bcd5",
   "metadata": {},
   "outputs": [],
   "source": [
    "a2 = np.random.randint(0,5,size=(3,5))"
   ]
  },
  {
   "cell_type": "code",
   "execution_count": 17,
   "id": "59701dd2",
   "metadata": {},
   "outputs": [
    {
     "data": {
      "text/plain": [
       "array([[4, 4, 4, 3, 0],\n",
       "       [1, 1, 3, 2, 0],\n",
       "       [3, 2, 0, 0, 2]])"
      ]
     },
     "execution_count": 17,
     "metadata": {},
     "output_type": "execute_result"
    }
   ],
   "source": [
    "a2"
   ]
  },
  {
   "cell_type": "code",
   "execution_count": 18,
   "id": "f2c323f9",
   "metadata": {},
   "outputs": [
    {
     "data": {
      "text/plain": [
       "array([[7, 5, 6, 5, 3],\n",
       "       [3, 3, 5, 5, 1],\n",
       "       [7, 4, 1, 1, 4]])"
      ]
     },
     "execution_count": 18,
     "metadata": {},
     "output_type": "execute_result"
    }
   ],
   "source": [
    "a1 + a2"
   ]
  },
  {
   "cell_type": "markdown",
   "id": "2d9d7737",
   "metadata": {},
   "source": [
    "2.与行数相同且只有一列的数组之间的运算"
   ]
  },
  {
   "cell_type": "code",
   "execution_count": 23,
   "id": "a9c9acf4",
   "metadata": {},
   "outputs": [],
   "source": [
    "a3 = np.random.randint(0,5,size=(3,4))"
   ]
  },
  {
   "cell_type": "code",
   "execution_count": 24,
   "id": "4ae92f5a",
   "metadata": {},
   "outputs": [
    {
     "data": {
      "text/plain": [
       "array([[2, 4, 4, 1],\n",
       "       [4, 1, 0, 3],\n",
       "       [0, 4, 4, 0]])"
      ]
     },
     "execution_count": 24,
     "metadata": {},
     "output_type": "execute_result"
    }
   ],
   "source": [
    "a3"
   ]
  },
  {
   "cell_type": "code",
   "execution_count": 25,
   "id": "e2898b18",
   "metadata": {},
   "outputs": [
    {
     "ename": "ValueError",
     "evalue": "operands could not be broadcast together with shapes (3,5) (3,4) ",
     "output_type": "error",
     "traceback": [
      "\u001b[1;31m---------------------------------------------------------------------------\u001b[0m",
      "\u001b[1;31mValueError\u001b[0m                                Traceback (most recent call last)",
      "Cell \u001b[1;32mIn[25], line 1\u001b[0m\n\u001b[1;32m----> 1\u001b[0m a1\u001b[38;5;241m+\u001b[39ma3\n",
      "\u001b[1;31mValueError\u001b[0m: operands could not be broadcast together with shapes (3,5) (3,4) "
     ]
    }
   ],
   "source": [
    "a1+a3"
   ]
  },
  {
   "cell_type": "code",
   "execution_count": 26,
   "id": "0f0b06ca",
   "metadata": {},
   "outputs": [],
   "source": [
    "a4 = np.random.randint(0,5,size=(3,1))"
   ]
  },
  {
   "cell_type": "code",
   "execution_count": 28,
   "id": "63be1a1e",
   "metadata": {},
   "outputs": [
    {
     "data": {
      "text/plain": [
       "array([[2],\n",
       "       [4],\n",
       "       [4]])"
      ]
     },
     "execution_count": 28,
     "metadata": {},
     "output_type": "execute_result"
    }
   ],
   "source": [
    "a4"
   ]
  },
  {
   "cell_type": "code",
   "execution_count": 27,
   "id": "24a37c4e",
   "metadata": {},
   "outputs": [
    {
     "data": {
      "text/plain": [
       "array([[5, 3, 4, 4, 5],\n",
       "       [6, 6, 6, 7, 5],\n",
       "       [8, 6, 5, 5, 6]])"
      ]
     },
     "execution_count": 27,
     "metadata": {},
     "output_type": "execute_result"
    }
   ],
   "source": [
    "a1+a4"
   ]
  },
  {
   "cell_type": "code",
   "execution_count": 29,
   "id": "803402a8",
   "metadata": {},
   "outputs": [
    {
     "data": {
      "text/plain": [
       "array([[3, 1, 2, 2, 3],\n",
       "       [2, 2, 2, 3, 1],\n",
       "       [4, 2, 1, 1, 2]])"
      ]
     },
     "execution_count": 29,
     "metadata": {},
     "output_type": "execute_result"
    }
   ],
   "source": [
    "a1"
   ]
  },
  {
   "cell_type": "code",
   "execution_count": 30,
   "id": "6be4cbb4",
   "metadata": {},
   "outputs": [],
   "source": [
    "a5 = np.random.randint(0,5,size=(1,5))"
   ]
  },
  {
   "cell_type": "code",
   "execution_count": 31,
   "id": "2ae474ce",
   "metadata": {},
   "outputs": [
    {
     "data": {
      "text/plain": [
       "array([[2, 2, 4, 3, 1]])"
      ]
     },
     "execution_count": 31,
     "metadata": {},
     "output_type": "execute_result"
    }
   ],
   "source": [
    "a5"
   ]
  },
  {
   "cell_type": "code",
   "execution_count": 32,
   "id": "439e3fa5",
   "metadata": {},
   "outputs": [
    {
     "name": "stdout",
     "output_type": "stream",
     "text": [
      "[[3 1 2 2 3]\n",
      " [2 2 2 3 1]\n",
      " [4 2 1 1 2]]\n",
      "==============================\n",
      "[[2 2 4 3 1]]\n"
     ]
    }
   ],
   "source": [
    "print(a1)\n",
    "print('='*30)\n",
    "print(a5)"
   ]
  },
  {
   "cell_type": "code",
   "execution_count": 33,
   "id": "ebd19c85",
   "metadata": {},
   "outputs": [
    {
     "data": {
      "text/plain": [
       "array([[5, 3, 6, 5, 4],\n",
       "       [4, 4, 6, 6, 2],\n",
       "       [6, 4, 5, 4, 3]])"
      ]
     },
     "execution_count": 33,
     "metadata": {},
     "output_type": "execute_result"
    }
   ],
   "source": [
    "a1+a5"
   ]
  },
  {
   "cell_type": "markdown",
   "id": "49ae0100",
   "metadata": {},
   "source": [
    "总结\n",
    "* 数组和数字可以直接运算\n",
    "* shape相同数组可以直接运算\n",
    "* shape不同数组运算，需要看是否满足广播原则（复杂）"
   ]
  },
  {
   "cell_type": "markdown",
   "id": "23ee3ff3",
   "metadata": {},
   "source": [
    "## 8）数组形状的操作"
   ]
  },
  {
   "cell_type": "markdown",
   "id": "11a5997b",
   "metadata": {},
   "source": [
    "### 1.reshape（不改变原数组）和resize（改变原数组）"
   ]
  },
  {
   "cell_type": "code",
   "execution_count": 34,
   "id": "998d03db",
   "metadata": {},
   "outputs": [],
   "source": [
    "import numpy as np"
   ]
  },
  {
   "cell_type": "code",
   "execution_count": 35,
   "id": "e8555e58",
   "metadata": {},
   "outputs": [],
   "source": [
    "a1 = np.random.randint(0,10,size=(3,4))"
   ]
  },
  {
   "cell_type": "code",
   "execution_count": 36,
   "id": "81f683c6",
   "metadata": {},
   "outputs": [
    {
     "data": {
      "text/plain": [
       "array([[6, 4, 8, 2],\n",
       "       [1, 7, 4, 5],\n",
       "       [5, 1, 7, 3]])"
      ]
     },
     "execution_count": 36,
     "metadata": {},
     "output_type": "execute_result"
    }
   ],
   "source": [
    "a1"
   ]
  },
  {
   "cell_type": "code",
   "execution_count": 37,
   "id": "5cf68321",
   "metadata": {},
   "outputs": [
    {
     "data": {
      "text/plain": [
       "array([[6, 4, 8, 2, 1, 7],\n",
       "       [4, 5, 5, 1, 7, 3]])"
      ]
     },
     "execution_count": 37,
     "metadata": {},
     "output_type": "execute_result"
    }
   ],
   "source": [
    "a1.reshape((2,6))"
   ]
  },
  {
   "cell_type": "code",
   "execution_count": 38,
   "id": "7d822ff1",
   "metadata": {},
   "outputs": [
    {
     "data": {
      "text/plain": [
       "array([[6, 4, 8, 2],\n",
       "       [1, 7, 4, 5],\n",
       "       [5, 1, 7, 3]])"
      ]
     },
     "execution_count": 38,
     "metadata": {},
     "output_type": "execute_result"
    }
   ],
   "source": [
    "a1"
   ]
  },
  {
   "cell_type": "code",
   "execution_count": 39,
   "id": "53f52af0",
   "metadata": {},
   "outputs": [],
   "source": [
    "a1.resize((2,6))"
   ]
  },
  {
   "cell_type": "code",
   "execution_count": 40,
   "id": "8d9acba4",
   "metadata": {},
   "outputs": [
    {
     "data": {
      "text/plain": [
       "array([[6, 4, 8, 2, 1, 7],\n",
       "       [4, 5, 5, 1, 7, 3]])"
      ]
     },
     "execution_count": 40,
     "metadata": {},
     "output_type": "execute_result"
    }
   ],
   "source": [
    "a1"
   ]
  },
  {
   "cell_type": "markdown",
   "id": "82d75a1e",
   "metadata": {},
   "source": [
    "### 2.flatten(返回的是拷贝，修改拷贝不影响原来的值）和ravel（返回的是view，修改view影响原来的值）"
   ]
  },
  {
   "cell_type": "markdown",
   "id": "48000b64",
   "metadata": {},
   "source": [
    "a2 =  np.random.randint(0,10,size=(3,4))"
   ]
  },
  {
   "cell_type": "code",
   "execution_count": 42,
   "id": "ef93d02f",
   "metadata": {},
   "outputs": [
    {
     "data": {
      "text/plain": [
       "array([4, 5, 7, 8, 4, 3, 9, 8, 9, 9, 6, 0])"
      ]
     },
     "execution_count": 42,
     "metadata": {},
     "output_type": "execute_result"
    }
   ],
   "source": [
    "a2.flatten()"
   ]
  },
  {
   "cell_type": "code",
   "execution_count": 43,
   "id": "e85958b6",
   "metadata": {},
   "outputs": [
    {
     "data": {
      "text/plain": [
       "array([[4, 5, 7, 8],\n",
       "       [4, 3, 9, 8],\n",
       "       [9, 9, 6, 0]])"
      ]
     },
     "execution_count": 43,
     "metadata": {},
     "output_type": "execute_result"
    }
   ],
   "source": [
    "a2"
   ]
  },
  {
   "cell_type": "code",
   "execution_count": 44,
   "id": "f1c8e36e",
   "metadata": {},
   "outputs": [
    {
     "data": {
      "text/plain": [
       "array([4, 5, 7, 8, 4, 3, 9, 8, 9, 9, 6, 0])"
      ]
     },
     "execution_count": 44,
     "metadata": {},
     "output_type": "execute_result"
    }
   ],
   "source": [
    "a2.ravel()"
   ]
  },
  {
   "cell_type": "code",
   "execution_count": 45,
   "id": "babc3f10",
   "metadata": {},
   "outputs": [
    {
     "data": {
      "text/plain": [
       "array([[4, 5, 7, 8],\n",
       "       [4, 3, 9, 8],\n",
       "       [9, 9, 6, 0]])"
      ]
     },
     "execution_count": 45,
     "metadata": {},
     "output_type": "execute_result"
    }
   ],
   "source": [
    "a2"
   ]
  },
  {
   "cell_type": "code",
   "execution_count": 46,
   "id": "e173ec38",
   "metadata": {},
   "outputs": [],
   "source": [
    "a3 = a2.flatten()"
   ]
  },
  {
   "cell_type": "code",
   "execution_count": 47,
   "id": "32c59b09",
   "metadata": {},
   "outputs": [],
   "source": [
    "a3[0] = 100"
   ]
  },
  {
   "cell_type": "code",
   "execution_count": 48,
   "id": "58bc64ce",
   "metadata": {},
   "outputs": [
    {
     "data": {
      "text/plain": [
       "array([100,   5,   7,   8,   4,   3,   9,   8,   9,   9,   6,   0])"
      ]
     },
     "execution_count": 48,
     "metadata": {},
     "output_type": "execute_result"
    }
   ],
   "source": [
    "a3"
   ]
  },
  {
   "cell_type": "code",
   "execution_count": 49,
   "id": "c7848632",
   "metadata": {},
   "outputs": [
    {
     "data": {
      "text/plain": [
       "array([[4, 5, 7, 8],\n",
       "       [4, 3, 9, 8],\n",
       "       [9, 9, 6, 0]])"
      ]
     },
     "execution_count": 49,
     "metadata": {},
     "output_type": "execute_result"
    }
   ],
   "source": [
    "a2"
   ]
  },
  {
   "cell_type": "code",
   "execution_count": 50,
   "id": "450d4f89",
   "metadata": {},
   "outputs": [],
   "source": [
    "a4 = a2.ravel()"
   ]
  },
  {
   "cell_type": "code",
   "execution_count": 51,
   "id": "6d88b5d4",
   "metadata": {},
   "outputs": [],
   "source": [
    "a4[2] = 100"
   ]
  },
  {
   "cell_type": "code",
   "execution_count": 52,
   "id": "c75d60fc",
   "metadata": {},
   "outputs": [
    {
     "data": {
      "text/plain": [
       "array([  4,   5, 100,   8,   4,   3,   9,   8,   9,   9,   6,   0])"
      ]
     },
     "execution_count": 52,
     "metadata": {},
     "output_type": "execute_result"
    }
   ],
   "source": [
    "a4"
   ]
  },
  {
   "cell_type": "code",
   "execution_count": 53,
   "id": "9c5197b6",
   "metadata": {},
   "outputs": [
    {
     "data": {
      "text/plain": [
       "array([[  4,   5, 100,   8],\n",
       "       [  4,   3,   9,   8],\n",
       "       [  9,   9,   6,   0]])"
      ]
     },
     "execution_count": 53,
     "metadata": {},
     "output_type": "execute_result"
    }
   ],
   "source": [
    "a2"
   ]
  },
  {
   "cell_type": "markdown",
   "id": "412d777f",
   "metadata": {},
   "source": [
    "总结\n",
    "* reshape和resize都是重新定义形状，reshape不会修改数组本身，但resize直接修改原数组\n",
    "* flatten和ravel都是将原数组变成一维数组，它们都不会直接修改原数组。flatten返回一个原数组拷贝，修改拷贝不影响原数组，但ravel返回view，修改view会改变原数组"
   ]
  },
  {
   "cell_type": "markdown",
   "id": "46a1138d",
   "metadata": {},
   "source": [
    "### 3.数组的叠加"
   ]
  },
  {
   "cell_type": "code",
   "execution_count": 55,
   "id": "1b272a0c",
   "metadata": {},
   "outputs": [],
   "source": [
    "vstack1 = np.random.randint(0,10,size=(3,4))"
   ]
  },
  {
   "cell_type": "code",
   "execution_count": 57,
   "id": "c7236126",
   "metadata": {},
   "outputs": [
    {
     "data": {
      "text/plain": [
       "array([[8, 7, 5, 5],\n",
       "       [0, 2, 9, 3],\n",
       "       [5, 3, 0, 3]])"
      ]
     },
     "execution_count": 57,
     "metadata": {},
     "output_type": "execute_result"
    }
   ],
   "source": [
    "vstack1"
   ]
  },
  {
   "cell_type": "code",
   "execution_count": 56,
   "id": "70fe6b2e",
   "metadata": {},
   "outputs": [],
   "source": [
    "vstack2 = np.random.randint(0,10,size=(2,4))"
   ]
  },
  {
   "cell_type": "code",
   "execution_count": 58,
   "id": "26df262c",
   "metadata": {},
   "outputs": [
    {
     "data": {
      "text/plain": [
       "array([[7, 3, 9, 0],\n",
       "       [1, 8, 2, 6]])"
      ]
     },
     "execution_count": 58,
     "metadata": {},
     "output_type": "execute_result"
    }
   ],
   "source": [
    "vstack2"
   ]
  },
  {
   "cell_type": "code",
   "execution_count": 59,
   "id": "b84bf94f",
   "metadata": {},
   "outputs": [],
   "source": [
    "vstack3 = np.vstack([vstack2,vstack1])"
   ]
  },
  {
   "cell_type": "code",
   "execution_count": 60,
   "id": "ec86465a",
   "metadata": {},
   "outputs": [
    {
     "data": {
      "text/plain": [
       "array([[7, 3, 9, 0],\n",
       "       [1, 8, 2, 6],\n",
       "       [8, 7, 5, 5],\n",
       "       [0, 2, 9, 3],\n",
       "       [5, 3, 0, 3]])"
      ]
     },
     "execution_count": 60,
     "metadata": {},
     "output_type": "execute_result"
    }
   ],
   "source": [
    "vstack3"
   ]
  },
  {
   "cell_type": "code",
   "execution_count": 61,
   "id": "7d4fd9fe",
   "metadata": {},
   "outputs": [],
   "source": [
    "hstack1 = np.random.randint(0,10,size=(3,4))"
   ]
  },
  {
   "cell_type": "code",
   "execution_count": 62,
   "id": "743396f2",
   "metadata": {},
   "outputs": [
    {
     "data": {
      "text/plain": [
       "array([[8, 2, 0, 9],\n",
       "       [4, 6, 4, 9],\n",
       "       [8, 5, 7, 7]])"
      ]
     },
     "execution_count": 62,
     "metadata": {},
     "output_type": "execute_result"
    }
   ],
   "source": [
    "hstack1"
   ]
  },
  {
   "cell_type": "code",
   "execution_count": 63,
   "id": "4738df83",
   "metadata": {},
   "outputs": [],
   "source": [
    "hstack2 = np.random.randint(0,10,size=(3,6))"
   ]
  },
  {
   "cell_type": "code",
   "execution_count": 64,
   "id": "888e468c",
   "metadata": {},
   "outputs": [
    {
     "data": {
      "text/plain": [
       "array([[0, 9, 2, 4, 5, 9],\n",
       "       [1, 8, 8, 3, 9, 3],\n",
       "       [3, 4, 2, 2, 6, 8]])"
      ]
     },
     "execution_count": 64,
     "metadata": {},
     "output_type": "execute_result"
    }
   ],
   "source": [
    "hstack2"
   ]
  },
  {
   "cell_type": "code",
   "execution_count": 65,
   "id": "88ed00e6",
   "metadata": {},
   "outputs": [],
   "source": [
    "hstack3 = np.hstack([hstack1,hstack2])"
   ]
  },
  {
   "cell_type": "code",
   "execution_count": 66,
   "id": "4d9f4379",
   "metadata": {},
   "outputs": [
    {
     "data": {
      "text/plain": [
       "array([[8, 2, 0, 9, 0, 9, 2, 4, 5, 9],\n",
       "       [4, 6, 4, 9, 1, 8, 8, 3, 9, 3],\n",
       "       [8, 5, 7, 7, 3, 4, 2, 2, 6, 8]])"
      ]
     },
     "execution_count": 66,
     "metadata": {},
     "output_type": "execute_result"
    }
   ],
   "source": [
    "hstack3"
   ]
  },
  {
   "cell_type": "code",
   "execution_count": 69,
   "id": "b68f83dc",
   "metadata": {},
   "outputs": [],
   "source": [
    "vstack4 = np.concatenate([vstack2,vstack1],axis=0)"
   ]
  },
  {
   "cell_type": "code",
   "execution_count": 70,
   "id": "a8ce91a2",
   "metadata": {},
   "outputs": [
    {
     "data": {
      "text/plain": [
       "array([[7, 3, 9, 0],\n",
       "       [1, 8, 2, 6],\n",
       "       [8, 7, 5, 5],\n",
       "       [0, 2, 9, 3],\n",
       "       [5, 3, 0, 3]])"
      ]
     },
     "execution_count": 70,
     "metadata": {},
     "output_type": "execute_result"
    }
   ],
   "source": [
    "vstack4"
   ]
  },
  {
   "cell_type": "code",
   "execution_count": 71,
   "id": "7caf235d",
   "metadata": {},
   "outputs": [],
   "source": [
    "hstack4 = np.concatenate([hstack1,hstack2],axis=1)"
   ]
  },
  {
   "cell_type": "code",
   "execution_count": 72,
   "id": "24f902ed",
   "metadata": {},
   "outputs": [
    {
     "data": {
      "text/plain": [
       "array([[8, 2, 0, 9, 0, 9, 2, 4, 5, 9],\n",
       "       [4, 6, 4, 9, 1, 8, 8, 3, 9, 3],\n",
       "       [8, 5, 7, 7, 3, 4, 2, 2, 6, 8]])"
      ]
     },
     "execution_count": 72,
     "metadata": {},
     "output_type": "execute_result"
    }
   ],
   "source": [
    "hstack4"
   ]
  },
  {
   "cell_type": "code",
   "execution_count": 73,
   "id": "bb9bc085",
   "metadata": {},
   "outputs": [],
   "source": [
    "hstack5 = np.concatenate([hstack1,hstack2],axis=None)"
   ]
  },
  {
   "cell_type": "code",
   "execution_count": 74,
   "id": "8f7d3cea",
   "metadata": {},
   "outputs": [
    {
     "data": {
      "text/plain": [
       "array([8, 2, 0, 9, 4, 6, 4, 9, 8, 5, 7, 7, 0, 9, 2, 4, 5, 9, 1, 8, 8, 3,\n",
       "       9, 3, 3, 4, 2, 2, 6, 8])"
      ]
     },
     "execution_count": 74,
     "metadata": {},
     "output_type": "execute_result"
    }
   ],
   "source": [
    "hstack5"
   ]
  },
  {
   "cell_type": "markdown",
   "id": "b755079f",
   "metadata": {},
   "source": [
    "总结\n",
    "* vstack在垂直方向叠加，hstack在水平方向叠加\n",
    "* concatenate可以手动指定在哪个方向叠加，axis=0在垂直方向叠加，axis=1在水平方向叠加，axis=None表示在可以进行的方向叠加，然后扁平化"
   ]
  },
  {
   "cell_type": "markdown",
   "id": "58e562f0",
   "metadata": {},
   "source": [
    "### 4.数组的切割"
   ]
  },
  {
   "cell_type": "code",
   "execution_count": 1,
   "id": "b66aed82",
   "metadata": {},
   "outputs": [],
   "source": [
    "import numpy as np"
   ]
  },
  {
   "cell_type": "code",
   "execution_count": 2,
   "id": "5f4d8558",
   "metadata": {},
   "outputs": [],
   "source": [
    "hs1 = np.random.randint(0,5,size=(3,4))"
   ]
  },
  {
   "cell_type": "code",
   "execution_count": 3,
   "id": "d600202a",
   "metadata": {},
   "outputs": [
    {
     "data": {
      "text/plain": [
       "array([[0, 4, 2, 0],\n",
       "       [2, 4, 4, 2],\n",
       "       [3, 2, 1, 0]])"
      ]
     },
     "execution_count": 3,
     "metadata": {},
     "output_type": "execute_result"
    }
   ],
   "source": [
    "hs1"
   ]
  },
  {
   "cell_type": "code",
   "execution_count": 4,
   "id": "8a4d92b4",
   "metadata": {},
   "outputs": [
    {
     "data": {
      "text/plain": [
       "[array([[0, 4],\n",
       "        [2, 4],\n",
       "        [3, 2]]),\n",
       " array([[2, 0],\n",
       "        [4, 2],\n",
       "        [1, 0]])]"
      ]
     },
     "execution_count": 4,
     "metadata": {},
     "output_type": "execute_result"
    }
   ],
   "source": [
    "np.hsplit(hs1,2)"
   ]
  },
  {
   "cell_type": "code",
   "execution_count": 5,
   "id": "f951f02e",
   "metadata": {},
   "outputs": [
    {
     "data": {
      "text/plain": [
       "[array([[0],\n",
       "        [2],\n",
       "        [3]]),\n",
       " array([[4, 2],\n",
       "        [4, 4],\n",
       "        [2, 1]]),\n",
       " array([[0],\n",
       "        [2],\n",
       "        [0]])]"
      ]
     },
     "execution_count": 5,
     "metadata": {},
     "output_type": "execute_result"
    }
   ],
   "source": [
    "np.hsplit(hs1,[1,3])"
   ]
  },
  {
   "cell_type": "code",
   "execution_count": 6,
   "id": "1940df7a",
   "metadata": {},
   "outputs": [],
   "source": [
    "vs1 = np.random.randint(0,10,size=(6,3))"
   ]
  },
  {
   "cell_type": "code",
   "execution_count": 7,
   "id": "17dddc7f",
   "metadata": {},
   "outputs": [
    {
     "data": {
      "text/plain": [
       "array([[6, 8, 8],\n",
       "       [8, 8, 5],\n",
       "       [0, 3, 1],\n",
       "       [3, 9, 6],\n",
       "       [7, 3, 2],\n",
       "       [7, 4, 3]])"
      ]
     },
     "execution_count": 7,
     "metadata": {},
     "output_type": "execute_result"
    }
   ],
   "source": [
    "vs1"
   ]
  },
  {
   "cell_type": "code",
   "execution_count": 9,
   "id": "ed168f86",
   "metadata": {},
   "outputs": [
    {
     "data": {
      "text/plain": [
       "[array([[6, 8, 8],\n",
       "        [8, 8, 5]]),\n",
       " array([[0, 3, 1],\n",
       "        [3, 9, 6]]),\n",
       " array([[7, 3, 2],\n",
       "        [7, 4, 3]])]"
      ]
     },
     "execution_count": 9,
     "metadata": {},
     "output_type": "execute_result"
    }
   ],
   "source": [
    "np.vsplit(vs1,3)"
   ]
  },
  {
   "cell_type": "code",
   "execution_count": 10,
   "id": "c0a923a3",
   "metadata": {},
   "outputs": [
    {
     "data": {
      "text/plain": [
       "[array([[6, 8, 8],\n",
       "        [8, 8, 5]]),\n",
       " array([[0, 3, 1],\n",
       "        [3, 9, 6]]),\n",
       " array([[7, 3, 2]]),\n",
       " array([[7, 4, 3]])]"
      ]
     },
     "execution_count": 10,
     "metadata": {},
     "output_type": "execute_result"
    }
   ],
   "source": [
    "np.vsplit(vs1,[2,4,5])"
   ]
  },
  {
   "cell_type": "markdown",
   "id": "3c013e7c",
   "metadata": {},
   "source": [
    "总结\n",
    "* hsplit在水平方向切割，vsplit在垂直方向切割\n",
    "* 第一种是平均切割，第二种是指定下标切割"
   ]
  },
  {
   "cell_type": "markdown",
   "id": "a69415d1",
   "metadata": {},
   "source": [
    "### 5.数组的转置"
   ]
  },
  {
   "cell_type": "code",
   "execution_count": 11,
   "id": "cb5741f8",
   "metadata": {},
   "outputs": [],
   "source": [
    "import numpy as np"
   ]
  },
  {
   "cell_type": "code",
   "execution_count": 12,
   "id": "f3d1a3d6",
   "metadata": {},
   "outputs": [],
   "source": [
    "t1 = np.random.randint(0,20,size=(3,4))"
   ]
  },
  {
   "cell_type": "code",
   "execution_count": 13,
   "id": "7e40cc03",
   "metadata": {},
   "outputs": [
    {
     "data": {
      "text/plain": [
       "array([[ 0, 18,  1,  5],\n",
       "       [12, 19,  5, 11],\n",
       "       [18,  9, 11, 18]])"
      ]
     },
     "execution_count": 13,
     "metadata": {},
     "output_type": "execute_result"
    }
   ],
   "source": [
    "t1"
   ]
  },
  {
   "cell_type": "code",
   "execution_count": 14,
   "id": "a3cd97ed",
   "metadata": {},
   "outputs": [
    {
     "data": {
      "text/plain": [
       "array([[ 0, 12, 18],\n",
       "       [18, 19,  9],\n",
       "       [ 1,  5, 11],\n",
       "       [ 5, 11, 18]])"
      ]
     },
     "execution_count": 14,
     "metadata": {},
     "output_type": "execute_result"
    }
   ],
   "source": [
    "t1.T"
   ]
  },
  {
   "cell_type": "code",
   "execution_count": 15,
   "id": "1b2114a1",
   "metadata": {},
   "outputs": [
    {
     "data": {
      "text/plain": [
       "array([[350, 402, 263],\n",
       "       [402, 651, 640],\n",
       "       [263, 640, 850]])"
      ]
     },
     "execution_count": 15,
     "metadata": {},
     "output_type": "execute_result"
    }
   ],
   "source": [
    "t1.dot(t1.T)"
   ]
  },
  {
   "cell_type": "code",
   "execution_count": 17,
   "id": "2544e1c1",
   "metadata": {},
   "outputs": [
    {
     "data": {
      "text/plain": [
       "array([[ 0, 12, 18],\n",
       "       [18, 19,  9],\n",
       "       [ 1,  5, 11],\n",
       "       [ 5, 11, 18]])"
      ]
     },
     "execution_count": 17,
     "metadata": {},
     "output_type": "execute_result"
    }
   ],
   "source": [
    "t1.transpose()#返回的是view"
   ]
  },
  {
   "cell_type": "code",
   "execution_count": 18,
   "id": "ddf15186",
   "metadata": {},
   "outputs": [],
   "source": [
    "t2=t1.transpose()"
   ]
  },
  {
   "cell_type": "code",
   "execution_count": 19,
   "id": "5e8483ab",
   "metadata": {},
   "outputs": [],
   "source": [
    "t2[0] = 100"
   ]
  },
  {
   "cell_type": "code",
   "execution_count": 20,
   "id": "2ad35c6a",
   "metadata": {},
   "outputs": [
    {
     "data": {
      "text/plain": [
       "array([[100, 100, 100],\n",
       "       [ 18,  19,   9],\n",
       "       [  1,   5,  11],\n",
       "       [  5,  11,  18]])"
      ]
     },
     "execution_count": 20,
     "metadata": {},
     "output_type": "execute_result"
    }
   ],
   "source": [
    "t2"
   ]
  },
  {
   "cell_type": "code",
   "execution_count": 21,
   "id": "fc06f6b4",
   "metadata": {},
   "outputs": [
    {
     "data": {
      "text/plain": [
       "array([[100,  18,   1,   5],\n",
       "       [100,  19,   5,  11],\n",
       "       [100,   9,  11,  18]])"
      ]
     },
     "execution_count": 21,
     "metadata": {},
     "output_type": "execute_result"
    }
   ],
   "source": [
    "t1"
   ]
  },
  {
   "cell_type": "markdown",
   "id": "797eb1e9",
   "metadata": {},
   "source": [
    "总结\n",
    "* 可以通过ndarray.T的形式进行专职\n",
    "* 可以通过ndarray.transpose()进行转置，这个方法返回的是一个view"
   ]
  },
  {
   "cell_type": "markdown",
   "id": "0161ef82",
   "metadata": {},
   "source": [
    "### 6.深拷贝和浅拷贝"
   ]
  },
  {
   "cell_type": "code",
   "execution_count": 22,
   "id": "97ea99c2",
   "metadata": {},
   "outputs": [],
   "source": [
    "import numpy as np"
   ]
  },
  {
   "cell_type": "code",
   "execution_count": 23,
   "id": "38fd3abc",
   "metadata": {},
   "outputs": [
    {
     "name": "stdout",
     "output_type": "stream",
     "text": [
      "True\n"
     ]
    }
   ],
   "source": [
    "#不拷贝\n",
    "a = np.arange(10)\n",
    "b = a\n",
    "print(b is a)"
   ]
  },
  {
   "cell_type": "code",
   "execution_count": 26,
   "id": "c2f07b9c",
   "metadata": {},
   "outputs": [],
   "source": [
    "#view或者浅拷贝，只拷贝栈区，但堆区指向一致\n",
    "a = np.arange(11)"
   ]
  },
  {
   "cell_type": "code",
   "execution_count": 27,
   "id": "8fce142c",
   "metadata": {},
   "outputs": [
    {
     "data": {
      "text/plain": [
       "array([ 0,  1,  2,  3,  4,  5,  6,  7,  8,  9, 10])"
      ]
     },
     "execution_count": 27,
     "metadata": {},
     "output_type": "execute_result"
    }
   ],
   "source": [
    "a"
   ]
  },
  {
   "cell_type": "code",
   "execution_count": 28,
   "id": "29612179",
   "metadata": {},
   "outputs": [],
   "source": [
    "c = a.view()"
   ]
  },
  {
   "cell_type": "code",
   "execution_count": 29,
   "id": "03ab1d98",
   "metadata": {},
   "outputs": [
    {
     "data": {
      "text/plain": [
       "array([ 0,  1,  2,  3,  4,  5,  6,  7,  8,  9, 10])"
      ]
     },
     "execution_count": 29,
     "metadata": {},
     "output_type": "execute_result"
    }
   ],
   "source": [
    "c"
   ]
  },
  {
   "cell_type": "code",
   "execution_count": 30,
   "id": "63ee3c70",
   "metadata": {},
   "outputs": [],
   "source": [
    "c[0] = 3"
   ]
  },
  {
   "cell_type": "code",
   "execution_count": 31,
   "id": "b97b37a5",
   "metadata": {},
   "outputs": [
    {
     "data": {
      "text/plain": [
       "array([ 3,  1,  2,  3,  4,  5,  6,  7,  8,  9, 10])"
      ]
     },
     "execution_count": 31,
     "metadata": {},
     "output_type": "execute_result"
    }
   ],
   "source": [
    "c"
   ]
  },
  {
   "cell_type": "code",
   "execution_count": 32,
   "id": "6c12a8d7",
   "metadata": {},
   "outputs": [
    {
     "data": {
      "text/plain": [
       "array([ 3,  1,  2,  3,  4,  5,  6,  7,  8,  9, 10])"
      ]
     },
     "execution_count": 32,
     "metadata": {},
     "output_type": "execute_result"
    }
   ],
   "source": [
    "a"
   ]
  },
  {
   "cell_type": "code",
   "execution_count": 35,
   "id": "223d5345",
   "metadata": {},
   "outputs": [],
   "source": [
    "#深拷贝，栈区和堆区都拷贝\n",
    "a = np.arange(14)"
   ]
  },
  {
   "cell_type": "code",
   "execution_count": 36,
   "id": "2e65f6c0",
   "metadata": {},
   "outputs": [
    {
     "data": {
      "text/plain": [
       "array([ 0,  1,  2,  3,  4,  5,  6,  7,  8,  9, 10, 11, 12, 13])"
      ]
     },
     "execution_count": 36,
     "metadata": {},
     "output_type": "execute_result"
    }
   ],
   "source": [
    "a"
   ]
  },
  {
   "cell_type": "code",
   "execution_count": 37,
   "id": "216ebd84",
   "metadata": {},
   "outputs": [],
   "source": [
    "c = a.copy()"
   ]
  },
  {
   "cell_type": "code",
   "execution_count": 38,
   "id": "f836ea7d",
   "metadata": {},
   "outputs": [
    {
     "data": {
      "text/plain": [
       "array([ 0,  1,  2,  3,  4,  5,  6,  7,  8,  9, 10, 11, 12, 13])"
      ]
     },
     "execution_count": 38,
     "metadata": {},
     "output_type": "execute_result"
    }
   ],
   "source": [
    "c"
   ]
  },
  {
   "cell_type": "code",
   "execution_count": 39,
   "id": "8ac90cf6",
   "metadata": {},
   "outputs": [],
   "source": [
    "c[0] = 100"
   ]
  },
  {
   "cell_type": "code",
   "execution_count": 40,
   "id": "8f913970",
   "metadata": {},
   "outputs": [
    {
     "data": {
      "text/plain": [
       "array([100,   1,   2,   3,   4,   5,   6,   7,   8,   9,  10,  11,  12,\n",
       "        13])"
      ]
     },
     "execution_count": 40,
     "metadata": {},
     "output_type": "execute_result"
    }
   ],
   "source": [
    "c"
   ]
  },
  {
   "cell_type": "code",
   "execution_count": 41,
   "id": "c4fc931c",
   "metadata": {},
   "outputs": [
    {
     "data": {
      "text/plain": [
       "array([ 0,  1,  2,  3,  4,  5,  6,  7,  8,  9, 10, 11, 12, 13])"
      ]
     },
     "execution_count": 41,
     "metadata": {},
     "output_type": "execute_result"
    }
   ],
   "source": [
    "a"
   ]
  },
  {
   "cell_type": "markdown",
   "id": "d8c8e5bc",
   "metadata": {},
   "source": [
    "## 8）文件操作"
   ]
  },
  {
   "cell_type": "markdown",
   "id": "4ab2f931",
   "metadata": {},
   "source": [
    "### 1.保存文件"
   ]
  },
  {
   "cell_type": "code",
   "execution_count": 1,
   "id": "af181e57",
   "metadata": {},
   "outputs": [],
   "source": [
    "import numpy as np\n"
   ]
  },
  {
   "cell_type": "code",
   "execution_count": 5,
   "id": "5bfb8424",
   "metadata": {},
   "outputs": [],
   "source": [
    "score = np.random.randint(11,23,size=(3,4))"
   ]
  },
  {
   "cell_type": "code",
   "execution_count": 6,
   "id": "02ae8843",
   "metadata": {},
   "outputs": [
    {
     "data": {
      "text/plain": [
       "array([[20, 20, 12, 18],\n",
       "       [13, 12, 12, 20],\n",
       "       [12, 11, 17, 15]])"
      ]
     },
     "execution_count": 6,
     "metadata": {},
     "output_type": "execute_result"
    }
   ],
   "source": [
    "score"
   ]
  },
  {
   "cell_type": "code",
   "execution_count": 4,
   "id": "56bab94e",
   "metadata": {},
   "outputs": [
    {
     "name": "stdout",
     "output_type": "stream",
     "text": [
      "Help on function savetxt in module numpy:\n",
      "\n",
      "savetxt(fname, X, fmt='%.18e', delimiter=' ', newline='\\n', header='', footer='', comments='# ', encoding=None)\n",
      "    Save an array to a text file.\n",
      "    \n",
      "    Parameters\n",
      "    ----------\n",
      "    fname : filename or file handle\n",
      "        If the filename ends in ``.gz``, the file is automatically saved in\n",
      "        compressed gzip format.  `loadtxt` understands gzipped files\n",
      "        transparently.\n",
      "    X : 1D or 2D array_like\n",
      "        Data to be saved to a text file.\n",
      "    fmt : str or sequence of strs, optional\n",
      "        A single format (%10.5f), a sequence of formats, or a\n",
      "        multi-format string, e.g. 'Iteration %d -- %10.5f', in which\n",
      "        case `delimiter` is ignored. For complex `X`, the legal options\n",
      "        for `fmt` are:\n",
      "    \n",
      "        * a single specifier, `fmt='%.4e'`, resulting in numbers formatted\n",
      "          like `' (%s+%sj)' % (fmt, fmt)`\n",
      "        * a full string specifying every real and imaginary part, e.g.\n",
      "          `' %.4e %+.4ej %.4e %+.4ej %.4e %+.4ej'` for 3 columns\n",
      "        * a list of specifiers, one per column - in this case, the real\n",
      "          and imaginary part must have separate specifiers,\n",
      "          e.g. `['%.3e + %.3ej', '(%.15e%+.15ej)']` for 2 columns\n",
      "    delimiter : str, optional\n",
      "        String or character separating columns.\n",
      "    newline : str, optional\n",
      "        String or character separating lines.\n",
      "    \n",
      "        .. versionadded:: 1.5.0\n",
      "    header : str, optional\n",
      "        String that will be written at the beginning of the file.\n",
      "    \n",
      "        .. versionadded:: 1.7.0\n",
      "    footer : str, optional\n",
      "        String that will be written at the end of the file.\n",
      "    \n",
      "        .. versionadded:: 1.7.0\n",
      "    comments : str, optional\n",
      "        String that will be prepended to the ``header`` and ``footer`` strings,\n",
      "        to mark them as comments. Default: '# ',  as expected by e.g.\n",
      "        ``numpy.loadtxt``.\n",
      "    \n",
      "        .. versionadded:: 1.7.0\n",
      "    encoding : {None, str}, optional\n",
      "        Encoding used to encode the outputfile. Does not apply to output\n",
      "        streams. If the encoding is something other than 'bytes' or 'latin1'\n",
      "        you will not be able to load the file in NumPy versions < 1.14. Default\n",
      "        is 'latin1'.\n",
      "    \n",
      "        .. versionadded:: 1.14.0\n",
      "    \n",
      "    \n",
      "    See Also\n",
      "    --------\n",
      "    save : Save an array to a binary file in NumPy ``.npy`` format\n",
      "    savez : Save several arrays into an uncompressed ``.npz`` archive\n",
      "    savez_compressed : Save several arrays into a compressed ``.npz`` archive\n",
      "    \n",
      "    Notes\n",
      "    -----\n",
      "    Further explanation of the `fmt` parameter\n",
      "    (``%[flag]width[.precision]specifier``):\n",
      "    \n",
      "    flags:\n",
      "        ``-`` : left justify\n",
      "    \n",
      "        ``+`` : Forces to precede result with + or -.\n",
      "    \n",
      "        ``0`` : Left pad the number with zeros instead of space (see width).\n",
      "    \n",
      "    width:\n",
      "        Minimum number of characters to be printed. The value is not truncated\n",
      "        if it has more characters.\n",
      "    \n",
      "    precision:\n",
      "        - For integer specifiers (eg. ``d,i,o,x``), the minimum number of\n",
      "          digits.\n",
      "        - For ``e, E`` and ``f`` specifiers, the number of digits to print\n",
      "          after the decimal point.\n",
      "        - For ``g`` and ``G``, the maximum number of significant digits.\n",
      "        - For ``s``, the maximum number of characters.\n",
      "    \n",
      "    specifiers:\n",
      "        ``c`` : character\n",
      "    \n",
      "        ``d`` or ``i`` : signed decimal integer\n",
      "    \n",
      "        ``e`` or ``E`` : scientific notation with ``e`` or ``E``.\n",
      "    \n",
      "        ``f`` : decimal floating point\n",
      "    \n",
      "        ``g,G`` : use the shorter of ``e,E`` or ``f``\n",
      "    \n",
      "        ``o`` : signed octal\n",
      "    \n",
      "        ``s`` : string of characters\n",
      "    \n",
      "        ``u`` : unsigned decimal integer\n",
      "    \n",
      "        ``x,X`` : unsigned hexadecimal integer\n",
      "    \n",
      "    This explanation of ``fmt`` is not complete, for an exhaustive\n",
      "    specification see [1]_.\n",
      "    \n",
      "    References\n",
      "    ----------\n",
      "    .. [1] `Format Specification Mini-Language\n",
      "           <https://docs.python.org/library/string.html#format-specification-mini-language>`_,\n",
      "           Python Documentation.\n",
      "    \n",
      "    Examples\n",
      "    --------\n",
      "    >>> x = y = z = np.arange(0.0,5.0,1.0)\n",
      "    >>> np.savetxt('test.out', x, delimiter=',')   # X is an array\n",
      "    >>> np.savetxt('test.out', (x,y,z))   # x,y,z equal sized 1D arrays\n",
      "    >>> np.savetxt('test.out', x, fmt='%1.4e')   # use exponential notation\n",
      "\n"
     ]
    }
   ],
   "source": [
    "help(np.savetxt)"
   ]
  },
  {
   "cell_type": "code",
   "execution_count": 9,
   "id": "181a66ff",
   "metadata": {},
   "outputs": [],
   "source": [
    "np.savetxt('score.csv',score,delimiter=',',header='1,2,3',comments='')"
   ]
  },
  {
   "cell_type": "code",
   "execution_count": 10,
   "id": "2c18c26a",
   "metadata": {},
   "outputs": [],
   "source": [
    "np.savetxt('score2.csv',score,delimiter=',',header='1,2,3',comments='',fmt='%d')"
   ]
  },
  {
   "cell_type": "markdown",
   "id": "060295f7",
   "metadata": {},
   "source": [
    "### 2.读取文件"
   ]
  },
  {
   "cell_type": "code",
   "execution_count": 15,
   "id": "320007f0",
   "metadata": {},
   "outputs": [
    {
     "name": "stderr",
     "output_type": "stream",
     "text": [
      "C:\\Users\\Administrator\\AppData\\Local\\Temp\\ipykernel_6440\\3386699932.py:1: DeprecationWarning: loadtxt(): Parsing an integer via a float is deprecated.  To avoid this warning, you can:\n",
      "    * make sure the original data is stored as integers.\n",
      "    * use the `converters=` keyword argument.  If you only use\n",
      "      NumPy 1.23 or later, `converters=float` will normally work.\n",
      "    * Use `np.loadtxt(...).astype(np.int64)` parsing the file as\n",
      "      floating point and then convert it.  (On all NumPy versions.)\n",
      "  (Deprecated NumPy 1.23)\n",
      "  np.loadtxt('score.csv',dtype=np.int32,delimiter=',',skiprows=1)\n"
     ]
    },
    {
     "data": {
      "text/plain": [
       "array([[20, 20, 12, 18],\n",
       "       [13, 12, 12, 20],\n",
       "       [12, 11, 17, 15]])"
      ]
     },
     "execution_count": 15,
     "metadata": {},
     "output_type": "execute_result"
    }
   ],
   "source": [
    "np.loadtxt('score.csv',dtype=np.int32,delimiter=',',skiprows=1)"
   ]
  },
  {
   "cell_type": "markdown",
   "id": "413313b7",
   "metadata": {},
   "source": [
    "### 3.np独有的存储解决方案"
   ]
  },
  {
   "cell_type": "code",
   "execution_count": 16,
   "id": "689aabbe",
   "metadata": {},
   "outputs": [],
   "source": [
    "c = np.random.randint(10,20,size=(2,3))"
   ]
  },
  {
   "cell_type": "code",
   "execution_count": 17,
   "id": "affd7302",
   "metadata": {},
   "outputs": [],
   "source": [
    "np.save('c',c)"
   ]
  },
  {
   "cell_type": "code",
   "execution_count": 19,
   "id": "62ee419f",
   "metadata": {},
   "outputs": [
    {
     "data": {
      "text/plain": [
       "array([[15, 17, 16],\n",
       "       [11, 16, 10]])"
      ]
     },
     "execution_count": 19,
     "metadata": {},
     "output_type": "execute_result"
    }
   ],
   "source": [
    "np.load('c.npy')"
   ]
  },
  {
   "cell_type": "code",
   "execution_count": 21,
   "id": "e4227b5d",
   "metadata": {},
   "outputs": [],
   "source": [
    "##该方法可以保存多维数组\n",
    "d = np.random.randint(10,20,size=(2,3,4))"
   ]
  },
  {
   "cell_type": "code",
   "execution_count": 22,
   "id": "5532c2a7",
   "metadata": {},
   "outputs": [
    {
     "data": {
      "text/plain": [
       "array([[[19, 19, 14, 10],\n",
       "        [15, 19, 11, 18],\n",
       "        [12, 12, 11, 10]],\n",
       "\n",
       "       [[13, 10, 13, 11],\n",
       "        [12, 14, 17, 11],\n",
       "        [12, 11, 12, 17]]])"
      ]
     },
     "execution_count": 22,
     "metadata": {},
     "output_type": "execute_result"
    }
   ],
   "source": [
    "d"
   ]
  },
  {
   "cell_type": "code",
   "execution_count": 23,
   "id": "15177f64",
   "metadata": {},
   "outputs": [
    {
     "ename": "AttributeError",
     "evalue": "module 'numpy' has no attribute 'savetext'",
     "output_type": "error",
     "traceback": [
      "\u001b[1;31m---------------------------------------------------------------------------\u001b[0m",
      "\u001b[1;31mAttributeError\u001b[0m                            Traceback (most recent call last)",
      "Cell \u001b[1;32mIn[23], line 1\u001b[0m\n\u001b[1;32m----> 1\u001b[0m np\u001b[38;5;241m.\u001b[39msavetext(\u001b[38;5;124m'\u001b[39m\u001b[38;5;124md.csv\u001b[39m\u001b[38;5;124m'\u001b[39m,d)\n",
      "File \u001b[1;32mC:\\ProgramData\\anaconda3\\Lib\\site-packages\\numpy\\__init__.py:320\u001b[0m, in \u001b[0;36m__getattr__\u001b[1;34m(attr)\u001b[0m\n\u001b[0;32m    317\u001b[0m     \u001b[38;5;28;01mfrom\u001b[39;00m \u001b[38;5;21;01m.\u001b[39;00m\u001b[38;5;21;01mtesting\u001b[39;00m \u001b[38;5;28;01mimport\u001b[39;00m Tester\n\u001b[0;32m    318\u001b[0m     \u001b[38;5;28;01mreturn\u001b[39;00m Tester\n\u001b[1;32m--> 320\u001b[0m \u001b[38;5;28;01mraise\u001b[39;00m \u001b[38;5;167;01mAttributeError\u001b[39;00m(\u001b[38;5;124m\"\u001b[39m\u001b[38;5;124mmodule \u001b[39m\u001b[38;5;132;01m{!r}\u001b[39;00m\u001b[38;5;124m has no attribute \u001b[39m\u001b[38;5;124m\"\u001b[39m\n\u001b[0;32m    321\u001b[0m                      \u001b[38;5;124m\"\u001b[39m\u001b[38;5;132;01m{!r}\u001b[39;00m\u001b[38;5;124m\"\u001b[39m\u001b[38;5;241m.\u001b[39mformat(\u001b[38;5;18m__name__\u001b[39m, attr))\n",
      "\u001b[1;31mAttributeError\u001b[0m: module 'numpy' has no attribute 'savetext'"
     ]
    }
   ],
   "source": [
    "np.savetext('d.csv',d)"
   ]
  },
  {
   "cell_type": "code",
   "execution_count": 24,
   "id": "c76359ba",
   "metadata": {},
   "outputs": [],
   "source": [
    "np.save('d',d)"
   ]
  },
  {
   "cell_type": "code",
   "execution_count": 26,
   "id": "9a964310",
   "metadata": {},
   "outputs": [
    {
     "data": {
      "text/plain": [
       "array([[[19, 19, 14, 10],\n",
       "        [15, 19, 11, 18],\n",
       "        [12, 12, 11, 10]],\n",
       "\n",
       "       [[13, 10, 13, 11],\n",
       "        [12, 14, 17, 11],\n",
       "        [12, 11, 12, 17]]])"
      ]
     },
     "execution_count": 26,
     "metadata": {},
     "output_type": "execute_result"
    }
   ],
   "source": [
    "np.load('d.npy')"
   ]
  },
  {
   "cell_type": "markdown",
   "id": "ce2c16f7",
   "metadata": {},
   "source": [
    "总结：\n",
    "* np.savetxt和np.loadtxt一般用来操作csv文件，可以设置header，但不能存储3维以上的数组\n",
    "* np.save和np.load一般用来存储非文本类型文件，不可以设置header，但可以存储3维以上数组"
   ]
  },
  {
   "cell_type": "markdown",
   "id": "f5a77a8e",
   "metadata": {},
   "source": [
    "## NAN和INF值处理"
   ]
  },
  {
   "cell_type": "markdown",
   "id": "57e0ca1c",
   "metadata": {},
   "source": [
    "* NAN不是一个数字，但属于浮点类型\n",
    "* INF表示无穷大，可以正无穷也可以负无穷"
   ]
  },
  {
   "cell_type": "code",
   "execution_count": 53,
   "id": "dfb7a9d5",
   "metadata": {},
   "outputs": [],
   "source": [
    "import numpy as np"
   ]
  },
  {
   "cell_type": "code",
   "execution_count": 28,
   "id": "107c45f7",
   "metadata": {},
   "outputs": [
    {
     "data": {
      "text/plain": [
       "array([[5, 5, 0, 4, 8],\n",
       "       [6, 2, 1, 6, 3],\n",
       "       [2, 8, 2, 9, 7]])"
      ]
     },
     "execution_count": 28,
     "metadata": {},
     "output_type": "execute_result"
    }
   ],
   "source": [
    "data = np.random.randint(0,10,size=(3,5))\n",
    "data"
   ]
  },
  {
   "cell_type": "code",
   "execution_count": 29,
   "id": "693fa5b6",
   "metadata": {},
   "outputs": [
    {
     "ename": "ValueError",
     "evalue": "cannot convert float NaN to integer",
     "output_type": "error",
     "traceback": [
      "\u001b[1;31m---------------------------------------------------------------------------\u001b[0m",
      "\u001b[1;31mValueError\u001b[0m                                Traceback (most recent call last)",
      "Cell \u001b[1;32mIn[29], line 1\u001b[0m\n\u001b[1;32m----> 1\u001b[0m data[\u001b[38;5;241m0\u001b[39m,\u001b[38;5;241m1\u001b[39m] \u001b[38;5;241m=\u001b[39m np\u001b[38;5;241m.\u001b[39mNAN\n",
      "\u001b[1;31mValueError\u001b[0m: cannot convert float NaN to integer"
     ]
    }
   ],
   "source": [
    "data[0,1] = np.NAN#必须是浮点类型才行"
   ]
  },
  {
   "cell_type": "code",
   "execution_count": 32,
   "id": "c92c29b0",
   "metadata": {},
   "outputs": [],
   "source": [
    "data = data.astype(np.float64)\n",
    "data[0,1] = np.NAN"
   ]
  },
  {
   "cell_type": "code",
   "execution_count": 33,
   "id": "d5ebe264",
   "metadata": {},
   "outputs": [
    {
     "data": {
      "text/plain": [
       "array([[ 5., nan,  0.,  4.,  8.],\n",
       "       [ 6.,  2.,  1.,  6.,  3.],\n",
       "       [ 2.,  8.,  2.,  9.,  7.]])"
      ]
     },
     "execution_count": 33,
     "metadata": {},
     "output_type": "execute_result"
    }
   ],
   "source": [
    "data"
   ]
  },
  {
   "cell_type": "code",
   "execution_count": 34,
   "id": "14f4d9e6",
   "metadata": {},
   "outputs": [
    {
     "name": "stderr",
     "output_type": "stream",
     "text": [
      "C:\\Users\\Administrator\\AppData\\Local\\Temp\\ipykernel_6440\\1771165735.py:1: RuntimeWarning: divide by zero encountered in divide\n",
      "  data/0\n",
      "C:\\Users\\Administrator\\AppData\\Local\\Temp\\ipykernel_6440\\1771165735.py:1: RuntimeWarning: invalid value encountered in divide\n",
      "  data/0\n"
     ]
    },
    {
     "data": {
      "text/plain": [
       "array([[inf, nan, nan, inf, inf],\n",
       "       [inf, inf, inf, inf, inf],\n",
       "       [inf, inf, inf, inf, inf]])"
      ]
     },
     "execution_count": 34,
     "metadata": {},
     "output_type": "execute_result"
    }
   ],
   "source": [
    "data/0"
   ]
  },
  {
   "cell_type": "markdown",
   "id": "c0efab08",
   "metadata": {},
   "source": [
    "nan和nan不相等"
   ]
  },
  {
   "cell_type": "code",
   "execution_count": 37,
   "id": "259a64bd",
   "metadata": {},
   "outputs": [
    {
     "data": {
      "text/plain": [
       "False"
      ]
     },
     "execution_count": 37,
     "metadata": {},
     "output_type": "execute_result"
    }
   ],
   "source": [
    "np.NAN == np.NAN"
   ]
  },
  {
   "cell_type": "code",
   "execution_count": 38,
   "id": "2f82f334",
   "metadata": {},
   "outputs": [
    {
     "data": {
      "text/plain": [
       "nan"
      ]
     },
     "execution_count": 38,
     "metadata": {},
     "output_type": "execute_result"
    }
   ],
   "source": [
    "data[0,1]*2"
   ]
  },
  {
   "cell_type": "markdown",
   "id": "e7dafe17",
   "metadata": {},
   "source": [
    "### 删除缺失值"
   ]
  },
  {
   "cell_type": "code",
   "execution_count": 39,
   "id": "f104ad08",
   "metadata": {},
   "outputs": [
    {
     "data": {
      "text/plain": [
       "array([[ 5., nan,  0.,  4.,  8.],\n",
       "       [ 6.,  2.,  1.,  6.,  3.],\n",
       "       [ 2.,  8.,  2.,  9.,  7.]])"
      ]
     },
     "execution_count": 39,
     "metadata": {},
     "output_type": "execute_result"
    }
   ],
   "source": [
    "data"
   ]
  },
  {
   "cell_type": "code",
   "execution_count": 40,
   "id": "aeef5639",
   "metadata": {},
   "outputs": [
    {
     "data": {
      "text/plain": [
       "array([[ 5., nan,  0.,  4.,  8.],\n",
       "       [ 6.,  2., nan,  6.,  3.],\n",
       "       [ 2.,  8.,  2.,  9.,  7.]])"
      ]
     },
     "execution_count": 40,
     "metadata": {},
     "output_type": "execute_result"
    }
   ],
   "source": [
    "data[1,2] = np.NAN\n",
    "data"
   ]
  },
  {
   "cell_type": "code",
   "execution_count": 42,
   "id": "44e0a023",
   "metadata": {},
   "outputs": [
    {
     "data": {
      "text/plain": [
       "array([[False,  True, False, False, False],\n",
       "       [False, False,  True, False, False],\n",
       "       [False, False, False, False, False]])"
      ]
     },
     "execution_count": 42,
     "metadata": {},
     "output_type": "execute_result"
    }
   ],
   "source": [
    "##所有NAN删除\n",
    "np.isnan(data)"
   ]
  },
  {
   "cell_type": "code",
   "execution_count": 45,
   "id": "347a554d",
   "metadata": {},
   "outputs": [
    {
     "data": {
      "text/plain": [
       "array([5., 0., 4., 8., 6., 2., 6., 3., 2., 8., 2., 9., 7.])"
      ]
     },
     "execution_count": 45,
     "metadata": {},
     "output_type": "execute_result"
    }
   ],
   "source": [
    "data[~np.isnan(data)]#变成一维数组"
   ]
  },
  {
   "cell_type": "code",
   "execution_count": 51,
   "id": "979cd43f",
   "metadata": {},
   "outputs": [],
   "source": [
    "##删除nan所在的行\n",
    "lines = np.where(np.isnan(data))[0]#返回索引，以元组形式"
   ]
  },
  {
   "cell_type": "code",
   "execution_count": 52,
   "id": "4d6451c6",
   "metadata": {},
   "outputs": [
    {
     "data": {
      "text/plain": [
       "array([[2., 8., 2., 9., 7.]])"
      ]
     },
     "execution_count": 52,
     "metadata": {},
     "output_type": "execute_result"
    }
   ],
   "source": [
    "np.delete(data,lines,axis=0)"
   ]
  },
  {
   "cell_type": "markdown",
   "id": "ac3a0ad9",
   "metadata": {},
   "source": [
    "### 用其他值进行替代"
   ]
  },
  {
   "cell_type": "code",
   "execution_count": 80,
   "id": "bb101943",
   "metadata": {},
   "outputs": [
    {
     "data": {
      "text/plain": [
       "array([['59', '89'],\n",
       "       ['90', '32'],\n",
       "       ['78', '45'],\n",
       "       ['34', ''],\n",
       "       ['', '56'],\n",
       "       ['23', '56']], dtype='<U2')"
      ]
     },
     "execution_count": 80,
     "metadata": {},
     "output_type": "execute_result"
    }
   ],
   "source": [
    "scores = np.loadtxt('nan_scores.csv',delimiter=',',skiprows=1,dtype=np.str_)\n",
    "scores"
   ]
  },
  {
   "cell_type": "code",
   "execution_count": 83,
   "id": "440e44c4",
   "metadata": {},
   "outputs": [],
   "source": [
    "scores = scores.astype(dtype='<U4') ##注意长度"
   ]
  },
  {
   "cell_type": "code",
   "execution_count": 85,
   "id": "cca0bf0c",
   "metadata": {},
   "outputs": [
    {
     "ename": "ValueError",
     "evalue": "could not convert string to float: ''",
     "output_type": "error",
     "traceback": [
      "\u001b[1;31m---------------------------------------------------------------------------\u001b[0m",
      "\u001b[1;31mValueError\u001b[0m                                Traceback (most recent call last)",
      "Cell \u001b[1;32mIn[85], line 1\u001b[0m\n\u001b[1;32m----> 1\u001b[0m scores\u001b[38;5;241m.\u001b[39mastype(np\u001b[38;5;241m.\u001b[39mfloat64)\n",
      "\u001b[1;31mValueError\u001b[0m: could not convert string to float: ''"
     ]
    }
   ],
   "source": [
    "scores.astype(np.float64)"
   ]
  },
  {
   "cell_type": "code",
   "execution_count": 86,
   "id": "49c3a591",
   "metadata": {},
   "outputs": [],
   "source": [
    "scores[scores == ''] = np.nan"
   ]
  },
  {
   "cell_type": "code",
   "execution_count": 87,
   "id": "b2e0f1b0",
   "metadata": {},
   "outputs": [
    {
     "data": {
      "text/plain": [
       "array([['59', '89'],\n",
       "       ['90', '32'],\n",
       "       ['78', '45'],\n",
       "       ['34', 'nan'],\n",
       "       ['nan', '56'],\n",
       "       ['23', '56']], dtype='<U4')"
      ]
     },
     "execution_count": 87,
     "metadata": {},
     "output_type": "execute_result"
    }
   ],
   "source": [
    "scores"
   ]
  },
  {
   "cell_type": "code",
   "execution_count": 89,
   "id": "2b27e532",
   "metadata": {},
   "outputs": [],
   "source": [
    "scores1 = scores.astype(np.float64)"
   ]
  },
  {
   "cell_type": "code",
   "execution_count": 90,
   "id": "05fee3d0",
   "metadata": {},
   "outputs": [
    {
     "data": {
      "text/plain": [
       "array([[59., 89.],\n",
       "       [90., 32.],\n",
       "       [78., 45.],\n",
       "       [34., nan],\n",
       "       [nan, 56.],\n",
       "       [23., 56.]])"
      ]
     },
     "execution_count": 90,
     "metadata": {},
     "output_type": "execute_result"
    }
   ],
   "source": [
    "scores1"
   ]
  },
  {
   "cell_type": "code",
   "execution_count": 91,
   "id": "63e929f9",
   "metadata": {},
   "outputs": [],
   "source": [
    "scores1[np.isnan(scores1)] = 0"
   ]
  },
  {
   "cell_type": "code",
   "execution_count": 93,
   "id": "4de3a5cd",
   "metadata": {},
   "outputs": [
    {
     "data": {
      "text/plain": [
       "562.0"
      ]
     },
     "execution_count": 93,
     "metadata": {},
     "output_type": "execute_result"
    }
   ],
   "source": [
    "scores1.sum()"
   ]
  },
  {
   "cell_type": "code",
   "execution_count": 94,
   "id": "d0c83f6e",
   "metadata": {},
   "outputs": [
    {
     "data": {
      "text/plain": [
       "array([148., 122., 123.,  34.,  56.,  79.])"
      ]
     },
     "execution_count": 94,
     "metadata": {},
     "output_type": "execute_result"
    }
   ],
   "source": [
    "scores1.sum(axis=1)"
   ]
  },
  {
   "cell_type": "code",
   "execution_count": 98,
   "id": "0c128e66",
   "metadata": {},
   "outputs": [
    {
     "data": {
      "text/plain": [
       "array([[59., 89.],\n",
       "       [90., 32.],\n",
       "       [78., 45.],\n",
       "       [34., nan],\n",
       "       [nan, 56.],\n",
       "       [23., 56.]])"
      ]
     },
     "execution_count": 98,
     "metadata": {},
     "output_type": "execute_result"
    }
   ],
   "source": [
    "scores2 = scores.astype(np.float64)\n",
    "scores2"
   ]
  },
  {
   "cell_type": "code",
   "execution_count": 100,
   "id": "e2a52396",
   "metadata": {},
   "outputs": [
    {
     "data": {
      "text/plain": [
       "2"
      ]
     },
     "execution_count": 100,
     "metadata": {},
     "output_type": "execute_result"
    }
   ],
   "source": [
    "scores2.shape[1]"
   ]
  },
  {
   "cell_type": "code",
   "execution_count": 109,
   "id": "fd613624",
   "metadata": {},
   "outputs": [
    {
     "data": {
      "text/plain": [
       "array([[59. , 89. ],\n",
       "       [90. , 32. ],\n",
       "       [78. , 45. ],\n",
       "       [34. , 55.6],\n",
       "       [56.8, 56. ],\n",
       "       [23. , 56. ]])"
      ]
     },
     "execution_count": 109,
     "metadata": {},
     "output_type": "execute_result"
    }
   ],
   "source": [
    "for x in range(scores2.shape[1]):\n",
    "    col = scores2[:,x]\n",
    "    non_nan_col = col[~np.isnan(col)]\n",
    "    mean = non_nan_col.mean()\n",
    "    col[np.isnan(col)] = mean\n",
    "scores2\n"
   ]
  },
  {
   "cell_type": "code",
   "execution_count": 114,
   "id": "00ca5464",
   "metadata": {},
   "outputs": [
    {
     "data": {
      "text/plain": [
       "array([148. , 122. , 123. ,  89.6, 112.8,  79. ])"
      ]
     },
     "execution_count": 114,
     "metadata": {},
     "output_type": "execute_result"
    }
   ],
   "source": [
    "scores2.sum(axis=1)"
   ]
  },
  {
   "cell_type": "markdown",
   "id": "aa2d0b62",
   "metadata": {},
   "source": [
    "总结：\n",
    "* NAN代表的是not a number，不是一个数字，但它属于浮点类型\n",
    "* INF：无穷大\n",
    "* NAN和所有的值进行运算都是NAN\n",
    "* NAN不等于NAN\n",
    "* 可以通过np.isnan判断某个值是不是NAN\n",
    "* 处理值，可以通过删除或者替换的方式处理"
   ]
  },
  {
   "cell_type": "markdown",
   "id": "d290f0f3",
   "metadata": {},
   "source": [
    "## 各种模块和函数"
   ]
  },
  {
   "cell_type": "markdown",
   "id": "c0a2d5e8",
   "metadata": {},
   "source": [
    "### 1.np.random模块"
   ]
  },
  {
   "cell_type": "code",
   "execution_count": 1,
   "id": "69f80f10",
   "metadata": {},
   "outputs": [],
   "source": [
    "import numpy as np"
   ]
  },
  {
   "cell_type": "code",
   "execution_count": 14,
   "id": "6557f848",
   "metadata": {},
   "outputs": [
    {
     "data": {
      "text/plain": [
       "0.417022004702574"
      ]
     },
     "execution_count": 14,
     "metadata": {},
     "output_type": "execute_result"
    }
   ],
   "source": [
    "np.random.seed(1) ###固定时间戳，使rand函数产生的值不管运行多少次都是固定值\n",
    "np.random.rand()"
   ]
  },
  {
   "cell_type": "code",
   "execution_count": 16,
   "id": "693be061",
   "metadata": {},
   "outputs": [
    {
     "data": {
      "text/plain": [
       "array([[[0.87811744, 0.02738759, 0.67046751, 0.4173048 ],\n",
       "        [0.55868983, 0.14038694, 0.19810149, 0.80074457],\n",
       "        [0.96826158, 0.31342418, 0.69232262, 0.87638915]]])"
      ]
     },
     "execution_count": 16,
     "metadata": {},
     "output_type": "execute_result"
    }
   ],
   "source": [
    "np.random.rand(1,3,4) ##指定维度"
   ]
  },
  {
   "cell_type": "code",
   "execution_count": 18,
   "id": "4a1e883a",
   "metadata": {},
   "outputs": [
    {
     "data": {
      "text/plain": [
       "array([[-0.85005238,  0.96082   , -0.21741818],\n",
       "       [ 0.15851488,  0.87341823, -0.11138337]])"
      ]
     },
     "execution_count": 18,
     "metadata": {},
     "output_type": "execute_result"
    }
   ],
   "source": [
    "np.random.randn(2,3)  ##标准正态分布"
   ]
  },
  {
   "cell_type": "code",
   "execution_count": 20,
   "id": "c0a7e6a1",
   "metadata": {},
   "outputs": [
    {
     "data": {
      "text/plain": [
       "array([[35, 29, 16],\n",
       "       [18, 10, 12]])"
      ]
     },
     "execution_count": 20,
     "metadata": {},
     "output_type": "execute_result"
    }
   ],
   "source": [
    "np.random.randint(10,40,size=(2,3))  ##指定区间的整型随机数"
   ]
  },
  {
   "cell_type": "code",
   "execution_count": 23,
   "id": "b85161f2",
   "metadata": {},
   "outputs": [
    {
     "data": {
      "text/plain": [
       "array([[7, 7, 9, 7],\n",
       "       [3, 0, 8, 7],\n",
       "       [7, 1, 1, 3]])"
      ]
     },
     "execution_count": 23,
     "metadata": {},
     "output_type": "execute_result"
    }
   ],
   "source": [
    "data = np.arange(10)\n",
    "np.random.choice(data,size=(3,4))  ##只能数据中选择数"
   ]
  },
  {
   "cell_type": "code",
   "execution_count": 26,
   "id": "a1817073",
   "metadata": {},
   "outputs": [
    {
     "data": {
      "text/plain": [
       "array([ 3,  2,  0,  1, 10,  5,  9,  6,  4,  8,  7])"
      ]
     },
     "execution_count": 26,
     "metadata": {},
     "output_type": "execute_result"
    }
   ],
   "source": [
    "data1 = np.arange(11)\n",
    "np.random.shuffle(data1)  ##随机打乱数字\n",
    "data1"
   ]
  },
  {
   "cell_type": "code",
   "execution_count": null,
   "id": "7f72c6d7",
   "metadata": {},
   "outputs": [],
   "source": []
  }
 ],
 "metadata": {
  "kernelspec": {
   "display_name": "Python 3 (ipykernel)",
   "language": "python",
   "name": "python3"
  },
  "language_info": {
   "codemirror_mode": {
    "name": "ipython",
    "version": 3
   },
   "file_extension": ".py",
   "mimetype": "text/x-python",
   "name": "python",
   "nbconvert_exporter": "python",
   "pygments_lexer": "ipython3",
   "version": "3.11.5"
  }
 },
 "nbformat": 4,
 "nbformat_minor": 5
}
