{
 "cells": [
  {
   "cell_type": "markdown",
   "id": "e18222b0",
   "metadata": {},
   "source": [
    "## 3.1 穷举法"
   ]
  },
  {
   "cell_type": "code",
   "execution_count": null,
   "id": "ca310f20",
   "metadata": {},
   "outputs": [],
   "source": [
    "x = int(input('Enter an integer:'))\n",
    "ans = 0\n",
    "while ans**3 < abs(x):\n",
    "    ans = ans + 1\n",
    "if ans**3 != abs(x):\n",
    "    print(x,'is not a perfect cube')\n",
    "else:\n",
    "    if x < 0:\n",
    "        ans = -ans\n",
    "    print('Cube root if',x,'is',ans)"
   ]
  },
  {
   "cell_type": "markdown",
   "id": "24ccb972",
   "metadata": {},
   "source": [
    "练习：编写一个程序，要求用户输入一个整数，然后输出两个整数root和pwr，满足0 <pwr < 6，并且root**pwr等于用户输入的整数。如果不存在这样一对整数，则输出一条消息进行说明。"
   ]
  },
  {
   "cell_type": "code",
   "execution_count": 12,
   "id": "07dd6777",
   "metadata": {},
   "outputs": [
    {
     "name": "stdout",
     "output_type": "stream",
     "text": [
      "Enter an integer:8\n",
      "1 * 8.0 = 8\n",
      "2 * 4.0 = 8\n",
      "4 * 2.0 = 8\n"
     ]
    }
   ],
   "source": [
    "x = int(input('Enter an integer:'))\n",
    "pwr = 1\n",
    "while pwr < 6:\n",
    "    root = round(x/pwr,0)\n",
    "    if x%pwr == 0:\n",
    "        print(pwr,'*',root,'=',x)\n",
    "    pwr = pwr + 1"
   ]
  },
  {
   "cell_type": "code",
   "execution_count": 25,
   "id": "718f128d",
   "metadata": {},
   "outputs": [
    {
     "name": "stdout",
     "output_type": "stream",
     "text": [
      "Enter an integer:-27\n",
      "-27 ** 1 = -27\n",
      "对于 2 不存在整数root ,使得root** 2 = -27\n",
      "-3 ** 3 = -27\n",
      "对于 4 不存在整数root ,使得root** 4 = -27\n",
      "对于 5 不存在整数root ,使得root** 5 = -27\n"
     ]
    }
   ],
   "source": [
    "x = int(input('Enter an integer:'))\n",
    "root = 0\n",
    "for pwr in range(1,6):\n",
    "    while root**pwr<abs(x):\n",
    "        root=root+1\n",
    "    if root**pwr!=abs(x):\n",
    "        print('对于',pwr,'不存在整数root',',使得root**',pwr,'=',x)\n",
    "    else:\n",
    "        if x<0:\n",
    "            root=-root\n",
    "        print(root,'**',pwr,'=',x)\n",
    "    root=0"
   ]
  },
  {
   "cell_type": "markdown",
   "id": "b9a1ca44",
   "metadata": {},
   "source": [
    "## 3.2 for循环"
   ]
  },
  {
   "cell_type": "code",
   "execution_count": 1,
   "id": "d192bc62",
   "metadata": {},
   "outputs": [
    {
     "name": "stdout",
     "output_type": "stream",
     "text": [
      "0\n",
      "1\n",
      "2\n",
      "3\n"
     ]
    }
   ],
   "source": [
    "x=4\n",
    "for i in range(0, x): \n",
    "    print(i)"
   ]
  },
  {
   "cell_type": "code",
   "execution_count": 2,
   "id": "4ead75af",
   "metadata": {},
   "outputs": [
    {
     "name": "stdout",
     "output_type": "stream",
     "text": [
      "0\n",
      "1\n",
      "2\n",
      "3\n"
     ]
    }
   ],
   "source": [
    "x=4\n",
    "for i in range(0, x): \n",
    "    print(i)\n",
    "    x=5"
   ]
  },
  {
   "cell_type": "markdown",
   "id": "1b7e1705",
   "metadata": {},
   "source": [
    "循环中改变x，不影响迭代次数"
   ]
  },
  {
   "cell_type": "code",
   "execution_count": 3,
   "id": "57322dcf",
   "metadata": {},
   "outputs": [
    {
     "name": "stdout",
     "output_type": "stream",
     "text": [
      "0\n",
      "1\n",
      "2\n",
      "3\n",
      "0\n",
      "1\n",
      "0\n",
      "1\n",
      "0\n",
      "1\n"
     ]
    }
   ],
   "source": [
    "x=4\n",
    "for j in range(x):\n",
    "    for i in range(x):\n",
    "        print(i)\n",
    "        x=2"
   ]
  },
  {
   "cell_type": "code",
   "execution_count": 7,
   "id": "67839dfe",
   "metadata": {},
   "outputs": [
    {
     "name": "stdout",
     "output_type": "stream",
     "text": [
      "Enter an integer:27\n",
      "Cube root if 27 is 3\n"
     ]
    }
   ],
   "source": [
    "x = int(input('Enter an integer:'))\n",
    "for ans in range(0,abs(x)+1):\n",
    "    if ans**3>=abs(x):\n",
    "        break\n",
    "if ans**3!=abs(x):\n",
    "    print(x,'is not a perfect cube')\n",
    "else:\n",
    "    if x<0:\n",
    "        ans=-ans\n",
    "    print('Cube root if',x,'is',ans)"
   ]
  },
  {
   "cell_type": "code",
   "execution_count": 8,
   "id": "34310fd0",
   "metadata": {},
   "outputs": [
    {
     "name": "stdout",
     "output_type": "stream",
     "text": [
      "36\n"
     ]
    }
   ],
   "source": [
    "total=0\n",
    "for c in '12345678':\n",
    "    total=total+int(c)\n",
    "print(total)\n"
   ]
  },
  {
   "cell_type": "markdown",
   "id": "113f3c86",
   "metadata": {},
   "source": [
    "练习：假设s是包含多个小数的字符串，由逗号隔开，如s='1.23, 2.4, 3.123'。编写一个程序，输出s中所有数值的和。"
   ]
  },
  {
   "cell_type": "code",
   "execution_count": 16,
   "id": "41346028",
   "metadata": {},
   "outputs": [
    {
     "name": "stdout",
     "output_type": "stream",
     "text": [
      "6.753\n"
     ]
    }
   ],
   "source": [
    "x='1.23, 2.4, 3.123'\n",
    "x_split=x.split(',')\n",
    "total=0\n",
    "for i in x_split:\n",
    "    total=total+float(i)\n",
    "print(total)"
   ]
  },
  {
   "cell_type": "markdown",
   "id": "4e297386",
   "metadata": {},
   "source": [
    "## 3.3 近似解和二分查找"
   ]
  },
  {
   "cell_type": "markdown",
   "id": "52bc52cf",
   "metadata": {},
   "source": [
    "### 近似解"
   ]
  },
  {
   "cell_type": "code",
   "execution_count": null,
   "id": "86834c95",
   "metadata": {},
   "outputs": [],
   "source": [
    "x = int(input('please enter an interger: '))\n",
    "epsilon = 0.01\n",
    "step = epsilon**2\n",
    "numGuesses = 0\n",
    "ans = 0.0\n",
    "while abs(ans**2 - x) >= epsilon and ans<=x:\n",
    "    ans += step\n",
    "    numGuesses += 1\n",
    "print(\"numGuesses = \",numGuesses)\n",
    "if abs(ans**2 - x) >= epsilon:\n",
    "    print('no')\n",
    "else:\n",
    "    print(ans,\"**2 = \",x)"
   ]
  },
  {
   "cell_type": "markdown",
   "id": "c44b40da",
   "metadata": {},
   "source": [
    "### 二分法"
   ]
  },
  {
   "cell_type": "code",
   "execution_count": 27,
   "id": "1606e350",
   "metadata": {},
   "outputs": [
    {
     "name": "stdout",
     "output_type": "stream",
     "text": [
      "please enter an interger: 48\n",
      "low =  0.0 high =  48 ans =  24.0\n",
      "low =  0.0 high =  24.0 ans =  12.0\n",
      "low =  0.0 high =  12.0 ans =  6.0\n",
      "low =  6.0 high =  12.0 ans =  9.0\n",
      "low =  6.0 high =  9.0 ans =  7.5\n",
      "low =  6.0 high =  7.5 ans =  6.75\n",
      "low =  6.75 high =  7.5 ans =  7.125\n",
      "low =  6.75 high =  7.125 ans =  6.9375\n",
      "low =  6.75 high =  6.9375 ans =  6.84375\n",
      "low =  6.84375 high =  6.9375 ans =  6.890625\n",
      "low =  6.890625 high =  6.9375 ans =  6.9140625\n",
      "low =  6.9140625 high =  6.9375 ans =  6.92578125\n",
      "low =  6.92578125 high =  6.9375 ans =  6.931640625\n",
      "numGuesses =  13\n",
      "6.9287109375\n"
     ]
    }
   ],
   "source": [
    "x = int(input('please enter an interger: '))\n",
    "epsilon = 0.01\n",
    "numGuesses = 0\n",
    "low = 0.0\n",
    "high = max(low,x)\n",
    "ans =(low+high)/2\n",
    "while abs(ans**2-x)>=epsilon:\n",
    "    print('low = ',low,'high = ',high,'ans = ',ans)\n",
    "    numGuesses += 1\n",
    "    if ans**2 < x:\n",
    "        low = ans\n",
    "    else:\n",
    "        high = ans\n",
    "    ans = (low+high)/2\n",
    "print('numGuesses = ',numGuesses)\n",
    "print(ans)\n"
   ]
  },
  {
   "cell_type": "markdown",
   "id": "b168a7a4",
   "metadata": {},
   "source": [
    "练习：如果语句x=25被替换为x=-25，代码会如何运行？"
   ]
  },
  {
   "cell_type": "markdown",
   "id": "446d8605",
   "metadata": {},
   "source": [
    "答：会无限循环"
   ]
  },
  {
   "cell_type": "markdown",
   "id": "839bbf21",
   "metadata": {},
   "source": [
    "练习：应该如何修改图3-4中的代码，才能求出一个数的立方根？这个数既可以是正数，也可以是负数。"
   ]
  },
  {
   "cell_type": "code",
   "execution_count": 26,
   "id": "ec9a63d6",
   "metadata": {},
   "outputs": [
    {
     "name": "stdout",
     "output_type": "stream",
     "text": [
      "please enter an interger: 48\n",
      "low =  0.0 high =  48 ans =  24.0\n",
      "low =  0.0 high =  24.0 ans =  12.0\n",
      "low =  0.0 high =  12.0 ans =  6.0\n",
      "low =  0.0 high =  6.0 ans =  3.0\n",
      "low =  3.0 high =  6.0 ans =  4.5\n",
      "low =  3.0 high =  4.5 ans =  3.75\n",
      "low =  3.0 high =  3.75 ans =  3.375\n",
      "low =  3.375 high =  3.75 ans =  3.5625\n",
      "low =  3.5625 high =  3.75 ans =  3.65625\n",
      "low =  3.5625 high =  3.65625 ans =  3.609375\n",
      "low =  3.609375 high =  3.65625 ans =  3.6328125\n",
      "low =  3.6328125 high =  3.65625 ans =  3.64453125\n",
      "low =  3.6328125 high =  3.64453125 ans =  3.638671875\n",
      "low =  3.6328125 high =  3.638671875 ans =  3.6357421875\n",
      "numGuesses =  14\n",
      "3.63427734375\n"
     ]
    }
   ],
   "source": [
    "x = int(input('please enter an interger: '))\n",
    "if x < 0:\n",
    "    x_reverse = abs(x)\n",
    "else:\n",
    "    x_reverse = x\n",
    "epsilon = 0.01\n",
    "numGuesses = 0\n",
    "low = 0.0\n",
    "high = max(low,x_reverse)\n",
    "ans =(low+high)/2\n",
    "while abs(ans**3-x_reverse)>=epsilon:\n",
    "    print('low = ',low,'high = ',high,'ans = ',ans)\n",
    "    numGuesses += 1\n",
    "    if ans**3 < x_reverse:\n",
    "        low = ans\n",
    "    else:\n",
    "        high = ans\n",
    "    ans = (low+high)/2\n",
    "print('numGuesses = ',numGuesses)\n",
    "if x < 0:\n",
    "    print(-ans)\n",
    "else:\n",
    "    print(ans)\n"
   ]
  },
  {
   "cell_type": "markdown",
   "id": "7fe7b570",
   "metadata": {},
   "source": [
    "## 3.4 关于浮点数"
   ]
  },
  {
   "cell_type": "code",
   "execution_count": 6,
   "id": "e4b2749b",
   "metadata": {},
   "outputs": [
    {
     "name": "stdout",
     "output_type": "stream",
     "text": [
      "0.9999999999999999 is not 1.0\n"
     ]
    }
   ],
   "source": [
    "x=0.0\n",
    "for i in range(10):\n",
    "    x=x+0.1\n",
    "if x==1.0:\n",
    "    print(x, '=1.0')\n",
    "else:\n",
    "    print(x, 'is not 1.0')\n"
   ]
  },
  {
   "cell_type": "markdown",
   "id": "b65b559f",
   "metadata": {},
   "source": [
    "十进制小数转换成二进制小数采用\"乘2取整，顺序排列\"法。0.1无限循环"
   ]
  },
  {
   "cell_type": "markdown",
   "id": "9dc79b1f",
   "metadata": {},
   "source": [
    "十进制整数转换为二进制整数采用\"除2取余，逆序排列\"法。"
   ]
  },
  {
   "cell_type": "code",
   "execution_count": 9,
   "id": "5826e379",
   "metadata": {},
   "outputs": [
    {
     "data": {
      "text/plain": [
       "1.0"
      ]
     },
     "execution_count": 9,
     "metadata": {},
     "output_type": "execute_result"
    }
   ],
   "source": [
    "round(x,5)"
   ]
  },
  {
   "cell_type": "code",
   "execution_count": 14,
   "id": "3e7ca7fb",
   "metadata": {},
   "outputs": [
    {
     "name": "stdout",
     "output_type": "stream",
     "text": [
      "1.0 =1.0\n"
     ]
    }
   ],
   "source": [
    "x=0.0\n",
    "for i in range(10):\n",
    "    x=x+0.1\n",
    "if round(x,2)==1.0:\n",
    "    print(round(x,2), '=1.0')\n",
    "else:\n",
    "    print(round(x,2), 'is not 1.0')"
   ]
  },
  {
   "cell_type": "markdown",
   "id": "b49a9551",
   "metadata": {},
   "source": [
    "例如，编写代码时，abs(x - y) <0.0001就比x==y更好。"
   ]
  },
  {
   "cell_type": "markdown",
   "id": "6fdb9acf",
   "metadata": {},
   "source": [
    "## 3.5 牛顿-拉弗森法"
   ]
  },
  {
   "cell_type": "code",
   "execution_count": 20,
   "id": "62ff3ef8",
   "metadata": {},
   "outputs": [
    {
     "name": "stdout",
     "output_type": "stream",
     "text": [
      "4.8989887432139305 ** 2 =  24.0\n"
     ]
    }
   ],
   "source": [
    "##寻找x，满足x**2-24在epsilon和0之间\n",
    "epsilon = 0.01\n",
    "k = 24.0\n",
    "guess = k/2.0\n",
    "while abs(guess*guess-k)>=epsilon:\n",
    "    guess = guess-(guess**2-k)/(2*guess)\n",
    "print(guess,'** 2 = ',k)"
   ]
  },
  {
   "cell_type": "markdown",
   "id": "44b41f3c",
   "metadata": {},
   "source": [
    "练习：在牛顿-拉弗森法的实现中添加一些代码，跟踪求平方根所用的迭代次数。在这段代码的基础上编写一个程序，比较牛顿-拉弗森法和二分查找法的效率（你会发现牛顿-拉弗森法效率更高）。"
   ]
  },
  {
   "cell_type": "code",
   "execution_count": 25,
   "id": "17609394",
   "metadata": {},
   "outputs": [
    {
     "name": "stdout",
     "output_type": "stream",
     "text": [
      "please enter an interger: 48\n",
      "numGuesses =  5\n",
      "6.928203306700597 ** 2 =  48\n"
     ]
    }
   ],
   "source": [
    "x = int(input('please enter an interger: '))\n",
    "epsilon = 0.01\n",
    "numGuesses = 0\n",
    "guess = x/2.0\n",
    "while abs(guess*guess-x)>=epsilon:\n",
    "    guess = guess-(guess**2-x)/(2*guess)\n",
    "    numGuesses += 1\n",
    "print(\"numGuesses = \",numGuesses)\n",
    "print(guess,'** 2 = ',x)"
   ]
  },
  {
   "cell_type": "markdown",
   "id": "28c1e23e",
   "metadata": {},
   "source": [
    "**从效率上来看，牛顿>二分法>近似法**"
   ]
  },
  {
   "cell_type": "code",
   "execution_count": null,
   "id": "4960101b",
   "metadata": {},
   "outputs": [],
   "source": []
  }
 ],
 "metadata": {
  "kernelspec": {
   "display_name": "Python 3 (ipykernel)",
   "language": "python",
   "name": "python3"
  },
  "language_info": {
   "codemirror_mode": {
    "name": "ipython",
    "version": 3
   },
   "file_extension": ".py",
   "mimetype": "text/x-python",
   "name": "python",
   "nbconvert_exporter": "python",
   "pygments_lexer": "ipython3",
   "version": "3.9.13"
  }
 },
 "nbformat": 4,
 "nbformat_minor": 5
}
