{
 "cells": [
  {
   "cell_type": "markdown",
   "id": "f5d1ad6e",
   "metadata": {},
   "source": [
    "## 6.1 测试"
   ]
  },
  {
   "cell_type": "code",
   "execution_count": 14,
   "id": "d44c7848",
   "metadata": {},
   "outputs": [],
   "source": [
    "def isBigger(x, y):\n",
    "    \"\"\"假设x和y是整数\n",
    "    如果x小于y则返回True，否则返回False。\"\"\"\n"
   ]
  },
  {
   "cell_type": "markdown",
   "id": "7440eef0",
   "metadata": {},
   "source": [
    "对于上述函数，可能的输入有7种(根据就x=0or正or负）。如果使用来自每个子集的至少一个值对函数实现进行测试，就非常有可能（不一定）暴露可能存在的错误。"
   ]
  },
  {
   "cell_type": "markdown",
   "id": "2a29fbca",
   "metadata": {},
   "source": [
    "### 6.1.1 黑盒测试"
   ]
  },
  {
   "cell_type": "markdown",
   "id": "a79d0042",
   "metadata": {},
   "source": [
    "生成黑盒测试数据的有效方法是通过规范探索测试路径"
   ]
  },
  {
   "cell_type": "code",
   "execution_count": 15,
   "id": "ea3c4c45",
   "metadata": {},
   "outputs": [],
   "source": [
    "def sqrt(x, epsilon):\n",
    "    \"\"\"假设x和epsilon是浮点数\n",
    "        x >=\n",
    "        epsilon > 0\n",
    "        如果存在满足x-epsilon <=result*result <=x+epsilon的result，\n",
    "        就返回result\"\"\"\n"
   ]
  },
  {
   "cell_type": "markdown",
   "id": "48c7c32d",
   "metadata": {},
   "source": [
    "这个规范看上去只有两条路径：一条对应x=0，一条对应x > 0。但常识告诉我们，尽管测试这两种情形是必要的，但绝对不够。"
   ]
  },
  {
   "cell_type": "markdown",
   "id": "842b0a12",
   "metadata": {},
   "source": [
    "* 测试列表时，边界条件包括空列表、只有一个元素的列表以及包含列表的列表。\n",
    "* 测试数值时，典型的边界条件就是非常小的值、非常大的值和“正常”值。\n",
    "* 还需要考虑的一个重要边界条件是别名"
   ]
  },
  {
   "cell_type": "markdown",
   "id": "008713cb",
   "metadata": {},
   "source": [
    "### 6.1.2 白盒测试"
   ]
  },
  {
   "cell_type": "markdown",
   "id": "df8b2636",
   "metadata": {},
   "source": [
    "不检查代码内部结构，就不可能知道哪种测试用例能提供新的信息。"
   ]
  },
  {
   "cell_type": "code",
   "execution_count": 16,
   "id": "faf9463f",
   "metadata": {},
   "outputs": [],
   "source": [
    "def isPrime(x):\n",
    "    \"\"\"假设x是非负整数\n",
    "    如果x是素数，则返回True，否则返回False\"\"\"\n",
    "    if x <=2:\n",
    "        return False\n",
    "    for i in range(2, x):\n",
    "        if x%i==0:\n",
    "            return False\n",
    "        return True\n"
   ]
  },
  {
   "cell_type": "markdown",
   "id": "26764f74",
   "metadata": {},
   "source": [
    "查看代码可知，因为测试条件为if x <=2，所以0、1和2都可以作为一种特殊情形，都需要测试。如果不看这段代码，可能就不会测试isPrime(2)"
   ]
  },
  {
   "cell_type": "markdown",
   "id": "3e7d423e",
   "metadata": {},
   "source": [
    "### 6.1.3 执行测试"
   ]
  },
  {
   "cell_type": "markdown",
   "id": "8a339297",
   "metadata": {},
   "source": [
    "## 6.2 调试"
   ]
  },
  {
   "cell_type": "markdown",
   "id": "ece08908",
   "metadata": {},
   "source": [
    "运行错误有以下两个维度：\n",
    "* 显性-隐形\n",
    "* 持续-间歇"
   ]
  },
  {
   "cell_type": "markdown",
   "id": "f126f366",
   "metadata": {},
   "source": [
    "### 6.2.1 学习调试"
   ]
  },
  {
   "cell_type": "markdown",
   "id": "212123a3",
   "metadata": {},
   "source": [
    "* 研究现有数据\n",
    "* 建立一个符合所有现有数据的假设\n",
    "* 设计并运行一个能够推翻上述假设的可重复实验\n",
    "* 最后记录实验过程"
   ]
  },
  {
   "cell_type": "markdown",
   "id": "b2795eb2",
   "metadata": {},
   "source": [
    "### 6.2.2 设计实验"
   ]
  },
  {
   "cell_type": "code",
   "execution_count": 24,
   "id": "828dc2f6",
   "metadata": {},
   "outputs": [],
   "source": [
    "def isPal(x):\n",
    "    \"\"\"假设x是列表\n",
    "    如果列表是回文，则返回True，否则返回False\"\"\"\n",
    "    temp = x\n",
    "    temp.reverse\n",
    "    if temp == x:\n",
    "        return True\n",
    "    else:\n",
    "        return False\n",
    "\n",
    "def silly(n):\n",
    "    \"\"\"假设n是正整数\n",
    "        接受用户的n个输入\n",
    "        如果所有输入组成一个列表，则返回Yes,否则返回No\n",
    "        \"\"\"\n",
    "    for i in range(n):\n",
    "        result = []\n",
    "        elem = input('Enter element:')\n",
    "        result.append(elem)\n",
    "    if isPal(result):\n",
    "        print('Yes')\n",
    "    else:\n",
    "        print('No')"
   ]
  },
  {
   "cell_type": "code",
   "execution_count": 25,
   "id": "30eaef7e",
   "metadata": {},
   "outputs": [
    {
     "name": "stdout",
     "output_type": "stream",
     "text": [
      "Enter element:a\n",
      "Enter element:b\n",
      "Yes\n"
     ]
    }
   ],
   "source": [
    "silly(2)"
   ]
  },
  {
   "cell_type": "markdown",
   "id": "6bd4e607",
   "metadata": {},
   "source": [
    "一般来说，最好的方法是执行二分查找。先找出代码中间点，然后设计一个实验，确定是否因为中间点前面存在问题才导致程序出现这种症状。"
   ]
  },
  {
   "cell_type": "markdown",
   "id": "d7b10422",
   "metadata": {},
   "source": [
    "step1.很明显，我们需要检查result的值是否是['a', 'b']。"
   ]
  },
  {
   "cell_type": "code",
   "execution_count": 26,
   "id": "bff895d4",
   "metadata": {},
   "outputs": [],
   "source": [
    "def isPal(x):\n",
    "    \"\"\"假设x是列表\n",
    "    如果列表是回文，则返回True，否则返回False\"\"\"\n",
    "    temp = x\n",
    "    temp.reverse\n",
    "    if temp == x:\n",
    "        return True\n",
    "    else:\n",
    "        return False\n",
    "\n",
    "def silly(n):\n",
    "    \"\"\"假设n是正整数\n",
    "        接受用户的n个输入\n",
    "        如果所有输入组成一个列表，则返回Yes,否则返回No\n",
    "        \"\"\"\n",
    "    for i in range(n):\n",
    "        result = []\n",
    "        elem = input('Enter element:')\n",
    "        result.append(elem)\n",
    "    print(result)\n",
    "    if isPal(result):\n",
    "        print('Yes')\n",
    "    else:\n",
    "        print('No')"
   ]
  },
  {
   "cell_type": "code",
   "execution_count": 27,
   "id": "829864b7",
   "metadata": {},
   "outputs": [
    {
     "name": "stdout",
     "output_type": "stream",
     "text": [
      "Enter element:a\n",
      "Enter element:b\n",
      "['b']\n",
      "Yes\n"
     ]
    }
   ],
   "source": [
    "silly(2)"
   ]
  },
  {
   "cell_type": "markdown",
   "id": "0564e978",
   "metadata": {},
   "source": [
    "step2.这次很快发现，result中的元素从来不会多于1个，这说明对result的初始化应该移到for循环的外面。"
   ]
  },
  {
   "cell_type": "code",
   "execution_count": 28,
   "id": "b7ee9f80",
   "metadata": {},
   "outputs": [],
   "source": [
    "def isPal(x):\n",
    "    \"\"\"假设x是列表\n",
    "    如果列表是回文，则返回True，否则返回False\"\"\"\n",
    "    temp = x\n",
    "    temp.reverse\n",
    "    if temp == x:\n",
    "        return True\n",
    "    else:\n",
    "        return False\n",
    "\n",
    "def silly(n):\n",
    "    \"\"\"假设n是正整数\n",
    "        接受用户的n个输入\n",
    "        如果所有输入组成一个列表，则返回Yes,否则返回No\n",
    "        \"\"\"\n",
    "    result = []\n",
    "    for i in range(n):\n",
    "        elem = input('Enter element:')\n",
    "        result.append(elem)\n",
    "    print(result)\n",
    "    if isPal(result):\n",
    "        print('Yes')\n",
    "    else:\n",
    "        print('No')"
   ]
  },
  {
   "cell_type": "code",
   "execution_count": 29,
   "id": "c4c1ba32",
   "metadata": {},
   "outputs": [
    {
     "name": "stdout",
     "output_type": "stream",
     "text": [
      "Enter element:a\n",
      "Enter element:b\n",
      "['a', 'b']\n",
      "Yes\n"
     ]
    }
   ],
   "source": [
    "silly(2)"
   ]
  },
  {
   "cell_type": "markdown",
   "id": "f298f4c5",
   "metadata": {},
   "source": [
    "step3.但不幸的是，程序仍然输出Yes。于是，我们有理由相信print语句后面还有第二个错误，所以我们看一下isPal函数"
   ]
  },
  {
   "cell_type": "code",
   "execution_count": 31,
   "id": "be39f595",
   "metadata": {},
   "outputs": [],
   "source": [
    "def isPal(x):\n",
    "    \"\"\"假设x是列表\n",
    "    如果列表是回文，则返回True，否则返回False\"\"\"\n",
    "    temp = x\n",
    "    temp.reverse\n",
    "    print(temp,x)\n",
    "    if temp == x:\n",
    "        return True\n",
    "    else:\n",
    "        return False\n",
    "\n",
    "def silly(n):\n",
    "    \"\"\"假设n是正整数\n",
    "        接受用户的n个输入\n",
    "        如果所有输入组成一个列表，则返回Yes,否则返回No\n",
    "        \"\"\"\n",
    "    result = []\n",
    "    for i in range(n):\n",
    "        elem = input('Enter element:')\n",
    "        result.append(elem)\n",
    "    print(result)\n",
    "    if isPal(result):\n",
    "        print('Yes')\n",
    "    else:\n",
    "        print('No')"
   ]
  },
  {
   "cell_type": "code",
   "execution_count": 32,
   "id": "5bfcd44f",
   "metadata": {},
   "outputs": [
    {
     "name": "stdout",
     "output_type": "stream",
     "text": [
      "Enter element:a\n",
      "Enter element:b\n",
      "['a', 'b']\n",
      "['a', 'b'] ['a', 'b']\n",
      "Yes\n"
     ]
    }
   ],
   "source": [
    "silly(2)"
   ]
  },
  {
   "cell_type": "markdown",
   "id": "79dd0a9b",
   "metadata": {},
   "source": [
    "step4.发现在isPal函数中，我们将temp.reverse()错误地写成了temp.reverse，后者会返回一个内置的列表reverse方法，但不调用它。"
   ]
  },
  {
   "cell_type": "code",
   "execution_count": 37,
   "id": "f09fa696",
   "metadata": {},
   "outputs": [],
   "source": [
    "def isPal(x):\n",
    "    \"\"\"假设x是列表\n",
    "    如果列表是回文，则返回True，否则返回False\"\"\"\n",
    "    temp = x[:]\n",
    "    temp.reverse()\n",
    "    print(temp,x)\n",
    "    if temp == x:\n",
    "        return True\n",
    "    else:\n",
    "        return False\n",
    "\n",
    "def silly(n):\n",
    "    \"\"\"假设n是正整数\n",
    "        接受用户的n个输入\n",
    "        如果所有输入组成一个列表，则返回Yes,否则返回No\n",
    "        \"\"\"\n",
    "    result = []\n",
    "    for i in range(n):\n",
    "        elem = input('Enter element:')\n",
    "        result.append(elem)\n",
    "    print(result)\n",
    "    if isPal(result):\n",
    "        print('Yes')\n",
    "    else:\n",
    "        print('No')"
   ]
  },
  {
   "cell_type": "code",
   "execution_count": 38,
   "id": "f4474a3d",
   "metadata": {},
   "outputs": [
    {
     "name": "stdout",
     "output_type": "stream",
     "text": [
      "Enter element:a\n",
      "Enter element:b\n",
      "['a', 'b']\n",
      "['b', 'a'] ['a', 'b']\n",
      "No\n"
     ]
    }
   ],
   "source": [
    "silly(2)"
   ]
  },
  {
   "cell_type": "code",
   "execution_count": null,
   "id": "4111df94",
   "metadata": {},
   "outputs": [],
   "source": []
  }
 ],
 "metadata": {
  "kernelspec": {
   "display_name": "Python 3",
   "language": "python",
   "name": "python3"
  },
  "language_info": {
   "codemirror_mode": {
    "name": "ipython",
    "version": 3
   },
   "file_extension": ".py",
   "mimetype": "text/x-python",
   "name": "python",
   "nbconvert_exporter": "python",
   "pygments_lexer": "ipython3",
   "version": "3.8.8"
  }
 },
 "nbformat": 4,
 "nbformat_minor": 5
}
