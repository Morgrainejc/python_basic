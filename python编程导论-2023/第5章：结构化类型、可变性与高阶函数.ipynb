{
 "cells": [
  {
   "cell_type": "markdown",
   "id": "1c8931fd",
   "metadata": {},
   "source": [
    "## 5.1 元组"
   ]
  },
  {
   "cell_type": "code",
   "execution_count": 1,
   "id": "1a375329",
   "metadata": {},
   "outputs": [
    {
     "data": {
      "text/plain": [
       "1"
      ]
     },
     "execution_count": 1,
     "metadata": {},
     "output_type": "execute_result"
    }
   ],
   "source": [
    "(1)"
   ]
  },
  {
   "cell_type": "code",
   "execution_count": 2,
   "id": "232b0bb3",
   "metadata": {},
   "outputs": [
    {
     "data": {
      "text/plain": [
       "(1,)"
      ]
     },
     "execution_count": 2,
     "metadata": {},
     "output_type": "execute_result"
    }
   ],
   "source": [
    "(1,)"
   ]
  },
  {
   "cell_type": "markdown",
   "id": "61ff3dc7",
   "metadata": {},
   "source": [
    "(1)只不过是整数1的一种更加冗长的写法。要想表示包含1的单元素元组，我们应该写成(1, )，列表不需要"
   ]
  },
  {
   "cell_type": "code",
   "execution_count": 41,
   "id": "c2273e8f",
   "metadata": {},
   "outputs": [
    {
     "name": "stdout",
     "output_type": "stream",
     "text": [
      "((1, 'two', 3), 3.25)\n",
      "(1, 'two', 3, (1, 'two', 3), 3.25)\n",
      "(1, 'two', 3)\n",
      "(3, (1, 'two', 3), 3.25)\n"
     ]
    }
   ],
   "source": [
    "t1=(1, 'two', 3)\n",
    "t2=(t1, 3.25)\n",
    "print(t2)\n",
    "print((t1+t2))\n",
    "print((t1+t2)[3])\n",
    "print((t1+t2)[2:5])\n"
   ]
  },
  {
   "cell_type": "code",
   "execution_count": 4,
   "id": "5330fbc0",
   "metadata": {},
   "outputs": [
    {
     "name": "stdout",
     "output_type": "stream",
     "text": [
      "(1, 'two', 3, (1, 'two', 3), 3.25)\n"
     ]
    }
   ],
   "source": [
    "print(t1+t2)"
   ]
  },
  {
   "cell_type": "code",
   "execution_count": 6,
   "id": "9858f059",
   "metadata": {},
   "outputs": [
    {
     "name": "stdout",
     "output_type": "stream",
     "text": [
      "(1, 'two', 3, (1, 'two', 3), 3.25)\n"
     ]
    }
   ],
   "source": [
    "print((t1+t2))"
   ]
  },
  {
   "cell_type": "code",
   "execution_count": 12,
   "id": "8269a3f6",
   "metadata": {},
   "outputs": [],
   "source": [
    "a = t1+t2"
   ]
  },
  {
   "cell_type": "code",
   "execution_count": 13,
   "id": "f5b570bf",
   "metadata": {},
   "outputs": [
    {
     "data": {
      "text/plain": [
       "(1, 'two', 3, (1, 'two', 3), 3.25)"
      ]
     },
     "execution_count": 13,
     "metadata": {},
     "output_type": "execute_result"
    }
   ],
   "source": [
    "a"
   ]
  },
  {
   "cell_type": "code",
   "execution_count": 14,
   "id": "a7944079",
   "metadata": {},
   "outputs": [],
   "source": [
    "b = (t1+t2)"
   ]
  },
  {
   "cell_type": "code",
   "execution_count": 15,
   "id": "b5d32ce8",
   "metadata": {},
   "outputs": [
    {
     "data": {
      "text/plain": [
       "(1, 'two', 3, (1, 'two', 3), 3.25)"
      ]
     },
     "execution_count": 15,
     "metadata": {},
     "output_type": "execute_result"
    }
   ],
   "source": [
    "b"
   ]
  },
  {
   "cell_type": "code",
   "execution_count": 16,
   "id": "b1713fc2",
   "metadata": {},
   "outputs": [
    {
     "data": {
      "text/plain": [
       "True"
      ]
     },
     "execution_count": 16,
     "metadata": {},
     "output_type": "execute_result"
    }
   ],
   "source": [
    "a==b"
   ]
  },
  {
   "cell_type": "markdown",
   "id": "b3022446",
   "metadata": {},
   "source": [
    "### 序列与多重赋值"
   ]
  },
  {
   "cell_type": "markdown",
   "id": "52f26fb1",
   "metadata": {},
   "source": [
    "如果你知道一个序列（元组字符串）的长度，那么可以使用Python中的多重赋值语句方便地提取单个元素"
   ]
  },
  {
   "cell_type": "code",
   "execution_count": 19,
   "id": "b6ea202f",
   "metadata": {},
   "outputs": [],
   "source": [
    "x,y=(3,4)"
   ]
  },
  {
   "cell_type": "code",
   "execution_count": 20,
   "id": "eeb48808",
   "metadata": {},
   "outputs": [
    {
     "data": {
      "text/plain": [
       "3"
      ]
     },
     "execution_count": 20,
     "metadata": {},
     "output_type": "execute_result"
    }
   ],
   "source": [
    "x"
   ]
  },
  {
   "cell_type": "code",
   "execution_count": 21,
   "id": "7066a7e5",
   "metadata": {},
   "outputs": [],
   "source": [
    "a,b,c='xyz'"
   ]
  },
  {
   "cell_type": "code",
   "execution_count": 22,
   "id": "8eda36de",
   "metadata": {},
   "outputs": [
    {
     "data": {
      "text/plain": [
       "'x'"
      ]
     },
     "execution_count": 22,
     "metadata": {},
     "output_type": "execute_result"
    }
   ],
   "source": [
    "a"
   ]
  },
  {
   "cell_type": "markdown",
   "id": "8e570c51",
   "metadata": {},
   "source": [
    "## 5.2 范围"
   ]
  },
  {
   "cell_type": "markdown",
   "id": "359b805e",
   "metadata": {},
   "source": [
    "和字符串与元组一样，范围也是不可变的"
   ]
  },
  {
   "cell_type": "markdown",
   "id": "c8337740",
   "metadata": {},
   "source": [
    "for i in range(0,50,10):\n",
    "    print(i)"
   ]
  },
  {
   "cell_type": "code",
   "execution_count": 36,
   "id": "375cf9ed",
   "metadata": {},
   "outputs": [
    {
     "name": "stdout",
     "output_type": "stream",
     "text": [
      "50\n",
      "42\n",
      "34\n",
      "26\n",
      "18\n",
      "10\n",
      "2\n"
     ]
    }
   ],
   "source": [
    "for i in range(50,0,-8):\n",
    "    print(i)"
   ]
  },
  {
   "cell_type": "markdown",
   "id": "b959b283",
   "metadata": {},
   "source": [
    "除了连接操作和重复操作，其他所有能够在元组上进行的操作同样适用于范围"
   ]
  },
  {
   "cell_type": "code",
   "execution_count": 40,
   "id": "e7493478",
   "metadata": {},
   "outputs": [
    {
     "data": {
      "text/plain": [
       "4"
      ]
     },
     "execution_count": 40,
     "metadata": {},
     "output_type": "execute_result"
    }
   ],
   "source": [
    "range(10)[2:6][2]"
   ]
  },
  {
   "cell_type": "markdown",
   "id": "e20f2ca4",
   "metadata": {},
   "source": [
    "## 5.3 列表与可变性"
   ]
  },
  {
   "cell_type": "markdown",
   "id": "e5c6fe72",
   "metadata": {},
   "source": [
    "“使对象发生变化”与“将对象赋给变量”这二者之间的区别乍看上去不太明显，但如果你不断重复“在Python中，变量仅是个名称，就是贴在对象上的标签”这句话，没准儿就顿悟了。"
   ]
  },
  {
   "cell_type": "code",
   "execution_count": 42,
   "id": "853f2d09",
   "metadata": {},
   "outputs": [],
   "source": [
    "Techs=['MIT', 'Caltech']\n",
    "Ivys=['Harvard', 'Yale', 'Brown']"
   ]
  },
  {
   "cell_type": "code",
   "execution_count": 44,
   "id": "73b5af9c",
   "metadata": {},
   "outputs": [],
   "source": [
    "Univs=[Techs, Ivys]\n",
    "Univs1=[['MIT', 'Caltech'], ['Harvard', 'Yale', 'Brown']]"
   ]
  },
  {
   "cell_type": "code",
   "execution_count": 45,
   "id": "2dcb1cbe",
   "metadata": {},
   "outputs": [
    {
     "name": "stdout",
     "output_type": "stream",
     "text": [
      "Univs= [['MIT', 'Caltech'], ['Harvard', 'Yale', 'Brown']]\n",
      "Univs1= [['MIT', 'Caltech'], ['Harvard', 'Yale', 'Brown']]\n",
      "True\n"
     ]
    }
   ],
   "source": [
    "print('Univs=', Univs)\n",
    "print('Univs1=', Univs1)\n",
    "print(Univs==Univs1)\n"
   ]
  },
  {
   "cell_type": "code",
   "execution_count": 46,
   "id": "9f4a0267",
   "metadata": {},
   "outputs": [
    {
     "name": "stdout",
     "output_type": "stream",
     "text": [
      "True\n",
      "False\n",
      "Id of Univs= 2191469211776\n",
      "Id of Univs1= 2191469440000\n"
     ]
    }
   ],
   "source": [
    "print(Univs==Univs1) #测试值是否相等\n",
    "print(id(Univs)==id(Univs1)) #测试对象是否相等\n",
    "print('Id of Univs=', id(Univs))\n",
    "print('Id of Univs1=', id(Univs1))"
   ]
  },
  {
   "cell_type": "code",
   "execution_count": 47,
   "id": "96c3d93d",
   "metadata": {},
   "outputs": [],
   "source": [
    "Techs.append('RPI')"
   ]
  },
  {
   "cell_type": "code",
   "execution_count": 48,
   "id": "bf4744d2",
   "metadata": {},
   "outputs": [
    {
     "name": "stdout",
     "output_type": "stream",
     "text": [
      "Univs= [['MIT', 'Caltech', 'RPI'], ['Harvard', 'Yale', 'Brown']]\n",
      "Univs1= [['MIT', 'Caltech'], ['Harvard', 'Yale', 'Brown']]\n"
     ]
    }
   ],
   "source": [
    "print('Univs=', Univs)\n",
    "print('Univs1=', Univs1)\n"
   ]
  },
  {
   "cell_type": "markdown",
   "id": "f9cd611d",
   "metadata": {},
   "source": [
    "append方法具有副作用。它不创建一个新列表，而是通过向列表Techs的末尾添加一个新元素——字符串’RPI'——改变这个已有的列表。"
   ]
  },
  {
   "cell_type": "code",
   "execution_count": 49,
   "id": "0f88145e",
   "metadata": {},
   "outputs": [],
   "source": [
    "Techs.append(Ivys)"
   ]
  },
  {
   "cell_type": "code",
   "execution_count": 50,
   "id": "2278344d",
   "metadata": {},
   "outputs": [
    {
     "data": {
      "text/plain": [
       "['MIT', 'Caltech', 'RPI', ['Harvard', 'Yale', 'Brown']]"
      ]
     },
     "execution_count": 50,
     "metadata": {},
     "output_type": "execute_result"
    }
   ],
   "source": [
    "Techs"
   ]
  },
  {
   "cell_type": "markdown",
   "id": "84fb0835",
   "metadata": {},
   "source": [
    "我们将一个列表追加到另一个列表中时，如Techs.append(Ivys)，会保持原来的结构。也就是说，结果是一个包含列表的列表。如果我们不想保持原来的结构，而想将一个列表中的元素添加到另一个列表，那么可以使用列表连接操作或extend方法。"
   ]
  },
  {
   "cell_type": "code",
   "execution_count": 51,
   "id": "b2724f9d",
   "metadata": {},
   "outputs": [
    {
     "name": "stdout",
     "output_type": "stream",
     "text": [
      "L3= [1, 2, 3, 4, 5, 6]\n",
      "L1= [1, 2, 3, 4, 5, 6]\n",
      "L1= [1, 2, 3, 4, 5, 6, [4, 5, 6]]\n"
     ]
    }
   ],
   "source": [
    "L1=[1,2,3]\n",
    "L2=[4,5,6]\n",
    "L3=L1+L2\n",
    "print('L3=', L3)\n",
    "L1.extend(L2)\n",
    "print('L1=', L1)\n",
    "L1.append(L2)\n",
    "print('L1=', L1)\n"
   ]
  },
  {
   "cell_type": "markdown",
   "id": "3267c51f",
   "metadata": {},
   "source": [
    "xtend和append都会改变L1。"
   ]
  },
  {
   "cell_type": "markdown",
   "id": "73b19709",
   "metadata": {},
   "source": [
    "### 5.3.1 克隆"
   ]
  },
  {
   "cell_type": "code",
   "execution_count": 54,
   "id": "28e5d48d",
   "metadata": {},
   "outputs": [
    {
     "name": "stdout",
     "output_type": "stream",
     "text": [
      "L1= [2, 3, 4]\n"
     ]
    }
   ],
   "source": [
    "def removeDups(L1, L2):\n",
    "    \"\"\"假设L1和L2是列表，\n",
    "        删除L2中出现的L1中的元素\"\"\"\n",
    "    for e1 in L1:\n",
    "        if e1 in L2:\n",
    "            L1.remove(e1)\n",
    "L1=[1,2,3,4]\n",
    "L2=[1,2,5,6]\n",
    "removeDups(L1, L2)\n",
    "print('L1=', L1)"
   ]
  },
  {
   "cell_type": "markdown",
   "id": "3ba9eb83",
   "metadata": {},
   "source": [
    "本例中，内置计数器从0开始计数，程序发现了L1[0]在L2中，于是删除了它——将L1的长度减少到3。然后计数器增加1，代码继续检查L1[1]的值是否在L2中。请注意，这时已经不是初始的L1[1]的值（2）了，而是当前的L1[1]的值（3）"
   ]
  },
  {
   "cell_type": "code",
   "execution_count": 53,
   "id": "b214a024",
   "metadata": {},
   "outputs": [
    {
     "name": "stdout",
     "output_type": "stream",
     "text": [
      "L1= [3, 4]\n"
     ]
    }
   ],
   "source": [
    "def removeDups(L1, L2):\n",
    "    \"\"\"假设L1和L2是列表，\n",
    "        删除L2中出现的L1中的元素\"\"\"\n",
    "    for e1 in L1[:]:\n",
    "        if e1 in L2:\n",
    "            L1.remove(e1)\n",
    "L1=[1,2,3,4]\n",
    "L2=[1,2,5,6]\n",
    "removeDups(L1, L2)\n",
    "print('L1=', L1)"
   ]
  },
  {
   "cell_type": "markdown",
   "id": "25eb066e",
   "metadata": {},
   "source": [
    "避免这种问题的方法是使用切片操作克隆"
   ]
  },
  {
   "cell_type": "markdown",
   "id": "09270118",
   "metadata": {},
   "source": [
    "### 5.3.2 列表推导"
   ]
  },
  {
   "cell_type": "code",
   "execution_count": 55,
   "id": "936813f5",
   "metadata": {},
   "outputs": [
    {
     "name": "stdout",
     "output_type": "stream",
     "text": [
      "[1, 4, 9, 16, 25, 36]\n"
     ]
    }
   ],
   "source": [
    "L=[x**2 for x in range(1,7)]\n",
    "print(L)\n"
   ]
  },
  {
   "cell_type": "code",
   "execution_count": 56,
   "id": "2de200b7",
   "metadata": {},
   "outputs": [
    {
     "name": "stdout",
     "output_type": "stream",
     "text": [
      "[1, 4, 9]\n"
     ]
    }
   ],
   "source": [
    "mixed=[1, 2, 'a', 3, 4.0]\n",
    "print([x**2 for x in mixed if type(x)==int])\n"
   ]
  },
  {
   "cell_type": "markdown",
   "id": "e9257b71",
   "metadata": {},
   "source": [
    "## 5.4 函数对象"
   ]
  },
  {
   "cell_type": "markdown",
   "id": "cfd3556d",
   "metadata": {},
   "source": [
    "在Python中，函数是一等对象。这意味着我们可以像对待其他类型的对象（如int或list）一样对待函数。"
   ]
  },
  {
   "cell_type": "code",
   "execution_count": 1,
   "id": "e87cf059",
   "metadata": {},
   "outputs": [
    {
     "data": {
      "text/plain": [
       "int"
      ]
     },
     "execution_count": 1,
     "metadata": {},
     "output_type": "execute_result"
    }
   ],
   "source": [
    "type(1)"
   ]
  },
  {
   "cell_type": "code",
   "execution_count": 2,
   "id": "e1b4f41c",
   "metadata": {},
   "outputs": [
    {
     "data": {
      "text/plain": [
       "builtin_function_or_method"
      ]
     },
     "execution_count": 2,
     "metadata": {},
     "output_type": "execute_result"
    }
   ],
   "source": [
    "type(abs)"
   ]
  },
  {
   "cell_type": "markdown",
   "id": "736d4e22",
   "metadata": {},
   "source": [
    "使用函数作为实参可以实现一种名为高阶编程的编码方式，这种方式与列表结合使用非常方便"
   ]
  },
  {
   "cell_type": "code",
   "execution_count": 10,
   "id": "9147589f",
   "metadata": {},
   "outputs": [
    {
     "name": "stdout",
     "output_type": "stream",
     "text": [
      "L = [1, -2, 3.33]\n",
      "Apply abs to each element of L.\n",
      "L = [1, 2, 3.33]\n"
     ]
    }
   ],
   "source": [
    "def applyToEach(L,f):\n",
    "    \"\"\"假设L是列表，f是函数\n",
    "        将f(e)应用到L的每个元素，并用返回值替换原来的元素\"\"\"\n",
    "    for i in range(len(L)):\n",
    "        L[i] = f(L[i])\n",
    "        \n",
    "L = [1,-2,3.33]\n",
    "print('L =',L)\n",
    "print('Apply abs to each element of L.')\n",
    "applyToEach(L,abs)\n",
    "print('L =',L)\n"
   ]
  },
  {
   "cell_type": "markdown",
   "id": "8de86132",
   "metadata": {},
   "source": [
    "函数applyToEach被称为高阶函数，因为它有一个参数本身就是函数\n",
    "\n",
    "**Python中有一个内置的高阶函数map，它的功能与图5-5中定义的applyToEach函数相似，但适用范围更广。**"
   ]
  },
  {
   "cell_type": "markdown",
   "id": "cc7d9523",
   "metadata": {},
   "source": [
    "* 在map函数的最简形式中，第一个参数是个一元函数（即只有一个参数的函数），第二个参数是有序的值集合，集合中的值可以一元函数的参数。"
   ]
  },
  {
   "cell_type": "code",
   "execution_count": 13,
   "id": "bb2a679d",
   "metadata": {},
   "outputs": [
    {
     "name": "stdout",
     "output_type": "stream",
     "text": [
      "2\n",
      "6\n",
      "4\n"
     ]
    }
   ],
   "source": [
    "for i in map(abs, [-2, 6, 4]):\n",
    "    print(i)\n"
   ]
  },
  {
   "cell_type": "markdown",
   "id": "7b514621",
   "metadata": {},
   "source": [
    "* 更一般的形式是，map的第一个参数可以是具有n个参数的函数，在这种情况下，它后面必须跟随着n个有序集合（这些集合的长度都一样）。"
   ]
  },
  {
   "cell_type": "code",
   "execution_count": 14,
   "id": "b3d7fafc",
   "metadata": {},
   "outputs": [
    {
     "name": "stdout",
     "output_type": "stream",
     "text": [
      "1\n",
      "28\n",
      "9\n"
     ]
    }
   ],
   "source": [
    "L1=[1, 28, 36]\n",
    "L2=[2, 57, 9]\n",
    "for i in map(min, L1, L2):\n",
    "    print(i)\n"
   ]
  },
  {
   "cell_type": "markdown",
   "id": "d0511747",
   "metadata": {},
   "source": [
    "**Python还支持创建匿名函数（即没有绑定名称的函数），这时要使用保留字lambda。**"
   ]
  },
  {
   "cell_type": "code",
   "execution_count": 19,
   "id": "7a594792",
   "metadata": {},
   "outputs": [],
   "source": [
    "###表达式：lambda <sequence of variable names>: <expression>"
   ]
  },
  {
   "cell_type": "code",
   "execution_count": 22,
   "id": "b77d53c9",
   "metadata": {},
   "outputs": [
    {
     "name": "stdout",
     "output_type": "stream",
     "text": [
      "[1, 4, 3, 1]\n"
     ]
    }
   ],
   "source": [
    "L=[]\n",
    "for i in map(lambda x, y: x**y, [1 ,2 ,3, 4], [3, 2, 1, 0]):\n",
    "    L.append(i)\n",
    "print(L)\n"
   ]
  },
  {
   "cell_type": "markdown",
   "id": "62e6a44d",
   "metadata": {},
   "source": [
    "## 5.5 字符串、元组、范围与列表"
   ]
  },
  {
   "cell_type": "markdown",
   "id": "503e1ad5",
   "metadata": {},
   "source": [
    "它们均可以使用如下操作："
   ]
  },
  {
   "cell_type": "markdown",
   "id": "c9554f45",
   "metadata": {},
   "source": [
    "* seq[i]:返回第i个元素\n",
    "* len(seq):返回序列长度\n",
    "* seq1 + seq2:返回俩个序列的连接（不适用于range）\n",
    "* n*seq:返回重复了n次的seq序列\n",
    "* seq[start:end]:返回序列的一个切片\n",
    "* e in seq\n",
    "* e not in seq\n",
    "* for e in seq：遍历序列中的元素"
   ]
  },
  {
   "cell_type": "markdown",
   "id": "1dc49cf1",
   "metadata": {},
   "source": [
    "**除了列表，其他均不可变**"
   ]
  },
  {
   "cell_type": "markdown",
   "id": "84f386ed",
   "metadata": {},
   "source": [
    "split是常用字符串方法"
   ]
  },
  {
   "cell_type": "code",
   "execution_count": 24,
   "id": "e222a8d5",
   "metadata": {},
   "outputs": [
    {
     "data": {
      "text/plain": [
       "['jiang', 'chong', 'ni', 'jiajia']"
      ]
     },
     "execution_count": 24,
     "metadata": {},
     "output_type": "execute_result"
    }
   ],
   "source": [
    "a = 'jiang chong ni jiajia'\n",
    "a.split()"
   ]
  },
  {
   "cell_type": "code",
   "execution_count": 25,
   "id": "f99a5709",
   "metadata": {},
   "outputs": [
    {
     "data": {
      "text/plain": [
       "['jiang', 'chong', 'ni', 'jiajia']"
      ]
     },
     "execution_count": 25,
     "metadata": {},
     "output_type": "execute_result"
    }
   ],
   "source": [
    "a = 'jiang chong ni jiajia'\n",
    "a.split(' ')"
   ]
  },
  {
   "cell_type": "markdown",
   "id": "ec5dbac6",
   "metadata": {},
   "source": [
    "## 5.6 字典"
   ]
  },
  {
   "cell_type": "code",
   "execution_count": null,
   "id": "83ab75b7",
   "metadata": {},
   "outputs": [],
   "source": []
  }
 ],
 "metadata": {
  "kernelspec": {
   "display_name": "Python 3 (ipykernel)",
   "language": "python",
   "name": "python3"
  },
  "language_info": {
   "codemirror_mode": {
    "name": "ipython",
    "version": 3
   },
   "file_extension": ".py",
   "mimetype": "text/x-python",
   "name": "python",
   "nbconvert_exporter": "python",
   "pygments_lexer": "ipython3",
   "version": "3.9.13"
  }
 },
 "nbformat": 4,
 "nbformat_minor": 5
}
