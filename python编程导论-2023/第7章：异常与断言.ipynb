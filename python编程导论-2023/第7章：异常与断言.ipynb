{
 "cells": [
  {
   "cell_type": "markdown",
   "id": "676a5156",
   "metadata": {},
   "source": [
    "最常见的异常类型是TypeError、IndexError、NameError和ValueError。"
   ]
  },
  {
   "cell_type": "markdown",
   "id": "55e8a059",
   "metadata": {},
   "source": [
    "## 7.1 处理异常"
   ]
  },
  {
   "cell_type": "code",
   "execution_count": 4,
   "id": "aa6577ec",
   "metadata": {},
   "outputs": [
    {
     "name": "stdout",
     "output_type": "stream",
     "text": [
      "please enter a number:3\n",
      "please enter a number:0\n",
      "No failures, so the success/failure ratio is undefined.\n",
      "Now here\n"
     ]
    }
   ],
   "source": [
    "numSuccesses = int(input('please enter a number:'))\n",
    "numFailures = int(input('please enter a number:'))\n",
    "try:\n",
    "    successFailureRatio=numSuccesses/numFailures\n",
    "    print('The success/failure ratio is', successFailureRatio)\n",
    "except ZeroDivisionError:\n",
    "    print('No failures, so the success/failure ratio is undefined.')\n",
    "    print('Now here')\n"
   ]
  },
  {
   "cell_type": "markdown",
   "id": "84ead903",
   "metadata": {},
   "source": [
    "练习：实现一个满足以下规范的函数。请使用try-except代码块。"
   ]
  },
  {
   "cell_type": "code",
   "execution_count": 7,
   "id": "60310b37",
   "metadata": {},
   "outputs": [],
   "source": [
    "def sumDigits(s):\n",
    "    \"\"\"假设s是一个字符串\n",
    "    返回s中十进制数字之和\n",
    "    例如，如果s是'a2b3c'，则返回5\"\"\"\n",
    "    num = []\n",
    "    for i in s:\n",
    "        try:\n",
    "            number = int(i)\n",
    "            num.append(number)\n",
    "        except:\n",
    "            print('this is not number')\n",
    "            print(i)\n",
    "    huizong = 0\n",
    "    for number in num:\n",
    "        huizong = huizong + number\n",
    "    return huizong\n"
   ]
  },
  {
   "cell_type": "code",
   "execution_count": 10,
   "id": "88cfcc4f",
   "metadata": {},
   "outputs": [
    {
     "name": "stdout",
     "output_type": "stream",
     "text": [
      "this is not number\n",
      "s\n",
      "this is not number\n",
      "f\n"
     ]
    },
    {
     "data": {
      "text/plain": [
       "6"
      ]
     },
     "execution_count": 10,
     "metadata": {},
     "output_type": "execute_result"
    }
   ],
   "source": [
    "sumDigits('123sf')"
   ]
  },
  {
   "cell_type": "code",
   "execution_count": null,
   "id": "b373cbe5",
   "metadata": {},
   "outputs": [],
   "source": [
    "while True:\n",
    "    val=input('Enter an integer: ')\n",
    "    try:\n",
    "        val=int(val)\n",
    "        print('The square of the number you entered is', val**2)\n",
    "        break #跳出while循环\n",
    "    except ValueError:\n",
    "        print(val, 'is not an integer')\n"
   ]
  },
  {
   "cell_type": "markdown",
   "id": "f6bc1fc7",
   "metadata": {},
   "source": [
    "这个修改的负面影响是，程序代码从2行变成了8行"
   ]
  },
  {
   "cell_type": "code",
   "execution_count": 14,
   "id": "5092c0a5",
   "metadata": {},
   "outputs": [],
   "source": [
    "def readInt():\n",
    "    while True:\n",
    "        val=input('Enter an integer: ')\n",
    "        try:\n",
    "            return(int(val)) #返回前将str转换为int\n",
    "        except ValueError:\n",
    "            print(val, 'is not an integer')\n"
   ]
  },
  {
   "cell_type": "markdown",
   "id": "9a1c4e29",
   "metadata": {},
   "source": [
    "return 跳出整个方法，不需要再用break"
   ]
  },
  {
   "cell_type": "code",
   "execution_count": 16,
   "id": "3186f62a",
   "metadata": {},
   "outputs": [
    {
     "name": "stdout",
     "output_type": "stream",
     "text": [
      "Enter an integer: 3\n"
     ]
    },
    {
     "data": {
      "text/plain": [
       "3"
      ]
     },
     "execution_count": 16,
     "metadata": {},
     "output_type": "execute_result"
    }
   ],
   "source": [
    "readInt()"
   ]
  },
  {
   "cell_type": "code",
   "execution_count": 17,
   "id": "641a0b7a",
   "metadata": {},
   "outputs": [
    {
     "name": "stdout",
     "output_type": "stream",
     "text": [
      "Enter an integer: ab\n",
      "ab is not an integer\n",
      "Enter an integer: 3\n"
     ]
    },
    {
     "data": {
      "text/plain": [
       "3"
      ]
     },
     "execution_count": 17,
     "metadata": {},
     "output_type": "execute_result"
    }
   ],
   "source": [
    "readInt()"
   ]
  },
  {
   "cell_type": "markdown",
   "id": "47e8dd27",
   "metadata": {},
   "source": [
    "更棒的是，这个函数可以扩展为接受任意类型的输入"
   ]
  },
  {
   "cell_type": "code",
   "execution_count": null,
   "id": "fe3967a5",
   "metadata": {},
   "outputs": [],
   "source": [
    "def readVal(valType, requestMsg, errorMsg):\n",
    "    while True:\n",
    "        val=input(requestMsg+' ')\n",
    "        try:\n",
    "            return(valType(val)) #返回前将str转换为valType\n",
    "        except ValueError:\n",
    "            print(val, errorMsg)\n"
   ]
  },
  {
   "cell_type": "code",
   "execution_count": 23,
   "id": "88470c0e",
   "metadata": {},
   "outputs": [
    {
     "name": "stdout",
     "output_type": "stream",
     "text": [
      "Enter an integer: aab\n",
      "aab is not an integer\n",
      "Enter an integer: 3\n"
     ]
    },
    {
     "data": {
      "text/plain": [
       "3"
      ]
     },
     "execution_count": 23,
     "metadata": {},
     "output_type": "execute_result"
    }
   ],
   "source": [
    "readVal(int, 'Enter an integer:', 'is not an integer')"
   ]
  },
  {
   "cell_type": "markdown",
   "id": "67e5c93a",
   "metadata": {},
   "source": [
    "如果一段程序代码中可能引发的异常类型不止一种，那么保留字except后面可以接一个异常元组"
   ]
  },
  {
   "cell_type": "code",
   "execution_count": 25,
   "id": "a5877f00",
   "metadata": {},
   "outputs": [
    {
     "ename": "SyntaxError",
     "evalue": "invalid syntax (<ipython-input-25-7def59b44e6f>, line 1)",
     "output_type": "error",
     "traceback": [
      "\u001b[1;36m  File \u001b[1;32m\"<ipython-input-25-7def59b44e6f>\"\u001b[1;36m, line \u001b[1;32m1\u001b[0m\n\u001b[1;33m    except (ValueError, TypeError):\u001b[0m\n\u001b[1;37m    ^\u001b[0m\n\u001b[1;31mSyntaxError\u001b[0m\u001b[1;31m:\u001b[0m invalid syntax\n"
     ]
    }
   ],
   "source": [
    "except (ValueError, TypeError):"
   ]
  },
  {
   "cell_type": "markdown",
   "id": "0420dada",
   "metadata": {},
   "source": [
    "如果代码是这样的："
   ]
  },
  {
   "cell_type": "code",
   "execution_count": null,
   "id": "538445df",
   "metadata": {},
   "outputs": [],
   "source": [
    "except:"
   ]
  },
  {
   "cell_type": "markdown",
   "id": "94beaaa1",
   "metadata": {},
   "source": [
    "那么，如果try代码块中抛出任何一种异常，程序都会进入except代码块"
   ]
  },
  {
   "cell_type": "markdown",
   "id": "b4193dea",
   "metadata": {},
   "source": [
    "## 7.2 将异常用作控制流"
   ]
  },
  {
   "cell_type": "markdown",
   "id": "86c797be",
   "metadata": {},
   "source": [
    "Python语言中的raise语句可以强制引发一个特定的异常。"
   ]
  },
  {
   "cell_type": "code",
   "execution_count": 29,
   "id": "674a7193",
   "metadata": {},
   "outputs": [
    {
     "ename": "ValueError",
     "evalue": "a",
     "output_type": "error",
     "traceback": [
      "\u001b[1;31m---------------------------------------------------------------------------\u001b[0m",
      "\u001b[1;31mValueError\u001b[0m                                Traceback (most recent call last)",
      "\u001b[1;32m<ipython-input-29-7e19a7b3c378>\u001b[0m in \u001b[0;36m<module>\u001b[1;34m\u001b[0m\n\u001b[1;32m----> 1\u001b[1;33m \u001b[1;32mraise\u001b[0m \u001b[0mValueError\u001b[0m\u001b[1;33m(\u001b[0m\u001b[1;34m'a'\u001b[0m\u001b[1;33m)\u001b[0m\u001b[1;33m\u001b[0m\u001b[1;33m\u001b[0m\u001b[0m\n\u001b[0m",
      "\u001b[1;31mValueError\u001b[0m: a"
     ]
    }
   ],
   "source": [
    "raise ValueError('a')"
   ]
  },
  {
   "cell_type": "markdown",
   "id": "01ac0369",
   "metadata": {},
   "source": [
    "练习：实现一个满足以下规范的函数。"
   ]
  },
  {
   "cell_type": "code",
   "execution_count": 75,
   "id": "692f6c12",
   "metadata": {},
   "outputs": [],
   "source": [
    "def findAnEven(L):\n",
    "    \"\"\"假设L是一个整数列表\n",
    "    返回L中的第一个偶数\n",
    "    如果L中没有偶数，则抛出ValueError异常\"\"\"\n",
    "    for i in L:\n",
    "        try:\n",
    "            if i%2 == 0:\n",
    "                return(i)\n",
    "        except:\n",
    "            print(i ,'value error')\n",
    "        \n"
   ]
  },
  {
   "cell_type": "code",
   "execution_count": 76,
   "id": "d8b593f6",
   "metadata": {},
   "outputs": [
    {
     "name": "stdout",
     "output_type": "stream",
     "text": [
      "a value error\n"
     ]
    },
    {
     "data": {
      "text/plain": [
       "6"
      ]
     },
     "execution_count": 76,
     "metadata": {},
     "output_type": "execute_result"
    }
   ],
   "source": [
    "findAnEven(['a',6,4,'b'])"
   ]
  },
  {
   "cell_type": "markdown",
   "id": "4040b177",
   "metadata": {},
   "source": [
    "## 7.3 断言"
   ]
  },
  {
   "cell_type": "markdown",
   "id": "6971d8f5",
   "metadata": {},
   "source": [
    "Python语言中的assert语句为程序员提供了一种确保程序状态符合预期的简单方法。assert语句可以有以下两种形式：\n",
    "* assert Boolean expression\n",
    "* assert Boolean expression, argument\n"
   ]
  },
  {
   "cell_type": "code",
   "execution_count": 81,
   "id": "7f5698b9",
   "metadata": {},
   "outputs": [
    {
     "name": "stdout",
     "output_type": "stream",
     "text": [
      "请输入您的年龄:90\n"
     ]
    },
    {
     "ename": "AssertionError",
     "evalue": "",
     "output_type": "error",
     "traceback": [
      "\u001b[1;31m---------------------------------------------------------------------------\u001b[0m",
      "\u001b[1;31mAssertionError\u001b[0m                            Traceback (most recent call last)",
      "\u001b[1;32m<ipython-input-81-cb7fed0d7fca>\u001b[0m in \u001b[0;36m<module>\u001b[1;34m\u001b[0m\n\u001b[0;32m      1\u001b[0m \u001b[0ms_age\u001b[0m \u001b[1;33m=\u001b[0m \u001b[0minput\u001b[0m\u001b[1;33m(\u001b[0m\u001b[1;34m\"请输入您的年龄:\"\u001b[0m\u001b[1;33m)\u001b[0m\u001b[1;33m\u001b[0m\u001b[1;33m\u001b[0m\u001b[0m\n\u001b[0;32m      2\u001b[0m \u001b[0mage\u001b[0m \u001b[1;33m=\u001b[0m \u001b[0mint\u001b[0m\u001b[1;33m(\u001b[0m\u001b[0ms_age\u001b[0m\u001b[1;33m)\u001b[0m\u001b[1;33m\u001b[0m\u001b[1;33m\u001b[0m\u001b[0m\n\u001b[1;32m----> 3\u001b[1;33m \u001b[1;32massert\u001b[0m \u001b[1;36m20\u001b[0m \u001b[1;33m<\u001b[0m \u001b[0mage\u001b[0m \u001b[1;33m<\u001b[0m \u001b[1;36m80\u001b[0m\u001b[1;33m\u001b[0m\u001b[1;33m\u001b[0m\u001b[0m\n\u001b[0m\u001b[0;32m      4\u001b[0m \u001b[0mprint\u001b[0m\u001b[1;33m(\u001b[0m\u001b[1;34m\"您输入的年龄在20和80之间\"\u001b[0m\u001b[1;33m)\u001b[0m\u001b[1;33m\u001b[0m\u001b[1;33m\u001b[0m\u001b[0m\n",
      "\u001b[1;31mAssertionError\u001b[0m: "
     ]
    }
   ],
   "source": [
    "s_age = input(\"请输入您的年龄:\")\n",
    "age = int(s_age)\n",
    "assert 20 < age < 80\n",
    "print(\"您输入的年龄在20和80之间\")"
   ]
  },
  {
   "cell_type": "code",
   "execution_count": null,
   "id": "9a8a84fd",
   "metadata": {},
   "outputs": [],
   "source": []
  }
 ],
 "metadata": {
  "kernelspec": {
   "display_name": "Python 3",
   "language": "python",
   "name": "python3"
  },
  "language_info": {
   "codemirror_mode": {
    "name": "ipython",
    "version": 3
   },
   "file_extension": ".py",
   "mimetype": "text/x-python",
   "name": "python",
   "nbconvert_exporter": "python",
   "pygments_lexer": "ipython3",
   "version": "3.8.8"
  }
 },
 "nbformat": 4,
 "nbformat_minor": 5
}
