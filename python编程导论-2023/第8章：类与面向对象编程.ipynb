{
 "cells": [
  {
   "cell_type": "markdown",
   "id": "095fe0a8",
   "metadata": {},
   "source": [
    "## 8.1 抽象数据类型与类"
   ]
  },
  {
   "cell_type": "markdown",
   "id": "71b7b1f7",
   "metadata": {},
   "source": [
    "抽象数据类型的概念非常简单，抽象数据类型是一个由对象以及对象上的操作组成的集合，对象和操作被捆绑为一个整体，可以从程序的一个部分传递到另一个部分。"
   ]
  },
  {
   "cell_type": "markdown",
   "id": "88c7f57d",
   "metadata": {},
   "source": [
    "**在Python语言中，我们使用类实现数据抽象。**"
   ]
  },
  {
   "cell_type": "code",
   "execution_count": 25,
   "id": "440983dd",
   "metadata": {},
   "outputs": [],
   "source": [
    "class IntSet(object):\n",
    "    \"\"\"IntSet是一个整数集合\"\"\"\n",
    "    #关于实现（不是抽象）的信息\n",
    "    def __init__(self):\n",
    "        self.vals = []\n",
    "        \n",
    "    def insert(self,e):\n",
    "        if e not in self.vals:\n",
    "            self.vals.append(e)\n",
    "            \n",
    "    def member(self,e):\n",
    "        return e in self.vals\n",
    "    \n",
    "    def remove(self,e):\n",
    "        try:\n",
    "            self.vals.remove(e)\n",
    "        except:\n",
    "            raise ValueError(str(e)+'not found')\n",
    "    \n",
    "    def getMember(self):\n",
    "        return self.vals[:]\n",
    "    \n",
    "    def __str__(self):\n",
    "        self.vals.sort()\n",
    "        result = ''\n",
    "        for e in self.vals:\n",
    "            result = result + str(e) + ','\n",
    "        return '{' + result[:-1] + '}'"
   ]
  },
  {
   "cell_type": "code",
   "execution_count": 26,
   "id": "0fb89f0b",
   "metadata": {},
   "outputs": [
    {
     "name": "stdout",
     "output_type": "stream",
     "text": [
      "<class 'type'> <class 'function'>\n"
     ]
    }
   ],
   "source": [
    "print(type(IntSet),type(IntSet.insert))"
   ]
  },
  {
   "cell_type": "markdown",
   "id": "ded3554e",
   "metadata": {},
   "source": [
    "类定义会创建一个type类型的对象，并将这个类的对象与一组instancemethod类型的对象关联起来。"
   ]
  },
  {
   "cell_type": "markdown",
   "id": "0f61485e",
   "metadata": {},
   "source": [
    "类支持两种操作。\n",
    "* 实例化：创建类的实例。例如，语句s=IntSet()会创建一个新的IntSet类型的对象，这个对象就称为IntSet类的一个实例。\n",
    "* 属性引用：通过点标记法访问与类关联的属性。例如，s.insert表示与IntSet类型的实例s关联的insert方法。"
   ]
  },
  {
   "cell_type": "code",
   "execution_count": 27,
   "id": "d475e044",
   "metadata": {},
   "outputs": [
    {
     "name": "stdout",
     "output_type": "stream",
     "text": [
      "True\n"
     ]
    }
   ],
   "source": [
    "s=IntSet()\n",
    "s.insert(3)\n",
    "print(s.member(3))"
   ]
  },
  {
   "cell_type": "markdown",
   "id": "dc41fb4c",
   "metadata": {},
   "source": [
    "表达式中，点号前面的对象会被隐含地作为第一个实参传入方法。在本书中，我们会遵照惯例，使用self作为与这个实参绑定的形参名。"
   ]
  },
  {
   "cell_type": "markdown",
   "id": "060b0589",
   "metadata": {},
   "source": [
    "类中定义的最后一个方法是__str__，这也是一个特殊的方法。执行print命令时，会自动调用与待输出对象相关联的str方法。例如，以下代码："
   ]
  },
  {
   "cell_type": "code",
   "execution_count": 28,
   "id": "dbc3f3c6",
   "metadata": {},
   "outputs": [
    {
     "name": "stdout",
     "output_type": "stream",
     "text": [
      "True\n",
      "True\n",
      "{5,6}\n"
     ]
    }
   ],
   "source": [
    "s=IntSet()\n",
    "s.insert(5)\n",
    "s.insert(6)\n",
    "print(s.member(5))\n",
    "print(s.member(6))\n",
    "print(s)"
   ]
  },
  {
   "cell_type": "markdown",
   "id": "f0efe7cc",
   "metadata": {},
   "source": [
    "### 8.1.1 使用抽象数据类型设计程序"
   ]
  },
  {
   "cell_type": "markdown",
   "id": "c25dce43",
   "metadata": {},
   "source": [
    "举例来说，我们理解债券时，认为它具有利率和到期日这些数据属性，并具有如“定价”和“计算到期收入”这样的一些操作。"
   ]
  },
  {
   "cell_type": "markdown",
   "id": "3b4d0ecf",
   "metadata": {},
   "source": [
    "### 8.1.2 使用类记录学生与教师"
   ]
  },
  {
   "cell_type": "code",
   "execution_count": null,
   "id": "80388f17",
   "metadata": {},
   "outputs": [],
   "source": [
    "import datetime\n",
    "class Person(object):\n",
    "    def __init__(self,name):\n",
    "        \"\"\"创建一个人\"\"\"\n",
    "        self.name = name\n",
    "        try:\n",
    "            lastBlank = name.rindex(' ')\n",
    "            self.lastName = name[lastBlank+1:]\n",
    "        except:\n",
    "            self.lastName = name\n",
    "        self.birthday = None\n",
    "    \n",
    "    def getName(self):\n",
    "        \"\"\"返回self的全名\"\"\"\n",
    "        return self.name\n",
    "    \n",
    "    def getLastName(self):\n",
    "        \"\"\"返回self的姓\"\"\"\n",
    "        return self.lastName\n",
    "    \n",
    "    def setBirthday(self,birthdate):\n",
    "        \"\"\"假设birthday是datetime.date类型,将self的生日设置为birthday\"\"\"\n",
    "        self.birthday = birthdate\n",
    "        \n",
    "    def getAge(self):\n",
    "        \"\"\"返回self的当前年龄，用日表示\"\"\"\n",
    "        if self.birthday == None:\n",
    "            raise ValueError\n",
    "        return (datetime.date.today() - self.birthday).days\n",
    "    \n",
    "    def __lt__(self,other):\n",
    "        \"\"\"如果self按字母顺序位于other之前，则返回True，否则返回False。\n",
    "            首先按照姓进行比较，如果姓相同，就按照全名比较\"\"\"\n",
    "        if self.lastName == other.lastName:\n",
    "            return self.name < other.name\n",
    "        return self.lastName < other.lastName\n",
    "    \n",
    "    def __str__(self):\n",
    "        \"\"\"返回self的全名\"\"\"\n",
    "        return self.name\n",
    "        "
   ]
  },
  {
   "cell_type": "code",
   "execution_count": 38,
   "id": "87d22af9",
   "metadata": {},
   "outputs": [
    {
     "name": "stdout",
     "output_type": "stream",
     "text": [
      "Obama\n",
      "Barack Hussein Obama is 22787 days old\n"
     ]
    }
   ],
   "source": [
    "me=Person('Michael Guttag')\n",
    "him=Person('Barack Hussein Obama')\n",
    "her=Person('Madonna')\n",
    "print(him.getLastName())\n",
    "him.setBirthday(datetime.date(1961, 8, 4))\n",
    "her.setBirthday(datetime.date(1958, 8, 16))\n",
    "print(him.getName(), 'is', him.getAge(), 'days old')\n"
   ]
  },
  {
   "cell_type": "markdown",
   "id": "9352250a",
   "metadata": {},
   "source": [
    "一般来说，实例化一个类时，我们应该看一下这个类的__init__函数的规范，知道应该使用哪些参数，以及这些参数应该具有什么性质。"
   ]
  },
  {
   "cell_type": "markdown",
   "id": "9d8b2ec3",
   "metadata": {},
   "source": [
    "Person类还定义了一个带有特殊名称的方法__lt__，这个方法重载了<操作符。只要<操作符的第一个参数是Person类型，则调用Person.lt方法。Person类中的__lt__方法是使用str类型的二元操作符<实现的。"
   ]
  },
  {
   "cell_type": "code",
   "execution_count": 40,
   "id": "d3c52ba8",
   "metadata": {},
   "outputs": [
    {
     "name": "stdout",
     "output_type": "stream",
     "text": [
      "Michael Guttag\n",
      "Barack Hussein Obama\n",
      "Madonna\n"
     ]
    }
   ],
   "source": [
    "pList=[me, him, her]\n",
    "for p in pList:\n",
    "    print(p)"
   ]
  },
  {
   "cell_type": "code",
   "execution_count": 41,
   "id": "8a5ecf7e",
   "metadata": {},
   "outputs": [
    {
     "name": "stdout",
     "output_type": "stream",
     "text": [
      "Michael Guttag\n",
      "Madonna\n",
      "Barack Hussein Obama\n"
     ]
    }
   ],
   "source": [
    "pList.sort()\n",
    "for p in pList:\n",
    "    print(p)"
   ]
  },
  {
   "cell_type": "code",
   "execution_count": 42,
   "id": "415b4d3f",
   "metadata": {},
   "outputs": [
    {
     "name": "stdout",
     "output_type": "stream",
     "text": [
      "Michael Guttag\n"
     ]
    }
   ],
   "source": [
    "print(me)"
   ]
  },
  {
   "cell_type": "markdown",
   "id": "94fe39b6",
   "metadata": {},
   "source": [
    "## 8.2 继承"
   ]
  },
  {
   "cell_type": "markdown",
   "id": "89db565c",
   "metadata": {},
   "source": [
    "类MITPerson继承了它的父类Person中的属性，其中也包括Person从它的父类object中继承的所有属性。"
   ]
  },
  {
   "cell_type": "code",
   "execution_count": 61,
   "id": "b2ad7c0b",
   "metadata": {},
   "outputs": [],
   "source": [
    "class MITPerson(Person):\n",
    "    nextIdNum = 0 #identification number\n",
    "    \n",
    "    def __init__(self,name):\n",
    "        Person.__init__(self,name)\n",
    "        self.idNum = MITPerson.nextIdNum\n",
    "        MITPerson.nextIdNum += 1\n",
    "        \n",
    "    def getIdNum(self):\n",
    "        return self.idNum\n",
    "    \n",
    "    def __lt__(self,other):\n",
    "        return self.idNum < other.idNum\n",
    "    \n",
    "    def isStudent(self):\n",
    "            return isinstance(self, Student)\n"
   ]
  },
  {
   "cell_type": "markdown",
   "id": "65338c6f",
   "metadata": {},
   "source": [
    "* 添加新的属性。例如，子类MITPerson中新增了__类变量__nextIdNum、__实例变量__idNum和方法getIdNum。\n",
    "* 覆盖——也就是替换——超类中的属性。例如，MITPerson就覆盖了__init__和__lt__。"
   ]
  },
  {
   "cell_type": "markdown",
   "id": "ed032e77",
   "metadata": {},
   "source": [
    "创建一个新的MITPerson实例时，并不创建nextIdNum的新实例。这使得__init__方法可以确保每个MITPerson实例都具有唯一的idNum。即没有一个实例创建，nextIdNum就会增加1"
   ]
  },
  {
   "cell_type": "code",
   "execution_count": 62,
   "id": "12e74e52",
   "metadata": {},
   "outputs": [
    {
     "name": "stdout",
     "output_type": "stream",
     "text": [
      "Barbara Beaver's id number is 0\n"
     ]
    }
   ],
   "source": [
    "p1=MITPerson('Barbara Beaver')\n",
    "print(str(p1)+'\\'s id number is '+str(p1.getIdNum()))\n"
   ]
  },
  {
   "cell_type": "code",
   "execution_count": 63,
   "id": "f0b46852",
   "metadata": {},
   "outputs": [],
   "source": [
    "p1=MITPerson('Mark Guttag')\n",
    "p2=MITPerson('Billy Bob Beaver')\n",
    "p3=MITPerson('Billy Bob Beaver')\n",
    "p4=Person('Billy Bob Beaver')"
   ]
  },
  {
   "cell_type": "code",
   "execution_count": 64,
   "id": "4671215c",
   "metadata": {},
   "outputs": [
    {
     "name": "stdout",
     "output_type": "stream",
     "text": [
      "p1 < p2= True\n",
      "p3 < p2= False\n",
      "p4 < p1= True\n"
     ]
    }
   ],
   "source": [
    "print('p1 < p2=', p1 < p2)\n",
    "print('p3 < p2=', p3 < p2)\n",
    "print('p4 < p1=', p4 < p1)\n"
   ]
  },
  {
   "cell_type": "markdown",
   "id": "c36a6b9a",
   "metadata": {},
   "source": [
    "第三个比较表达式中，<操作符被应用在两个不同类型之间，因为调用哪种__lt__方法是由表达式的第一个参数决定的，p4 < p1是p4.__lt__(p1)的简写，所以解释器使用与p4的类型Person关联的__lt__方法，按照名字排序。"
   ]
  },
  {
   "cell_type": "markdown",
   "id": "9375bae7",
   "metadata": {},
   "source": [
    "### 8.2.1 多重继承"
   ]
  },
  {
   "cell_type": "code",
   "execution_count": 65,
   "id": "7fe4bf7a",
   "metadata": {},
   "outputs": [],
   "source": [
    "class Student(MITPerson):\n",
    "    pass\n",
    "\n",
    "class UG(Student):\n",
    "    def __init__(self,name,classYear):\n",
    "        MITPerson.__init__(self,name)\n",
    "        self.year = classYear\n",
    "    \n",
    "    def getClass(self):\n",
    "        return self.year\n",
    "    \n",
    "class Grad(Student):\n",
    "    pass"
   ]
  },
  {
   "cell_type": "markdown",
   "id": "ed933041",
   "metadata": {},
   "source": [
    "通过引入Grad类，我们可以获得这样一种能力，即创建两种不同类型的学生并使用他们的类型来区分各自的对象。"
   ]
  },
  {
   "cell_type": "code",
   "execution_count": 66,
   "id": "23f0fbaf",
   "metadata": {},
   "outputs": [
    {
     "name": "stdout",
     "output_type": "stream",
     "text": [
      "Buzz Aldrin is a graduate student is True\n",
      "Buzz Aldrin is an undergraduate student is False\n"
     ]
    }
   ],
   "source": [
    "p5=Grad('Buzz Aldrin')\n",
    "p6=UG('Billy Beaver', 1984)\n",
    "print(p5, 'is a graduate student is', type(p5)==Grad)\n",
    "print(p5, 'is an undergraduate student is', type(p5)==UG)"
   ]
  },
  {
   "cell_type": "markdown",
   "id": "04e75542",
   "metadata": {},
   "source": [
    "为MITPerson类，添加：\n"
   ]
  },
  {
   "cell_type": "code",
   "execution_count": null,
   "id": "131ee7b7",
   "metadata": {},
   "outputs": [],
   "source": [
    "def isStudent(self):  \n",
    "    return isinstance(self, Student)"
   ]
  },
  {
   "cell_type": "markdown",
   "id": "b31b23e4",
   "metadata": {},
   "source": [
    "用于判断是不是属于Student类的一个实例（注意不是判断type(p6)==Student）"
   ]
  },
  {
   "cell_type": "code",
   "execution_count": 67,
   "id": "023074ec",
   "metadata": {},
   "outputs": [
    {
     "data": {
      "text/plain": [
       "True"
      ]
     },
     "execution_count": 67,
     "metadata": {},
     "output_type": "execute_result"
    }
   ],
   "source": [
    "isinstance([1, 2], list)"
   ]
  },
  {
   "cell_type": "code",
   "execution_count": 68,
   "id": "846eb94e",
   "metadata": {},
   "outputs": [
    {
     "name": "stdout",
     "output_type": "stream",
     "text": [
      "Buzz Aldrin is a student is True\n",
      "Billy Beaver is a student is True\n",
      "Billy Bob Beaver is a student is False\n"
     ]
    }
   ],
   "source": [
    "print(p5, 'is a student is', p5.isStudent())\n",
    "print(p6, 'is a student is', p6.isStudent())\n",
    "print(p3, 'is a student is', p3.isStudent())\n"
   ]
  },
  {
   "cell_type": "code",
   "execution_count": 69,
   "id": "fc197fbb",
   "metadata": {},
   "outputs": [
    {
     "data": {
      "text/plain": [
       "False"
      ]
     },
     "execution_count": 69,
     "metadata": {},
     "output_type": "execute_result"
    }
   ],
   "source": [
    "type(p6) == Student"
   ]
  },
  {
   "cell_type": "markdown",
   "id": "0c9c3323",
   "metadata": {},
   "source": [
    "### 8.2.2 替换原则"
   ]
  },
  {
   "cell_type": "markdown",
   "id": "9a5aaf89",
   "metadata": {},
   "source": [
    "使用子类定义一个类型的层次结构时，子类应该被看作对超类行为的扩展，这种扩展是通过添加新属性或对继承自超类的属性进行覆盖来实现的。"
   ]
  },
  {
   "cell_type": "markdown",
   "id": "1448e6c7",
   "metadata": {},
   "source": [
    "## 8.3 封装与信息隐藏"
   ]
  },
  {
   "cell_type": "code",
   "execution_count": 75,
   "id": "f20e37c8",
   "metadata": {},
   "outputs": [],
   "source": [
    "class Grades(object):\n",
    "    def __init__(self):\n",
    "        \"\"\"创建一个空的成绩册\"\"\"\n",
    "        self.students = []\n",
    "        self.grades = {}\n",
    "        self.isSorted = True\n",
    "        \n",
    "    def addStudent(self,student):\n",
    "        \"\"\"假设student为Student类型\n",
    "            将student添加到成绩册\"\"\"\n",
    "        if student in self.students:\n",
    "            raise ValueError('Duplicate student')\n",
    "        self.students.append(student)\n",
    "        self.grades[student.getIdNum()] = []\n",
    "        self.isSorted = False\n",
    "    \n",
    "    def addGrade(self,student,grade):\n",
    "        \"\"\"假设grade为浮点数\n",
    "            将grade添加到student的成绩列表\"\"\"\n",
    "        try:\n",
    "            self.grades[student.getIdNum()].append(grade)\n",
    "        except:\n",
    "            raise ValueError('Student not in mapping')\n",
    "        \n",
    "    def getGrades(self,student):\n",
    "        \"\"\"返回student的成绩列表\"\"\"\n",
    "        try: #return copy of list of stuent‘s grades\n",
    "            return self.grades[student.getIdNum()][:]\n",
    "        except:\n",
    "            raise ValueError('Student no in mapping')\n",
    "            \n",
    "    def getStudents(self):\n",
    "        \"\"\"返回成绩册中排好序的成绩列表\"\"\"\n",
    "        if not self.isSorted:\n",
    "            self.students.sort()\n",
    "            self.isSorted = True\n",
    "        return self.students[:] #返回一个学生列表的副本"
   ]
  },
  {
   "cell_type": "code",
   "execution_count": 76,
   "id": "d5b36821",
   "metadata": {},
   "outputs": [],
   "source": [
    "s = Grades()"
   ]
  },
  {
   "cell_type": "code",
   "execution_count": 87,
   "id": "624b509b",
   "metadata": {},
   "outputs": [],
   "source": [
    "def gradeReport(course):\n",
    "    \"\"\"假设course是Grades类型\"\"\"\n",
    "    report = ''\n",
    "    for s in course.getStudents():\n",
    "        tot = 0.0\n",
    "        numGrades = 0\n",
    "        for g in course.getGrades(s):\n",
    "            tot += g\n",
    "            numGrades += 1\n",
    "        try:\n",
    "            average = tot/numGrades\n",
    "            report = report + '\\n' + str(s) + '\\'s mean grade is ' + str(average)\n",
    "        except ZeroDivisionError:\n",
    "            report = report + '\\n' + str(s) + ' has no grades'\n",
    "    return report"
   ]
  },
  {
   "cell_type": "code",
   "execution_count": 88,
   "id": "8d9b6ce0",
   "metadata": {},
   "outputs": [
    {
     "name": "stdout",
     "output_type": "stream",
     "text": [
      "\n",
      "Jane Doe's mean grade is 75.0\n",
      "John Doe's mean grade is 75.0\n",
      "David Henry has no grades\n",
      "Billy Buckner's mean grade is 50.0\n",
      "Bucky F.Dent's mean grade is 87.5\n"
     ]
    }
   ],
   "source": [
    "ug1 = UG('Jane Doe',2014)\n",
    "ug2 = UG('John Doe',2015)\n",
    "ug3 = UG('David Henry',2003)\n",
    "g1 = Grad('Billy Buckner')\n",
    "g2 = Grad('Bucky F.Dent')\n",
    "sixHundred = Grades()\n",
    "sixHundred.addStudent(ug1)\n",
    "sixHundred.addStudent(ug2)\n",
    "sixHundred.addStudent(g1)\n",
    "sixHundred.addStudent(g2)\n",
    "for s in sixHundred.getStudents():\n",
    "    sixHundred.addGrade(s,75)\n",
    "sixHundred.addGrade(g1,25)\n",
    "sixHundred.addGrade(g2,100)\n",
    "sixHundred.addStudent(ug3)\n",
    "print(gradeReport(sixHundred))"
   ]
  },
  {
   "cell_type": "markdown",
   "id": "d4afc572",
   "metadata": {},
   "source": [
    "面向对象编程的核心思想有两个重要概念。\n",
    "* 第一个就是封装，将数据属性和操作数据属性的方法打包在一起。"
   ]
  },
  {
   "cell_type": "code",
   "execution_count": 91,
   "id": "6f2e39a4",
   "metadata": {},
   "outputs": [],
   "source": [
    "Rafael=MITPerson('Rafael Reif')"
   ]
  },
  {
   "cell_type": "markdown",
   "id": "43371851",
   "metadata": {},
   "source": [
    "* 第二个重要概念是信息隐藏，这是模块化的关键要素之一。"
   ]
  },
  {
   "cell_type": "markdown",
   "id": "cae0d81f",
   "metadata": {},
   "source": [
    "当一个属性的名称以下划线开头但不以下划线结束时，这个属性在类外就是不可见的。"
   ]
  },
  {
   "cell_type": "code",
   "execution_count": null,
   "id": "11f64b49",
   "metadata": {},
   "outputs": [],
   "source": [
    "class infoHiding(object):\n",
    "    def __init__(self):\n",
    "        self.visible = 'look at me'\n",
    "        self.__alsoVisible__ = 'look at me too'\n",
    "        self.__invisible = 'do not look at me directly'\n",
    "    \n",
    "    def printVisible(self):\n",
    "        print(self.visible)\n",
    "        \n",
    "    def printInvisible(self):\n",
    "        print(self.__invisible)\n",
    "        \n",
    "    def __printInvisible(self):\n",
    "        print(self.__invisible)\n",
    "        \n",
    "    def __printInvisible__(self):\n",
    "        print(self.__invisible)"
   ]
  },
  {
   "cell_type": "code",
   "execution_count": 98,
   "id": "5d56776d",
   "metadata": {},
   "outputs": [
    {
     "name": "stdout",
     "output_type": "stream",
     "text": [
      "look at me\n",
      "look at me too\n"
     ]
    },
    {
     "ename": "AttributeError",
     "evalue": "'infoHiding' object has no attribute '__invisible'",
     "output_type": "error",
     "traceback": [
      "\u001b[1;31m---------------------------------------------------------------------------\u001b[0m",
      "\u001b[1;31mAttributeError\u001b[0m                            Traceback (most recent call last)",
      "\u001b[1;32m<ipython-input-98-240f07479b40>\u001b[0m in \u001b[0;36m<module>\u001b[1;34m\u001b[0m\n\u001b[0;32m      2\u001b[0m \u001b[0mprint\u001b[0m\u001b[1;33m(\u001b[0m\u001b[0mtest\u001b[0m\u001b[1;33m.\u001b[0m\u001b[0mvisible\u001b[0m\u001b[1;33m)\u001b[0m\u001b[1;33m\u001b[0m\u001b[1;33m\u001b[0m\u001b[0m\n\u001b[0;32m      3\u001b[0m \u001b[0mprint\u001b[0m\u001b[1;33m(\u001b[0m\u001b[0mtest\u001b[0m\u001b[1;33m.\u001b[0m\u001b[0m__alsoVisible__\u001b[0m\u001b[1;33m)\u001b[0m\u001b[1;33m\u001b[0m\u001b[1;33m\u001b[0m\u001b[0m\n\u001b[1;32m----> 4\u001b[1;33m \u001b[0mprint\u001b[0m\u001b[1;33m(\u001b[0m\u001b[0mtest\u001b[0m\u001b[1;33m.\u001b[0m\u001b[0m__invisible\u001b[0m\u001b[1;33m)\u001b[0m\u001b[1;33m\u001b[0m\u001b[1;33m\u001b[0m\u001b[0m\n\u001b[0m",
      "\u001b[1;31mAttributeError\u001b[0m: 'infoHiding' object has no attribute '__invisible'"
     ]
    }
   ],
   "source": [
    "test=infoHiding()\n",
    "print(test.visible)\n",
    "print(test.__alsoVisible__)\n",
    "print(test.__invisible)\n"
   ]
  },
  {
   "cell_type": "code",
   "execution_count": 99,
   "id": "56d23af9",
   "metadata": {},
   "outputs": [
    {
     "name": "stdout",
     "output_type": "stream",
     "text": [
      "do not look at me directly\n",
      "do not look at me directly\n"
     ]
    },
    {
     "ename": "AttributeError",
     "evalue": "'infoHiding' object has no attribute '__printInvisible'",
     "output_type": "error",
     "traceback": [
      "\u001b[1;31m---------------------------------------------------------------------------\u001b[0m",
      "\u001b[1;31mAttributeError\u001b[0m                            Traceback (most recent call last)",
      "\u001b[1;32m<ipython-input-99-6a8f2ba47551>\u001b[0m in \u001b[0;36m<module>\u001b[1;34m\u001b[0m\n\u001b[0;32m      2\u001b[0m \u001b[0mtest\u001b[0m\u001b[1;33m.\u001b[0m\u001b[0mprintInvisible\u001b[0m\u001b[1;33m(\u001b[0m\u001b[1;33m)\u001b[0m\u001b[1;33m\u001b[0m\u001b[1;33m\u001b[0m\u001b[0m\n\u001b[0;32m      3\u001b[0m \u001b[0mtest\u001b[0m\u001b[1;33m.\u001b[0m\u001b[0m__printInvisible__\u001b[0m\u001b[1;33m(\u001b[0m\u001b[1;33m)\u001b[0m\u001b[1;33m\u001b[0m\u001b[1;33m\u001b[0m\u001b[0m\n\u001b[1;32m----> 4\u001b[1;33m \u001b[0mtest\u001b[0m\u001b[1;33m.\u001b[0m\u001b[0m__printInvisible\u001b[0m\u001b[1;33m(\u001b[0m\u001b[1;33m)\u001b[0m\u001b[1;33m\u001b[0m\u001b[1;33m\u001b[0m\u001b[0m\n\u001b[0m",
      "\u001b[1;31mAttributeError\u001b[0m: 'infoHiding' object has no attribute '__printInvisible'"
     ]
    }
   ],
   "source": [
    "test=infoHiding()\n",
    "test.printInvisible()\n",
    "test.__printInvisible__()\n",
    "test.__printInvisible()\n"
   ]
  },
  {
   "cell_type": "code",
   "execution_count": 100,
   "id": "a0729bb1",
   "metadata": {},
   "outputs": [
    {
     "ename": "AttributeError",
     "evalue": "'subClass' object has no attribute '_subClass__invisible'",
     "output_type": "error",
     "traceback": [
      "\u001b[1;31m---------------------------------------------------------------------------\u001b[0m",
      "\u001b[1;31mAttributeError\u001b[0m                            Traceback (most recent call last)",
      "\u001b[1;32m<ipython-input-100-394d42b6e63a>\u001b[0m in \u001b[0;36m<module>\u001b[1;34m\u001b[0m\n\u001b[0;32m      2\u001b[0m     \u001b[1;32mdef\u001b[0m \u001b[0m__init__\u001b[0m\u001b[1;33m(\u001b[0m\u001b[0mself\u001b[0m\u001b[1;33m)\u001b[0m\u001b[1;33m:\u001b[0m\u001b[1;33m\u001b[0m\u001b[1;33m\u001b[0m\u001b[0m\n\u001b[0;32m      3\u001b[0m         \u001b[0mprint\u001b[0m\u001b[1;33m(\u001b[0m\u001b[1;34m'from subclass'\u001b[0m\u001b[1;33m,\u001b[0m \u001b[0mself\u001b[0m\u001b[1;33m.\u001b[0m\u001b[0m__invisible\u001b[0m\u001b[1;33m)\u001b[0m\u001b[1;33m\u001b[0m\u001b[1;33m\u001b[0m\u001b[0m\n\u001b[1;32m----> 4\u001b[1;33m \u001b[0mtestSub\u001b[0m\u001b[1;33m=\u001b[0m\u001b[0msubClass\u001b[0m\u001b[1;33m(\u001b[0m\u001b[1;33m)\u001b[0m\u001b[1;33m\u001b[0m\u001b[1;33m\u001b[0m\u001b[0m\n\u001b[0m",
      "\u001b[1;32m<ipython-input-100-394d42b6e63a>\u001b[0m in \u001b[0;36m__init__\u001b[1;34m(self)\u001b[0m\n\u001b[0;32m      1\u001b[0m \u001b[1;32mclass\u001b[0m \u001b[0msubClass\u001b[0m\u001b[1;33m(\u001b[0m\u001b[0minfoHiding\u001b[0m\u001b[1;33m)\u001b[0m\u001b[1;33m:\u001b[0m\u001b[1;33m\u001b[0m\u001b[1;33m\u001b[0m\u001b[0m\n\u001b[0;32m      2\u001b[0m     \u001b[1;32mdef\u001b[0m \u001b[0m__init__\u001b[0m\u001b[1;33m(\u001b[0m\u001b[0mself\u001b[0m\u001b[1;33m)\u001b[0m\u001b[1;33m:\u001b[0m\u001b[1;33m\u001b[0m\u001b[1;33m\u001b[0m\u001b[0m\n\u001b[1;32m----> 3\u001b[1;33m         \u001b[0mprint\u001b[0m\u001b[1;33m(\u001b[0m\u001b[1;34m'from subclass'\u001b[0m\u001b[1;33m,\u001b[0m \u001b[0mself\u001b[0m\u001b[1;33m.\u001b[0m\u001b[0m__invisible\u001b[0m\u001b[1;33m)\u001b[0m\u001b[1;33m\u001b[0m\u001b[1;33m\u001b[0m\u001b[0m\n\u001b[0m\u001b[0;32m      4\u001b[0m \u001b[0mtestSub\u001b[0m\u001b[1;33m=\u001b[0m\u001b[0msubClass\u001b[0m\u001b[1;33m(\u001b[0m\u001b[1;33m)\u001b[0m\u001b[1;33m\u001b[0m\u001b[1;33m\u001b[0m\u001b[0m\n",
      "\u001b[1;31mAttributeError\u001b[0m: 'subClass' object has no attribute '_subClass__invisible'"
     ]
    }
   ],
   "source": [
    "class subClass(infoHiding):\n",
    "    def __init__(self):\n",
    "        print('from subclass', self.__invisible)\n",
    "testSub=subClass()\n"
   ]
  },
  {
   "cell_type": "markdown",
   "id": "2c9f5ebb",
   "metadata": {},
   "source": [
    "**方法不隐藏，属性隐藏，仍然可以跑出结果。其他有隐藏均报错，子类也无法引用父类的隐藏属性**"
   ]
  },
  {
   "cell_type": "code",
   "execution_count": 101,
   "id": "73e9bf5c",
   "metadata": {},
   "outputs": [],
   "source": [
    "Rafael=MITPerson('Rafael Reif')"
   ]
  },
  {
   "cell_type": "code",
   "execution_count": 103,
   "id": "6fccd667",
   "metadata": {},
   "outputs": [
    {
     "data": {
      "text/plain": [
       "38"
      ]
     },
     "execution_count": 103,
     "metadata": {},
     "output_type": "execute_result"
    }
   ],
   "source": [
    "Rafael.getIdNum()"
   ]
  },
  {
   "cell_type": "markdown",
   "id": "98fff86d",
   "metadata": {},
   "source": [
    "在Python中，不但允许程序在类的外部读取实例变量和类变量，而且允许程序改写这些变量"
   ]
  },
  {
   "cell_type": "code",
   "execution_count": 106,
   "id": "ccaf5ef1",
   "metadata": {},
   "outputs": [],
   "source": [
    "Rafael.birthday = None"
   ]
  },
  {
   "cell_type": "code",
   "execution_count": 107,
   "id": "daa7efcb",
   "metadata": {},
   "outputs": [],
   "source": [
    "Rafael.birthday = datetime.date(1961, 8, 4)"
   ]
  },
  {
   "cell_type": "code",
   "execution_count": 108,
   "id": "fb93ea6c",
   "metadata": {
    "scrolled": true
   },
   "outputs": [
    {
     "name": "stdout",
     "output_type": "stream",
     "text": [
      "1961-08-04\n"
     ]
    }
   ],
   "source": [
    "print(Rafael.birthday)"
   ]
  },
  {
   "cell_type": "markdown",
   "id": "c97bd359",
   "metadata": {},
   "source": [
    "Python语言甚至允许为类的实例新建一个类定义中没有的实例变量"
   ]
  },
  {
   "cell_type": "code",
   "execution_count": 109,
   "id": "056dcb8b",
   "metadata": {},
   "outputs": [],
   "source": [
    "me.age=Rafael.getIdNum()"
   ]
  },
  {
   "cell_type": "markdown",
   "id": "328e44d4",
   "metadata": {},
   "source": [
    "### 生成器"
   ]
  },
  {
   "cell_type": "markdown",
   "id": "b6fac59c",
   "metadata": {},
   "source": [
    "return self.students[:] ,会返回一个学生列表的副本，效率低下"
   ]
  },
  {
   "cell_type": "markdown",
   "id": "1682b427",
   "metadata": {},
   "source": [
    "使用一个新版本代替Grades类中的getStudents方法，其中应用了一种我们没有用过的语句：yield语句。"
   ]
  },
  {
   "cell_type": "code",
   "execution_count": 113,
   "id": "790f25f6",
   "metadata": {},
   "outputs": [],
   "source": [
    "def getStudents(self):\n",
    "    \"\"\"按字母顺序每次返回成绩册中的一个学生\"\"\"\n",
    "    if not self.isSorted:\n",
    "        self.students.sort()\n",
    "        self.isSorted = True\n",
    "        \n",
    "    for s in self.students:\n",
    "        yield s"
   ]
  },
  {
   "cell_type": "markdown",
   "id": "786c9d37",
   "metadata": {},
   "source": [
    "生成器一般与for语句一起使用。使用生成器的for循环的第一次迭代开始时，解释器会调用生成器内部代码。运行至第一次执行yield语句时，生成器返回yield语句中表达式的值。下一次迭代中，生成器紧接着yield语句继续运行，此时所有局部变量都保持为上次yield语句执行完毕时的值，这次运行仍然到执行yield语句后结束。重复这个过程，直到所有代码运行完毕或者执行到一个return语句，循环结束。"
   ]
  },
  {
   "cell_type": "markdown",
   "id": "9d124895",
   "metadata": {},
   "source": [
    "**每次生成一个值效率更高，只有调用的时候才会计算，因为不需要再创建一个包含所有学生的新列表，节省空间。**"
   ]
  },
  {
   "cell_type": "code",
   "execution_count": null,
   "id": "16b1665b",
   "metadata": {},
   "outputs": [],
   "source": []
  }
 ],
 "metadata": {
  "kernelspec": {
   "display_name": "Python 3 (ipykernel)",
   "language": "python",
   "name": "python3"
  },
  "language_info": {
   "codemirror_mode": {
    "name": "ipython",
    "version": 3
   },
   "file_extension": ".py",
   "mimetype": "text/x-python",
   "name": "python",
   "nbconvert_exporter": "python",
   "pygments_lexer": "ipython3",
   "version": "3.9.13"
  }
 },
 "nbformat": 4,
 "nbformat_minor": 5
}
