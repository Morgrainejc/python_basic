{
 "cells": [
  {
   "cell_type": "markdown",
   "id": "fa48060b",
   "metadata": {},
   "source": [
    "## 4.1 函数与作用域"
   ]
  },
  {
   "cell_type": "markdown",
   "id": "fa10a3ea",
   "metadata": {},
   "source": [
    "练习：编写一个函数isIn，接受两个字符串作为参数，如果一个字符串是另一个字符串的一部分，返回True，否则返回False。提示：你可以使用内置的str类型的操作符in。"
   ]
  },
  {
   "cell_type": "code",
   "execution_count": 4,
   "id": "28341ef8",
   "metadata": {},
   "outputs": [],
   "source": [
    "def isin(x,y):\n",
    "    if str(x) in str(y):\n",
    "        return True\n",
    "    else:\n",
    "        return False"
   ]
  },
  {
   "cell_type": "code",
   "execution_count": 8,
   "id": "ea66305b",
   "metadata": {},
   "outputs": [
    {
     "data": {
      "text/plain": [
       "True"
      ]
     },
     "execution_count": 8,
     "metadata": {},
     "output_type": "execute_result"
    }
   ],
   "source": [
    "isin('as','aasdd')"
   ]
  },
  {
   "cell_type": "markdown",
   "id": "df7debf7",
   "metadata": {},
   "source": [
    "### 4.1.2 关键字参数和默认值"
   ]
  },
  {
   "cell_type": "code",
   "execution_count": 11,
   "id": "18471a7d",
   "metadata": {},
   "outputs": [],
   "source": [
    "def printName(firstName,lastName,reverse):\n",
    "    if reverse:\n",
    "        print(lastName+','+firstName)\n",
    "    else:\n",
    "        print(firstName,lastName)"
   ]
  },
  {
   "cell_type": "code",
   "execution_count": 12,
   "id": "ec28eab9",
   "metadata": {},
   "outputs": [
    {
     "name": "stdout",
     "output_type": "stream",
     "text": [
      "chong,jiang\n"
     ]
    }
   ],
   "source": [
    "printName('jiang','chong',1)"
   ]
  },
  {
   "cell_type": "markdown",
   "id": "f0c509c4",
   "metadata": {},
   "source": [
    "### 4.1.3 作用域"
   ]
  },
  {
   "cell_type": "code",
   "execution_count": 14,
   "id": "6dcd2964",
   "metadata": {},
   "outputs": [],
   "source": [
    "def f(x):\n",
    "    y = 1\n",
    "    x = x+y\n",
    "    print('x=',x)\n",
    "    return x"
   ]
  },
  {
   "cell_type": "code",
   "execution_count": 16,
   "id": "2bebd8b1",
   "metadata": {},
   "outputs": [
    {
     "name": "stdout",
     "output_type": "stream",
     "text": [
      "x= 4\n",
      "z= 4\n",
      "x= 3\n",
      "y= 2\n"
     ]
    }
   ],
   "source": [
    "x = 3\n",
    "y = 2\n",
    "z = f(x)\n",
    "print('z=',z)\n",
    "print('x=',x)\n",
    "print('y=',y)"
   ]
  },
  {
   "cell_type": "code",
   "execution_count": 18,
   "id": "7a6e41b7",
   "metadata": {},
   "outputs": [],
   "source": [
    "def f(x):\n",
    "    def g():\n",
    "        x='abc'\n",
    "        print('x=',x)\n",
    "    def h():\n",
    "        z=x\n",
    "        print('z=',z)\n",
    "    x=x+1\n",
    "    print('x=',x)\n",
    "    h()\n",
    "    g()\n",
    "    print('x=',x)\n",
    "    return g"
   ]
  },
  {
   "cell_type": "code",
   "execution_count": 21,
   "id": "690ed921",
   "metadata": {},
   "outputs": [
    {
     "name": "stdout",
     "output_type": "stream",
     "text": [
      "x= 4\n",
      "z= 4\n",
      "x= abc\n",
      "x= 4\n",
      "x= 3\n",
      "z= <function f.<locals>.g at 0x000002AAE35ED790>\n",
      "x= abc\n"
     ]
    }
   ],
   "source": [
    "x=3\n",
    "z=f(x)\n",
    "print('x=',x)\n",
    "print('z=',z)\n",
    "z()"
   ]
  },
  {
   "cell_type": "markdown",
   "id": "7d9b9b73",
   "metadata": {},
   "source": [
    "## 4.2 规范"
   ]
  },
  {
   "cell_type": "code",
   "execution_count": 3,
   "id": "3547de3f",
   "metadata": {},
   "outputs": [],
   "source": [
    "def findRoot(x,power,epsilon):\n",
    "    \"\"\"x和epsilon是整数或者浮点数，power是整数\n",
    "        epsilon>0且power>=1\n",
    "       如果y**power和x的差小于epsilon，就返回浮点数y，\n",
    "           否则返回None\"\"\"\n",
    "    if x < 0 and power%2 == 0:\n",
    "        return None\n",
    "    low = min(-1.0,x)\n",
    "    high = max(1.0,x)\n",
    "    ans = (high+low)/2.0\n",
    "    while abs(ans**power-x)>=epsilon:\n",
    "        if ans**power < x:\n",
    "            low = ans\n",
    "        else:\n",
    "            high = ans\n",
    "        ans = (high + low)/2.0\n",
    "    return ans"
   ]
  },
  {
   "cell_type": "code",
   "execution_count": 4,
   "id": "6b91b1a0",
   "metadata": {},
   "outputs": [
    {
     "data": {
      "text/plain": [
       "1.31640625"
      ]
     },
     "execution_count": 4,
     "metadata": {},
     "output_type": "execute_result"
    }
   ],
   "source": [
    "findRoot(3,4,0.01)"
   ]
  },
  {
   "cell_type": "code",
   "execution_count": 8,
   "id": "fe2efe69",
   "metadata": {},
   "outputs": [],
   "source": [
    "def testFindRoot():\n",
    "    epsilon = 0.0001\n",
    "    for x in [0.25,-0.25,2,-2,8,-8]:\n",
    "        for power in range(1,4):\n",
    "            print('Testing x = ',str(x),'and power = ',power)\n",
    "            result = findRoot(x,power,epsilon)\n",
    "            if result == None:\n",
    "                print(' No root')\n",
    "            else:\n",
    "                print(' ',result**power,'~=',x)"
   ]
  },
  {
   "cell_type": "code",
   "execution_count": 9,
   "id": "e6b7947d",
   "metadata": {},
   "outputs": [
    {
     "name": "stdout",
     "output_type": "stream",
     "text": [
      "Testing x =  0.25 and power =  1\n",
      "  0.25 ~= 0.25\n",
      "Testing x =  0.25 and power =  2\n",
      "  0.25 ~= 0.25\n",
      "Testing x =  0.25 and power =  3\n",
      "  0.24990749079734087 ~= 0.25\n",
      "Testing x =  -0.25 and power =  1\n",
      "  -0.25 ~= -0.25\n",
      "Testing x =  -0.25 and power =  2\n",
      " No root\n",
      "Testing x =  -0.25 and power =  3\n",
      "  -0.24990749079734087 ~= -0.25\n",
      "Testing x =  2 and power =  1\n",
      "  1.999908447265625 ~= 2\n",
      "Testing x =  2 and power =  2\n",
      "  2.0000906325876713 ~= 2\n",
      "Testing x =  2 and power =  3\n",
      "  2.000059155646067 ~= 2\n",
      "Testing x =  -2 and power =  1\n",
      "  -1.999908447265625 ~= -2\n",
      "Testing x =  -2 and power =  2\n",
      " No root\n",
      "Testing x =  -2 and power =  3\n",
      "  -2.000059155646067 ~= -2\n",
      "Testing x =  8 and power =  1\n",
      "  7.999931335449219 ~= 8\n",
      "Testing x =  8 and power =  2\n",
      "  7.99999568007479 ~= 8\n",
      "Testing x =  8 and power =  3\n",
      "  8.000068664747232 ~= 8\n",
      "Testing x =  -8 and power =  1\n",
      "  -7.999931335449219 ~= -8\n",
      "Testing x =  -8 and power =  2\n",
      " No root\n",
      "Testing x =  -8 and power =  3\n",
      "  -8.000068664747232 ~= -8\n"
     ]
    }
   ],
   "source": [
    "testFindRoot()"
   ]
  },
  {
   "cell_type": "code",
   "execution_count": 10,
   "id": "2235518f",
   "metadata": {},
   "outputs": [
    {
     "name": "stdout",
     "output_type": "stream",
     "text": [
      "Help on built-in function abs in module builtins:\n",
      "\n",
      "abs(x, /)\n",
      "    Return the absolute value of the argument.\n",
      "\n"
     ]
    }
   ],
   "source": [
    "help(abs)"
   ]
  },
  {
   "cell_type": "code",
   "execution_count": 11,
   "id": "f0e536e8",
   "metadata": {},
   "outputs": [
    {
     "name": "stdout",
     "output_type": "stream",
     "text": [
      "Help on function findRoot in module __main__:\n",
      "\n",
      "findRoot(x, power, epsilon)\n",
      "    x和epsilon是整数或者浮点数，power是整数\n",
      "     epsilon>0且power>=1\n",
      "    如果y**power和x的差小于epsilon，就返回浮点数y，\n",
      "        否则返回None\n",
      "\n"
     ]
    }
   ],
   "source": [
    "help(findRoot)"
   ]
  },
  {
   "cell_type": "markdown",
   "id": "f7be4f5a",
   "metadata": {},
   "source": [
    "\n",
    "函数的规范定义了函数编写者与使用者之间的约定。我们将函数使用者称为客户。可以认为约定包括以下两部分。\n",
    "* 客户使用函数时必须满足的前提条件，通常是对实参的限制。它几乎总是限定每个参数可以接受的变量类型，偶尔对一个或多个参数的取值添加限制条件。例如，函数findRoot的文档字符串前两行描述了客户必须满足的假设。\n",
    "* 保证：调用方法满足条件时，函数应当实现的功能。函数findRoot的文档字符串后两行描述了函数必须实现的结果保证。"
   ]
  },
  {
   "cell_type": "markdown",
   "id": "ab7bad9d",
   "metadata": {},
   "source": [
    "## 4.3 递归"
   ]
  },
  {
   "cell_type": "code",
   "execution_count": 13,
   "id": "1d85c76a",
   "metadata": {},
   "outputs": [],
   "source": [
    "def factI(n):\n",
    "    \"\"\"假设n是正整数\n",
    "        返回n!\"\"\"\n",
    "    result = 1\n",
    "    while n > 1:\n",
    "        result = result * n\n",
    "        n -= 1\n",
    "    return result"
   ]
  },
  {
   "cell_type": "code",
   "execution_count": 16,
   "id": "2d31c88b",
   "metadata": {},
   "outputs": [
    {
     "data": {
      "text/plain": [
       "6"
      ]
     },
     "execution_count": 16,
     "metadata": {},
     "output_type": "execute_result"
    }
   ],
   "source": [
    "factI(3)"
   ]
  },
  {
   "cell_type": "markdown",
   "id": "f6ba410d",
   "metadata": {},
   "source": [
    "在factR函数体内调用factR实现factR也是可行的"
   ]
  },
  {
   "cell_type": "code",
   "execution_count": 19,
   "id": "03f283cf",
   "metadata": {},
   "outputs": [],
   "source": [
    "def factR(n):\n",
    "    \"\"\"假设n是正整数\n",
    "        返回n!\"\"\"\n",
    "    if n == 1:\n",
    "        return n\n",
    "    else:\n",
    "        return n*factR(n-1)"
   ]
  },
  {
   "cell_type": "code",
   "execution_count": 18,
   "id": "63f2d278",
   "metadata": {},
   "outputs": [
    {
     "data": {
      "text/plain": [
       "6"
      ]
     },
     "execution_count": 18,
     "metadata": {},
     "output_type": "execute_result"
    }
   ],
   "source": [
    "factR(3)"
   ]
  },
  {
   "cell_type": "markdown",
   "id": "d5857159",
   "metadata": {},
   "source": [
    "### 4.3.1 斐波那契数列"
   ]
  },
  {
   "cell_type": "code",
   "execution_count": 21,
   "id": "d2a89ecf",
   "metadata": {},
   "outputs": [],
   "source": [
    "def fib(n):\n",
    "    \"\"\"假定n是正整数\n",
    "        返回第n个斐波那契数\"\"\"\n",
    "    if n == 0 or n == 1:\n",
    "        return 1\n",
    "    else:\n",
    "        return fib(n-1)+fib(n-2)\n",
    "    \n",
    "def testFib(n):\n",
    "    for i in range(n+1):\n",
    "        print('fib of',i,'=',fib(i))"
   ]
  },
  {
   "cell_type": "code",
   "execution_count": 23,
   "id": "e7fa214c",
   "metadata": {},
   "outputs": [
    {
     "name": "stdout",
     "output_type": "stream",
     "text": [
      "fib of 0 = 1\n",
      "fib of 1 = 1\n",
      "fib of 2 = 2\n",
      "fib of 3 = 3\n",
      "fib of 4 = 5\n",
      "fib of 5 = 8\n",
      "fib of 6 = 13\n",
      "fib of 7 = 21\n",
      "fib of 8 = 34\n"
     ]
    }
   ],
   "source": [
    "testFib(8)"
   ]
  },
  {
   "cell_type": "markdown",
   "id": "11545a2e",
   "metadata": {},
   "source": [
    "这个定义与阶乘的递归定义有些不同。\n",
    "* 它有两种基本情形，而不是一种。一般来说，只要需要，我们可以有任意多种基本情形。\n",
    "* 在递归情形中，有两个递归调用，而不是一个。同样，如果需要，可以有任意多个调用。"
   ]
  },
  {
   "cell_type": "markdown",
   "id": "2164a4e5",
   "metadata": {},
   "source": [
    "## 4.3.2 回文"
   ]
  },
  {
   "cell_type": "code",
   "execution_count": 16,
   "id": "62fb50a4",
   "metadata": {},
   "outputs": [],
   "source": [
    "def isPalindrome(s):\n",
    "    \"\"\"假设s是字符串\n",
    "        如果s是回文字符串则返回True，否则返回False。\n",
    "        忽略标点符号、空格和大小写\"\"\"\n",
    "    def toChars(s):\n",
    "        s = s.lower()\n",
    "        letters = ''\n",
    "        for c in s:\n",
    "            if c in 'abcdefghijklmnopqrstuvwxyz':\n",
    "                letters = letters + c\n",
    "            return letters\n",
    "        \n",
    "    def isPal(s):\n",
    "        if len(s) <= 1:\n",
    "            return True\n",
    "        else:\n",
    "            return s[0] == s[-1] and isPal(s[1:-1])\n",
    "        \n",
    "    return isPal(toChars(s))"
   ]
  },
  {
   "cell_type": "markdown",
   "id": "bfea672e",
   "metadata": {},
   "source": [
    "**当两个布尔值表达式通过and连接时，每个表达式被称为合取项，如果通过or连接，则被称为分取项**"
   ]
  },
  {
   "cell_type": "markdown",
   "id": "c0cf54b0",
   "metadata": {},
   "source": [
    "这种对isPalindrome的实现是分治策略的典型例子。（这种原则与分治算法密切相关，但又有点不一样，我们会在第10章进行讨论。）这种解决问题的原则就是，将一个困难问题分解成一组子问题逐个解决。分解出来的子问题具有以下特性：\n",
    "* 子问题比初始问题更容易解决；\n",
    "* 子问题的解决方案可以组合起来解决初始问题。"
   ]
  },
  {
   "cell_type": "code",
   "execution_count": 37,
   "id": "c6d29081",
   "metadata": {},
   "outputs": [],
   "source": [
    "def testIsPalindrome():\n",
    "    print('Try dogGod')\n",
    "    print(isPalindrome('dogGod'))\n",
    "    print('Try doGood')\n",
    "    print(isPalindrome('doGood'))"
   ]
  },
  {
   "cell_type": "code",
   "execution_count": 38,
   "id": "dbc78cb5",
   "metadata": {},
   "outputs": [
    {
     "name": "stdout",
     "output_type": "stream",
     "text": [
      "Try dogGod\n",
      "True\n",
      "Try doGood\n",
      "True\n"
     ]
    }
   ],
   "source": [
    "testIsPalindrome()"
   ]
  },
  {
   "cell_type": "markdown",
   "id": "a2ff60cd",
   "metadata": {},
   "source": [
    "# 4.4 全局变量"
   ]
  },
  {
   "cell_type": "code",
   "execution_count": 45,
   "id": "8deb8c34",
   "metadata": {},
   "outputs": [],
   "source": [
    "def fib(x):\n",
    "    \"\"\"假设x是正整数，返回第x个斐波那契数\"\"\"\n",
    "    global numFibCalls\n",
    "    numFibCalls += 1\n",
    "    if x == 0 or x == 1:\n",
    "        return 1\n",
    "    else:\n",
    "        return fib(x-1) + fib(x-2)\n",
    "    \n",
    "def testFib(n):\n",
    "    for i in range(n+1):\n",
    "        global numFibCalls\n",
    "        numFibCalls = 0\n",
    "        print('fib of',i,'=',fib(i))\n",
    "        print('fib called',numFibCalls,'times.')"
   ]
  },
  {
   "cell_type": "code",
   "execution_count": 46,
   "id": "7619084c",
   "metadata": {},
   "outputs": [
    {
     "name": "stdout",
     "output_type": "stream",
     "text": [
      "fib of 0 = 1\n",
      "fib called 1 times.\n",
      "fib of 1 = 1\n",
      "fib called 1 times.\n",
      "fib of 2 = 2\n",
      "fib called 3 times.\n",
      "fib of 3 = 3\n",
      "fib called 5 times.\n",
      "fib of 4 = 5\n",
      "fib called 9 times.\n",
      "fib of 5 = 8\n",
      "fib called 15 times.\n",
      "fib of 6 = 13\n",
      "fib called 25 times.\n"
     ]
    }
   ],
   "source": [
    "testFib(6)"
   ]
  },
  {
   "cell_type": "markdown",
   "id": "9b1d42d1",
   "metadata": {},
   "source": [
    "## 4.5 模块"
   ]
  },
  {
   "cell_type": "markdown",
   "id": "0115e9f1",
   "metadata": {},
   "source": [
    "关于Python程序库的详细说明请参考：http://docs.python.org/2/library/"
   ]
  },
  {
   "cell_type": "markdown",
   "id": "e7b43cd1",
   "metadata": {},
   "source": [
    "## 4.6 文件"
   ]
  },
  {
   "cell_type": "code",
   "execution_count": 18,
   "id": "c755a8a5",
   "metadata": {},
   "outputs": [],
   "source": [
    "nameHandle=open('kids', 'w')"
   ]
  },
  {
   "cell_type": "markdown",
   "id": "23d471be",
   "metadata": {},
   "source": [
    "指示操作系统创建一个名为kids的文件，并返回其文件句柄。"
   ]
  },
  {
   "cell_type": "code",
   "execution_count": 46,
   "id": "e10f6041",
   "metadata": {},
   "outputs": [
    {
     "name": "stdout",
     "output_type": "stream",
     "text": [
      "Enter name: jc\n",
      "Enter name: jc\n"
     ]
    }
   ],
   "source": [
    "nameHandle=open('kids', 'w')\n",
    "for i in range(2):\n",
    "    name=input('Enter name: ')\n",
    "    nameHandle.write(name+'\\n')\n",
    "nameHandle.close()"
   ]
  },
  {
   "cell_type": "code",
   "execution_count": 48,
   "id": "6d05e97a",
   "metadata": {},
   "outputs": [
    {
     "name": "stdout",
     "output_type": "stream",
     "text": [
      "jc\n",
      "\n",
      "jc\n",
      "\n"
     ]
    }
   ],
   "source": [
    "nameHandle=open('kids','r')\n",
    "for line in nameHandle:\n",
    "    print(line)\n",
    "nameHandle.close()"
   ]
  },
  {
   "cell_type": "code",
   "execution_count": 49,
   "id": "a69e4fb3",
   "metadata": {},
   "outputs": [
    {
     "name": "stdout",
     "output_type": "stream",
     "text": [
      "jc\n",
      "jc\n"
     ]
    }
   ],
   "source": [
    "nameHandle=open('kids','r')\n",
    "for line in nameHandle:\n",
    "    print(line[:-1])\n",
    "nameHandle.close()"
   ]
  },
  {
   "cell_type": "markdown",
   "id": "d86ed7a9",
   "metadata": {},
   "source": [
    "**常见文件操作**\n",
    "* open(f,'r')：只读方式打开f文件，没有文件则失败\n",
    "* open(f,'w')：只写方式打开f文件，没有则新建，有则删原文件并创建新文件\n",
    "* open(f,'a')：追加方式打开f文件，没有则新建，有则追加\n",
    "* f.read():返回一个字符串，包括文件中所有内容。注意：使用该函数后，文件被占用\n",
    "* f.readline():返回f文件下一行\n",
    "* f.readlines():返回一个列表，列表中每个元素就是f中的一行\n",
    "* f.write(s):将字符串s写入f文件末尾\n",
    "* f.writelines(S):S是字符串序列。将S中每个元素作为单独一个行写入f文件\n",
    "* f.close()：关闭f文件"
   ]
  },
  {
   "cell_type": "code",
   "execution_count": 50,
   "id": "9eab2b57",
   "metadata": {},
   "outputs": [
    {
     "name": "stdout",
     "output_type": "stream",
     "text": [
      "jc\n",
      "jc\n",
      "\n"
     ]
    }
   ],
   "source": [
    "nameHandle=open('kids','r')\n",
    "print(nameHandle.read())\n",
    "nameHandle.close()"
   ]
  },
  {
   "cell_type": "code",
   "execution_count": 51,
   "id": "0d9af935",
   "metadata": {},
   "outputs": [
    {
     "name": "stdout",
     "output_type": "stream",
     "text": [
      "jc\n",
      "\n"
     ]
    }
   ],
   "source": [
    "nameHandle=open('kids','r')\n",
    "print(nameHandle.readline())\n",
    "nameHandle.close()"
   ]
  },
  {
   "cell_type": "code",
   "execution_count": 52,
   "id": "e57939bd",
   "metadata": {},
   "outputs": [
    {
     "name": "stdout",
     "output_type": "stream",
     "text": [
      "['jc\\n', 'jc\\n']\n"
     ]
    }
   ],
   "source": [
    "nameHandle=open('kids','r')\n",
    "print(nameHandle.readlines())\n",
    "nameHandle.close()"
   ]
  },
  {
   "cell_type": "code",
   "execution_count": 53,
   "id": "9744662d",
   "metadata": {},
   "outputs": [
    {
     "name": "stdout",
     "output_type": "stream",
     "text": [
      "['jc\\n', 'jc\\n', 's']\n"
     ]
    }
   ],
   "source": [
    "nameHandle=open('kids','a')\n",
    "nameHandle.write('s')\n",
    "nameHandle=open('kids','r')\n",
    "print(nameHandle.readlines())\n",
    "nameHandle.close()"
   ]
  },
  {
   "cell_type": "code",
   "execution_count": 58,
   "id": "6127a6a7",
   "metadata": {},
   "outputs": [
    {
     "name": "stdout",
     "output_type": "stream",
     "text": [
      "['jc\\n', 'jc\\n', 'ssnijiajiasnijiajias\\n', 'nijiajia\\n']\n"
     ]
    }
   ],
   "source": [
    "nameHandle=open('kids','a')\n",
    "nameHandle.writelines(['s\\n','nijiajia\\n'])\n",
    "nameHandle=open('kids','r')\n",
    "print(nameHandle.readlines())\n",
    "nameHandle.close()"
   ]
  },
  {
   "cell_type": "code",
   "execution_count": null,
   "id": "e391a9cb",
   "metadata": {},
   "outputs": [],
   "source": []
  }
 ],
 "metadata": {
  "kernelspec": {
   "display_name": "Python 3 (ipykernel)",
   "language": "python",
   "name": "python3"
  },
  "language_info": {
   "codemirror_mode": {
    "name": "ipython",
    "version": 3
   },
   "file_extension": ".py",
   "mimetype": "text/x-python",
   "name": "python",
   "nbconvert_exporter": "python",
   "pygments_lexer": "ipython3",
   "version": "3.9.13"
  }
 },
 "nbformat": 4,
 "nbformat_minor": 5
}
